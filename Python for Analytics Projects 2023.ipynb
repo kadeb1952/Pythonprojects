{
 "cells": [
  {
   "cell_type": "code",
   "execution_count": 10,
   "id": "2ab6ccdd",
   "metadata": {},
   "outputs": [
    {
     "ename": "SyntaxError",
     "evalue": "EOL while scanning string literal (1251306600.py, line 2)",
     "output_type": "error",
     "traceback": [
      "\u001b[1;36m  Input \u001b[1;32mIn [10]\u001b[1;36m\u001b[0m\n\u001b[1;33m    print (\"Your year of birth is: + birthday[:4:-9])\u001b[0m\n\u001b[1;37m                                                     ^\u001b[0m\n\u001b[1;31mSyntaxError\u001b[0m\u001b[1;31m:\u001b[0m EOL while scanning string literal\n"
     ]
    }
   ],
   "source": [
    "birthday = input(\"Type your bithdate as dd/mm/yyyy: \") \n",
    "print (\"Your year of birth is: + birthday[:4:-9])\n",
    "print ('Your month of birth is: + birthday[ 2:-5])     \n",
    "print ('Your day of birth is: + birthday[:2])          "
   ]
  },
  {
   "cell_type": "code",
   "execution_count": null,
   "id": "9c8268e7",
   "metadata": {},
   "outputs": [],
   "source": []
  }
 ],
 "metadata": {
  "kernelspec": {
   "display_name": "Python 3 (ipykernel)",
   "language": "python",
   "name": "python3"
  },
  "language_info": {
   "codemirror_mode": {
    "name": "ipython",
    "version": 3
   },
   "file_extension": ".py",
   "mimetype": "text/x-python",
   "name": "python",
   "nbconvert_exporter": "python",
   "pygments_lexer": "ipython3",
   "version": "3.9.12"
  }
 },
 "nbformat": 4,
 "nbformat_minor": 5
}
