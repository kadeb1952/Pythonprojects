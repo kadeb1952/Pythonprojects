{
 "cells": [
  {
   "cell_type": "code",
   "execution_count": 3,
   "id": "97435227",
   "metadata": {},
   "outputs": [
    {
     "name": "stdout",
     "output_type": "stream",
     "text": [
      "[1, 2, 3, 4, 5, 6, 7, 8, 9, 10]\n",
      "[1, 2, 3, 20, 30, 7, 8, 9, 10]\n",
      "[1, 2, 3, 20, 30, 7, 100, 200, 300, 400, 10]\n"
     ]
    }
   ],
   "source": [
    "count_to_ten = [num for num in range(1,11)]\n",
    "print(count_to_ten)\n",
    "count_to_ten[3:6] = [20, 30]\n",
    "print(count_to_ten)\n",
    "count_to_ten\n",
    "count_to_ten[6:8] = [100, 200, 300, 400]\n",
    "print(count_to_ten)"
   ]
  },
  {
   "cell_type": "code",
   "execution_count": null,
   "id": "5eafc647",
   "metadata": {},
   "outputs": [],
   "source": []
  }
 ],
 "metadata": {
  "kernelspec": {
   "display_name": "Python 3 (ipykernel)",
   "language": "python",
   "name": "python3"
  },
  "language_info": {
   "codemirror_mode": {
    "name": "ipython",
    "version": 3
   },
   "file_extension": ".py",
   "mimetype": "text/x-python",
   "name": "python",
   "nbconvert_exporter": "python",
   "pygments_lexer": "ipython3",
   "version": "3.9.12"
  }
 },
 "nbformat": 4,
 "nbformat_minor": 5
}
