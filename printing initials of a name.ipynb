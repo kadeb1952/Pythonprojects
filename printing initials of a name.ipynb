{
 "cells": [
  {
   "cell_type": "code",
   "execution_count": 2,
   "id": "8e7aca59",
   "metadata": {},
   "outputs": [
    {
     "name": "stdout",
     "output_type": "stream",
     "text": [
      "KAD\n"
     ]
    }
   ],
   "source": [
    "initial = \"\"\n",
    "nameList = []\n",
    "getInitial =[]\n",
    "\n",
    "name = input (\"What is your fullname(seperated by spaces)\")\n",
    "\n",
    "nameList = name.split()\n",
    "for name in nameList:\n",
    "    initial = initial + name[0:1]\n",
    "print(initial)"
   ]
  },
  {
   "cell_type": "markdown",
   "id": "9de9ba1d",
   "metadata": {},
   "source": []
  },
  {
   "cell_type": "raw",
   "id": "1100d722",
   "metadata": {},
   "source": []
  },
  {
   "cell_type": "code",
   "execution_count": 3,
   "id": "8f63ef3e",
   "metadata": {},
   "outputs": [
    {
     "name": "stdout",
     "output_type": "stream",
     "text": [
      "What is your Name: debrah\n",
      "Give me a D!!!\n",
      "Give me an E!!!\n",
      "Give me a B!!!\n",
      "Give me an R!!!\n",
      "Give me an A!!!\n",
      "Give me a H!!!\n",
      "What is the spell?\n",
      "DEBRAH!!\n"
     ]
    }
   ],
   "source": [
    "name = input(\"What is your Name: \")\n",
    "#name.upper()\n",
    "u_name = name.upper()\n",
    "an_List = [\"A\",\"E\",\"F\",\"H\",\"I\",\"L\",\"M\",\"N\",\"O\",\"R\",\"S\",\"X\"] \n",
    "for letter in u_name:\n",
    "    if letter == \" \":\n",
    "        continue\n",
    "           \n",
    "    if letter in an_List:\n",
    "        print(\"Give me an \" + letter +\"!!!\")\n",
    "    else:\n",
    "        print(\"Give me a \" + letter +\"!!!\")\n",
    "        \n",
    "print(\"What is the spell?\")\n",
    "print(u_name + \"!!\")\n",
    "\n"
   ]
  },
  {
   "cell_type": "raw",
   "id": "2a146910",
   "metadata": {},
   "source": []
  },
  {
   "cell_type": "code",
   "execution_count": 12,
   "id": "b294e31b",
   "metadata": {},
   "outputs": [
    {
     "name": "stdout",
     "output_type": "stream",
     "text": [
      "Enter an integer number(Negative or Positive): -121\n",
      "The Number you entered is a Palindrome\n"
     ]
    }
   ],
   "source": [
    "number = input(\"Enter an integer number(Negative or Positive): \")\n",
    "num = int(str(number))\n",
    "\n",
    "if num > 0:\n",
    "    rev_num = number[::-1]\n",
    "    if number == rev_num:\n",
    "        print(\"The Number you entered is a Palindrome\")\n",
    "    else:\n",
    "        print(\"The Number you entered is not a Palondrome\")\n",
    "else: \n",
    "    rem_neg = number[1:]\n",
    "    nrev_num = rem_neg[::-1]\n",
    "    if(rem_neg == nrev_num):\n",
    "        print(\"The Number you entered is a Palindrome\")   \n",
    "    else:\n",
    "        print(\"The Number you entered is not a Palondrome\")\n",
    "    "
   ]
  },
  {
   "cell_type": "raw",
   "id": "53693ff6",
   "metadata": {},
   "source": []
  },
  {
   "cell_type": "code",
   "execution_count": 12,
   "id": "8f6d4922",
   "metadata": {},
   "outputs": [
    {
     "name": "stdout",
     "output_type": "stream",
     "text": [
      "KWASI\n"
     ]
    }
   ],
   "source": [
    "text = \"kwasi\"\n",
    "print(text.upper())"
   ]
  },
  {
   "cell_type": "markdown",
   "id": "716e0386",
   "metadata": {},
   "source": []
  },
  {
   "cell_type": "code",
   "execution_count": 11,
   "id": "b3fe0177",
   "metadata": {},
   "outputs": [
    {
     "name": "stdout",
     "output_type": "stream",
     "text": [
      "Enter Your Name: John kwaku mensah akobour\n",
      "JK\n"
     ]
    }
   ],
   "source": [
    "name = input(\"Enter Your Name: \")\n",
    "full_initials = name[0]\n",
    "for letter in name:\n",
    "    letter=name.find(\" \")\n",
    "    if letter <1 :\n",
    "        break\n",
    "    initials = name[letter + 1]\n",
    "    name = name[letter + 1]\n",
    "\n",
    "full_initials = full_initials + initials\n",
    "cap_full_initials = full_initials.upper()\n",
    "print(cap_full_initials)"
   ]
  },
  {
   "cell_type": "code",
   "execution_count": null,
   "id": "bdcb6c23",
   "metadata": {},
   "outputs": [],
   "source": []
  },
  {
   "cell_type": "code",
   "execution_count": null,
   "id": "9a448b01",
   "metadata": {},
   "outputs": [],
   "source": []
  },
  {
   "cell_type": "code",
   "execution_count": null,
   "id": "eb16aaaa",
   "metadata": {},
   "outputs": [],
   "source": []
  }
 ],
 "metadata": {
  "kernelspec": {
   "display_name": "Python 3",
   "language": "python",
   "name": "python3"
  },
  "language_info": {
   "codemirror_mode": {
    "name": "ipython",
    "version": 3
   },
   "file_extension": ".py",
   "mimetype": "text/x-python",
   "name": "python",
   "nbconvert_exporter": "python",
   "pygments_lexer": "ipython3",
   "version": "3.10.3"
  }
 },
 "nbformat": 4,
 "nbformat_minor": 5
}
