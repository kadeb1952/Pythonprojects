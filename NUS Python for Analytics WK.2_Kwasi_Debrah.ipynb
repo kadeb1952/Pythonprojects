{
 "cells": [
  {
   "cell_type": "code",
   "execution_count": 1,
   "id": "41574ab8",
   "metadata": {},
   "outputs": [
    {
     "name": "stdout",
     "output_type": "stream",
     "text": [
      "What is your Name: kwasi\n",
      "Give me a K!!!\n",
      "Give me a W!!!\n",
      "Give me an A!!!\n",
      "Give me an S!!!\n",
      "Give me an I!!!\n",
      "What is the spell?\n",
      "KWASI!!\n"
     ]
    }
   ],
   "source": [
    "name = input(\"What is your Name: \")\n",
    "u_name = name.upper()\n",
    "an_List = [\"A\",\"E\",\"F\",\"H\",\"I\",\"L\",\"M\",\"N\",\"O\",\"R\",\"S\",\"X\"] \n",
    "for letter in u_name:\n",
    "    if letter == \" \":\n",
    "        continue\n",
    "           \n",
    "    if letter in an_List:\n",
    "        print(\"Give me an \" + letter +\"!!!\")\n",
    "    else:\n",
    "        print(\"Give me a \" + letter +\"!!!\")\n",
    "        \n",
    "print(\"What is the spell?\")\n",
    "print(u_name + \"!!\")\n",
    "\n"
   ]
  },
  {
   "cell_type": "code",
   "execution_count": 7,
   "id": "661c304c",
   "metadata": {},
   "outputs": [
    {
     "name": "stdout",
     "output_type": "stream",
     "text": [
      "Enter an integer number(Negative or Positive): 1234\n",
      "The Number you entered is not a Palondrome\n"
     ]
    }
   ],
   "source": [
    "number = input(\"Enter an integer number(Negative or Positive): \")\n",
    "num = int(str(number))\n",
    "\n",
    "if num > 0:\n",
    "    rev_num = number[::-1]\n",
    "    if number == rev_num:\n",
    "        print(\"The Number you entered is a Palindrome\")\n",
    "    else:\n",
    "        print(\"The Number you entered is not a Palondrome\")\n",
    "else: \n",
    "    rem_neg = number[1:]\n",
    "    nrev_num = rem_neg[::-1]\n",
    "    if(rem_neg == nrev_num):\n",
    "        print(\"The Number you entered is a Palindrome\")   \n",
    "    else:\n",
    "        print(\"The Number you entered is not a Palondrome\" + \" \" + num + \" \" + rev_num)"
   ]
  },
  {
   "cell_type": "markdown",
   "id": "8a2c84c7",
   "metadata": {},
   "source": [
    " "
   ]
  },
  {
   "cell_type": "code",
   "execution_count": null,
   "id": "14d8b161",
   "metadata": {},
   "outputs": [],
   "source": []
  },
  {
   "cell_type": "code",
   "execution_count": null,
   "id": "fcf8818d",
   "metadata": {},
   "outputs": [],
   "source": []
  }
 ],
 "metadata": {
  "kernelspec": {
   "display_name": "Python 3 (ipykernel)",
   "language": "python",
   "name": "python3"
  },
  "language_info": {
   "codemirror_mode": {
    "name": "ipython",
    "version": 3
   },
   "file_extension": ".py",
   "mimetype": "text/x-python",
   "name": "python",
   "nbconvert_exporter": "python",
   "pygments_lexer": "ipython3",
   "version": "3.9.12"
  }
 },
 "nbformat": 4,
 "nbformat_minor": 5
}
