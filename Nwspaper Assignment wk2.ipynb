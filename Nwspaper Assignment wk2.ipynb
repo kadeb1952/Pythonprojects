{
 "cells": [
  {
   "cell_type": "code",
   "execution_count": 2,
   "id": "a1a29bf9",
   "metadata": {},
   "outputs": [
    {
     "name": "stdout",
     "output_type": "stream",
     "text": [
      "Newspaper sold:300\n",
      "Total profit: 125.0\n"
     ]
    }
   ],
   "source": [
    "cost = 0.1\n",
    "price = 0.6\n",
    "order = 550\n",
    "\n",
    "demand = 300\n",
    "\n",
    "if demand< order:\n",
    "    sold = demand\n",
    "else:\n",
    "    sold = order\n",
    "    \n",
    "profit = price*sold-cost*order\n",
    "\n",
    "print(\"Newspaper sold:\" + str(sold))\n",
    "print(\"Total profit: \" + str(profit))"
   ]
  },
  {
   "cell_type": "code",
   "execution_count": null,
   "id": "f5a49369",
   "metadata": {},
   "outputs": [],
   "source": []
  }
 ],
 "metadata": {
  "kernelspec": {
   "display_name": "Python 3 (ipykernel)",
   "language": "python",
   "name": "python3"
  },
  "language_info": {
   "codemirror_mode": {
    "name": "ipython",
    "version": 3
   },
   "file_extension": ".py",
   "mimetype": "text/x-python",
   "name": "python",
   "nbconvert_exporter": "python",
   "pygments_lexer": "ipython3",
   "version": "3.9.12"
  }
 },
 "nbformat": 4,
 "nbformat_minor": 5
}
