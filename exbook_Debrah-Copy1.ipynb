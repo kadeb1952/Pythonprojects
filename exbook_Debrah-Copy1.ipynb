{
 "cells": [
  {
   "cell_type": "code",
   "execution_count": 6,
   "id": "ea8b72d4",
   "metadata": {},
   "outputs": [
    {
     "name": "stdout",
     "output_type": "stream",
     "text": [
      "Defaulting to user installation because normal site-packages is not writeable\n",
      "Requirement already satisfied: exbook in c:\\users\\kwasi\\appdata\\roaming\\python\\python39\\site-packages (0.0.5)\n",
      "Note: you may need to restart the kernel to use updated packages.\n"
     ]
    }
   ],
   "source": [
    "pip install exbook"
   ]
  },
  {
   "cell_type": "code",
   "execution_count": 1,
   "id": "ee5af516",
   "metadata": {},
   "outputs": [
    {
     "data": {
      "text/plain": [
       "36"
      ]
     },
     "execution_count": 1,
     "metadata": {},
     "output_type": "execute_result"
    }
   ],
   "source": [
    "from exbook import book as eb\n",
    "\n",
    "len(eb)"
   ]
  },
  {
   "cell_type": "code",
   "execution_count": 3,
   "id": "f1e3af34",
   "metadata": {
    "scrolled": false
   },
   "outputs": [
    {
     "name": "stdout",
     "output_type": "stream",
     "text": [
      "Define a function with two strings to be the input arguments. The output is \n",
      "the summation of the numerical values of the input strings. For example, if \n",
      "the input strings are \"3.5\"and \"2.7\", then the output is 6.2, as a floating\n",
      "point number.\n"
     ]
    },
    {
     "data": {
      "text/html": [
       "<div>\n",
       "<style scoped>\n",
       "    .dataframe tbody tr th:only-of-type {\n",
       "        vertical-align: middle;\n",
       "    }\n",
       "\n",
       "    .dataframe tbody tr th {\n",
       "        vertical-align: top;\n",
       "    }\n",
       "\n",
       "    .dataframe thead th {\n",
       "        text-align: right;\n",
       "    }\n",
       "</style>\n",
       "<table border=\"1\" class=\"dataframe\">\n",
       "  <thead>\n",
       "    <tr style=\"text-align: right;\">\n",
       "      <th></th>\n",
       "      <th>Input1: str</th>\n",
       "      <th>Input2: str</th>\n",
       "      <th>Output: float</th>\n",
       "    </tr>\n",
       "  </thead>\n",
       "  <tbody>\n",
       "    <tr>\n",
       "      <th>Test 1:</th>\n",
       "      <td>3.5</td>\n",
       "      <td>2.7</td>\n",
       "      <td>6.2</td>\n",
       "    </tr>\n",
       "  </tbody>\n",
       "</table>\n",
       "</div>"
      ],
      "text/plain": [
       "        Input1: str Input2: str Output: float\n",
       "Test 1:         3.5         2.7           6.2"
      ]
     },
     "metadata": {},
     "output_type": "display_data"
    },
    {
     "name": "stdout",
     "output_type": "stream",
     "text": [
      "\n",
      "\u001b[1mData Type Conversion: Easy\u001b[0;0m \n",
      "\n"
     ]
    }
   ],
   "source": [
    "print(eb[0])"
   ]
  },
  {
   "cell_type": "code",
   "execution_count": 37,
   "id": "cfdf5a90",
   "metadata": {},
   "outputs": [
    {
     "data": {
      "text/plain": [
       "6.2"
      ]
     },
     "execution_count": 37,
     "metadata": {},
     "output_type": "execute_result"
    }
   ],
   "source": [
    "from exbook import book as eb\n",
    "\n",
    "def eb0(x,y):\n",
    "    \n",
    "    return float(x)+float(y)\n",
    "           \n",
    "eb0(3.5,2.7)"
   ]
  },
  {
   "cell_type": "code",
   "execution_count": 8,
   "id": "363eaa97",
   "metadata": {},
   "outputs": [
    {
     "name": "stdout",
     "output_type": "stream",
     "text": [
      "Write a function to determine whether an integer is a palindrome. An integer \n",
      "is a palindrome when it reads the same backward as forward. For example, \n",
      "121 is a palindrome so the output is True, 10 is not a palindrome so the\n",
      "output is False.\n"
     ]
    },
    {
     "data": {
      "text/html": [
       "<div>\n",
       "<style scoped>\n",
       "    .dataframe tbody tr th:only-of-type {\n",
       "        vertical-align: middle;\n",
       "    }\n",
       "\n",
       "    .dataframe tbody tr th {\n",
       "        vertical-align: top;\n",
       "    }\n",
       "\n",
       "    .dataframe thead th {\n",
       "        text-align: right;\n",
       "    }\n",
       "</style>\n",
       "<table border=\"1\" class=\"dataframe\">\n",
       "  <thead>\n",
       "    <tr style=\"text-align: right;\">\n",
       "      <th></th>\n",
       "      <th>Input1: int</th>\n",
       "      <th>Output: bool</th>\n",
       "    </tr>\n",
       "  </thead>\n",
       "  <tbody>\n",
       "    <tr>\n",
       "      <th>Test 1:</th>\n",
       "      <td>151</td>\n",
       "      <td>True</td>\n",
       "    </tr>\n",
       "    <tr>\n",
       "      <th>Test 1:</th>\n",
       "      <td>-5</td>\n",
       "      <td>False</td>\n",
       "    </tr>\n",
       "  </tbody>\n",
       "</table>\n",
       "</div>"
      ],
      "text/plain": [
       "        Input1: int Output: bool\n",
       "Test 1:         151         True\n",
       "Test 1:          -5        False"
      ]
     },
     "metadata": {},
     "output_type": "display_data"
    },
    {
     "name": "stdout",
     "output_type": "stream",
     "text": [
      "\n",
      "\u001b[1mPalindrome: Easy\u001b[0;0m \n",
      "\n"
     ]
    }
   ],
   "source": [
    "print(eb[1])"
   ]
  },
  {
   "cell_type": "code",
   "execution_count": 5,
   "id": "d7fe0220",
   "metadata": {},
   "outputs": [
    {
     "data": {
      "text/plain": [
       "True"
      ]
     },
     "execution_count": 5,
     "metadata": {},
     "output_type": "execute_result"
    }
   ],
   "source": [
    "def eb1(num):\n",
    "    t= str(num)\n",
    "    if t == t[::-1]:\n",
    "        return (True)\n",
    "    else:\n",
    "        return (False)\n",
    "    \n",
    "eb1(151)\n",
    "    "
   ]
  },
  {
   "cell_type": "code",
   "execution_count": 10,
   "id": "9ba63cfc",
   "metadata": {},
   "outputs": [
    {
     "name": "stdout",
     "output_type": "stream",
     "text": [
      "Write a function with a given argument n to return a list containing all \n",
      "positive integers no larger than n, and these integers can be divided by 7 \n",
      "but can not be divided by 5. For example, if n=50, then the returned list \n",
      "is [7, 14, 21, 28, 42, 49].\n"
     ]
    },
    {
     "data": {
      "text/html": [
       "<div>\n",
       "<style scoped>\n",
       "    .dataframe tbody tr th:only-of-type {\n",
       "        vertical-align: middle;\n",
       "    }\n",
       "\n",
       "    .dataframe tbody tr th {\n",
       "        vertical-align: top;\n",
       "    }\n",
       "\n",
       "    .dataframe thead th {\n",
       "        text-align: right;\n",
       "    }\n",
       "</style>\n",
       "<table border=\"1\" class=\"dataframe\">\n",
       "  <thead>\n",
       "    <tr style=\"text-align: right;\">\n",
       "      <th></th>\n",
       "      <th>Input1: int</th>\n",
       "      <th>Output: list</th>\n",
       "    </tr>\n",
       "  </thead>\n",
       "  <tbody>\n",
       "    <tr>\n",
       "      <th>Test 1:</th>\n",
       "      <td>14</td>\n",
       "      <td>[7, 14]</td>\n",
       "    </tr>\n",
       "    <tr>\n",
       "      <th>Test 1:</th>\n",
       "      <td>20</td>\n",
       "      <td>[7, 14]</td>\n",
       "    </tr>\n",
       "    <tr>\n",
       "      <th>Test 1:</th>\n",
       "      <td>50</td>\n",
       "      <td>[7, 14, 21, 28, 42, 49]</td>\n",
       "    </tr>\n",
       "  </tbody>\n",
       "</table>\n",
       "</div>"
      ],
      "text/plain": [
       "        Input1: int             Output: list\n",
       "Test 1:          14                  [7, 14]\n",
       "Test 1:          20                  [7, 14]\n",
       "Test 1:          50  [7, 14, 21, 28, 42, 49]"
      ]
     },
     "metadata": {},
     "output_type": "display_data"
    },
    {
     "name": "stdout",
     "output_type": "stream",
     "text": [
      "\n",
      "\u001b[1mSeven And Five: Easy\u001b[0;0m \n",
      "\n"
     ]
    }
   ],
   "source": [
    "print(eb[2])"
   ]
  },
  {
   "cell_type": "code",
   "execution_count": 2,
   "id": "6881b0e1",
   "metadata": {},
   "outputs": [],
   "source": [
    " def eb2(n):\n",
    "    \n",
    "    out = []\n",
    "    for i in range(n+1):\n",
    "        if i%7 == 0 and i%5 != 0:\n",
    "            out.append(i)\n",
    "    return out"
   ]
  },
  {
   "cell_type": "code",
   "execution_count": 18,
   "id": "a17adb53",
   "metadata": {},
   "outputs": [
    {
     "name": "stdout",
     "output_type": "stream",
     "text": [
      "Write a function to determine if a given positive integer n is a prime \n",
      "number.For example, 37 is a prime number so the output is True, 10 is not \n",
      "so the output is False.\n"
     ]
    },
    {
     "data": {
      "text/html": [
       "<div>\n",
       "<style scoped>\n",
       "    .dataframe tbody tr th:only-of-type {\n",
       "        vertical-align: middle;\n",
       "    }\n",
       "\n",
       "    .dataframe tbody tr th {\n",
       "        vertical-align: top;\n",
       "    }\n",
       "\n",
       "    .dataframe thead th {\n",
       "        text-align: right;\n",
       "    }\n",
       "</style>\n",
       "<table border=\"1\" class=\"dataframe\">\n",
       "  <thead>\n",
       "    <tr style=\"text-align: right;\">\n",
       "      <th></th>\n",
       "      <th>Input1: int</th>\n",
       "      <th>Output: bool</th>\n",
       "    </tr>\n",
       "  </thead>\n",
       "  <tbody>\n",
       "    <tr>\n",
       "      <th>Test 1:</th>\n",
       "      <td>6</td>\n",
       "      <td>False</td>\n",
       "    </tr>\n",
       "    <tr>\n",
       "      <th>Test 1:</th>\n",
       "      <td>47</td>\n",
       "      <td>True</td>\n",
       "    </tr>\n",
       "    <tr>\n",
       "      <th>Test 1:</th>\n",
       "      <td>53</td>\n",
       "      <td>True</td>\n",
       "    </tr>\n",
       "    <tr>\n",
       "      <th>Test 1:</th>\n",
       "      <td>61</td>\n",
       "      <td>True</td>\n",
       "    </tr>\n",
       "  </tbody>\n",
       "</table>\n",
       "</div>"
      ],
      "text/plain": [
       "        Input1: int Output: bool\n",
       "Test 1:           6        False\n",
       "Test 1:          47         True\n",
       "Test 1:          53         True\n",
       "Test 1:          61         True"
      ]
     },
     "metadata": {},
     "output_type": "display_data"
    },
    {
     "name": "stdout",
     "output_type": "stream",
     "text": [
      "[\n",
      "\u001b[1mPrime Number: Easy\u001b[0;0m \n",
      "]\n"
     ]
    }
   ],
   "source": [
    "print([eb[3]])"
   ]
  },
  {
   "cell_type": "code",
   "execution_count": 51,
   "id": "1f9299cc",
   "metadata": {},
   "outputs": [
    {
     "data": {
      "text/plain": [
       "True"
      ]
     },
     "execution_count": 51,
     "metadata": {},
     "output_type": "execute_result"
    }
   ],
   "source": [
    "def eb3(num):\n",
    "    if num == 1:\n",
    "        return False\n",
    "    else:\n",
    "         return(bool((num%1== 0) & (num%2 != 0)))\n",
    "        \n",
    "eb3(61)\n",
    "    \n",
    "   "
   ]
  },
  {
   "cell_type": "markdown",
   "id": "0fa629e1",
   "metadata": {},
   "source": [
    "print(eb[4])"
   ]
  },
  {
   "cell_type": "code",
   "execution_count": 7,
   "id": "f281e925",
   "metadata": {},
   "outputs": [],
   "source": [
    "def isPrime(n):\n",
    "    \n",
    "    if n == 1:\n",
    "        return False\n",
    "    \n",
    "    for i in range(2,n):\n",
    "        if n % i == 0:\n",
    "            return False\n",
    "    return True\n",
    "\n",
    "\n",
    "def eb4(n):\n",
    "    out = []\n",
    "    for i in range(1,n+1):\n",
    "        \n",
    "        isprime = True\n",
    "        \n",
    "        if i == 1:\n",
    "            isprime = False\n",
    "    \n",
    "        for j in range(2,i):\n",
    "            if i % j == 0:\n",
    "                isprime = False\n",
    "                break\n",
    "        if isprime:\n",
    "            out.append(i)\n",
    "    return out"
   ]
  },
  {
   "cell_type": "code",
   "execution_count": 5,
   "id": "725a8c4b",
   "metadata": {},
   "outputs": [
    {
     "name": "stdout",
     "output_type": "stream",
     "text": [
      "A robot starts to move from the origin (0, 0) on a 2D plane. Given a squence\n",
      "of moves, in terms of strings \"L\" for left, \"R\" for right, \"U\" for up, and\n",
      "\"D\" for down, write a function to tell if the robot returns to the origin\n",
      "(0, 0) after this sequence of moves. The output of the function is a boolean\n",
      "value.\n"
     ]
    },
    {
     "data": {
      "text/html": [
       "<div>\n",
       "<style scoped>\n",
       "    .dataframe tbody tr th:only-of-type {\n",
       "        vertical-align: middle;\n",
       "    }\n",
       "\n",
       "    .dataframe tbody tr th {\n",
       "        vertical-align: top;\n",
       "    }\n",
       "\n",
       "    .dataframe thead th {\n",
       "        text-align: right;\n",
       "    }\n",
       "</style>\n",
       "<table border=\"1\" class=\"dataframe\">\n",
       "  <thead>\n",
       "    <tr style=\"text-align: right;\">\n",
       "      <th></th>\n",
       "      <th>Input1: str</th>\n",
       "      <th>Output: bool</th>\n",
       "    </tr>\n",
       "  </thead>\n",
       "  <tbody>\n",
       "    <tr>\n",
       "      <th>Test 1:</th>\n",
       "      <td>UD</td>\n",
       "      <td>True</td>\n",
       "    </tr>\n",
       "    <tr>\n",
       "      <th>Test 1:</th>\n",
       "      <td>LL</td>\n",
       "      <td>False</td>\n",
       "    </tr>\n",
       "  </tbody>\n",
       "</table>\n",
       "</div>"
      ],
      "text/plain": [
       "        Input1: str Output: bool\n",
       "Test 1:          UD         True\n",
       "Test 1:          LL        False"
      ]
     },
     "metadata": {},
     "output_type": "display_data"
    },
    {
     "name": "stdout",
     "output_type": "stream",
     "text": [
      "\n",
      "\u001b[1mRobot: Easy\u001b[0;0m \n",
      "\n"
     ]
    }
   ],
   "source": [
    "from exbook import book as eb\n",
    "print(eb[5])"
   ]
  },
  {
   "cell_type": "code",
   "execution_count": 73,
   "id": "522493f8",
   "metadata": {},
   "outputs": [
    {
     "ename": "SyntaxError",
     "evalue": "invalid syntax (2011594258.py, line 5)",
     "output_type": "error",
     "traceback": [
      "\u001b[1;36m  Input \u001b[1;32mIn [73]\u001b[1;36m\u001b[0m\n\u001b[1;33m    eb5(\"UD\")\u001b[0m\n\u001b[1;37m    ^\u001b[0m\n\u001b[1;31mSyntaxError\u001b[0m\u001b[1;31m:\u001b[0m invalid syntax\n"
     ]
    }
   ],
   "source": [
    "def eb5():\n",
    "    my_list = [\"UR\", \"DL\", \"UD\" , \"LL\"]\n",
    "    return(bool(str_obj in my_list)\n",
    "           \n",
    "eb5(\"UD\")\n",
    " "
   ]
  },
  {
   "cell_type": "code",
   "execution_count": 12,
   "id": "7e1cec6d",
   "metadata": {},
   "outputs": [
    {
     "name": "stdout",
     "output_type": "stream",
     "text": [
      "Given a list of numbers as the first input argument, write a function to \n",
      "remove all items in the list that have the same value as the second input \n",
      "argument. For example, if the first argument is [1, 3, 2, 2, 4, 2, 5] and \n",
      "the second argument is given as 2, then the output is [1, 3, 4, 5], with \n",
      "all 2s removed.\n"
     ]
    },
    {
     "data": {
      "text/html": [
       "<div>\n",
       "<style scoped>\n",
       "    .dataframe tbody tr th:only-of-type {\n",
       "        vertical-align: middle;\n",
       "    }\n",
       "\n",
       "    .dataframe tbody tr th {\n",
       "        vertical-align: top;\n",
       "    }\n",
       "\n",
       "    .dataframe thead th {\n",
       "        text-align: right;\n",
       "    }\n",
       "</style>\n",
       "<table border=\"1\" class=\"dataframe\">\n",
       "  <thead>\n",
       "    <tr style=\"text-align: right;\">\n",
       "      <th></th>\n",
       "      <th>Input1: list</th>\n",
       "      <th>Input2: int</th>\n",
       "      <th>Output: list</th>\n",
       "    </tr>\n",
       "  </thead>\n",
       "  <tbody>\n",
       "    <tr>\n",
       "      <th>Test 1:</th>\n",
       "      <td>[0, 1, 2, 3, 2, 5]</td>\n",
       "      <td>2</td>\n",
       "      <td>[0, 1, 3, 5]</td>\n",
       "    </tr>\n",
       "    <tr>\n",
       "      <th>Test 1:</th>\n",
       "      <td>[0, 1, 2, 3]</td>\n",
       "      <td>4</td>\n",
       "      <td>[0, 1, 2, 3]</td>\n",
       "    </tr>\n",
       "  </tbody>\n",
       "</table>\n",
       "</div>"
      ],
      "text/plain": [
       "               Input1: list Input2: int  Output: list\n",
       "Test 1:  [0, 1, 2, 3, 2, 5]           2  [0, 1, 3, 5]\n",
       "Test 1:        [0, 1, 2, 3]           4  [0, 1, 2, 3]"
      ]
     },
     "metadata": {},
     "output_type": "display_data"
    },
    {
     "name": "stdout",
     "output_type": "stream",
     "text": [
      "\n",
      "\u001b[1mRemove All: Easy\u001b[0;0m \n",
      "\n"
     ]
    }
   ],
   "source": [
    "print(eb[6])"
   ]
  },
  {
   "cell_type": "code",
   "execution_count": 15,
   "id": "1d851805",
   "metadata": {},
   "outputs": [],
   "source": [
    "def eb6(my_list, my_int):\n",
    "    for i in my_list:\n",
    "        if i == my_int:\n",
    "            pop(i)       \n",
    "    return(my_list)\n",
    "          \n",
    "    \n",
    "    "
   ]
  },
  {
   "cell_type": "code",
   "execution_count": 16,
   "id": "65f30b93",
   "metadata": {},
   "outputs": [
    {
     "name": "stdout",
     "output_type": "stream",
     "text": [
      "Given two equal length lists of unique numbers, write a function to return \n",
      "the number of items in these two lists that have the same values and are \n",
      "at the same positions. For example, if these two lists are [1, 2, 3, 5] and \n",
      "[2, 1, 3, 4], then the output is 1 because the same value 3 appears at the \n",
      "same position 2 of both lists.\n"
     ]
    },
    {
     "data": {
      "text/html": [
       "<div>\n",
       "<style scoped>\n",
       "    .dataframe tbody tr th:only-of-type {\n",
       "        vertical-align: middle;\n",
       "    }\n",
       "\n",
       "    .dataframe tbody tr th {\n",
       "        vertical-align: top;\n",
       "    }\n",
       "\n",
       "    .dataframe thead th {\n",
       "        text-align: right;\n",
       "    }\n",
       "</style>\n",
       "<table border=\"1\" class=\"dataframe\">\n",
       "  <thead>\n",
       "    <tr style=\"text-align: right;\">\n",
       "      <th></th>\n",
       "      <th>Input1: list</th>\n",
       "      <th>Input2: list</th>\n",
       "      <th>Output: int</th>\n",
       "    </tr>\n",
       "  </thead>\n",
       "  <tbody>\n",
       "    <tr>\n",
       "      <th>Test 1:</th>\n",
       "      <td>[1, 2, 3, 5]</td>\n",
       "      <td>[2, 1, 3, 4]</td>\n",
       "      <td>1</td>\n",
       "    </tr>\n",
       "    <tr>\n",
       "      <th>Test 1:</th>\n",
       "      <td>[1, 2, 3, 5]</td>\n",
       "      <td>[5, 2, 3, 1]</td>\n",
       "      <td>2</td>\n",
       "    </tr>\n",
       "  </tbody>\n",
       "</table>\n",
       "</div>"
      ],
      "text/plain": [
       "         Input1: list  Input2: list Output: int\n",
       "Test 1:  [1, 2, 3, 5]  [2, 1, 3, 4]           1\n",
       "Test 1:  [1, 2, 3, 5]  [5, 2, 3, 1]           2"
      ]
     },
     "metadata": {},
     "output_type": "display_data"
    },
    {
     "name": "stdout",
     "output_type": "stream",
     "text": [
      "\n",
      "\u001b[1mRight Position: Easy\u001b[0;0m \n",
      "\n"
     ]
    }
   ],
   "source": [
    " print(eb[7])"
   ]
  },
  {
   "cell_type": "code",
   "execution_count": 24,
   "id": "89795f8c",
   "metadata": {},
   "outputs": [],
   "source": [
    "def eb7(my_list1, my_list2):\n",
    "    for i in my_list1:\n",
    "        for j in my-list2:\n",
    "            if my_list[i] == my_list2[j]:\n",
    "                return(i)"
   ]
  },
  {
   "cell_type": "code",
   "execution_count": 25,
   "id": "bf826181",
   "metadata": {},
   "outputs": [
    {
     "name": "stdout",
     "output_type": "stream",
     "text": [
      "Given two equal length lists of unique numbers, write a function to return \n",
      "the number of items in these two lists that have the same values but are at \n",
      "the different positions. For example, if these two lists are [1, 2, 3, 5] \n",
      "and [2, 1, 3, 4], then the output is 2 because the same values 1 and \n",
      "2 appear at the different positions.\n"
     ]
    },
    {
     "data": {
      "text/html": [
       "<div>\n",
       "<style scoped>\n",
       "    .dataframe tbody tr th:only-of-type {\n",
       "        vertical-align: middle;\n",
       "    }\n",
       "\n",
       "    .dataframe tbody tr th {\n",
       "        vertical-align: top;\n",
       "    }\n",
       "\n",
       "    .dataframe thead th {\n",
       "        text-align: right;\n",
       "    }\n",
       "</style>\n",
       "<table border=\"1\" class=\"dataframe\">\n",
       "  <thead>\n",
       "    <tr style=\"text-align: right;\">\n",
       "      <th></th>\n",
       "      <th>Input1: list</th>\n",
       "      <th>Input2: list</th>\n",
       "      <th>Output: int</th>\n",
       "    </tr>\n",
       "  </thead>\n",
       "  <tbody>\n",
       "    <tr>\n",
       "      <th>Test 1:</th>\n",
       "      <td>[1, 2, 3, 5]</td>\n",
       "      <td>[2, 1, 3, 4]</td>\n",
       "      <td>2</td>\n",
       "    </tr>\n",
       "    <tr>\n",
       "      <th>Test 1:</th>\n",
       "      <td>[1, 2, 3, 5]</td>\n",
       "      <td>[1, 2, 3, 4]</td>\n",
       "      <td>0</td>\n",
       "    </tr>\n",
       "  </tbody>\n",
       "</table>\n",
       "</div>"
      ],
      "text/plain": [
       "         Input1: list  Input2: list Output: int\n",
       "Test 1:  [1, 2, 3, 5]  [2, 1, 3, 4]           2\n",
       "Test 1:  [1, 2, 3, 5]  [1, 2, 3, 4]           0"
      ]
     },
     "metadata": {},
     "output_type": "display_data"
    },
    {
     "name": "stdout",
     "output_type": "stream",
     "text": [
      "\n",
      "\u001b[1mWrong Position: Medium\u001b[0;0m \n",
      "\n"
     ]
    }
   ],
   "source": [
    " print(eb[8])"
   ]
  },
  {
   "cell_type": "code",
   "execution_count": 26,
   "id": "2f8c358d",
   "metadata": {},
   "outputs": [],
   "source": [
    "def eb8(my_list1, my_list2):\n",
    "    for i in my_list1:\n",
    "        for j in my-list2:\n",
    "            if (my_list[i] == my_list2[j]) & (i != j):\n",
    "                return(i)"
   ]
  },
  {
   "cell_type": "code",
   "execution_count": 27,
   "id": "01ca6c26",
   "metadata": {},
   "outputs": [
    {
     "name": "stdout",
     "output_type": "stream",
     "text": [
      "Given a list of unique numbers, write a function to return the position \n",
      "index of the smallest number. For example, if the given list is [3, 1, 5, 0, \n",
      "2, 6], then the returned index is 3, because the smallest number 0 appears \n",
      "at position 3.\n"
     ]
    },
    {
     "data": {
      "text/html": [
       "<div>\n",
       "<style scoped>\n",
       "    .dataframe tbody tr th:only-of-type {\n",
       "        vertical-align: middle;\n",
       "    }\n",
       "\n",
       "    .dataframe tbody tr th {\n",
       "        vertical-align: top;\n",
       "    }\n",
       "\n",
       "    .dataframe thead th {\n",
       "        text-align: right;\n",
       "    }\n",
       "</style>\n",
       "<table border=\"1\" class=\"dataframe\">\n",
       "  <thead>\n",
       "    <tr style=\"text-align: right;\">\n",
       "      <th></th>\n",
       "      <th>Input1: list</th>\n",
       "      <th>Output: int</th>\n",
       "    </tr>\n",
       "  </thead>\n",
       "  <tbody>\n",
       "    <tr>\n",
       "      <th>Test 1:</th>\n",
       "      <td>[0, 1, 3, 2, 5]</td>\n",
       "      <td>0</td>\n",
       "    </tr>\n",
       "    <tr>\n",
       "      <th>Test 1:</th>\n",
       "      <td>[3, 2, 5, 1, 4, 0]</td>\n",
       "      <td>5</td>\n",
       "    </tr>\n",
       "    <tr>\n",
       "      <th>Test 1:</th>\n",
       "      <td>[1, 2, 0, 3, 5]</td>\n",
       "      <td>2</td>\n",
       "    </tr>\n",
       "  </tbody>\n",
       "</table>\n",
       "</div>"
      ],
      "text/plain": [
       "               Input1: list Output: int\n",
       "Test 1:     [0, 1, 3, 2, 5]           0\n",
       "Test 1:  [3, 2, 5, 1, 4, 0]           5\n",
       "Test 1:     [1, 2, 0, 3, 5]           2"
      ]
     },
     "metadata": {},
     "output_type": "display_data"
    },
    {
     "name": "stdout",
     "output_type": "stream",
     "text": [
      "\n",
      "\u001b[1mMinimum Number Index: Medium\u001b[0;0m \n",
      "\n"
     ]
    }
   ],
   "source": [
    " print(eb[9])"
   ]
  },
  {
   "cell_type": "code",
   "execution_count": 39,
   "id": "e024ae39",
   "metadata": {},
   "outputs": [],
   "source": [
    "\n",
    "\n",
    "def eb9(l1):\n",
    "    \n",
    "    number = l1[0]\n",
    "    idx = 0\n",
    "    \n",
    "    for i in range(len(l1)):\n",
    "        if l1[i] < number:\n",
    "            number = l1[i]\n",
    "            idx = i\n",
    "            \n",
    "    return idx\n",
    "    "
   ]
  },
  {
   "cell_type": "code",
   "execution_count": 40,
   "id": "af9979d1",
   "metadata": {
    "scrolled": true
   },
   "outputs": [
    {
     "name": "stdout",
     "output_type": "stream",
     "text": [
      "Given a list of numbers as the first input argument, and an integer k as \n",
      "the second argument, write a function that returns a list of the k smallest \n",
      "numbers of the list. Items in the returned list is ranked from the smallest \n",
      "to the largest. For example, if the list is [0, 1, 2, 3, 2, 5], and the \n",
      "integer is k=3, then the returned list is [0, 1, 2]. If k is larger than \n",
      "the length of the list, then return the whole list.\n"
     ]
    },
    {
     "data": {
      "text/html": [
       "<div>\n",
       "<style scoped>\n",
       "    .dataframe tbody tr th:only-of-type {\n",
       "        vertical-align: middle;\n",
       "    }\n",
       "\n",
       "    .dataframe tbody tr th {\n",
       "        vertical-align: top;\n",
       "    }\n",
       "\n",
       "    .dataframe thead th {\n",
       "        text-align: right;\n",
       "    }\n",
       "</style>\n",
       "<table border=\"1\" class=\"dataframe\">\n",
       "  <thead>\n",
       "    <tr style=\"text-align: right;\">\n",
       "      <th></th>\n",
       "      <th>Input1: list</th>\n",
       "      <th>Input2: int</th>\n",
       "      <th>Output: list</th>\n",
       "    </tr>\n",
       "  </thead>\n",
       "  <tbody>\n",
       "    <tr>\n",
       "      <th>Test 1:</th>\n",
       "      <td>[0, 1, 2, 3, 2, 5]</td>\n",
       "      <td>3</td>\n",
       "      <td>[0, 1, 2]</td>\n",
       "    </tr>\n",
       "    <tr>\n",
       "      <th>Test 1:</th>\n",
       "      <td>[0, 1, 2, 3, 2, 5]</td>\n",
       "      <td>1</td>\n",
       "      <td>[0]</td>\n",
       "    </tr>\n",
       "    <tr>\n",
       "      <th>Test 1:</th>\n",
       "      <td>[0, 1, 2, 3, 2, 5]</td>\n",
       "      <td>8</td>\n",
       "      <td>[0, 1, 2, 2, 3, 5]</td>\n",
       "    </tr>\n",
       "  </tbody>\n",
       "</table>\n",
       "</div>"
      ],
      "text/plain": [
       "               Input1: list Input2: int        Output: list\n",
       "Test 1:  [0, 1, 2, 3, 2, 5]           3           [0, 1, 2]\n",
       "Test 1:  [0, 1, 2, 3, 2, 5]           1                 [0]\n",
       "Test 1:  [0, 1, 2, 3, 2, 5]           8  [0, 1, 2, 2, 3, 5]"
      ]
     },
     "metadata": {},
     "output_type": "display_data"
    },
    {
     "name": "stdout",
     "output_type": "stream",
     "text": [
      "\n",
      "\u001b[1mK Smallest: Medium\u001b[0;0m \n",
      "\n"
     ]
    }
   ],
   "source": [
    "print(eb[10])"
   ]
  },
  {
   "cell_type": "code",
   "execution_count": 2,
   "id": "211b60ea",
   "metadata": {},
   "outputs": [],
   "source": [
    "def eb10(l1, k):\n",
    "    \n",
    "    l1.sort()\n",
    "    \n",
    "    return l1[:k]"
   ]
  },
  {
   "cell_type": "code",
   "execution_count": 4,
   "id": "ce5b45d4",
   "metadata": {},
   "outputs": [
    {
     "name": "stdout",
     "output_type": "stream",
     "text": [
      "Write a function to find the longest common prefix string amongst a list of \n",
      "strings. For example, the input argument is [\"flower\", \"flow\", \"flight\"], \n",
      "the output is \"fl\". If there is no common prefix among the input strings, \n",
      "the output is an empty string.\n"
     ]
    },
    {
     "data": {
      "text/html": [
       "<div>\n",
       "<style scoped>\n",
       "    .dataframe tbody tr th:only-of-type {\n",
       "        vertical-align: middle;\n",
       "    }\n",
       "\n",
       "    .dataframe tbody tr th {\n",
       "        vertical-align: top;\n",
       "    }\n",
       "\n",
       "    .dataframe thead th {\n",
       "        text-align: right;\n",
       "    }\n",
       "</style>\n",
       "<table border=\"1\" class=\"dataframe\">\n",
       "  <thead>\n",
       "    <tr style=\"text-align: right;\">\n",
       "      <th></th>\n",
       "      <th>Input1: list</th>\n",
       "      <th>Output: str</th>\n",
       "    </tr>\n",
       "  </thead>\n",
       "  <tbody>\n",
       "    <tr>\n",
       "      <th>Test 1:</th>\n",
       "      <td>['flower', 'flow', 'flight']</td>\n",
       "      <td>fl</td>\n",
       "    </tr>\n",
       "    <tr>\n",
       "      <th>Test 1:</th>\n",
       "      <td>['flower', 'flow', 'flight', 'inflow']</td>\n",
       "      <td></td>\n",
       "    </tr>\n",
       "  </tbody>\n",
       "</table>\n",
       "</div>"
      ],
      "text/plain": [
       "                                   Input1: list Output: str\n",
       "Test 1:            ['flower', 'flow', 'flight']          fl\n",
       "Test 1:  ['flower', 'flow', 'flight', 'inflow']            "
      ]
     },
     "metadata": {},
     "output_type": "display_data"
    },
    {
     "name": "stdout",
     "output_type": "stream",
     "text": [
      "\n",
      "\u001b[1mCommon Prefix: Hard\u001b[0;0m \n",
      "\n"
     ]
    }
   ],
   "source": [
    " print(eb[11])"
   ]
  },
  {
   "cell_type": "code",
   "execution_count": 13,
   "id": "064e256a",
   "metadata": {},
   "outputs": [],
   "source": [
    " def eb11(my_list): \n",
    "        i = 1\n",
    "        j= 1\n",
    "        for i in my_list[0]:\n",
    "            my_prefix = my_list[0].str[:i]\n",
    "            for j in my_list:\n",
    "                if my_list[j][:i] == my_prefix[i]:\n",
    "                    continue\n",
    "                    return(print(my_prefix))\n"
   ]
  },
  {
   "cell_type": "code",
   "execution_count": 14,
   "id": "fd299f22",
   "metadata": {},
   "outputs": [
    {
     "name": "stdout",
     "output_type": "stream",
     "text": [
      "Write a function to find the Nth number in the Fibonacci Sequence, In the \n",
      "Fibonacci Sequence, the next number is the sum of the two numbers before it, \n",
      "i.e. 0, 1, 1, 2, 3, 5, 8, 13, 21, 34, ... For example, if N=0, then the \n",
      "output is 0; if N=1 or N=2, then the output is 1; if N=3, then the output is \n",
      "2; if N=4, then the output is 3.\n"
     ]
    },
    {
     "data": {
      "text/html": [
       "<div>\n",
       "<style scoped>\n",
       "    .dataframe tbody tr th:only-of-type {\n",
       "        vertical-align: middle;\n",
       "    }\n",
       "\n",
       "    .dataframe tbody tr th {\n",
       "        vertical-align: top;\n",
       "    }\n",
       "\n",
       "    .dataframe thead th {\n",
       "        text-align: right;\n",
       "    }\n",
       "</style>\n",
       "<table border=\"1\" class=\"dataframe\">\n",
       "  <thead>\n",
       "    <tr style=\"text-align: right;\">\n",
       "      <th></th>\n",
       "      <th>Input1: int</th>\n",
       "      <th>Output: int</th>\n",
       "    </tr>\n",
       "  </thead>\n",
       "  <tbody>\n",
       "    <tr>\n",
       "      <th>Test 1:</th>\n",
       "      <td>4</td>\n",
       "      <td>3</td>\n",
       "    </tr>\n",
       "    <tr>\n",
       "      <th>Test 1:</th>\n",
       "      <td>20</td>\n",
       "      <td>6765</td>\n",
       "    </tr>\n",
       "    <tr>\n",
       "      <th>Test 1:</th>\n",
       "      <td>100</td>\n",
       "      <td>354224848179261915075</td>\n",
       "    </tr>\n",
       "  </tbody>\n",
       "</table>\n",
       "</div>"
      ],
      "text/plain": [
       "        Input1: int            Output: int\n",
       "Test 1:           4                      3\n",
       "Test 1:          20                   6765\n",
       "Test 1:         100  354224848179261915075"
      ]
     },
     "metadata": {},
     "output_type": "display_data"
    },
    {
     "name": "stdout",
     "output_type": "stream",
     "text": [
      "\n",
      "\u001b[1mFibonacci: Medium\u001b[0;0m \n",
      "\n"
     ]
    }
   ],
   "source": [
    "print(eb[12])"
   ]
  },
  {
   "cell_type": "code",
   "execution_count": 20,
   "id": "9d37f52f",
   "metadata": {},
   "outputs": [],
   "source": [
    "def eb12(n):\n",
    "    \n",
    "    if n in memory:\n",
    "        return memory[n]\n",
    "    else:\n",
    "        memory[n] = eb12(n-1) + eb12(n-2)\n",
    "    \n",
    "    return eb12(n)"
   ]
  },
  {
   "cell_type": "code",
   "execution_count": 21,
   "id": "8bada4b6",
   "metadata": {},
   "outputs": [
    {
     "name": "stdout",
     "output_type": "stream",
     "text": [
      "Create a function to transform the time data as a string of \"XX:XX:XXam\" or \n",
      "\"XX:XX:XXpm\" to the number of seconds counted from 12:00am. For example, the \n",
      "input of \"10:35:29am\" gives an output of 38129; the input of 06:21:33pm gives \n",
      "an output of 66093.\n"
     ]
    },
    {
     "data": {
      "text/html": [
       "<div>\n",
       "<style scoped>\n",
       "    .dataframe tbody tr th:only-of-type {\n",
       "        vertical-align: middle;\n",
       "    }\n",
       "\n",
       "    .dataframe tbody tr th {\n",
       "        vertical-align: top;\n",
       "    }\n",
       "\n",
       "    .dataframe thead th {\n",
       "        text-align: right;\n",
       "    }\n",
       "</style>\n",
       "<table border=\"1\" class=\"dataframe\">\n",
       "  <thead>\n",
       "    <tr style=\"text-align: right;\">\n",
       "      <th></th>\n",
       "      <th>Input1: str</th>\n",
       "      <th>Output: int</th>\n",
       "    </tr>\n",
       "  </thead>\n",
       "  <tbody>\n",
       "    <tr>\n",
       "      <th>Test 1:</th>\n",
       "      <td>10:35:29am</td>\n",
       "      <td>38129</td>\n",
       "    </tr>\n",
       "    <tr>\n",
       "      <th>Test 1:</th>\n",
       "      <td>06:21:33pm</td>\n",
       "      <td>66093</td>\n",
       "    </tr>\n",
       "  </tbody>\n",
       "</table>\n",
       "</div>"
      ],
      "text/plain": [
       "        Input1: str Output: int\n",
       "Test 1:  10:35:29am       38129\n",
       "Test 1:  06:21:33pm       66093"
      ]
     },
     "metadata": {},
     "output_type": "display_data"
    },
    {
     "name": "stdout",
     "output_type": "stream",
     "text": [
      "\n",
      "\u001b[1mTime Conversiont: Easy\u001b[0;0m \n",
      "\n"
     ]
    }
   ],
   "source": [
    " print(eb[13])"
   ]
  },
  {
   "cell_type": "code",
   "execution_count": 5,
   "id": "b4582d0d",
   "metadata": {},
   "outputs": [],
   "source": [
    "def  eb13(s):\n",
    "    \n",
    "    \n",
    "    s1 = s.split(':')\n",
    "    \n",
    "    if s1[2][2:] ==  'am':\n",
    "        return int(s1[0])*60*60 + int(s1[1])*60 + int(s1[2][:2])\n",
    "    else:\n",
    "        return int(s1[0])*60*60 + int(s1[1])*60 + int(s1[2][:2]) + 12*60*60\n",
    "                                         \n",
    "                                   \n",
    "                                   \n",
    "                                \n",
    "        \n",
    "        "
   ]
  },
  {
   "cell_type": "code",
   "execution_count": 32,
   "id": "c3382b21",
   "metadata": {},
   "outputs": [
    {
     "name": "stdout",
     "output_type": "stream",
     "text": [
      "Reverse the digits of an integer. For example, if the input is 123, then the \n",
      "output is 321; if the input is -456, then the output is -654.\n"
     ]
    },
    {
     "data": {
      "text/html": [
       "<div>\n",
       "<style scoped>\n",
       "    .dataframe tbody tr th:only-of-type {\n",
       "        vertical-align: middle;\n",
       "    }\n",
       "\n",
       "    .dataframe tbody tr th {\n",
       "        vertical-align: top;\n",
       "    }\n",
       "\n",
       "    .dataframe thead th {\n",
       "        text-align: right;\n",
       "    }\n",
       "</style>\n",
       "<table border=\"1\" class=\"dataframe\">\n",
       "  <thead>\n",
       "    <tr style=\"text-align: right;\">\n",
       "      <th></th>\n",
       "      <th>Input1: int</th>\n",
       "      <th>Output: int</th>\n",
       "    </tr>\n",
       "  </thead>\n",
       "  <tbody>\n",
       "    <tr>\n",
       "      <th>Test 1:</th>\n",
       "      <td>123</td>\n",
       "      <td>321</td>\n",
       "    </tr>\n",
       "    <tr>\n",
       "      <th>Test 1:</th>\n",
       "      <td>-456</td>\n",
       "      <td>-654</td>\n",
       "    </tr>\n",
       "  </tbody>\n",
       "</table>\n",
       "</div>"
      ],
      "text/plain": [
       "        Input1: int Output: int\n",
       "Test 1:         123         321\n",
       "Test 1:        -456        -654"
      ]
     },
     "metadata": {},
     "output_type": "display_data"
    },
    {
     "name": "stdout",
     "output_type": "stream",
     "text": [
      "\n",
      "\u001b[1mReverse Digits: Easy\u001b[0;0m \n",
      "\n"
     ]
    }
   ],
   "source": [
    " print(eb[14])"
   ]
  },
  {
   "cell_type": "code",
   "execution_count": 69,
   "id": "f96224a7",
   "metadata": {},
   "outputs": [
    {
     "name": "stdout",
     "output_type": "stream",
     "text": [
      "-5678\n"
     ]
    }
   ],
   "source": [
    "#eb14\n",
    "num = -8765\n",
    "num = str(num)\n",
    "\n",
    "if int (num) > 0:\n",
    "    reverse = num[::-1]\n",
    "else:\n",
    "    reverse = num[0] + num[:-(len(num)):-1]\n",
    "\n",
    "print(reverse)"
   ]
  },
  {
   "cell_type": "code",
   "execution_count": 71,
   "id": "558ac19c",
   "metadata": {},
   "outputs": [
    {
     "name": "stdout",
     "output_type": "stream",
     "text": [
      "Create a function to remove all duplicates in a list, so that the output is a \n",
      "list containing the unique values of the original list. For example, if the \n",
      "input list is [2, 3, 5, 2, 3, 4, 7], then the output must be [2, 3, 5, 4, 7].\n"
     ]
    },
    {
     "data": {
      "text/html": [
       "<div>\n",
       "<style scoped>\n",
       "    .dataframe tbody tr th:only-of-type {\n",
       "        vertical-align: middle;\n",
       "    }\n",
       "\n",
       "    .dataframe tbody tr th {\n",
       "        vertical-align: top;\n",
       "    }\n",
       "\n",
       "    .dataframe thead th {\n",
       "        text-align: right;\n",
       "    }\n",
       "</style>\n",
       "<table border=\"1\" class=\"dataframe\">\n",
       "  <thead>\n",
       "    <tr style=\"text-align: right;\">\n",
       "      <th></th>\n",
       "      <th>Input1: list</th>\n",
       "      <th>Output: list</th>\n",
       "    </tr>\n",
       "  </thead>\n",
       "  <tbody>\n",
       "    <tr>\n",
       "      <th>Test 1:</th>\n",
       "      <td>[2, 3, 5, 2, 3, 4, 7]</td>\n",
       "      <td>[2, 3, 5, 4, 7]</td>\n",
       "    </tr>\n",
       "    <tr>\n",
       "      <th>Test 1:</th>\n",
       "      <td>[3.5, '4', '4', True, False, False]</td>\n",
       "      <td>[3.5, '4', True, False]</td>\n",
       "    </tr>\n",
       "  </tbody>\n",
       "</table>\n",
       "</div>"
      ],
      "text/plain": [
       "                                Input1: list             Output: list\n",
       "Test 1:                [2, 3, 5, 2, 3, 4, 7]          [2, 3, 5, 4, 7]\n",
       "Test 1:  [3.5, '4', '4', True, False, False]  [3.5, '4', True, False]"
      ]
     },
     "metadata": {},
     "output_type": "display_data"
    },
    {
     "name": "stdout",
     "output_type": "stream",
     "text": [
      "\n",
      "\u001b[1mUnique: Easy\u001b[0;0m \n",
      "\n"
     ]
    }
   ],
   "source": [
    " print(eb[15])"
   ]
  },
  {
   "cell_type": "code",
   "execution_count": 77,
   "id": "4e35cf3d",
   "metadata": {},
   "outputs": [
    {
     "name": "stdout",
     "output_type": "stream",
     "text": [
      "[3.5, '4', True, False]\n"
     ]
    }
   ],
   "source": [
    "# Remove Duplicates from a Python list using a List Comprehension\n",
    "duplicated_list = [1,1,2,1,3,4,1,2,3,4]\n",
    "test1 = [3.5, '4', '4', True, False, False]\n",
    "\n",
    "def eb15(my_list):\n",
    "    uniq_list = list()\n",
    "    [uniq_list.append(item) for item in my_list if item not in uniq_list]\n",
    "    \n",
    "    return(print(uniq_list))\n",
    "eb15(test1)"
   ]
  },
  {
   "cell_type": "code",
   "execution_count": 78,
   "id": "84cdd260",
   "metadata": {},
   "outputs": [
    {
     "name": "stdout",
     "output_type": "stream",
     "text": [
      "Create a function with the input argument to be a string. The output is the \n",
      "longest word in the string. For example, the input is a string \"NUS Business \n",
      "School is a magical place\", then the output is the string \"Business\". If\n",
      "there are two or more words with the same maximum length, then return the \n",
      "first one.\n"
     ]
    },
    {
     "data": {
      "text/html": [
       "<div>\n",
       "<style scoped>\n",
       "    .dataframe tbody tr th:only-of-type {\n",
       "        vertical-align: middle;\n",
       "    }\n",
       "\n",
       "    .dataframe tbody tr th {\n",
       "        vertical-align: top;\n",
       "    }\n",
       "\n",
       "    .dataframe thead th {\n",
       "        text-align: right;\n",
       "    }\n",
       "</style>\n",
       "<table border=\"1\" class=\"dataframe\">\n",
       "  <thead>\n",
       "    <tr style=\"text-align: right;\">\n",
       "      <th></th>\n",
       "      <th>Input1: str</th>\n",
       "      <th>Output: str</th>\n",
       "    </tr>\n",
       "  </thead>\n",
       "  <tbody>\n",
       "    <tr>\n",
       "      <th>Test 1:</th>\n",
       "      <td>NUS Business School is a magical place</td>\n",
       "      <td>Business</td>\n",
       "    </tr>\n",
       "    <tr>\n",
       "      <th>Test 1:</th>\n",
       "      <td>Simple is better than complex</td>\n",
       "      <td>complex</td>\n",
       "    </tr>\n",
       "  </tbody>\n",
       "</table>\n",
       "</div>"
      ],
      "text/plain": [
       "                                    Input1: str Output: str\n",
       "Test 1:  NUS Business School is a magical place    Business\n",
       "Test 1:           Simple is better than complex     complex"
      ]
     },
     "metadata": {},
     "output_type": "display_data"
    },
    {
     "name": "stdout",
     "output_type": "stream",
     "text": [
      "\n",
      "\u001b[1mLongest Word: Medium\u001b[0;0m \n",
      "\n"
     ]
    }
   ],
   "source": [
    " print(eb[16])"
   ]
  },
  {
   "cell_type": "code",
   "execution_count": 83,
   "id": "54206cf6",
   "metadata": {},
   "outputs": [
    {
     "name": "stdout",
     "output_type": "stream",
     "text": [
      "Longest String is  :  Business\n"
     ]
    }
   ],
   "source": [
    "#input test list\n",
    "list2 = \"NUS Business School is a magical place\"\n",
    "def eb16(my_string):\n",
    "    my_string = my_string.split(\" \")\n",
    "    res = max(my_string, key=len)\n",
    "    return(print(\"Longest String is  : \", res))\n",
    "\n",
    "eb16(list2)\n"
   ]
  },
  {
   "cell_type": "code",
   "execution_count": 4,
   "id": "9993581d",
   "metadata": {},
   "outputs": [
    {
     "name": "stdout",
     "output_type": "stream",
     "text": [
      "Create a function to return the length of the last word in a string. For \n",
      "example, if the input is \"NUS Business School is a magical place\", then the \n",
      "output is 5, the length of the last word \"place\". \n"
     ]
    },
    {
     "data": {
      "text/html": [
       "<div>\n",
       "<style scoped>\n",
       "    .dataframe tbody tr th:only-of-type {\n",
       "        vertical-align: middle;\n",
       "    }\n",
       "\n",
       "    .dataframe tbody tr th {\n",
       "        vertical-align: top;\n",
       "    }\n",
       "\n",
       "    .dataframe thead th {\n",
       "        text-align: right;\n",
       "    }\n",
       "</style>\n",
       "<table border=\"1\" class=\"dataframe\">\n",
       "  <thead>\n",
       "    <tr style=\"text-align: right;\">\n",
       "      <th></th>\n",
       "      <th>Input1: str</th>\n",
       "      <th>Output: int</th>\n",
       "    </tr>\n",
       "  </thead>\n",
       "  <tbody>\n",
       "    <tr>\n",
       "      <th>Test 1:</th>\n",
       "      <td>NUS Business School is a magical place</td>\n",
       "      <td>5</td>\n",
       "    </tr>\n",
       "    <tr>\n",
       "      <th>Test 1:</th>\n",
       "      <td>Take a sad song and make it better</td>\n",
       "      <td>6</td>\n",
       "    </tr>\n",
       "  </tbody>\n",
       "</table>\n",
       "</div>"
      ],
      "text/plain": [
       "                                    Input1: str Output: int\n",
       "Test 1:  NUS Business School is a magical place           5\n",
       "Test 1:      Take a sad song and make it better           6"
      ]
     },
     "metadata": {},
     "output_type": "display_data"
    },
    {
     "name": "stdout",
     "output_type": "stream",
     "text": [
      "\n",
      "\u001b[1mLast Word: Easy\u001b[0;0m \n",
      "\n"
     ]
    }
   ],
   "source": [
    "\n",
    "\n",
    "from exbook import book as eb\n",
    "\n",
    "len(eb)\n",
    "\n",
    "print(eb[17])"
   ]
  },
  {
   "cell_type": "code",
   "execution_count": 8,
   "id": "61e998a4",
   "metadata": {},
   "outputs": [
    {
     "name": "stdout",
     "output_type": "stream",
     "text": [
      "5\n"
     ]
    }
   ],
   "source": [
    "def eb17(my_string):\n",
    "    #splitting the string\n",
    "    words = my_string.split()\n",
    "    #slicing the list (negative index means index from the end)\n",
    "    #-1 means the last element of the list\n",
    "    return print(len(words[-1]))\n",
    "\n",
    "eb17(\"NUS Business School is a magical place\")"
   ]
  },
  {
   "cell_type": "code",
   "execution_count": 10,
   "id": "44f5e45d",
   "metadata": {},
   "outputs": [
    {
     "name": "stdout",
     "output_type": "stream",
     "text": [
      "Create a function to convert a list of scores to grades. Grade \"A\" accounts \n",
      "for scores no lower than 90; grade \"B\" accounts for scores between 80 to 89; \n",
      "and grade \"C\" accounts for scores between 70 and 79; scores lower than 70 \n",
      "are recorded as \"D\". For example, if the input is [85.5, 92, 45, 74, 79], \n",
      "then the output is [\"B\", \"A\", \"D\", \"C\", \"C\"]. \n"
     ]
    },
    {
     "data": {
      "text/html": [
       "<div>\n",
       "<style scoped>\n",
       "    .dataframe tbody tr th:only-of-type {\n",
       "        vertical-align: middle;\n",
       "    }\n",
       "\n",
       "    .dataframe tbody tr th {\n",
       "        vertical-align: top;\n",
       "    }\n",
       "\n",
       "    .dataframe thead th {\n",
       "        text-align: right;\n",
       "    }\n",
       "</style>\n",
       "<table border=\"1\" class=\"dataframe\">\n",
       "  <thead>\n",
       "    <tr style=\"text-align: right;\">\n",
       "      <th></th>\n",
       "      <th>Input1: list</th>\n",
       "      <th>Output: list</th>\n",
       "    </tr>\n",
       "  </thead>\n",
       "  <tbody>\n",
       "    <tr>\n",
       "      <th>Test 1:</th>\n",
       "      <td>[85.5, 92, 45, 74, 79]</td>\n",
       "      <td>['B', 'A', 'D', 'C', 'C']</td>\n",
       "    </tr>\n",
       "  </tbody>\n",
       "</table>\n",
       "</div>"
      ],
      "text/plain": [
       "                   Input1: list               Output: list\n",
       "Test 1:  [85.5, 92, 45, 74, 79]  ['B', 'A', 'D', 'C', 'C']"
      ]
     },
     "metadata": {},
     "output_type": "display_data"
    },
    {
     "name": "stdout",
     "output_type": "stream",
     "text": [
      "\n",
      "\u001b[1mGrade: Easy\u001b[0;0m \n",
      "\n"
     ]
    }
   ],
   "source": [
    "print(eb[18])"
   ]
  },
  {
   "cell_type": "code",
   "execution_count": 1,
   "id": "ba1b717e",
   "metadata": {},
   "outputs": [],
   "source": [
    "def eb18(l1):\n",
    "    out=[]\n",
    "    \n",
    "    for i in l1:\n",
    "        if i >=  90:\n",
    "            out.append('A')\n",
    "        elif i >=80:\n",
    "            out.append('B')\n",
    "        elif i >=  70:\n",
    "            out.append('C')\n",
    "        else:\n",
    "            out.append('D')\n",
    "    \n",
    "    return out\n",
    "        \n",
    "            \n",
    "    \n",
    "        "
   ]
  },
  {
   "cell_type": "code",
   "execution_count": 18,
   "id": "c9488e05",
   "metadata": {},
   "outputs": [
    {
     "name": "stdout",
     "output_type": "stream",
     "text": [
      "Create a function to grade bubble cards. The first input argument is list of \n",
      "answers to be graded, and the second input argument is a list of correct \n",
      "answers. The function compares these two lists, and returns the proportion \n",
      "of answers to be correct. For example, if the inputs are [\"A\", \"C\", \"B\", \"D\", \n",
      "\"A\", \"D\"] and [\"A\", \"B\", \"C\", \"D\", \"D\", \"D\"], then the output is 0.5 because \n",
      "half of the values are the same in these two lists.\n"
     ]
    },
    {
     "data": {
      "text/html": [
       "<div>\n",
       "<style scoped>\n",
       "    .dataframe tbody tr th:only-of-type {\n",
       "        vertical-align: middle;\n",
       "    }\n",
       "\n",
       "    .dataframe tbody tr th {\n",
       "        vertical-align: top;\n",
       "    }\n",
       "\n",
       "    .dataframe thead th {\n",
       "        text-align: right;\n",
       "    }\n",
       "</style>\n",
       "<table border=\"1\" class=\"dataframe\">\n",
       "  <thead>\n",
       "    <tr style=\"text-align: right;\">\n",
       "      <th></th>\n",
       "      <th>Input1: list</th>\n",
       "      <th>Input2: list</th>\n",
       "      <th>Output: float</th>\n",
       "    </tr>\n",
       "  </thead>\n",
       "  <tbody>\n",
       "    <tr>\n",
       "      <th>Test 1:</th>\n",
       "      <td>['A', 'C', 'B', 'D', 'A', 'D']</td>\n",
       "      <td>['A', 'B', 'C', 'D', 'D', 'D']</td>\n",
       "      <td>0.5</td>\n",
       "    </tr>\n",
       "    <tr>\n",
       "      <th>Test 1:</th>\n",
       "      <td>['A', 'B', 'C', 'D', 'D', 'D']</td>\n",
       "      <td>['A', 'B', 'C', 'D', 'D', 'D']</td>\n",
       "      <td>1.0</td>\n",
       "    </tr>\n",
       "  </tbody>\n",
       "</table>\n",
       "</div>"
      ],
      "text/plain": [
       "                           Input1: list                    Input2: list  \\\n",
       "Test 1:  ['A', 'C', 'B', 'D', 'A', 'D']  ['A', 'B', 'C', 'D', 'D', 'D']   \n",
       "Test 1:  ['A', 'B', 'C', 'D', 'D', 'D']  ['A', 'B', 'C', 'D', 'D', 'D']   \n",
       "\n",
       "        Output: float  \n",
       "Test 1:           0.5  \n",
       "Test 1:           1.0  "
      ]
     },
     "metadata": {},
     "output_type": "display_data"
    },
    {
     "name": "stdout",
     "output_type": "stream",
     "text": [
      "\n",
      "\u001b[1mBubble Card: Easy\u001b[0;0m \n",
      "\n"
     ]
    }
   ],
   "source": [
    " print(eb[19])"
   ]
  },
  {
   "cell_type": "code",
   "execution_count": 24,
   "id": "83f02c65",
   "metadata": {},
   "outputs": [],
   "source": [
    "def eb19(l1, l2):\n",
    "    count = 0 \n",
    "    for i,j in zip(l1,l2):\n",
    "        if i == j:\n",
    "            count += 1 # count = count + 1\n",
    "    return  count/len(l1)\n",
    "  "
   ]
  },
  {
   "cell_type": "code",
   "execution_count": 26,
   "id": "6e80282a",
   "metadata": {},
   "outputs": [
    {
     "name": "stdout",
     "output_type": "stream",
     "text": [
      "For a sequence of numbers in a list, create a new list containing the \n",
      "squares of all non-negative numbers, and cubes of all negative numbers. \n",
      "For example, if the input is [1, 2, 3, -4, -5, 6], then the output is \n",
      "[1, 4, 9, -64, -125, 36]. As a practice, please use list comprehension.\n"
     ]
    },
    {
     "data": {
      "text/html": [
       "<div>\n",
       "<style scoped>\n",
       "    .dataframe tbody tr th:only-of-type {\n",
       "        vertical-align: middle;\n",
       "    }\n",
       "\n",
       "    .dataframe tbody tr th {\n",
       "        vertical-align: top;\n",
       "    }\n",
       "\n",
       "    .dataframe thead th {\n",
       "        text-align: right;\n",
       "    }\n",
       "</style>\n",
       "<table border=\"1\" class=\"dataframe\">\n",
       "  <thead>\n",
       "    <tr style=\"text-align: right;\">\n",
       "      <th></th>\n",
       "      <th>Input1: list</th>\n",
       "      <th>Output: list</th>\n",
       "    </tr>\n",
       "  </thead>\n",
       "  <tbody>\n",
       "    <tr>\n",
       "      <th>Test 1:</th>\n",
       "      <td>[1, 2, 3, -4, -5, 6]</td>\n",
       "      <td>[1, 4, 9, -64, -125, 36]</td>\n",
       "    </tr>\n",
       "  </tbody>\n",
       "</table>\n",
       "</div>"
      ],
      "text/plain": [
       "                 Input1: list              Output: list\n",
       "Test 1:  [1, 2, 3, -4, -5, 6]  [1, 4, 9, -64, -125, 36]"
      ]
     },
     "metadata": {},
     "output_type": "display_data"
    },
    {
     "name": "stdout",
     "output_type": "stream",
     "text": [
      "\n",
      "\u001b[1mSquares And Cubes: Easy\u001b[0;0m \n",
      "\n"
     ]
    }
   ],
   "source": [
    " print(eb[20])"
   ]
  },
  {
   "cell_type": "code",
   "execution_count": 48,
   "id": "7e9299b2",
   "metadata": {},
   "outputs": [
    {
     "name": "stdout",
     "output_type": "stream",
     "text": [
      "[1, 4, 9, -64, -125, 36]\n"
     ]
    }
   ],
   "source": [
    "eb20 = [1,2,3,-4,-5,6]\n",
    "\n",
    "results = [i**2 if i > 0 else i**3 for i in eb20]\n",
    "\n",
    "print(results)"
   ]
  },
  {
   "cell_type": "code",
   "execution_count": 49,
   "id": "a3dbfe12",
   "metadata": {},
   "outputs": [
    {
     "name": "stdout",
     "output_type": "stream",
     "text": [
      "Create a function to present the unique values in a given list and the number \n",
      "of their appearances. The output of the function is a dictionary where the \n",
      "keys are the unique values, and the associated values are the number of their \n",
      "appearances. For example, if the inputs are [\"A\", \"C\", \"B\", \"D\", \"A\", \"D\"] \n",
      "then the output is {\"A\": 2, \"C\": 1, \"B\": 1, \"D\": 2}.\n"
     ]
    },
    {
     "data": {
      "text/html": [
       "<div>\n",
       "<style scoped>\n",
       "    .dataframe tbody tr th:only-of-type {\n",
       "        vertical-align: middle;\n",
       "    }\n",
       "\n",
       "    .dataframe tbody tr th {\n",
       "        vertical-align: top;\n",
       "    }\n",
       "\n",
       "    .dataframe thead th {\n",
       "        text-align: right;\n",
       "    }\n",
       "</style>\n",
       "<table border=\"1\" class=\"dataframe\">\n",
       "  <thead>\n",
       "    <tr style=\"text-align: right;\">\n",
       "      <th></th>\n",
       "      <th>Input1: list</th>\n",
       "      <th>Output: dict</th>\n",
       "    </tr>\n",
       "  </thead>\n",
       "  <tbody>\n",
       "    <tr>\n",
       "      <th>Test 1:</th>\n",
       "      <td>['A', 'C', 'B', 'D', 'A', 'D']</td>\n",
       "      <td>{'A': 2, 'C': 1, 'B': 1, 'D': 2}</td>\n",
       "    </tr>\n",
       "  </tbody>\n",
       "</table>\n",
       "</div>"
      ],
      "text/plain": [
       "                           Input1: list                      Output: dict\n",
       "Test 1:  ['A', 'C', 'B', 'D', 'A', 'D']  {'A': 2, 'C': 1, 'B': 1, 'D': 2}"
      ]
     },
     "metadata": {},
     "output_type": "display_data"
    },
    {
     "name": "stdout",
     "output_type": "stream",
     "text": [
      "[\n",
      "\u001b[1mValue Counts: Medium\u001b[0;0m \n",
      "]\n"
     ]
    }
   ],
   "source": [
    " print([eb[21]])"
   ]
  },
  {
   "cell_type": "code",
   "execution_count": 59,
   "id": "fd573aba",
   "metadata": {},
   "outputs": [
    {
     "data": {
      "text/plain": [
       "{'A': 2, 'C': 1, 'B': 1, 'D': 2}"
      ]
     },
     "execution_count": 59,
     "metadata": {},
     "output_type": "execute_result"
    }
   ],
   "source": [
    "\n",
    "Test1 = [\"A\", \"C\", \"B\", \"D\", \"A\", \"D\"]\n",
    "def eb21(my_list):\n",
    "        a = my_list\n",
    "        my_count_set = {}\n",
    "        for i in a:\n",
    "            number = a.count(i)\n",
    "            my_count_set.update({i :number})\n",
    "            \n",
    "        return(my_count_set)\n",
    "        \n",
    "(Test1)"
   ]
  },
  {
   "cell_type": "markdown",
   "id": "bd489940",
   "metadata": {},
   "source": []
  },
  {
   "cell_type": "code",
   "execution_count": 61,
   "id": "3fd8d4ef",
   "metadata": {},
   "outputs": [
    {
     "name": "stdout",
     "output_type": "stream",
     "text": [
      "Write a function to sort a list from the smallest value to the largest value. \n",
      "For example, if the input is [3.5, 2.1, 2.1, 3.4, 2.8, 1.2], the output is \n",
      "[1.2, 2.1, 2.1, 2.8, 3.4, 3.5]. As a practice, do not use the build-in \n",
      "function sort.\n"
     ]
    },
    {
     "data": {
      "text/html": [
       "<div>\n",
       "<style scoped>\n",
       "    .dataframe tbody tr th:only-of-type {\n",
       "        vertical-align: middle;\n",
       "    }\n",
       "\n",
       "    .dataframe tbody tr th {\n",
       "        vertical-align: top;\n",
       "    }\n",
       "\n",
       "    .dataframe thead th {\n",
       "        text-align: right;\n",
       "    }\n",
       "</style>\n",
       "<table border=\"1\" class=\"dataframe\">\n",
       "  <thead>\n",
       "    <tr style=\"text-align: right;\">\n",
       "      <th></th>\n",
       "      <th>Input1: list</th>\n",
       "      <th>Output: list</th>\n",
       "    </tr>\n",
       "  </thead>\n",
       "  <tbody>\n",
       "    <tr>\n",
       "      <th>Test 1:</th>\n",
       "      <td>[3.5, 2.1, 2.2, 1.6, 0.8, 3.9, 2.5]</td>\n",
       "      <td>[0.8, 1.6, 2.1, 2.2, 2.5, 3.5, 3.9]</td>\n",
       "    </tr>\n",
       "  </tbody>\n",
       "</table>\n",
       "</div>"
      ],
      "text/plain": [
       "                                Input1: list  \\\n",
       "Test 1:  [3.5, 2.1, 2.2, 1.6, 0.8, 3.9, 2.5]   \n",
       "\n",
       "                                Output: list  \n",
       "Test 1:  [0.8, 1.6, 2.1, 2.2, 2.5, 3.5, 3.9]  "
      ]
     },
     "metadata": {},
     "output_type": "display_data"
    },
    {
     "name": "stdout",
     "output_type": "stream",
     "text": [
      "\n",
      "\u001b[1mSort: Hard\u001b[0;0m \n",
      "\n"
     ]
    }
   ],
   "source": [
    "print(eb[22])"
   ]
  },
  {
   "cell_type": "code",
   "execution_count": 62,
   "id": "dd9b50d6",
   "metadata": {},
   "outputs": [
    {
     "name": "stdout",
     "output_type": "stream",
     "text": [
      "***Sorting Numpy Array in Ascending Order***\n",
      "Original Array           =  [3.5, 2.1, 2.2, 1.6, 0.8, 3.9, 2.5]\n",
      "Array in Ascending Order =  [0.8, 1.6, 2.1, 2.2, 2.5, 3.5, 3.9]\n"
     ]
    }
   ],
   "source": [
    "my_list = [3.5, 2.1, 2.2, 1.6, 0.8, 3.9, 2.5]\n",
    "\n",
    "# Python Program to Sort Array in Ascending Order using for loop and functions\n",
    "\n",
    "def my_list_ascend( my_list):\n",
    "    length = len(my_list)\n",
    "\n",
    "    for i in range(length):\n",
    "        for j in range(i + 1, length):\n",
    "            if (my_list[i] > my_list[j]):\n",
    "                temp = my_list[i]\n",
    "                my_list[i] = my_list[j]\n",
    "                my_list[j] = temp\n",
    "\n",
    "\n",
    "print(\"***Sorting Numpy Array in Ascending Order***\")\n",
    "print(\"Original Array           = \", my_list)\n",
    "\n",
    "my_list_ascend(my_list)\n",
    "print(\"Array in Ascending Order = \", my_list)\n"
   ]
  },
  {
   "cell_type": "code",
   "execution_count": 1,
   "id": "9c9b8e44",
   "metadata": {},
   "outputs": [
    {
     "name": "stdout",
     "output_type": "stream",
     "text": [
      "Write a function with one argument n, to return the nth row of the Pascal's \n",
      "triangle. For example, if n=1, the output is [1]; if n=2, then the output is \n",
      "[1, 1]; if n=3, then the output is [1, 2, 1]; if n=4, then the output is [1, \n",
      "3, 3, 1]. \n"
     ]
    },
    {
     "data": {
      "text/html": [
       "<div>\n",
       "<style scoped>\n",
       "    .dataframe tbody tr th:only-of-type {\n",
       "        vertical-align: middle;\n",
       "    }\n",
       "\n",
       "    .dataframe tbody tr th {\n",
       "        vertical-align: top;\n",
       "    }\n",
       "\n",
       "    .dataframe thead th {\n",
       "        text-align: right;\n",
       "    }\n",
       "</style>\n",
       "<table border=\"1\" class=\"dataframe\">\n",
       "  <thead>\n",
       "    <tr style=\"text-align: right;\">\n",
       "      <th></th>\n",
       "      <th>Input1: int</th>\n",
       "      <th>Output: list</th>\n",
       "    </tr>\n",
       "  </thead>\n",
       "  <tbody>\n",
       "    <tr>\n",
       "      <th>Test 1:</th>\n",
       "      <td>3</td>\n",
       "      <td>[1, 2, 1]</td>\n",
       "    </tr>\n",
       "    <tr>\n",
       "      <th>Test 1:</th>\n",
       "      <td>5</td>\n",
       "      <td>[1, 4, 6, 4, 1]</td>\n",
       "    </tr>\n",
       "    <tr>\n",
       "      <th>Test 1:</th>\n",
       "      <td>10</td>\n",
       "      <td>[1, 9, 36, 84, 126, 126, 84, 36, 9, 1]</td>\n",
       "    </tr>\n",
       "  </tbody>\n",
       "</table>\n",
       "</div>"
      ],
      "text/plain": [
       "        Input1: int                            Output: list\n",
       "Test 1:           3                               [1, 2, 1]\n",
       "Test 1:           5                         [1, 4, 6, 4, 1]\n",
       "Test 1:          10  [1, 9, 36, 84, 126, 126, 84, 36, 9, 1]"
      ]
     },
     "metadata": {},
     "output_type": "display_data"
    },
    {
     "name": "stdout",
     "output_type": "stream",
     "text": [
      "\n",
      "\u001b[1mPascal Triangle: Hard\u001b[0;0m \n",
      "\n"
     ]
    }
   ],
   "source": [
    "from exbook import book as eb\n",
    "\n",
    "print(eb[23])"
   ]
  },
  {
   "cell_type": "code",
   "execution_count": 19,
   "id": "e65b7126",
   "metadata": {
    "scrolled": true
   },
   "outputs": [
    {
     "data": {
      "text/plain": [
       "[1, 9, 36, 84, 126, 126, 84, 36, 9, 1]"
      ]
     },
     "execution_count": 19,
     "metadata": {},
     "output_type": "execute_result"
    }
   ],
   "source": [
    "\n",
    "        \n",
    "def eb23(rows):\n",
    "    t = []\n",
    "    for i in range(rows):\n",
    "        t.append([])\n",
    "        t[i].append(1)\n",
    "        for j in range(1,i):\n",
    "            t[i].append(t[i-1][j-1]+t[i-1][j])\n",
    "        if i != 0:        \n",
    "            t[i].append(1)\n",
    "    return t[rows-1]\n",
    "\n",
    "eb23(10)\n",
    " \n",
    "    "
   ]
  },
  {
   "cell_type": "code",
   "execution_count": 9,
   "id": "2acef6a2",
   "metadata": {},
   "outputs": [
    {
     "name": "stdout",
     "output_type": "stream",
     "text": [
      "There are n stairs, a person standing at the bottom wants to reach the top \n",
      "of the stairs. This person can climb either 1 stair or 2 stairs at a time. \n",
      "Write a function with the input argument n to count the number of ways, the \n",
      "person can reach the top. For example, if n = 2, this person has 2 ways to \n",
      "getto the top; if n = 3, this person has 3 ways to get to the top; if n = 4, \n",
      "this person has 5 ways to get to the top.\n"
     ]
    },
    {
     "data": {
      "text/html": [
       "<div>\n",
       "<style scoped>\n",
       "    .dataframe tbody tr th:only-of-type {\n",
       "        vertical-align: middle;\n",
       "    }\n",
       "\n",
       "    .dataframe tbody tr th {\n",
       "        vertical-align: top;\n",
       "    }\n",
       "\n",
       "    .dataframe thead th {\n",
       "        text-align: right;\n",
       "    }\n",
       "</style>\n",
       "<table border=\"1\" class=\"dataframe\">\n",
       "  <thead>\n",
       "    <tr style=\"text-align: right;\">\n",
       "      <th></th>\n",
       "      <th>Input1: int</th>\n",
       "      <th>Output: int</th>\n",
       "    </tr>\n",
       "  </thead>\n",
       "  <tbody>\n",
       "    <tr>\n",
       "      <th>Test 1:</th>\n",
       "      <td>2</td>\n",
       "      <td>2</td>\n",
       "    </tr>\n",
       "    <tr>\n",
       "      <th>Test 1:</th>\n",
       "      <td>5</td>\n",
       "      <td>8</td>\n",
       "    </tr>\n",
       "    <tr>\n",
       "      <th>Test 1:</th>\n",
       "      <td>11</td>\n",
       "      <td>144</td>\n",
       "    </tr>\n",
       "  </tbody>\n",
       "</table>\n",
       "</div>"
      ],
      "text/plain": [
       "        Input1: int Output: int\n",
       "Test 1:           2           2\n",
       "Test 1:           5           8\n",
       "Test 1:          11         144"
      ]
     },
     "metadata": {},
     "output_type": "display_data"
    },
    {
     "name": "stdout",
     "output_type": "stream",
     "text": [
      "\n",
      "\u001b[1mStairs: Hard\u001b[0;0m \n",
      "\n"
     ]
    }
   ],
   "source": [
    "from exbook import book as eb\n",
    "\n",
    "print(eb[24])"
   ]
  },
  {
   "cell_type": "code",
   "execution_count": 10,
   "id": "ab4051ca",
   "metadata": {},
   "outputs": [
    {
     "name": "stdout",
     "output_type": "stream",
     "text": [
      "Given positive integers n and m as input arguments, write a function to \n",
      "select all positive integers that are no larger than n and the summations \n",
      "of all digits are the same as m. Return these selected integers as a list. \n",
      "For example, if n = 30 and m = 5, the returned output is [5, 14, 23], if \n",
      "n = 50 and m = 9, then returned output is [9, 18, 27, 36, 45]\n"
     ]
    },
    {
     "data": {
      "text/html": [
       "<div>\n",
       "<style scoped>\n",
       "    .dataframe tbody tr th:only-of-type {\n",
       "        vertical-align: middle;\n",
       "    }\n",
       "\n",
       "    .dataframe tbody tr th {\n",
       "        vertical-align: top;\n",
       "    }\n",
       "\n",
       "    .dataframe thead th {\n",
       "        text-align: right;\n",
       "    }\n",
       "</style>\n",
       "<table border=\"1\" class=\"dataframe\">\n",
       "  <thead>\n",
       "    <tr style=\"text-align: right;\">\n",
       "      <th></th>\n",
       "      <th>Input1: int</th>\n",
       "      <th>Input2: int</th>\n",
       "      <th>Output: list</th>\n",
       "    </tr>\n",
       "  </thead>\n",
       "  <tbody>\n",
       "    <tr>\n",
       "      <th>Test 1:</th>\n",
       "      <td>30</td>\n",
       "      <td>5</td>\n",
       "      <td>[5, 14, 23]</td>\n",
       "    </tr>\n",
       "    <tr>\n",
       "      <th>Test 1:</th>\n",
       "      <td>50</td>\n",
       "      <td>9</td>\n",
       "      <td>[9, 18, 27, 36, 45]</td>\n",
       "    </tr>\n",
       "  </tbody>\n",
       "</table>\n",
       "</div>"
      ],
      "text/plain": [
       "        Input1: int Input2: int         Output: list\n",
       "Test 1:          30           5          [5, 14, 23]\n",
       "Test 1:          50           9  [9, 18, 27, 36, 45]"
      ]
     },
     "metadata": {},
     "output_type": "display_data"
    },
    {
     "name": "stdout",
     "output_type": "stream",
     "text": [
      "\n",
      "\u001b[1mDigit Sum: Medium\u001b[0;0m \n",
      "\n"
     ]
    }
   ],
   "source": [
    "print(eb[25])"
   ]
  },
  {
   "cell_type": "code",
   "execution_count": 20,
   "id": "f77a60a2",
   "metadata": {},
   "outputs": [
    {
     "name": "stdout",
     "output_type": "stream",
     "text": [
      "Given a list of numbers as the input argument, write a function to return \n",
      "a list of numbers that only appear once in the list. For example, if the \n",
      "input is [1, 2, 1, 4, 3, 2, 0], then the  output is [4, 3, 0]; if the input \n",
      "is [1.5, 2, 2.0, 3.5, 1.5, 2], then the output is [3.5].\n"
     ]
    },
    {
     "data": {
      "text/html": [
       "<div>\n",
       "<style scoped>\n",
       "    .dataframe tbody tr th:only-of-type {\n",
       "        vertical-align: middle;\n",
       "    }\n",
       "\n",
       "    .dataframe tbody tr th {\n",
       "        vertical-align: top;\n",
       "    }\n",
       "\n",
       "    .dataframe thead th {\n",
       "        text-align: right;\n",
       "    }\n",
       "</style>\n",
       "<table border=\"1\" class=\"dataframe\">\n",
       "  <thead>\n",
       "    <tr style=\"text-align: right;\">\n",
       "      <th></th>\n",
       "      <th>Input1: list</th>\n",
       "      <th>Output: list</th>\n",
       "    </tr>\n",
       "  </thead>\n",
       "  <tbody>\n",
       "    <tr>\n",
       "      <th>Test 1:</th>\n",
       "      <td>[1, 2, 1, 4, 3, 2, 0]</td>\n",
       "      <td>[4, 3, 0]</td>\n",
       "    </tr>\n",
       "    <tr>\n",
       "      <th>Test 1:</th>\n",
       "      <td>[1.5, 2, 2.0, 3.5, 1.5, 2]</td>\n",
       "      <td>[3.5]</td>\n",
       "    </tr>\n",
       "  </tbody>\n",
       "</table>\n",
       "</div>"
      ],
      "text/plain": [
       "                       Input1: list Output: list\n",
       "Test 1:       [1, 2, 1, 4, 3, 2, 0]    [4, 3, 0]\n",
       "Test 1:  [1.5, 2, 2.0, 3.5, 1.5, 2]        [3.5]"
      ]
     },
     "metadata": {},
     "output_type": "display_data"
    },
    {
     "name": "stdout",
     "output_type": "stream",
     "text": [
      "\n",
      "\u001b[1mOne Appearance: Medium\u001b[0;0m \n",
      "\n"
     ]
    }
   ],
   "source": [
    "from exbook import book as eb\n",
    "print(eb[26])\n",
    "    \n",
    "    "
   ]
  },
  {
   "cell_type": "code",
   "execution_count": 15,
   "id": "d8bf3d65",
   "metadata": {},
   "outputs": [
    {
     "name": "stdout",
     "output_type": "stream",
     "text": [
      "[3.5]\n"
     ]
    }
   ],
   "source": [
    "test = [1.5,2,2.0,3.5,1.5,2]\n",
    "\n",
    "def eb26(my_list):\n",
    "    t = []\n",
    "    t = [x for x in my_list if my_list.count(x) == 1]\n",
    "    \n",
    "    return (print(t))\n",
    "eb26(test)              "
   ]
  },
  {
   "cell_type": "code",
   "execution_count": 1,
   "id": "192cd2b6",
   "metadata": {},
   "outputs": [
    {
     "name": "stdout",
     "output_type": "stream",
     "text": [
      "Given two strings as the input arguments, write a function to return the \n",
      "longest substring shared by these two input strings. For example, if the \n",
      "inputs are \"cdbabcde\" and \"babcffg\", then the output is \"abc\"; if the \n",
      "inputs are \"This is an apple\" and \"Check the app store\", then the output \n",
      "is \"app\". \n"
     ]
    },
    {
     "data": {
      "text/html": [
       "<div>\n",
       "<style scoped>\n",
       "    .dataframe tbody tr th:only-of-type {\n",
       "        vertical-align: middle;\n",
       "    }\n",
       "\n",
       "    .dataframe tbody tr th {\n",
       "        vertical-align: top;\n",
       "    }\n",
       "\n",
       "    .dataframe thead th {\n",
       "        text-align: right;\n",
       "    }\n",
       "</style>\n",
       "<table border=\"1\" class=\"dataframe\">\n",
       "  <thead>\n",
       "    <tr style=\"text-align: right;\">\n",
       "      <th></th>\n",
       "      <th>Input1: str</th>\n",
       "      <th>Input2: str</th>\n",
       "      <th>Output: str</th>\n",
       "    </tr>\n",
       "  </thead>\n",
       "  <tbody>\n",
       "    <tr>\n",
       "      <th>Test 1:</th>\n",
       "      <td>cdeabcde</td>\n",
       "      <td>babcffg</td>\n",
       "      <td>abc</td>\n",
       "    </tr>\n",
       "    <tr>\n",
       "      <th>Test 1:</th>\n",
       "      <td>This is an apple</td>\n",
       "      <td>Check the app store</td>\n",
       "      <td>app</td>\n",
       "    </tr>\n",
       "  </tbody>\n",
       "</table>\n",
       "</div>"
      ],
      "text/plain": [
       "              Input1: str          Input2: str Output: str\n",
       "Test 1:          cdeabcde              babcffg         abc\n",
       "Test 1:  This is an apple  Check the app store         app"
      ]
     },
     "metadata": {},
     "output_type": "display_data"
    },
    {
     "name": "stdout",
     "output_type": "stream",
     "text": [
      "\n",
      "\u001b[1mLongest Substring: Hard\u001b[0;0m \n",
      "\n"
     ]
    }
   ],
   "source": [
    "from exbook import book as eb\n",
    "print(eb[27])"
   ]
  },
  {
   "cell_type": "code",
   "execution_count": 2,
   "id": "80cda4aa",
   "metadata": {},
   "outputs": [
    {
     "name": "stdout",
     "output_type": "stream",
     "text": [
      "Given a string containing different types of parentheses, write a function \n",
      "to check if these parentheses matches. For example, if the input is \"(this \n",
      "is {a test})\", the output is True; if the input is \"(this is {a test)}\", \n",
      "then the output is False.\n"
     ]
    },
    {
     "data": {
      "text/html": [
       "<div>\n",
       "<style scoped>\n",
       "    .dataframe tbody tr th:only-of-type {\n",
       "        vertical-align: middle;\n",
       "    }\n",
       "\n",
       "    .dataframe tbody tr th {\n",
       "        vertical-align: top;\n",
       "    }\n",
       "\n",
       "    .dataframe thead th {\n",
       "        text-align: right;\n",
       "    }\n",
       "</style>\n",
       "<table border=\"1\" class=\"dataframe\">\n",
       "  <thead>\n",
       "    <tr style=\"text-align: right;\">\n",
       "      <th></th>\n",
       "      <th>Input1: str</th>\n",
       "      <th>Output: bool</th>\n",
       "    </tr>\n",
       "  </thead>\n",
       "  <tbody>\n",
       "    <tr>\n",
       "      <th>Test 1:</th>\n",
       "      <td>(this is {a test})</td>\n",
       "      <td>True</td>\n",
       "    </tr>\n",
       "    <tr>\n",
       "      <th>Test 1:</th>\n",
       "      <td>(this is {a test)}</td>\n",
       "      <td>False</td>\n",
       "    </tr>\n",
       "  </tbody>\n",
       "</table>\n",
       "</div>"
      ],
      "text/plain": [
       "                Input1: str Output: bool\n",
       "Test 1:  (this is {a test})         True\n",
       "Test 1:  (this is {a test)}        False"
      ]
     },
     "metadata": {},
     "output_type": "display_data"
    },
    {
     "name": "stdout",
     "output_type": "stream",
     "text": [
      "\n",
      "\u001b[1mMatch Parentheses:  Very Hard\u001b[0;0m \n",
      "\n"
     ]
    }
   ],
   "source": [
    " print(eb[28])"
   ]
  },
  {
   "cell_type": "code",
   "execution_count": 4,
   "id": "6f078654",
   "metadata": {},
   "outputs": [],
   "source": [
    "my_str = \"(this is {a test)}\"\n",
    "\n",
    "def eb28(s):\n",
    "    \n",
    "    \n",
    "    d = {'(': ')', '[': ']', '{': '}'}\n",
    "    \n",
    "    for i in s:\n",
    "        if i == '(' or i == '[' or i == '{':\n",
    "            for j in s[::-1]:\n",
    "                if j == ')' or j == ']' or j == '}':\n",
    "                    if j == d[i]:\n",
    "                        s = s.replace(i,'',1)\n",
    "                        s = s[::-1].replace(d[i], '', 1)[::-1]\n",
    "                        \n",
    "                        return eb28(s)\n",
    "                    \n",
    "                    else:\n",
    "                        return False\n",
    "    return True      \n",
    "    \n",
    "              "
   ]
  },
  {
   "cell_type": "code",
   "execution_count": 36,
   "id": "044d85bb",
   "metadata": {
    "scrolled": true
   },
   "outputs": [
    {
     "name": "stdout",
     "output_type": "stream",
     "text": [
      "Given a list of numbers as the input argument, write a function to move all \n",
      "zeros to the end of the list, while the order of the other numbers remain \n",
      "the same. For example, if the input is [0, 1, 0, 3, 12], then the output is \n",
      "[1, 3, 12, 0, 0]. \n"
     ]
    },
    {
     "data": {
      "text/html": [
       "<div>\n",
       "<style scoped>\n",
       "    .dataframe tbody tr th:only-of-type {\n",
       "        vertical-align: middle;\n",
       "    }\n",
       "\n",
       "    .dataframe tbody tr th {\n",
       "        vertical-align: top;\n",
       "    }\n",
       "\n",
       "    .dataframe thead th {\n",
       "        text-align: right;\n",
       "    }\n",
       "</style>\n",
       "<table border=\"1\" class=\"dataframe\">\n",
       "  <thead>\n",
       "    <tr style=\"text-align: right;\">\n",
       "      <th></th>\n",
       "      <th>Input1: list</th>\n",
       "      <th>Output: list</th>\n",
       "    </tr>\n",
       "  </thead>\n",
       "  <tbody>\n",
       "    <tr>\n",
       "      <th>Test 1:</th>\n",
       "      <td>[0, 1, 0, 3, 12]</td>\n",
       "      <td>[1, 3, 12, 0, 0]</td>\n",
       "    </tr>\n",
       "    <tr>\n",
       "      <th>Test 1:</th>\n",
       "      <td>[-4, -2, 1, 0, 0, 2, 0]</td>\n",
       "      <td>[-4, -2, 1, 2, 0, 0, 0]</td>\n",
       "    </tr>\n",
       "  </tbody>\n",
       "</table>\n",
       "</div>"
      ],
      "text/plain": [
       "                    Input1: list             Output: list\n",
       "Test 1:         [0, 1, 0, 3, 12]         [1, 3, 12, 0, 0]\n",
       "Test 1:  [-4, -2, 1, 0, 0, 2, 0]  [-4, -2, 1, 2, 0, 0, 0]"
      ]
     },
     "metadata": {},
     "output_type": "display_data"
    },
    {
     "name": "stdout",
     "output_type": "stream",
     "text": [
      "\n",
      "\u001b[1mMove Zeros: Easy\u001b[0;0m \n",
      "\n"
     ]
    }
   ],
   "source": [
    "from exbook import book as eb\n",
    "\n",
    "print(eb[29])"
   ]
  },
  {
   "cell_type": "code",
   "execution_count": 60,
   "id": "7fb6c7cc",
   "metadata": {},
   "outputs": [
    {
     "data": {
      "text/plain": [
       "[-4, -2, 1, 2, 0, 0, 0]"
      ]
     },
     "execution_count": 60,
     "metadata": {},
     "output_type": "execute_result"
    }
   ],
   "source": [
    "test1 = [-4,-2,1,0,0,2,0] \t\n",
    "\n",
    "def eb29(s):\n",
    "    a = []\n",
    "    b = []\n",
    "    \n",
    "    for i in s:\n",
    "        if i == 0:\n",
    "            a.append(i)\n",
    "        else:\n",
    "            b.append(i)\n",
    "    s = b + a\n",
    "    return(s)\n",
    "                \n",
    "eb29(test1)\n",
    "\n",
    "\n",
    "    "
   ]
  },
  {
   "cell_type": "code",
   "execution_count": 61,
   "id": "aa138ce0",
   "metadata": {},
   "outputs": [
    {
     "name": "stdout",
     "output_type": "stream",
     "text": [
      "Given two lists of sorted numbers as the input arguments, write a function to \n",
      "merge these two lists as one list, with all numbers sorted. For example, if \n",
      "the inputs are [1, 2, 4] and [1, 3, 4], then the output is [1, 1, 2, 3, 4, 4]. \n",
      "As a practicce, do not use the built-in method sort.\n"
     ]
    },
    {
     "data": {
      "text/html": [
       "<div>\n",
       "<style scoped>\n",
       "    .dataframe tbody tr th:only-of-type {\n",
       "        vertical-align: middle;\n",
       "    }\n",
       "\n",
       "    .dataframe tbody tr th {\n",
       "        vertical-align: top;\n",
       "    }\n",
       "\n",
       "    .dataframe thead th {\n",
       "        text-align: right;\n",
       "    }\n",
       "</style>\n",
       "<table border=\"1\" class=\"dataframe\">\n",
       "  <thead>\n",
       "    <tr style=\"text-align: right;\">\n",
       "      <th></th>\n",
       "      <th>Input1: list</th>\n",
       "      <th>Input2: list</th>\n",
       "      <th>Output: list</th>\n",
       "    </tr>\n",
       "  </thead>\n",
       "  <tbody>\n",
       "    <tr>\n",
       "      <th>Test 1:</th>\n",
       "      <td>[1, 2, 4]</td>\n",
       "      <td>[1, 3, 4]</td>\n",
       "      <td>[1, 1, 2, 3, 4, 4]</td>\n",
       "    </tr>\n",
       "  </tbody>\n",
       "</table>\n",
       "</div>"
      ],
      "text/plain": [
       "        Input1: list Input2: list        Output: list\n",
       "Test 1:    [1, 2, 4]    [1, 3, 4]  [1, 1, 2, 3, 4, 4]"
      ]
     },
     "metadata": {},
     "output_type": "display_data"
    },
    {
     "name": "stdout",
     "output_type": "stream",
     "text": [
      "\n",
      "\u001b[1mMerge Lists: Easy\u001b[0;0m \n",
      "\n"
     ]
    }
   ],
   "source": [
    " print(eb[30])"
   ]
  },
  {
   "cell_type": "code",
   "execution_count": 13,
   "id": "06bae3e6",
   "metadata": {},
   "outputs": [],
   "source": [
    "def eb30(s1,s2):\n",
    "    s =[]\n",
    "    s = s1 + s2\n",
    "    print(s)\n",
    "    for i in range(len(s)):\n",
    "        for j in (i+1, len(s)):\n",
    "            if(s[i] > s[j]):\n",
    "                temp = s[i]\n",
    "                s[i] = s[j]\n",
    "                s[j] = temp\n",
    "    \n",
    "    return(s)\n",
    "\n",
    "#eb30([1, 2 ,4],[1, 3, 4])   "
   ]
  },
  {
   "cell_type": "code",
   "execution_count": 85,
   "id": "061a8f28",
   "metadata": {},
   "outputs": [
    {
     "name": "stdout",
     "output_type": "stream",
     "text": [
      "[1, 2, 4, 1, 3, 4]\n"
     ]
    }
   ],
   "source": [
    " def addLIst(list1, list2):\n",
    "        s1 = [1, 2 ,4]\n",
    "        s2 = [1, 3, 4]\n",
    "        s = s1 +s2\n",
    "        return(print(s))\n",
    "addLIst( [1, 2 ,4], [1, 3, 4])  "
   ]
  },
  {
   "cell_type": "code",
   "execution_count": 104,
   "id": "71de1f6c",
   "metadata": {},
   "outputs": [
    {
     "name": "stdout",
     "output_type": "stream",
     "text": [
      "Given a list representing the prediction of stock prices in a number of days, \n",
      "design a function to find the maximum profit. For example, if the input list \n",
      "is [7, 1, 5, 3, 6, 4] then the profit is 4+3=7, because you can buy the stock \n",
      "on day 2 (price=1) and sell it on day 3 (price=5) so the profit is 4, then you \n",
      "can buy on day 4 (price=3) and sell it on day 5 (price=6) so the profit is 3. \n",
      "Note that you can make the buy and sell transcations in the same day, but you \n",
      "cannot buy the stock again before selling it, so if the given input list is \n",
      "[1, 2, 3, 4, 5] then the output is 5-1=4, or (2-1)+(3-2)+(4-3)+(5-4)=4.\n"
     ]
    },
    {
     "data": {
      "text/html": [
       "<div>\n",
       "<style scoped>\n",
       "    .dataframe tbody tr th:only-of-type {\n",
       "        vertical-align: middle;\n",
       "    }\n",
       "\n",
       "    .dataframe tbody tr th {\n",
       "        vertical-align: top;\n",
       "    }\n",
       "\n",
       "    .dataframe thead th {\n",
       "        text-align: right;\n",
       "    }\n",
       "</style>\n",
       "<table border=\"1\" class=\"dataframe\">\n",
       "  <thead>\n",
       "    <tr style=\"text-align: right;\">\n",
       "      <th></th>\n",
       "      <th>Input1: list</th>\n",
       "      <th>Output: int</th>\n",
       "    </tr>\n",
       "  </thead>\n",
       "  <tbody>\n",
       "    <tr>\n",
       "      <th>Test 1:</th>\n",
       "      <td>[7, 1, 5, 3, 6, 4]</td>\n",
       "      <td>7</td>\n",
       "    </tr>\n",
       "    <tr>\n",
       "      <th>Test 1:</th>\n",
       "      <td>[1, 2, 3, 4, 5]</td>\n",
       "      <td>4</td>\n",
       "    </tr>\n",
       "    <tr>\n",
       "      <th>Test 1:</th>\n",
       "      <td>[7, 6, 4, 3, 1]</td>\n",
       "      <td>0</td>\n",
       "    </tr>\n",
       "  </tbody>\n",
       "</table>\n",
       "</div>"
      ],
      "text/plain": [
       "               Input1: list Output: int\n",
       "Test 1:  [7, 1, 5, 3, 6, 4]           7\n",
       "Test 1:     [1, 2, 3, 4, 5]           4\n",
       "Test 1:     [7, 6, 4, 3, 1]           0"
      ]
     },
     "metadata": {},
     "output_type": "display_data"
    },
    {
     "name": "stdout",
     "output_type": "stream",
     "text": [
      "\n",
      "\u001b[1mTrading Decisions: Hard\u001b[0;0m \n",
      "\n"
     ]
    }
   ],
   "source": [
    "from exbook import book as eb\n",
    "    \n",
    "print(eb[31])"
   ]
  },
  {
   "cell_type": "code",
   "execution_count": 15,
   "id": "c4a2f890",
   "metadata": {},
   "outputs": [
    {
     "name": "stdout",
     "output_type": "stream",
     "text": [
      "Given a list representing the prediction of stock prices in a number of days, \n",
      "design a function to find the maximum profit. For example, if the input list \n",
      "is [7, 1, 5, 3, 6, 4] then the profit is 4+3=7, because you can buy the stock \n",
      "on day 2 (price=1) and sell it on day 3 (price=5) so the profit is 4, then you \n",
      "can buy on day 4 (price=3) and sell it on day 5 (price=6) so the profit is 3. \n",
      "Note that you can make the buy and sell transcations in the same day, but you \n",
      "cannot buy the stock again before selling it, so if the given input list is \n",
      "[1, 2, 3, 4, 5] then the output is 5-1=4, or (2-1)+(3-2)+(4-3)+(5-4)=4.\n"
     ]
    },
    {
     "data": {
      "text/html": [
       "<div>\n",
       "<style scoped>\n",
       "    .dataframe tbody tr th:only-of-type {\n",
       "        vertical-align: middle;\n",
       "    }\n",
       "\n",
       "    .dataframe tbody tr th {\n",
       "        vertical-align: top;\n",
       "    }\n",
       "\n",
       "    .dataframe thead th {\n",
       "        text-align: right;\n",
       "    }\n",
       "</style>\n",
       "<table border=\"1\" class=\"dataframe\">\n",
       "  <thead>\n",
       "    <tr style=\"text-align: right;\">\n",
       "      <th></th>\n",
       "      <th>Input1: list</th>\n",
       "      <th>Output: int</th>\n",
       "    </tr>\n",
       "  </thead>\n",
       "  <tbody>\n",
       "    <tr>\n",
       "      <th>Test 1:</th>\n",
       "      <td>[7, 1, 5, 3, 6, 4]</td>\n",
       "      <td>7</td>\n",
       "    </tr>\n",
       "    <tr>\n",
       "      <th>Test 1:</th>\n",
       "      <td>[1, 2, 3, 4, 5]</td>\n",
       "      <td>4</td>\n",
       "    </tr>\n",
       "    <tr>\n",
       "      <th>Test 1:</th>\n",
       "      <td>[7, 6, 4, 3, 1]</td>\n",
       "      <td>0</td>\n",
       "    </tr>\n",
       "  </tbody>\n",
       "</table>\n",
       "</div>"
      ],
      "text/plain": [
       "               Input1: list Output: int\n",
       "Test 1:  [7, 1, 5, 3, 6, 4]           7\n",
       "Test 1:     [1, 2, 3, 4, 5]           4\n",
       "Test 1:     [7, 6, 4, 3, 1]           0"
      ]
     },
     "metadata": {},
     "output_type": "display_data"
    },
    {
     "name": "stdout",
     "output_type": "stream",
     "text": [
      "\n",
      "\u001b[1mTrading Decisions: Hard\u001b[0;0m \n",
      "\n"
     ]
    }
   ],
   "source": [
    "from exbook import book as eb\n",
    "print(eb[31])\n"
   ]
  },
  {
   "cell_type": "code",
   "execution_count": 16,
   "id": "8f26878c",
   "metadata": {},
   "outputs": [
    {
     "name": "stdout",
     "output_type": "stream",
     "text": [
      "At a lemonade stand, each lemonade costs $5. Customers are standing in a queue\n",
      "to buy from you, and order one at a time. Each customer will only buy one \n",
      "lemonade and pay with either a $5, $10, or $20 bill, and these payments are \n",
      "kept in a listas the input argument. You must provide the correct change to \n",
      "each customer, so that the net transaction is that the customer pays $5. Note \n",
      "that you don't have any change in hand at first. Return True if and only if \n",
      "you can provide every customer with the correct change, otherwise False. For\n",
      "example, if the input is [5, 5, 5, 10, 20], then the output is Ture, because \n",
      "we collected three $5 bills to pay back the subsequent customers. If the input \n",
      "is [10, 10], then the output is False, because there is no way to pay back \n",
      "the customers. \n"
     ]
    },
    {
     "data": {
      "text/html": [
       "<div>\n",
       "<style scoped>\n",
       "    .dataframe tbody tr th:only-of-type {\n",
       "        vertical-align: middle;\n",
       "    }\n",
       "\n",
       "    .dataframe tbody tr th {\n",
       "        vertical-align: top;\n",
       "    }\n",
       "\n",
       "    .dataframe thead th {\n",
       "        text-align: right;\n",
       "    }\n",
       "</style>\n",
       "<table border=\"1\" class=\"dataframe\">\n",
       "  <thead>\n",
       "    <tr style=\"text-align: right;\">\n",
       "      <th></th>\n",
       "      <th>Input1: list</th>\n",
       "      <th>Output: bool</th>\n",
       "    </tr>\n",
       "  </thead>\n",
       "  <tbody>\n",
       "    <tr>\n",
       "      <th>Test 1:</th>\n",
       "      <td>[5, 5, 5, 10, 20]</td>\n",
       "      <td>True</td>\n",
       "    </tr>\n",
       "    <tr>\n",
       "      <th>Test 1:</th>\n",
       "      <td>[10, 10]</td>\n",
       "      <td>False</td>\n",
       "    </tr>\n",
       "    <tr>\n",
       "      <th>Test 1:</th>\n",
       "      <td>[5, 10, 20, 5, 5, 10]</td>\n",
       "      <td>False</td>\n",
       "    </tr>\n",
       "  </tbody>\n",
       "</table>\n",
       "</div>"
      ],
      "text/plain": [
       "                  Input1: list Output: bool\n",
       "Test 1:      [5, 5, 5, 10, 20]         True\n",
       "Test 1:               [10, 10]        False\n",
       "Test 1:  [5, 10, 20, 5, 5, 10]        False"
      ]
     },
     "metadata": {},
     "output_type": "display_data"
    },
    {
     "name": "stdout",
     "output_type": "stream",
     "text": [
      "\n",
      "\u001b[1mLemonade Stand: Hard\u001b[0;0m \n",
      "\n"
     ]
    }
   ],
   "source": [
    "print(eb[32])"
   ]
  },
  {
   "cell_type": "code",
   "execution_count": 17,
   "id": "38c7f6c7",
   "metadata": {},
   "outputs": [
    {
     "name": "stdout",
     "output_type": "stream",
     "text": [
      "An array is monotonic if it is either monotone increasing or monotone \n",
      "decreasing. A list a is monotone increasing if for all i <= j, a[i] <= a[j]. \n",
      "A list a is monotone decreasing if for all i <= j, a[i] >= a[j]. Write a \n",
      "function to return Trueif and only if the given input list is monotonic. For\n",
      "example, if the input is [1,2,2,3], then the output is True. If the input is \n",
      "[1,3,2], then the output is False.\n"
     ]
    },
    {
     "data": {
      "text/html": [
       "<div>\n",
       "<style scoped>\n",
       "    .dataframe tbody tr th:only-of-type {\n",
       "        vertical-align: middle;\n",
       "    }\n",
       "\n",
       "    .dataframe tbody tr th {\n",
       "        vertical-align: top;\n",
       "    }\n",
       "\n",
       "    .dataframe thead th {\n",
       "        text-align: right;\n",
       "    }\n",
       "</style>\n",
       "<table border=\"1\" class=\"dataframe\">\n",
       "  <thead>\n",
       "    <tr style=\"text-align: right;\">\n",
       "      <th></th>\n",
       "      <th>Input1: list</th>\n",
       "      <th>Output: bool</th>\n",
       "    </tr>\n",
       "  </thead>\n",
       "  <tbody>\n",
       "    <tr>\n",
       "      <th>Test 1:</th>\n",
       "      <td>[1, 2, 2, 3]</td>\n",
       "      <td>True</td>\n",
       "    </tr>\n",
       "    <tr>\n",
       "      <th>Test 1:</th>\n",
       "      <td>[6, 5, 4, 4]</td>\n",
       "      <td>True</td>\n",
       "    </tr>\n",
       "    <tr>\n",
       "      <th>Test 1:</th>\n",
       "      <td>[1, 3, 2]</td>\n",
       "      <td>False</td>\n",
       "    </tr>\n",
       "  </tbody>\n",
       "</table>\n",
       "</div>"
      ],
      "text/plain": [
       "         Input1: list Output: bool\n",
       "Test 1:  [1, 2, 2, 3]         True\n",
       "Test 1:  [6, 5, 4, 4]         True\n",
       "Test 1:     [1, 3, 2]        False"
      ]
     },
     "metadata": {},
     "output_type": "display_data"
    },
    {
     "name": "stdout",
     "output_type": "stream",
     "text": [
      "\n",
      "\u001b[1mMonotnoe Trend: Medium\u001b[0;0m \n",
      "\n"
     ]
    }
   ],
   "source": [
    "print(eb[33])"
   ]
  },
  {
   "cell_type": "code",
   "execution_count": 20,
   "id": "0eff884c",
   "metadata": {},
   "outputs": [],
   "source": [
    "def eb33A(s1):\n",
    "    s =[]\n",
    "    for i in range(len(s)):\n",
    "        for j in (i+1, len(s)):\n",
    "            if(s[i] > s[j]):\n",
    "                temp = s[i]\n",
    "                s[i] = s[j]\n",
    "                s[j] = temp\n",
    "    \n",
    "    return(s)\n",
    "\n",
    "def eb33D(s1):\n",
    "    s =[]\n",
    "    for i in range(len(s)):\n",
    "        for j in (i+1, len(s)):\n",
    "            if(s[i] < s[j]):\n",
    "                temp = s[i]\n",
    "                s[i] = s[j]\n",
    "                s[j] = temp\n",
    "    \n",
    "    return(s)\n",
    "\n",
    "def eb33AD(s1):\n",
    "    if istrue(eb33D(s1))or istrue(eb33D(s1)):\n",
    "        return True\n",
    "    else:\n",
    "        return False\n",
    "    "
   ]
  },
  {
   "cell_type": "code",
   "execution_count": 21,
   "id": "d947d694",
   "metadata": {},
   "outputs": [
    {
     "name": "stdout",
     "output_type": "stream",
     "text": [
      "Given a nested list of integers, implement an iterator to flatten it. Each \n",
      "element is either an integer, or a list -- whose elements may also be integers \n",
      "or other lists. For example, if the input is [[1,1],2,[1,1]], then the output \n",
      "is [1, 1, 2, 1, 1]. If the input is [1,[4,[6]]], then the output is [1, 4, 6]. \n"
     ]
    },
    {
     "data": {
      "text/html": [
       "<div>\n",
       "<style scoped>\n",
       "    .dataframe tbody tr th:only-of-type {\n",
       "        vertical-align: middle;\n",
       "    }\n",
       "\n",
       "    .dataframe tbody tr th {\n",
       "        vertical-align: top;\n",
       "    }\n",
       "\n",
       "    .dataframe thead th {\n",
       "        text-align: right;\n",
       "    }\n",
       "</style>\n",
       "<table border=\"1\" class=\"dataframe\">\n",
       "  <thead>\n",
       "    <tr style=\"text-align: right;\">\n",
       "      <th></th>\n",
       "      <th>Input1: list</th>\n",
       "      <th>Output: list</th>\n",
       "    </tr>\n",
       "  </thead>\n",
       "  <tbody>\n",
       "    <tr>\n",
       "      <th>Test 1:</th>\n",
       "      <td>[[1, 1], 2, [1, 1]]</td>\n",
       "      <td>[1, 1, 2, 1, 1]</td>\n",
       "    </tr>\n",
       "    <tr>\n",
       "      <th>Test 1:</th>\n",
       "      <td>[1, [4, [6]]]</td>\n",
       "      <td>[1, 4, 6]</td>\n",
       "    </tr>\n",
       "  </tbody>\n",
       "</table>\n",
       "</div>"
      ],
      "text/plain": [
       "                Input1: list     Output: list\n",
       "Test 1:  [[1, 1], 2, [1, 1]]  [1, 1, 2, 1, 1]\n",
       "Test 1:        [1, [4, [6]]]        [1, 4, 6]"
      ]
     },
     "metadata": {},
     "output_type": "display_data"
    },
    {
     "name": "stdout",
     "output_type": "stream",
     "text": [
      "\n",
      "\u001b[1mFlatten Lists: Hard\u001b[0;0m \n",
      "\n"
     ]
    }
   ],
   "source": [
    "print(eb[34])"
   ]
  },
  {
   "cell_type": "code",
   "execution_count": 22,
   "id": "cf68022c",
   "metadata": {},
   "outputs": [
    {
     "name": "stdout",
     "output_type": "stream",
     "text": [
      "Given a list of daily temperatures T, return a list such that, for each day \n",
      "in the input, tells you how many days you would have to wait until a warmer \n",
      "temperature. If there is no future day for which this is possible, put 0 \n",
      "instead. For example, given the list of temperatures T = [73, 74, 75, 71, \n",
      "69, 72, 76, 73], your output should be [1, 1, 4, 2, 1, 1, 0, 0].\n"
     ]
    },
    {
     "data": {
      "text/html": [
       "<div>\n",
       "<style scoped>\n",
       "    .dataframe tbody tr th:only-of-type {\n",
       "        vertical-align: middle;\n",
       "    }\n",
       "\n",
       "    .dataframe tbody tr th {\n",
       "        vertical-align: top;\n",
       "    }\n",
       "\n",
       "    .dataframe thead th {\n",
       "        text-align: right;\n",
       "    }\n",
       "</style>\n",
       "<table border=\"1\" class=\"dataframe\">\n",
       "  <thead>\n",
       "    <tr style=\"text-align: right;\">\n",
       "      <th></th>\n",
       "      <th>Input1: list</th>\n",
       "      <th>Output: list</th>\n",
       "    </tr>\n",
       "  </thead>\n",
       "  <tbody>\n",
       "    <tr>\n",
       "      <th>Test 1:</th>\n",
       "      <td>[73, 74, 75, 71, 69, 72, 76, 73]</td>\n",
       "      <td>[1, 1, 4, 2, 1, 1, 0, 0]</td>\n",
       "    </tr>\n",
       "  </tbody>\n",
       "</table>\n",
       "</div>"
      ],
      "text/plain": [
       "                             Input1: list              Output: list\n",
       "Test 1:  [73, 74, 75, 71, 69, 72, 76, 73]  [1, 1, 4, 2, 1, 1, 0, 0]"
      ]
     },
     "metadata": {},
     "output_type": "display_data"
    },
    {
     "name": "stdout",
     "output_type": "stream",
     "text": [
      "\n",
      "\u001b[1mWarmer Temperature: Medium\u001b[0;0m \n",
      "\n"
     ]
    }
   ],
   "source": [
    "print(eb[35])"
   ]
  },
  {
   "cell_type": "code",
   "execution_count": 24,
   "id": "89afb11e",
   "metadata": {},
   "outputs": [],
   "source": [
    "def eb35(l1):\n",
    "    s = l1\n",
    "    out = []\n",
    "    count =0\n",
    "    days =0\n",
    "    for i in range(len(s)):\n",
    "        for j in range(i+1, len(s)):\n",
    "            if s[i] > s[j]:\n",
    "                days =s[i] - s[j]\n",
    "                out.append(days)\n",
    "            else:\n",
    "                days = 0\n",
    "                out.append(days)\n",
    "        return(out)\n",
    "            \n",
    "    "
   ]
  },
  {
   "cell_type": "code",
   "execution_count": null,
   "id": "7cac80d8",
   "metadata": {},
   "outputs": [],
   "source": []
  },
  {
   "cell_type": "code",
   "execution_count": null,
   "id": "3d1b0683",
   "metadata": {},
   "outputs": [],
   "source": []
  }
 ],
 "metadata": {
  "kernelspec": {
   "display_name": "Python 3 (ipykernel)",
   "language": "python",
   "name": "python3"
  },
  "language_info": {
   "codemirror_mode": {
    "name": "ipython",
    "version": 3
   },
   "file_extension": ".py",
   "mimetype": "text/x-python",
   "name": "python",
   "nbconvert_exporter": "python",
   "pygments_lexer": "ipython3",
   "version": "3.9.12"
  }
 },
 "nbformat": 4,
 "nbformat_minor": 5
}
