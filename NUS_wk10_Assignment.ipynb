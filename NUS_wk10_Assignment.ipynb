{
 "cells": [
  {
   "cell_type": "code",
   "execution_count": 11,
   "id": "3d5cb548",
   "metadata": {},
   "outputs": [
    {
     "data": {
      "text/plain": [
       "array([-0.37529147, -1.47558584, -1.90016446,  0.72508302, -0.25112404])"
      ]
     },
     "execution_count": 11,
     "metadata": {},
     "output_type": "execute_result"
    }
   ],
   "source": [
    "import numpy as np\n",
    "import pandas as pd\n",
    "import matplotlib.pyplot as plt\n",
    "from numpy.random import seed\n",
    "from numpy.random import normal\n",
    "\n",
    "def posit_norm(mean, std, size):\n",
    "    \n",
    "\n",
    "#make this example reproducible\n",
    "   seed(1)\n",
    "\n",
    "#generate sample of 200 values that follow a normal distribution \n",
    "data = normal(loc=0, scale=1, size=200)\n",
    "\n",
    "#view first six values\n",
    "data[0:5]\n",
    "#view first six values\n",
    "data[0:5]"
   ]
  },
  {
   "cell_type": "code",
   "execution_count": null,
   "id": "78f4553f",
   "metadata": {},
   "outputs": [],
   "source": []
  },
  {
   "cell_type": "code",
   "execution_count": 34,
   "id": "77b4186f",
   "metadata": {},
   "outputs": [
    {
     "data": {
      "text/plain": [
       "0      111396.887489\n",
       "1       90784.929609\n",
       "2       99531.767812\n",
       "3       93051.291210\n",
       "4       88700.702569\n",
       "           ...      \n",
       "195     73092.538937\n",
       "196     90564.887976\n",
       "197     89006.032643\n",
       "198     95491.161412\n",
       "199     95414.811451\n",
       "Length: 200, dtype: float64"
      ]
     },
     "execution_count": 34,
     "metadata": {},
     "output_type": "execute_result"
    }
   ],
   "source": [
    "sample_median =[]\n",
    "sample =[]\n",
    "for i in range(200):\n",
    "    sample = normal(loc=17486, scale=7459, size=4)\n",
    "    sample = np.append(sample, [normal(loc=32481, scale=18207, size=46)])\n",
    "    sample = np.append(sample, [normal(loc=347044, scale=37225, size=70)])\n",
    "    sample = np.append(sample, [normal(loc=56863, scale=65919, size=49)])\n",
    "    sample = np.append(sample, [normal(loc=59544, scale=103232, size=27)])\n",
    "    sample = np.append(sample, [normal(loc=76572, scale=137916, size=3)])\n",
    "    sample_median = np.append(sample_median, np.median(sample))\n",
    "    sample =[]\n",
    "\n",
    "#np.median(sample_mean)\n",
    "\n",
    "sample_median = pd.Series(sample_median)              # Convert sample_means to a series\n",
    "\n",
    "sample_median   \n"
   ]
  },
  {
   "cell_type": "code",
   "execution_count": 35,
   "id": "3c1b71a6",
   "metadata": {},
   "outputs": [
    {
     "data": {
      "image/png": "[encoded data removed]",
      "text/plain": [
       "<Figure size 432x288 with 1 Axes>"
      ]
     },
     "metadata": {
      "needs_background": "light"
     },
     "output_type": "display_data"
    }
   ],
   "source": [
    "\n",
    "plt.hist(sample_median, bins=20)\n",
    "attr = dict(boxstyle='round', facecolor='wheat', alpha=0.3)\n",
    "#plt.text(1371.5, 2, msg, fontsize=15, bbox=attr)\n",
    "\n",
    "plt.xlabel(r'Median Values', fontsize=12)\n",
    "plt.ylabel(r'Monthly Median Salary', fontsize=15)\n",
    "plt.grid()\n",
    "plt.xlim([1335, 1370])\n",
    "plt.show()"
   ]
  },
  {
   "cell_type": "code",
   "execution_count": 14,
   "id": "b991bf31",
   "metadata": {},
   "outputs": [
    {
     "data": {
      "application/vnd.plotly.v1+json": {
       "config": {
        "plotlyServerURL": "https://plot.ly"
       },
       "data": [
        {
         "alignmentgroup": "True",
         "bingroup": "x",
         "hovertemplate": "x=%{x}<br>count=%{y}<extra></extra>",
         "legendgroup": "",
         "marker": {
          "color": "#636efa",
          "pattern": {
           "shape": ""
          }
         },
         "name": "",
         "offsetgroup": "",
         "orientation": "v",
         "showlegend": false,
         "type": "histogram",
         "x": [
          85703.12295334598,
          66356.77777913568,
          97023.48747677758,
          73673.38754596529,
          91063.82806974987,
          95616.73167239077,
          79070.27743043815,
          95303.12457816751,
          64021.94412900356,
          80719.74549370905,
          73887.11862544758,
          77082.88580442392,
          76613.14839349191,
          77089.19729836482,
          66162.88324308753,
          94578.84919345366,
          109247.04677432115,
          104080.46263729753,
          71023.57938402893,
          101964.40814872534,
          88097.2831742403,
          78393.97566619935,
          70375.68768664796,
          78965.14587690911,
          71175.23627434885,
          82066.48162536335,
          85690.36077253985,
          67721.57311319104,
          112283.43789219917,
          79556.20963630584,
          80292.45559924343,
          71343.63965422864,
          92909.36955181151,
          84978.20890775266,
          72745.77941649161,
          65622.89668163797,
          79632.76651684276,
          71132.22208997127,
          60772.21854430211,
          81445.98500460238,
          84040.37647202394,
          79682.14946061323,
          83255.67031553181,
          90410.79615394409,
          80488.86306298945,
          96427.04721814115,
          82932.12898163736,
          88571.00162408395,
          87796.30525564121,
          92145.55313248643,
          84295.10940804846,
          87486.56285013487,
          74228.56367762982,
          90284.29802947567,
          77052.17764226336,
          74210.0115778388,
          88321.38491396248,
          96686.20535595724,
          69434.22652028252,
          84804.07427644343,
          82926.69278143573,
          70856.89821489008,
          62118.15727275941,
          101894.02585204717,
          90392.05885614257,
          78594.71725689719,
          81756.88441596477,
          74103.09079743002,
          99957.14612945162,
          66352.010165675,
          71105.65603775709,
          74127.39308225061,
          83298.45005745167,
          78535.30237119067,
          87533.87148499154,
          67283.55728563605,
          77685.26773680381,
          90616.04096740227,
          84740.16442835255,
          78403.18507651263,
          85585.79417419586,
          67958.25650205759,
          68849.89247930468,
          74689.70042985151,
          63044.69123455412,
          71269.7405323768,
          70926.83301376301,
          85100.68224410107,
          81626.15778419655,
          80773.8668671866,
          78385.7610409417,
          94351.23346937772,
          88718.50409313738,
          70034.13854380844,
          72070.80466467036,
          80208.7967454554,
          71129.34386810545,
          79297.12624793917,
          70536.70986403566,
          89034.16573099504,
          76545.12954817366,
          99490.43604851064,
          90508.68109918555,
          78083.48086155848,
          96308.79035506267,
          88982.45905740844,
          65470.56106487017,
          80367.30362226034,
          69167.01304286394,
          80137.86990203738,
          79167.63796505955,
          66234.15533174136,
          90930.07419924362,
          99347.53970208399,
          84389.7429363608,
          77321.0723095081,
          94257.20399959481,
          69925.63756444913,
          81129.91490499809,
          104895.63412627441,
          78806.56558226461,
          72851.9841160549,
          82636.6698499116,
          82939.67094722584,
          82411.79630931784,
          100238.47836378988,
          100205.48902666688,
          78015.07478561414,
          74838.84272861395,
          82448.02371986701,
          90936.27614124125,
          101188.35890309223,
          93068.09015711077,
          93146.08068759524,
          75475.88636549916,
          80800.10061341849,
          92704.39060546749,
          79074.32378062262,
          81387.89987079696,
          57300.140103815545,
          75799.23550502653,
          73139.72963009219,
          85855.27921034352,
          70695.20445594013,
          70828.72618532513,
          80070.23893460892,
          80284.83971939453,
          77402.60845760521,
          79679.31907307345,
          84816.13842211018,
          82687.42601741216,
          101173.6256085484,
          81300.6751425257,
          90451.23254122477,
          83185.17268037338,
          70111.86280742797,
          78033.1795587325,
          95002.53362522577,
          76010.60602965069,
          65813.98182000064,
          96086.75098374017,
          74156.85329833282,
          88366.33409365868,
          73561.33640901532,
          108625.44664074382,
          94175.92904856589,
          63889.112948822294,
          90707.66257118824,
          82443.73368539613,
          91645.8146075225,
          78825.70603325238,
          89713.09513475272,
          99467.0164141664,
          84525.89524562351,
          77067.1396698042,
          89949.59341000102,
          71217.7367019683,
          94700.07601200769,
          80982.04128430565,
          76529.74021310186,
          85419.60876407055,
          100451.63101665083,
          102500.01425679911,
          103963.40759148475,
          88076.15818160784,
          100384.79023123736,
          106762.67097467763,
          95312.29330915933,
          83734.59271472244,
          67662.76998580166,
          85659.49647070092,
          84045.31099622333,
          65923.72616036252,
          93867.99758702819,
          78572.35495194033,
          84881.99475901706,
          80214.46513779856,
          78980.50088386521,
          77482.97615557475,
          78540.76556957007
         ],
         "xaxis": "x",
         "yaxis": "y"
        }
       ],
       "layout": {
        "barmode": "relative",
        "legend": {
         "tracegroupgap": 0
        },
        "margin": {
         "t": 60
        },
        "template": {
         "data": {
          "bar": [
           {
            "error_x": {
             "color": "#2a3f5f"
            },
            "error_y": {
             "color": "#2a3f5f"
            },
            "marker": {
             "line": {
              "color": "#E5ECF6",
              "width": 0.5
             },
             "pattern": {
              "fillmode": "overlay",
              "size": 10,
              "solidity": 0.2
             }
            },
            "type": "bar"
           }
          ],
          "barpolar": [
           {
            "marker": {
             "line": {
              "color": "#E5ECF6",
              "width": 0.5
             },
             "pattern": {
              "fillmode": "overlay",
              "size": 10,
              "solidity": 0.2
             }
            },
            "type": "barpolar"
           }
          ],
          "carpet": [
           {
            "aaxis": {
             "endlinecolor": "#2a3f5f",
             "gridcolor": "white",
             "linecolor": "white",
             "minorgridcolor": "white",
             "startlinecolor": "#2a3f5f"
            },
            "baxis": {
             "endlinecolor": "#2a3f5f",
             "gridcolor": "white",
             "linecolor": "white",
             "minorgridcolor": "white",
             "startlinecolor": "#2a3f5f"
            },
            "type": "carpet"
           }
          ],
          "choropleth": [
           {
            "colorbar": {
             "outlinewidth": 0,
             "ticks": ""
            },
            "type": "choropleth"
           }
          ],
          "contour": [
           {
            "colorbar": {
             "outlinewidth": 0,
             "ticks": ""
            },
            "colorscale": [
             [
              0,
              "#0d0887"
             ],
             [
              0.1111111111111111,
              "#46039f"
             ],
             [
              0.2222222222222222,
              "#7201a8"
             ],
             [
              0.3333333333333333,
              "#9c179e"
             ],
             [
              0.4444444444444444,
              "#bd3786"
             ],
             [
              0.5555555555555556,
              "#d8576b"
             ],
             [
              0.6666666666666666,
              "#ed7953"
             ],
             [
              0.7777777777777778,
              "#fb9f3a"
             ],
             [
              0.8888888888888888,
              "#fdca26"
             ],
             [
              1,
              "#f0f921"
             ]
            ],
            "type": "contour"
           }
          ],
          "contourcarpet": [
           {
            "colorbar": {
             "outlinewidth": 0,
             "ticks": ""
            },
            "type": "contourcarpet"
           }
          ],
          "heatmap": [
           {
            "colorbar": {
             "outlinewidth": 0,
             "ticks": ""
            },
            "colorscale": [
             [
              0,
              "#0d0887"
             ],
             [
              0.1111111111111111,
              "#46039f"
             ],
             [
              0.2222222222222222,
              "#7201a8"
             ],
             [
              0.3333333333333333,
              "#9c179e"
             ],
             [
              0.4444444444444444,
              "#bd3786"
             ],
             [
              0.5555555555555556,
              "#d8576b"
             ],
             [
              0.6666666666666666,
              "#ed7953"
             ],
             [
              0.7777777777777778,
              "#fb9f3a"
             ],
             [
              0.8888888888888888,
              "#fdca26"
             ],
             [
              1,
              "#f0f921"
             ]
            ],
            "type": "heatmap"
           }
          ],
          "heatmapgl": [
           {
            "colorbar": {
             "outlinewidth": 0,
             "ticks": ""
            },
            "colorscale": [
             [
              0,
              "#0d0887"
             ],
             [
              0.1111111111111111,
              "#46039f"
             ],
             [
              0.2222222222222222,
              "#7201a8"
             ],
             [
              0.3333333333333333,
              "#9c179e"
             ],
             [
              0.4444444444444444,
              "#bd3786"
             ],
             [
              0.5555555555555556,
              "#d8576b"
             ],
             [
              0.6666666666666666,
              "#ed7953"
             ],
             [
              0.7777777777777778,
              "#fb9f3a"
             ],
             [
              0.8888888888888888,
              "#fdca26"
             ],
             [
              1,
              "#f0f921"
             ]
            ],
            "type": "heatmapgl"
           }
          ],
          "histogram": [
           {
            "marker": {
             "pattern": {
              "fillmode": "overlay",
              "size": 10,
              "solidity": 0.2
             }
            },
            "type": "histogram"
           }
          ],
          "histogram2d": [
           {
            "colorbar": {
             "outlinewidth": 0,
             "ticks": ""
            },
            "colorscale": [
             [
              0,
              "#0d0887"
             ],
             [
              0.1111111111111111,
              "#46039f"
             ],
             [
              0.2222222222222222,
              "#7201a8"
             ],
             [
              0.3333333333333333,
              "#9c179e"
             ],
             [
              0.4444444444444444,
              "#bd3786"
             ],
             [
              0.5555555555555556,
              "#d8576b"
             ],
             [
              0.6666666666666666,
              "#ed7953"
             ],
             [
              0.7777777777777778,
              "#fb9f3a"
             ],
             [
              0.8888888888888888,
              "#fdca26"
             ],
             [
              1,
              "#f0f921"
             ]
            ],
            "type": "histogram2d"
           }
          ],
          "histogram2dcontour": [
           {
            "colorbar": {
             "outlinewidth": 0,
             "ticks": ""
            },
            "colorscale": [
             [
              0,
              "#0d0887"
             ],
             [
              0.1111111111111111,
              "#46039f"
             ],
             [
              0.2222222222222222,
              "#7201a8"
             ],
             [
              0.3333333333333333,
              "#9c179e"
             ],
             [
              0.4444444444444444,
              "#bd3786"
             ],
             [
              0.5555555555555556,
              "#d8576b"
             ],
             [
              0.6666666666666666,
              "#ed7953"
             ],
             [
              0.7777777777777778,
              "#fb9f3a"
             ],
             [
              0.8888888888888888,
              "#fdca26"
             ],
             [
              1,
              "#f0f921"
             ]
            ],
            "type": "histogram2dcontour"
           }
          ],
          "mesh3d": [
           {
            "colorbar": {
             "outlinewidth": 0,
             "ticks": ""
            },
            "type": "mesh3d"
           }
          ],
          "parcoords": [
           {
            "line": {
             "colorbar": {
              "outlinewidth": 0,
              "ticks": ""
             }
            },
            "type": "parcoords"
           }
          ],
          "pie": [
           {
            "automargin": true,
            "type": "pie"
           }
          ],
          "scatter": [
           {
            "marker": {
             "colorbar": {
              "outlinewidth": 0,
              "ticks": ""
             }
            },
            "type": "scatter"
           }
          ],
          "scatter3d": [
           {
            "line": {
             "colorbar": {
              "outlinewidth": 0,
              "ticks": ""
             }
            },
            "marker": {
             "colorbar": {
              "outlinewidth": 0,
              "ticks": ""
             }
            },
            "type": "scatter3d"
           }
          ],
          "scattercarpet": [
           {
            "marker": {
             "colorbar": {
              "outlinewidth": 0,
              "ticks": ""
             }
            },
            "type": "scattercarpet"
           }
          ],
          "scattergeo": [
           {
            "marker": {
             "colorbar": {
              "outlinewidth": 0,
              "ticks": ""
             }
            },
            "type": "scattergeo"
           }
          ],
          "scattergl": [
           {
            "marker": {
             "colorbar": {
              "outlinewidth": 0,
              "ticks": ""
             }
            },
            "type": "scattergl"
           }
          ],
          "scattermapbox": [
           {
            "marker": {
             "colorbar": {
              "outlinewidth": 0,
              "ticks": ""
             }
            },
            "type": "scattermapbox"
           }
          ],
          "scatterpolar": [
           {
            "marker": {
             "colorbar": {
              "outlinewidth": 0,
              "ticks": ""
             }
            },
            "type": "scatterpolar"
           }
          ],
          "scatterpolargl": [
           {
            "marker": {
             "colorbar": {
              "outlinewidth": 0,
              "ticks": ""
             }
            },
            "type": "scatterpolargl"
           }
          ],
          "scatterternary": [
           {
            "marker": {
             "colorbar": {
              "outlinewidth": 0,
              "ticks": ""
             }
            },
            "type": "scatterternary"
           }
          ],
          "surface": [
           {
            "colorbar": {
             "outlinewidth": 0,
             "ticks": ""
            },
            "colorscale": [
             [
              0,
              "#0d0887"
             ],
             [
              0.1111111111111111,
              "#46039f"
             ],
             [
              0.2222222222222222,
              "#7201a8"
             ],
             [
              0.3333333333333333,
              "#9c179e"
             ],
             [
              0.4444444444444444,
              "#bd3786"
             ],
             [
              0.5555555555555556,
              "#d8576b"
             ],
             [
              0.6666666666666666,
              "#ed7953"
             ],
             [
              0.7777777777777778,
              "#fb9f3a"
             ],
             [
              0.8888888888888888,
              "#fdca26"
             ],
             [
              1,
              "#f0f921"
             ]
            ],
            "type": "surface"
           }
          ],
          "table": [
           {
            "cells": {
             "fill": {
              "color": "#EBF0F8"
             },
             "line": {
              "color": "white"
             }
            },
            "header": {
             "fill": {
              "color": "#C8D4E3"
             },
             "line": {
              "color": "white"
             }
            },
            "type": "table"
           }
          ]
         },
         "layout": {
          "annotationdefaults": {
           "arrowcolor": "#2a3f5f",
           "arrowhead": 0,
           "arrowwidth": 1
          },
          "autotypenumbers": "strict",
          "coloraxis": {
           "colorbar": {
            "outlinewidth": 0,
            "ticks": ""
           }
          },
          "colorscale": {
           "diverging": [
            [
             0,
             "#8e0152"
            ],
            [
             0.1,
             "#c51b7d"
            ],
            [
             0.2,
             "#de77ae"
            ],
            [
             0.3,
             "#f1b6da"
            ],
            [
             0.4,
             "#fde0ef"
            ],
            [
             0.5,
             "#f7f7f7"
            ],
            [
             0.6,
             "#e6f5d0"
            ],
            [
             0.7,
             "#b8e186"
            ],
            [
             0.8,
             "#7fbc41"
            ],
            [
             0.9,
             "#4d9221"
            ],
            [
             1,
             "#276419"
            ]
           ],
           "sequential": [
            [
             0,
             "#0d0887"
            ],
            [
             0.1111111111111111,
             "#46039f"
            ],
            [
             0.2222222222222222,
             "#7201a8"
            ],
            [
             0.3333333333333333,
             "#9c179e"
            ],
            [
             0.4444444444444444,
             "#bd3786"
            ],
            [
             0.5555555555555556,
             "#d8576b"
            ],
            [
             0.6666666666666666,
             "#ed7953"
            ],
            [
             0.7777777777777778,
             "#fb9f3a"
            ],
            [
             0.8888888888888888,
             "#fdca26"
            ],
            [
             1,
             "#f0f921"
            ]
           ],
           "sequentialminus": [
            [
             0,
             "#0d0887"
            ],
            [
             0.1111111111111111,
             "#46039f"
            ],
            [
             0.2222222222222222,
             "#7201a8"
            ],
            [
             0.3333333333333333,
             "#9c179e"
            ],
            [
             0.4444444444444444,
             "#bd3786"
            ],
            [
             0.5555555555555556,
             "#d8576b"
            ],
            [
             0.6666666666666666,
             "#ed7953"
            ],
            [
             0.7777777777777778,
             "#fb9f3a"
            ],
            [
             0.8888888888888888,
             "#fdca26"
            ],
            [
             1,
             "#f0f921"
            ]
           ]
          },
          "colorway": [
           "#636efa",
           "#EF553B",
           "#00cc96",
           "#ab63fa",
           "#FFA15A",
           "#19d3f3",
           "#FF6692",
           "#B6E880",
           "#FF97FF",
           "#FECB52"
          ],
          "font": {
           "color": "#2a3f5f"
          },
          "geo": {
           "bgcolor": "white",
           "lakecolor": "white",
           "landcolor": "#E5ECF6",
           "showlakes": true,
           "showland": true,
           "subunitcolor": "white"
          },
          "hoverlabel": {
           "align": "left"
          },
          "hovermode": "closest",
          "mapbox": {
           "style": "light"
          },
          "paper_bgcolor": "white",
          "plot_bgcolor": "#E5ECF6",
          "polar": {
           "angularaxis": {
            "gridcolor": "white",
            "linecolor": "white",
            "ticks": ""
           },
           "bgcolor": "#E5ECF6",
           "radialaxis": {
            "gridcolor": "white",
            "linecolor": "white",
            "ticks": ""
           }
          },
          "scene": {
           "xaxis": {
            "backgroundcolor": "#E5ECF6",
            "gridcolor": "white",
            "gridwidth": 2,
            "linecolor": "white",
            "showbackground": true,
            "ticks": "",
            "zerolinecolor": "white"
           },
           "yaxis": {
            "backgroundcolor": "#E5ECF6",
            "gridcolor": "white",
            "gridwidth": 2,
            "linecolor": "white",
            "showbackground": true,
            "ticks": "",
            "zerolinecolor": "white"
           },
           "zaxis": {
            "backgroundcolor": "#E5ECF6",
            "gridcolor": "white",
            "gridwidth": 2,
            "linecolor": "white",
            "showbackground": true,
            "ticks": "",
            "zerolinecolor": "white"
           }
          },
          "shapedefaults": {
           "line": {
            "color": "#2a3f5f"
           }
          },
          "ternary": {
           "aaxis": {
            "gridcolor": "white",
            "linecolor": "white",
            "ticks": ""
           },
           "baxis": {
            "gridcolor": "white",
            "linecolor": "white",
            "ticks": ""
           },
           "bgcolor": "#E5ECF6",
           "caxis": {
            "gridcolor": "white",
            "linecolor": "white",
            "ticks": ""
           }
          },
          "title": {
           "x": 0.05
          },
          "xaxis": {
           "automargin": true,
           "gridcolor": "white",
           "linecolor": "white",
           "ticks": "",
           "title": {
            "standoff": 15
           },
           "zerolinecolor": "white",
           "zerolinewidth": 2
          },
          "yaxis": {
           "automargin": true,
           "gridcolor": "white",
           "linecolor": "white",
           "ticks": "",
           "title": {
            "standoff": 15
           },
           "zerolinecolor": "white",
           "zerolinewidth": 2
          }
         }
        },
        "xaxis": {
         "anchor": "y",
         "domain": [
          0,
          1
         ],
         "title": {
          "text": "x"
         }
        },
        "yaxis": {
         "anchor": "x",
         "domain": [
          0,
          1
         ],
         "title": {
          "text": "count"
         }
        }
       }
      },
      "text/html": [
       "<div>                            <div id=\"2c33e36f-5c94-45de-a957-e28542aba61c\" class=\"plotly-graph-div\" style=\"height:525px; width:100%;\"></div>            <script type=\"text/javascript\">                require([\"plotly\"], function(Plotly) {                    window.PLOTLYENV=window.PLOTLYENV || {};                                    if (document.getElementById(\"2c33e36f-5c94-45de-a957-e28542aba61c\")) {                    Plotly.newPlot(                        \"2c33e36f-5c94-45de-a957-e28542aba61c\",                        [{\"alignmentgroup\":\"True\",\"bingroup\":\"x\",\"hovertemplate\":\"x=%{x}<br>count=%{y}<extra></extra>\",\"legendgroup\":\"\",\"marker\":{\"color\":\"#636efa\",\"pattern\":{\"shape\":\"\"}},\"name\":\"\",\"offsetgroup\":\"\",\"orientation\":\"v\",\"showlegend\":false,\"x\":[85703.12295334598,66356.77777913568,97023.48747677758,73673.38754596529,91063.82806974987,95616.73167239077,79070.27743043815,95303.12457816751,64021.94412900356,80719.74549370905,73887.11862544758,77082.88580442392,76613.14839349191,77089.19729836482,66162.88324308753,94578.84919345366,109247.04677432115,104080.46263729753,71023.57938402893,101964.40814872534,88097.2831742403,78393.97566619935,70375.68768664796,78965.14587690911,71175.23627434885,82066.48162536335,85690.36077253985,67721.57311319104,112283.43789219917,79556.20963630584,80292.45559924343,71343.63965422864,92909.36955181151,84978.20890775266,72745.77941649161,65622.89668163797,79632.76651684276,71132.22208997127,60772.21854430211,81445.98500460238,84040.37647202394,79682.14946061323,83255.67031553181,90410.79615394409,80488.86306298945,96427.04721814115,82932.12898163736,88571.00162408395,87796.30525564121,92145.55313248643,84295.10940804846,87486.56285013487,74228.56367762982,90284.29802947567,77052.17764226336,74210.0115778388,88321.38491396248,96686.20535595724,69434.22652028252,84804.07427644343,82926.69278143573,70856.89821489008,62118.15727275941,101894.02585204717,90392.05885614257,78594.71725689719,81756.88441596477,74103.09079743002,99957.14612945162,66352.010165675,71105.65603775709,74127.39308225061,83298.45005745167,78535.30237119067,87533.87148499154,67283.55728563605,77685.26773680381,90616.04096740227,84740.16442835255,78403.18507651263,85585.79417419586,67958.25650205759,68849.89247930468,74689.70042985151,63044.69123455412,71269.7405323768,70926.83301376301,85100.68224410107,81626.15778419655,80773.8668671866,78385.7610409417,94351.23346937772,88718.50409313738,70034.13854380844,72070.80466467036,80208.7967454554,71129.34386810545,79297.12624793917,70536.70986403566,89034.16573099504,76545.12954817366,99490.43604851064,90508.68109918555,78083.48086155848,96308.79035506267,88982.45905740844,65470.56106487017,80367.30362226034,69167.01304286394,80137.86990203738,79167.63796505955,66234.15533174136,90930.07419924362,99347.53970208399,84389.7429363608,77321.0723095081,94257.20399959481,69925.63756444913,81129.91490499809,104895.63412627441,78806.56558226461,72851.9841160549,82636.6698499116,82939.67094722584,82411.79630931784,100238.47836378988,100205.48902666688,78015.07478561414,74838.84272861395,82448.02371986701,90936.27614124125,101188.35890309223,93068.09015711077,93146.08068759524,75475.88636549916,80800.10061341849,92704.39060546749,79074.32378062262,81387.89987079696,57300.140103815545,75799.23550502653,73139.72963009219,85855.27921034352,70695.20445594013,70828.72618532513,80070.23893460892,80284.83971939453,77402.60845760521,79679.31907307345,84816.13842211018,82687.42601741216,101173.6256085484,81300.6751425257,90451.23254122477,83185.17268037338,70111.86280742797,78033.1795587325,95002.53362522577,76010.60602965069,65813.98182000064,96086.75098374017,74156.85329833282,88366.33409365868,73561.33640901532,108625.44664074382,94175.92904856589,63889.112948822294,90707.66257118824,82443.73368539613,91645.8146075225,78825.70603325238,89713.09513475272,99467.0164141664,84525.89524562351,77067.1396698042,89949.59341000102,71217.7367019683,94700.07601200769,80982.04128430565,76529.74021310186,85419.60876407055,100451.63101665083,102500.01425679911,103963.40759148475,88076.15818160784,100384.79023123736,106762.67097467763,95312.29330915933,83734.59271472244,67662.76998580166,85659.49647070092,84045.31099622333,65923.72616036252,93867.99758702819,78572.35495194033,84881.99475901706,80214.46513779856,78980.50088386521,77482.97615557475,78540.76556957007],\"xaxis\":\"x\",\"yaxis\":\"y\",\"type\":\"histogram\"}],                        {\"template\":{\"data\":{\"bar\":[{\"error_x\":{\"color\":\"#2a3f5f\"},\"error_y\":{\"color\":\"#2a3f5f\"},\"marker\":{\"line\":{\"color\":\"#E5ECF6\",\"width\":0.5},\"pattern\":{\"fillmode\":\"overlay\",\"size\":10,\"solidity\":0.2}},\"type\":\"bar\"}],\"barpolar\":[{\"marker\":{\"line\":{\"color\":\"#E5ECF6\",\"width\":0.5},\"pattern\":{\"fillmode\":\"overlay\",\"size\":10,\"solidity\":0.2}},\"type\":\"barpolar\"}],\"carpet\":[{\"aaxis\":{\"endlinecolor\":\"#2a3f5f\",\"gridcolor\":\"white\",\"linecolor\":\"white\",\"minorgridcolor\":\"white\",\"startlinecolor\":\"#2a3f5f\"},\"baxis\":{\"endlinecolor\":\"#2a3f5f\",\"gridcolor\":\"white\",\"linecolor\":\"white\",\"minorgridcolor\":\"white\",\"startlinecolor\":\"#2a3f5f\"},\"type\":\"carpet\"}],\"choropleth\":[{\"colorbar\":{\"outlinewidth\":0,\"ticks\":\"\"},\"type\":\"choropleth\"}],\"contour\":[{\"colorbar\":{\"outlinewidth\":0,\"ticks\":\"\"},\"colorscale\":[[0.0,\"#0d0887\"],[0.1111111111111111,\"#46039f\"],[0.2222222222222222,\"#7201a8\"],[0.3333333333333333,\"#9c179e\"],[0.4444444444444444,\"#bd3786\"],[0.5555555555555556,\"#d8576b\"],[0.6666666666666666,\"#ed7953\"],[0.7777777777777778,\"#fb9f3a\"],[0.8888888888888888,\"#fdca26\"],[1.0,\"#f0f921\"]],\"type\":\"contour\"}],\"contourcarpet\":[{\"colorbar\":{\"outlinewidth\":0,\"ticks\":\"\"},\"type\":\"contourcarpet\"}],\"heatmap\":[{\"colorbar\":{\"outlinewidth\":0,\"ticks\":\"\"},\"colorscale\":[[0.0,\"#0d0887\"],[0.1111111111111111,\"#46039f\"],[0.2222222222222222,\"#7201a8\"],[0.3333333333333333,\"#9c179e\"],[0.4444444444444444,\"#bd3786\"],[0.5555555555555556,\"#d8576b\"],[0.6666666666666666,\"#ed7953\"],[0.7777777777777778,\"#fb9f3a\"],[0.8888888888888888,\"#fdca26\"],[1.0,\"#f0f921\"]],\"type\":\"heatmap\"}],\"heatmapgl\":[{\"colorbar\":{\"outlinewidth\":0,\"ticks\":\"\"},\"colorscale\":[[0.0,\"#0d0887\"],[0.1111111111111111,\"#46039f\"],[0.2222222222222222,\"#7201a8\"],[0.3333333333333333,\"#9c179e\"],[0.4444444444444444,\"#bd3786\"],[0.5555555555555556,\"#d8576b\"],[0.6666666666666666,\"#ed7953\"],[0.7777777777777778,\"#fb9f3a\"],[0.8888888888888888,\"#fdca26\"],[1.0,\"#f0f921\"]],\"type\":\"heatmapgl\"}],\"histogram\":[{\"marker\":{\"pattern\":{\"fillmode\":\"overlay\",\"size\":10,\"solidity\":0.2}},\"type\":\"histogram\"}],\"histogram2d\":[{\"colorbar\":{\"outlinewidth\":0,\"ticks\":\"\"},\"colorscale\":[[0.0,\"#0d0887\"],[0.1111111111111111,\"#46039f\"],[0.2222222222222222,\"#7201a8\"],[0.3333333333333333,\"#9c179e\"],[0.4444444444444444,\"#bd3786\"],[0.5555555555555556,\"#d8576b\"],[0.6666666666666666,\"#ed7953\"],[0.7777777777777778,\"#fb9f3a\"],[0.8888888888888888,\"#fdca26\"],[1.0,\"#f0f921\"]],\"type\":\"histogram2d\"}],\"histogram2dcontour\":[{\"colorbar\":{\"outlinewidth\":0,\"ticks\":\"\"},\"colorscale\":[[0.0,\"#0d0887\"],[0.1111111111111111,\"#46039f\"],[0.2222222222222222,\"#7201a8\"],[0.3333333333333333,\"#9c179e\"],[0.4444444444444444,\"#bd3786\"],[0.5555555555555556,\"#d8576b\"],[0.6666666666666666,\"#ed7953\"],[0.7777777777777778,\"#fb9f3a\"],[0.8888888888888888,\"#fdca26\"],[1.0,\"#f0f921\"]],\"type\":\"histogram2dcontour\"}],\"mesh3d\":[{\"colorbar\":{\"outlinewidth\":0,\"ticks\":\"\"},\"type\":\"mesh3d\"}],\"parcoords\":[{\"line\":{\"colorbar\":{\"outlinewidth\":0,\"ticks\":\"\"}},\"type\":\"parcoords\"}],\"pie\":[{\"automargin\":true,\"type\":\"pie\"}],\"scatter\":[{\"marker\":{\"colorbar\":{\"outlinewidth\":0,\"ticks\":\"\"}},\"type\":\"scatter\"}],\"scatter3d\":[{\"line\":{\"colorbar\":{\"outlinewidth\":0,\"ticks\":\"\"}},\"marker\":{\"colorbar\":{\"outlinewidth\":0,\"ticks\":\"\"}},\"type\":\"scatter3d\"}],\"scattercarpet\":[{\"marker\":{\"colorbar\":{\"outlinewidth\":0,\"ticks\":\"\"}},\"type\":\"scattercarpet\"}],\"scattergeo\":[{\"marker\":{\"colorbar\":{\"outlinewidth\":0,\"ticks\":\"\"}},\"type\":\"scattergeo\"}],\"scattergl\":[{\"marker\":{\"colorbar\":{\"outlinewidth\":0,\"ticks\":\"\"}},\"type\":\"scattergl\"}],\"scattermapbox\":[{\"marker\":{\"colorbar\":{\"outlinewidth\":0,\"ticks\":\"\"}},\"type\":\"scattermapbox\"}],\"scatterpolar\":[{\"marker\":{\"colorbar\":{\"outlinewidth\":0,\"ticks\":\"\"}},\"type\":\"scatterpolar\"}],\"scatterpolargl\":[{\"marker\":{\"colorbar\":{\"outlinewidth\":0,\"ticks\":\"\"}},\"type\":\"scatterpolargl\"}],\"scatterternary\":[{\"marker\":{\"colorbar\":{\"outlinewidth\":0,\"ticks\":\"\"}},\"type\":\"scatterternary\"}],\"surface\":[{\"colorbar\":{\"outlinewidth\":0,\"ticks\":\"\"},\"colorscale\":[[0.0,\"#0d0887\"],[0.1111111111111111,\"#46039f\"],[0.2222222222222222,\"#7201a8\"],[0.3333333333333333,\"#9c179e\"],[0.4444444444444444,\"#bd3786\"],[0.5555555555555556,\"#d8576b\"],[0.6666666666666666,\"#ed7953\"],[0.7777777777777778,\"#fb9f3a\"],[0.8888888888888888,\"#fdca26\"],[1.0,\"#f0f921\"]],\"type\":\"surface\"}],\"table\":[{\"cells\":{\"fill\":{\"color\":\"#EBF0F8\"},\"line\":{\"color\":\"white\"}},\"header\":{\"fill\":{\"color\":\"#C8D4E3\"},\"line\":{\"color\":\"white\"}},\"type\":\"table\"}]},\"layout\":{\"annotationdefaults\":{\"arrowcolor\":\"#2a3f5f\",\"arrowhead\":0,\"arrowwidth\":1},\"autotypenumbers\":\"strict\",\"coloraxis\":{\"colorbar\":{\"outlinewidth\":0,\"ticks\":\"\"}},\"colorscale\":{\"diverging\":[[0,\"#8e0152\"],[0.1,\"#c51b7d\"],[0.2,\"#de77ae\"],[0.3,\"#f1b6da\"],[0.4,\"#fde0ef\"],[0.5,\"#f7f7f7\"],[0.6,\"#e6f5d0\"],[0.7,\"#b8e186\"],[0.8,\"#7fbc41\"],[0.9,\"#4d9221\"],[1,\"#276419\"]],\"sequential\":[[0.0,\"#0d0887\"],[0.1111111111111111,\"#46039f\"],[0.2222222222222222,\"#7201a8\"],[0.3333333333333333,\"#9c179e\"],[0.4444444444444444,\"#bd3786\"],[0.5555555555555556,\"#d8576b\"],[0.6666666666666666,\"#ed7953\"],[0.7777777777777778,\"#fb9f3a\"],[0.8888888888888888,\"#fdca26\"],[1.0,\"#f0f921\"]],\"sequentialminus\":[[0.0,\"#0d0887\"],[0.1111111111111111,\"#46039f\"],[0.2222222222222222,\"#7201a8\"],[0.3333333333333333,\"#9c179e\"],[0.4444444444444444,\"#bd3786\"],[0.5555555555555556,\"#d8576b\"],[0.6666666666666666,\"#ed7953\"],[0.7777777777777778,\"#fb9f3a\"],[0.8888888888888888,\"#fdca26\"],[1.0,\"#f0f921\"]]},\"colorway\":[\"#636efa\",\"#EF553B\",\"#00cc96\",\"#ab63fa\",\"#FFA15A\",\"#19d3f3\",\"#FF6692\",\"#B6E880\",\"#FF97FF\",\"#FECB52\"],\"font\":{\"color\":\"#2a3f5f\"},\"geo\":{\"bgcolor\":\"white\",\"lakecolor\":\"white\",\"landcolor\":\"#E5ECF6\",\"showlakes\":true,\"showland\":true,\"subunitcolor\":\"white\"},\"hoverlabel\":{\"align\":\"left\"},\"hovermode\":\"closest\",\"mapbox\":{\"style\":\"light\"},\"paper_bgcolor\":\"white\",\"plot_bgcolor\":\"#E5ECF6\",\"polar\":{\"angularaxis\":{\"gridcolor\":\"white\",\"linecolor\":\"white\",\"ticks\":\"\"},\"bgcolor\":\"#E5ECF6\",\"radialaxis\":{\"gridcolor\":\"white\",\"linecolor\":\"white\",\"ticks\":\"\"}},\"scene\":{\"xaxis\":{\"backgroundcolor\":\"#E5ECF6\",\"gridcolor\":\"white\",\"gridwidth\":2,\"linecolor\":\"white\",\"showbackground\":true,\"ticks\":\"\",\"zerolinecolor\":\"white\"},\"yaxis\":{\"backgroundcolor\":\"#E5ECF6\",\"gridcolor\":\"white\",\"gridwidth\":2,\"linecolor\":\"white\",\"showbackground\":true,\"ticks\":\"\",\"zerolinecolor\":\"white\"},\"zaxis\":{\"backgroundcolor\":\"#E5ECF6\",\"gridcolor\":\"white\",\"gridwidth\":2,\"linecolor\":\"white\",\"showbackground\":true,\"ticks\":\"\",\"zerolinecolor\":\"white\"}},\"shapedefaults\":{\"line\":{\"color\":\"#2a3f5f\"}},\"ternary\":{\"aaxis\":{\"gridcolor\":\"white\",\"linecolor\":\"white\",\"ticks\":\"\"},\"baxis\":{\"gridcolor\":\"white\",\"linecolor\":\"white\",\"ticks\":\"\"},\"bgcolor\":\"#E5ECF6\",\"caxis\":{\"gridcolor\":\"white\",\"linecolor\":\"white\",\"ticks\":\"\"}},\"title\":{\"x\":0.05},\"xaxis\":{\"automargin\":true,\"gridcolor\":\"white\",\"linecolor\":\"white\",\"ticks\":\"\",\"title\":{\"standoff\":15},\"zerolinecolor\":\"white\",\"zerolinewidth\":2},\"yaxis\":{\"automargin\":true,\"gridcolor\":\"white\",\"linecolor\":\"white\",\"ticks\":\"\",\"title\":{\"standoff\":15},\"zerolinecolor\":\"white\",\"zerolinewidth\":2}}},\"xaxis\":{\"anchor\":\"y\",\"domain\":[0.0,1.0],\"title\":{\"text\":\"x\"}},\"yaxis\":{\"anchor\":\"x\",\"domain\":[0.0,1.0],\"title\":{\"text\":\"count\"}},\"legend\":{\"tracegroupgap\":0},\"margin\":{\"t\":60},\"barmode\":\"relative\"},                        {\"responsive\": true}                    ).then(function(){\n",
       "                            \n",
       "var gd = document.getElementById('2c33e36f-5c94-45de-a957-e28542aba61c');\n",
       "var x = new MutationObserver(function (mutations, observer) {{\n",
       "        var display = window.getComputedStyle(gd).display;\n",
       "        if (!display || display === 'none') {{\n",
       "            console.log([gd, 'removed!']);\n",
       "            Plotly.purge(gd);\n",
       "            observer.disconnect();\n",
       "        }}\n",
       "}});\n",
       "\n",
       "// Listen for the removal of the full notebook cells\n",
       "var notebookContainer = gd.closest('#notebook-container');\n",
       "if (notebookContainer) {{\n",
       "    x.observe(notebookContainer, {childList: true});\n",
       "}}\n",
       "\n",
       "// Listen for the clearing of the current output cell\n",
       "var outputEl = gd.closest('.output');\n",
       "if (outputEl) {{\n",
       "    x.observe(outputEl, {childList: true});\n",
       "}}\n",
       "\n",
       "                        })                };                });            </script>        </div>"
      ]
     },
     "metadata": {},
     "output_type": "display_data"
    }
   ],
   "source": [
    "import plotly.express as px\n",
    "df = px.data.tips()\n",
    "fig = px.histogram(df, x=sample_median)\n",
    "fig.show()"
   ]
  },
  {
   "cell_type": "code",
   "execution_count": 15,
   "id": "2e8db4df",
   "metadata": {},
   "outputs": [
    {
     "data": {
      "application/vnd.plotly.v1+json": {
       "config": {
        "plotlyServerURL": "https://plot.ly"
       },
       "data": [
        {
         "alignmentgroup": "True",
         "bingroup": "x",
         "hovertemplate": "x=%{x}<br>count=%{y}<extra></extra>",
         "legendgroup": "",
         "marker": {
          "color": "#636efa",
          "pattern": {
           "shape": ""
          }
         },
         "name": "",
         "offsetgroup": "",
         "orientation": "v",
         "showlegend": false,
         "type": "histogram",
         "x": [
          85703.12295334598,
          66356.77777913568,
          97023.48747677758,
          73673.38754596529,
          91063.82806974987,
          95616.73167239077,
          79070.27743043815,
          95303.12457816751,
          64021.94412900356,
          80719.74549370905,
          73887.11862544758,
          77082.88580442392,
          76613.14839349191,
          77089.19729836482,
          66162.88324308753,
          94578.84919345366,
          109247.04677432115,
          104080.46263729753,
          71023.57938402893,
          101964.40814872534,
          88097.2831742403,
          78393.97566619935,
          70375.68768664796,
          78965.14587690911,
          71175.23627434885,
          82066.48162536335,
          85690.36077253985,
          67721.57311319104,
          112283.43789219917,
          79556.20963630584,
          80292.45559924343,
          71343.63965422864,
          92909.36955181151,
          84978.20890775266,
          72745.77941649161,
          65622.89668163797,
          79632.76651684276,
          71132.22208997127,
          60772.21854430211,
          81445.98500460238,
          84040.37647202394,
          79682.14946061323,
          83255.67031553181,
          90410.79615394409,
          80488.86306298945,
          96427.04721814115,
          82932.12898163736,
          88571.00162408395,
          87796.30525564121,
          92145.55313248643,
          84295.10940804846,
          87486.56285013487,
          74228.56367762982,
          90284.29802947567,
          77052.17764226336,
          74210.0115778388,
          88321.38491396248,
          96686.20535595724,
          69434.22652028252,
          84804.07427644343,
          82926.69278143573,
          70856.89821489008,
          62118.15727275941,
          101894.02585204717,
          90392.05885614257,
          78594.71725689719,
          81756.88441596477,
          74103.09079743002,
          99957.14612945162,
          66352.010165675,
          71105.65603775709,
          74127.39308225061,
          83298.45005745167,
          78535.30237119067,
          87533.87148499154,
          67283.55728563605,
          77685.26773680381,
          90616.04096740227,
          84740.16442835255,
          78403.18507651263,
          85585.79417419586,
          67958.25650205759,
          68849.89247930468,
          74689.70042985151,
          63044.69123455412,
          71269.7405323768,
          70926.83301376301,
          85100.68224410107,
          81626.15778419655,
          80773.8668671866,
          78385.7610409417,
          94351.23346937772,
          88718.50409313738,
          70034.13854380844,
          72070.80466467036,
          80208.7967454554,
          71129.34386810545,
          79297.12624793917,
          70536.70986403566,
          89034.16573099504,
          76545.12954817366,
          99490.43604851064,
          90508.68109918555,
          78083.48086155848,
          96308.79035506267,
          88982.45905740844,
          65470.56106487017,
          80367.30362226034,
          69167.01304286394,
          80137.86990203738,
          79167.63796505955,
          66234.15533174136,
          90930.07419924362,
          99347.53970208399,
          84389.7429363608,
          77321.0723095081,
          94257.20399959481,
          69925.63756444913,
          81129.91490499809,
          104895.63412627441,
          78806.56558226461,
          72851.9841160549,
          82636.6698499116,
          82939.67094722584,
          82411.79630931784,
          100238.47836378988,
          100205.48902666688,
          78015.07478561414,
          74838.84272861395,
          82448.02371986701,
          90936.27614124125,
          101188.35890309223,
          93068.09015711077,
          93146.08068759524,
          75475.88636549916,
          80800.10061341849,
          92704.39060546749,
          79074.32378062262,
          81387.89987079696,
          57300.140103815545,
          75799.23550502653,
          73139.72963009219,
          85855.27921034352,
          70695.20445594013,
          70828.72618532513,
          80070.23893460892,
          80284.83971939453,
          77402.60845760521,
          79679.31907307345,
          84816.13842211018,
          82687.42601741216,
          101173.6256085484,
          81300.6751425257,
          90451.23254122477,
          83185.17268037338,
          70111.86280742797,
          78033.1795587325,
          95002.53362522577,
          76010.60602965069,
          65813.98182000064,
          96086.75098374017,
          74156.85329833282,
          88366.33409365868,
          73561.33640901532,
          108625.44664074382,
          94175.92904856589,
          63889.112948822294,
          90707.66257118824,
          82443.73368539613,
          91645.8146075225,
          78825.70603325238,
          89713.09513475272,
          99467.0164141664,
          84525.89524562351,
          77067.1396698042,
          89949.59341000102,
          71217.7367019683,
          94700.07601200769,
          80982.04128430565,
          76529.74021310186,
          85419.60876407055,
          100451.63101665083,
          102500.01425679911,
          103963.40759148475,
          88076.15818160784,
          100384.79023123736,
          106762.67097467763,
          95312.29330915933,
          83734.59271472244,
          67662.76998580166,
          85659.49647070092,
          84045.31099622333,
          65923.72616036252,
          93867.99758702819,
          78572.35495194033,
          84881.99475901706,
          80214.46513779856,
          78980.50088386521,
          77482.97615557475,
          78540.76556957007
         ],
         "xaxis": "x",
         "yaxis": "y"
        }
       ],
       "layout": {
        "barmode": "relative",
        "legend": {
         "tracegroupgap": 0
        },
        "margin": {
         "t": 60
        },
        "template": {
         "data": {
          "bar": [
           {
            "error_x": {
             "color": "#2a3f5f"
            },
            "error_y": {
             "color": "#2a3f5f"
            },
            "marker": {
             "line": {
              "color": "#E5ECF6",
              "width": 0.5
             },
             "pattern": {
              "fillmode": "overlay",
              "size": 10,
              "solidity": 0.2
             }
            },
            "type": "bar"
           }
          ],
          "barpolar": [
           {
            "marker": {
             "line": {
              "color": "#E5ECF6",
              "width": 0.5
             },
             "pattern": {
              "fillmode": "overlay",
              "size": 10,
              "solidity": 0.2
             }
            },
            "type": "barpolar"
           }
          ],
          "carpet": [
           {
            "aaxis": {
             "endlinecolor": "#2a3f5f",
             "gridcolor": "white",
             "linecolor": "white",
             "minorgridcolor": "white",
             "startlinecolor": "#2a3f5f"
            },
            "baxis": {
             "endlinecolor": "#2a3f5f",
             "gridcolor": "white",
             "linecolor": "white",
             "minorgridcolor": "white",
             "startlinecolor": "#2a3f5f"
            },
            "type": "carpet"
           }
          ],
          "choropleth": [
           {
            "colorbar": {
             "outlinewidth": 0,
             "ticks": ""
            },
            "type": "choropleth"
           }
          ],
          "contour": [
           {
            "colorbar": {
             "outlinewidth": 0,
             "ticks": ""
            },
            "colorscale": [
             [
              0,
              "#0d0887"
             ],
             [
              0.1111111111111111,
              "#46039f"
             ],
             [
              0.2222222222222222,
              "#7201a8"
             ],
             [
              0.3333333333333333,
              "#9c179e"
             ],
             [
              0.4444444444444444,
              "#bd3786"
             ],
             [
              0.5555555555555556,
              "#d8576b"
             ],
             [
              0.6666666666666666,
              "#ed7953"
             ],
             [
              0.7777777777777778,
              "#fb9f3a"
             ],
             [
              0.8888888888888888,
              "#fdca26"
             ],
             [
              1,
              "#f0f921"
             ]
            ],
            "type": "contour"
           }
          ],
          "contourcarpet": [
           {
            "colorbar": {
             "outlinewidth": 0,
             "ticks": ""
            },
            "type": "contourcarpet"
           }
          ],
          "heatmap": [
           {
            "colorbar": {
             "outlinewidth": 0,
             "ticks": ""
            },
            "colorscale": [
             [
              0,
              "#0d0887"
             ],
             [
              0.1111111111111111,
              "#46039f"
             ],
             [
              0.2222222222222222,
              "#7201a8"
             ],
             [
              0.3333333333333333,
              "#9c179e"
             ],
             [
              0.4444444444444444,
              "#bd3786"
             ],
             [
              0.5555555555555556,
              "#d8576b"
             ],
             [
              0.6666666666666666,
              "#ed7953"
             ],
             [
              0.7777777777777778,
              "#fb9f3a"
             ],
             [
              0.8888888888888888,
              "#fdca26"
             ],
             [
              1,
              "#f0f921"
             ]
            ],
            "type": "heatmap"
           }
          ],
          "heatmapgl": [
           {
            "colorbar": {
             "outlinewidth": 0,
             "ticks": ""
            },
            "colorscale": [
             [
              0,
              "#0d0887"
             ],
             [
              0.1111111111111111,
              "#46039f"
             ],
             [
              0.2222222222222222,
              "#7201a8"
             ],
             [
              0.3333333333333333,
              "#9c179e"
             ],
             [
              0.4444444444444444,
              "#bd3786"
             ],
             [
              0.5555555555555556,
              "#d8576b"
             ],
             [
              0.6666666666666666,
              "#ed7953"
             ],
             [
              0.7777777777777778,
              "#fb9f3a"
             ],
             [
              0.8888888888888888,
              "#fdca26"
             ],
             [
              1,
              "#f0f921"
             ]
            ],
            "type": "heatmapgl"
           }
          ],
          "histogram": [
           {
            "marker": {
             "pattern": {
              "fillmode": "overlay",
              "size": 10,
              "solidity": 0.2
             }
            },
            "type": "histogram"
           }
          ],
          "histogram2d": [
           {
            "colorbar": {
             "outlinewidth": 0,
             "ticks": ""
            },
            "colorscale": [
             [
              0,
              "#0d0887"
             ],
             [
              0.1111111111111111,
              "#46039f"
             ],
             [
              0.2222222222222222,
              "#7201a8"
             ],
             [
              0.3333333333333333,
              "#9c179e"
             ],
             [
              0.4444444444444444,
              "#bd3786"
             ],
             [
              0.5555555555555556,
              "#d8576b"
             ],
             [
              0.6666666666666666,
              "#ed7953"
             ],
             [
              0.7777777777777778,
              "#fb9f3a"
             ],
             [
              0.8888888888888888,
              "#fdca26"
             ],
             [
              1,
              "#f0f921"
             ]
            ],
            "type": "histogram2d"
           }
          ],
          "histogram2dcontour": [
           {
            "colorbar": {
             "outlinewidth": 0,
             "ticks": ""
            },
            "colorscale": [
             [
              0,
              "#0d0887"
             ],
             [
              0.1111111111111111,
              "#46039f"
             ],
             [
              0.2222222222222222,
              "#7201a8"
             ],
             [
              0.3333333333333333,
              "#9c179e"
             ],
             [
              0.4444444444444444,
              "#bd3786"
             ],
             [
              0.5555555555555556,
              "#d8576b"
             ],
             [
              0.6666666666666666,
              "#ed7953"
             ],
             [
              0.7777777777777778,
              "#fb9f3a"
             ],
             [
              0.8888888888888888,
              "#fdca26"
             ],
             [
              1,
              "#f0f921"
             ]
            ],
            "type": "histogram2dcontour"
           }
          ],
          "mesh3d": [
           {
            "colorbar": {
             "outlinewidth": 0,
             "ticks": ""
            },
            "type": "mesh3d"
           }
          ],
          "parcoords": [
           {
            "line": {
             "colorbar": {
              "outlinewidth": 0,
              "ticks": ""
             }
            },
            "type": "parcoords"
           }
          ],
          "pie": [
           {
            "automargin": true,
            "type": "pie"
           }
          ],
          "scatter": [
           {
            "marker": {
             "colorbar": {
              "outlinewidth": 0,
              "ticks": ""
             }
            },
            "type": "scatter"
           }
          ],
          "scatter3d": [
           {
            "line": {
             "colorbar": {
              "outlinewidth": 0,
              "ticks": ""
             }
            },
            "marker": {
             "colorbar": {
              "outlinewidth": 0,
              "ticks": ""
             }
            },
            "type": "scatter3d"
           }
          ],
          "scattercarpet": [
           {
            "marker": {
             "colorbar": {
              "outlinewidth": 0,
              "ticks": ""
             }
            },
            "type": "scattercarpet"
           }
          ],
          "scattergeo": [
           {
            "marker": {
             "colorbar": {
              "outlinewidth": 0,
              "ticks": ""
             }
            },
            "type": "scattergeo"
           }
          ],
          "scattergl": [
           {
            "marker": {
             "colorbar": {
              "outlinewidth": 0,
              "ticks": ""
             }
            },
            "type": "scattergl"
           }
          ],
          "scattermapbox": [
           {
            "marker": {
             "colorbar": {
              "outlinewidth": 0,
              "ticks": ""
             }
            },
            "type": "scattermapbox"
           }
          ],
          "scatterpolar": [
           {
            "marker": {
             "colorbar": {
              "outlinewidth": 0,
              "ticks": ""
             }
            },
            "type": "scatterpolar"
           }
          ],
          "scatterpolargl": [
           {
            "marker": {
             "colorbar": {
              "outlinewidth": 0,
              "ticks": ""
             }
            },
            "type": "scatterpolargl"
           }
          ],
          "scatterternary": [
           {
            "marker": {
             "colorbar": {
              "outlinewidth": 0,
              "ticks": ""
             }
            },
            "type": "scatterternary"
           }
          ],
          "surface": [
           {
            "colorbar": {
             "outlinewidth": 0,
             "ticks": ""
            },
            "colorscale": [
             [
              0,
              "#0d0887"
             ],
             [
              0.1111111111111111,
              "#46039f"
             ],
             [
              0.2222222222222222,
              "#7201a8"
             ],
             [
              0.3333333333333333,
              "#9c179e"
             ],
             [
              0.4444444444444444,
              "#bd3786"
             ],
             [
              0.5555555555555556,
              "#d8576b"
             ],
             [
              0.6666666666666666,
              "#ed7953"
             ],
             [
              0.7777777777777778,
              "#fb9f3a"
             ],
             [
              0.8888888888888888,
              "#fdca26"
             ],
             [
              1,
              "#f0f921"
             ]
            ],
            "type": "surface"
           }
          ],
          "table": [
           {
            "cells": {
             "fill": {
              "color": "#EBF0F8"
             },
             "line": {
              "color": "white"
             }
            },
            "header": {
             "fill": {
              "color": "#C8D4E3"
             },
             "line": {
              "color": "white"
             }
            },
            "type": "table"
           }
          ]
         },
         "layout": {
          "annotationdefaults": {
           "arrowcolor": "#2a3f5f",
           "arrowhead": 0,
           "arrowwidth": 1
          },
          "autotypenumbers": "strict",
          "coloraxis": {
           "colorbar": {
            "outlinewidth": 0,
            "ticks": ""
           }
          },
          "colorscale": {
           "diverging": [
            [
             0,
             "#8e0152"
            ],
            [
             0.1,
             "#c51b7d"
            ],
            [
             0.2,
             "#de77ae"
            ],
            [
             0.3,
             "#f1b6da"
            ],
            [
             0.4,
             "#fde0ef"
            ],
            [
             0.5,
             "#f7f7f7"
            ],
            [
             0.6,
             "#e6f5d0"
            ],
            [
             0.7,
             "#b8e186"
            ],
            [
             0.8,
             "#7fbc41"
            ],
            [
             0.9,
             "#4d9221"
            ],
            [
             1,
             "#276419"
            ]
           ],
           "sequential": [
            [
             0,
             "#0d0887"
            ],
            [
             0.1111111111111111,
             "#46039f"
            ],
            [
             0.2222222222222222,
             "#7201a8"
            ],
            [
             0.3333333333333333,
             "#9c179e"
            ],
            [
             0.4444444444444444,
             "#bd3786"
            ],
            [
             0.5555555555555556,
             "#d8576b"
            ],
            [
             0.6666666666666666,
             "#ed7953"
            ],
            [
             0.7777777777777778,
             "#fb9f3a"
            ],
            [
             0.8888888888888888,
             "#fdca26"
            ],
            [
             1,
             "#f0f921"
            ]
           ],
           "sequentialminus": [
            [
             0,
             "#0d0887"
            ],
            [
             0.1111111111111111,
             "#46039f"
            ],
            [
             0.2222222222222222,
             "#7201a8"
            ],
            [
             0.3333333333333333,
             "#9c179e"
            ],
            [
             0.4444444444444444,
             "#bd3786"
            ],
            [
             0.5555555555555556,
             "#d8576b"
            ],
            [
             0.6666666666666666,
             "#ed7953"
            ],
            [
             0.7777777777777778,
             "#fb9f3a"
            ],
            [
             0.8888888888888888,
             "#fdca26"
            ],
            [
             1,
             "#f0f921"
            ]
           ]
          },
          "colorway": [
           "#636efa",
           "#EF553B",
           "#00cc96",
           "#ab63fa",
           "#FFA15A",
           "#19d3f3",
           "#FF6692",
           "#B6E880",
           "#FF97FF",
           "#FECB52"
          ],
          "font": {
           "color": "#2a3f5f"
          },
          "geo": {
           "bgcolor": "white",
           "lakecolor": "white",
           "landcolor": "#E5ECF6",
           "showlakes": true,
           "showland": true,
           "subunitcolor": "white"
          },
          "hoverlabel": {
           "align": "left"
          },
          "hovermode": "closest",
          "mapbox": {
           "style": "light"
          },
          "paper_bgcolor": "white",
          "plot_bgcolor": "#E5ECF6",
          "polar": {
           "angularaxis": {
            "gridcolor": "white",
            "linecolor": "white",
            "ticks": ""
           },
           "bgcolor": "#E5ECF6",
           "radialaxis": {
            "gridcolor": "white",
            "linecolor": "white",
            "ticks": ""
           }
          },
          "scene": {
           "xaxis": {
            "backgroundcolor": "#E5ECF6",
            "gridcolor": "white",
            "gridwidth": 2,
            "linecolor": "white",
            "showbackground": true,
            "ticks": "",
            "zerolinecolor": "white"
           },
           "yaxis": {
            "backgroundcolor": "#E5ECF6",
            "gridcolor": "white",
            "gridwidth": 2,
            "linecolor": "white",
            "showbackground": true,
            "ticks": "",
            "zerolinecolor": "white"
           },
           "zaxis": {
            "backgroundcolor": "#E5ECF6",
            "gridcolor": "white",
            "gridwidth": 2,
            "linecolor": "white",
            "showbackground": true,
            "ticks": "",
            "zerolinecolor": "white"
           }
          },
          "shapedefaults": {
           "line": {
            "color": "#2a3f5f"
           }
          },
          "ternary": {
           "aaxis": {
            "gridcolor": "white",
            "linecolor": "white",
            "ticks": ""
           },
           "baxis": {
            "gridcolor": "white",
            "linecolor": "white",
            "ticks": ""
           },
           "bgcolor": "#E5ECF6",
           "caxis": {
            "gridcolor": "white",
            "linecolor": "white",
            "ticks": ""
           }
          },
          "title": {
           "x": 0.05
          },
          "xaxis": {
           "automargin": true,
           "gridcolor": "white",
           "linecolor": "white",
           "ticks": "",
           "title": {
            "standoff": 15
           },
           "zerolinecolor": "white",
           "zerolinewidth": 2
          },
          "yaxis": {
           "automargin": true,
           "gridcolor": "white",
           "linecolor": "white",
           "ticks": "",
           "title": {
            "standoff": 15
           },
           "zerolinecolor": "white",
           "zerolinewidth": 2
          }
         }
        },
        "xaxis": {
         "anchor": "y",
         "domain": [
          0,
          1
         ],
         "title": {
          "text": "x"
         }
        },
        "yaxis": {
         "anchor": "x",
         "domain": [
          0,
          1
         ],
         "title": {
          "text": "count"
         }
        }
       }
      },
      "text/html": [
       "<div>                            <div id=\"5fe8420a-1bc5-4737-b74f-b98eb66b3a29\" class=\"plotly-graph-div\" style=\"height:525px; width:100%;\"></div>            <script type=\"text/javascript\">                require([\"plotly\"], function(Plotly) {                    window.PLOTLYENV=window.PLOTLYENV || {};                                    if (document.getElementById(\"5fe8420a-1bc5-4737-b74f-b98eb66b3a29\")) {                    Plotly.newPlot(                        \"5fe8420a-1bc5-4737-b74f-b98eb66b3a29\",                        [{\"alignmentgroup\":\"True\",\"bingroup\":\"x\",\"hovertemplate\":\"x=%{x}<br>count=%{y}<extra></extra>\",\"legendgroup\":\"\",\"marker\":{\"color\":\"#636efa\",\"pattern\":{\"shape\":\"\"}},\"name\":\"\",\"offsetgroup\":\"\",\"orientation\":\"v\",\"showlegend\":false,\"x\":[85703.12295334598,66356.77777913568,97023.48747677758,73673.38754596529,91063.82806974987,95616.73167239077,79070.27743043815,95303.12457816751,64021.94412900356,80719.74549370905,73887.11862544758,77082.88580442392,76613.14839349191,77089.19729836482,66162.88324308753,94578.84919345366,109247.04677432115,104080.46263729753,71023.57938402893,101964.40814872534,88097.2831742403,78393.97566619935,70375.68768664796,78965.14587690911,71175.23627434885,82066.48162536335,85690.36077253985,67721.57311319104,112283.43789219917,79556.20963630584,80292.45559924343,71343.63965422864,92909.36955181151,84978.20890775266,72745.77941649161,65622.89668163797,79632.76651684276,71132.22208997127,60772.21854430211,81445.98500460238,84040.37647202394,79682.14946061323,83255.67031553181,90410.79615394409,80488.86306298945,96427.04721814115,82932.12898163736,88571.00162408395,87796.30525564121,92145.55313248643,84295.10940804846,87486.56285013487,74228.56367762982,90284.29802947567,77052.17764226336,74210.0115778388,88321.38491396248,96686.20535595724,69434.22652028252,84804.07427644343,82926.69278143573,70856.89821489008,62118.15727275941,101894.02585204717,90392.05885614257,78594.71725689719,81756.88441596477,74103.09079743002,99957.14612945162,66352.010165675,71105.65603775709,74127.39308225061,83298.45005745167,78535.30237119067,87533.87148499154,67283.55728563605,77685.26773680381,90616.04096740227,84740.16442835255,78403.18507651263,85585.79417419586,67958.25650205759,68849.89247930468,74689.70042985151,63044.69123455412,71269.7405323768,70926.83301376301,85100.68224410107,81626.15778419655,80773.8668671866,78385.7610409417,94351.23346937772,88718.50409313738,70034.13854380844,72070.80466467036,80208.7967454554,71129.34386810545,79297.12624793917,70536.70986403566,89034.16573099504,76545.12954817366,99490.43604851064,90508.68109918555,78083.48086155848,96308.79035506267,88982.45905740844,65470.56106487017,80367.30362226034,69167.01304286394,80137.86990203738,79167.63796505955,66234.15533174136,90930.07419924362,99347.53970208399,84389.7429363608,77321.0723095081,94257.20399959481,69925.63756444913,81129.91490499809,104895.63412627441,78806.56558226461,72851.9841160549,82636.6698499116,82939.67094722584,82411.79630931784,100238.47836378988,100205.48902666688,78015.07478561414,74838.84272861395,82448.02371986701,90936.27614124125,101188.35890309223,93068.09015711077,93146.08068759524,75475.88636549916,80800.10061341849,92704.39060546749,79074.32378062262,81387.89987079696,57300.140103815545,75799.23550502653,73139.72963009219,85855.27921034352,70695.20445594013,70828.72618532513,80070.23893460892,80284.83971939453,77402.60845760521,79679.31907307345,84816.13842211018,82687.42601741216,101173.6256085484,81300.6751425257,90451.23254122477,83185.17268037338,70111.86280742797,78033.1795587325,95002.53362522577,76010.60602965069,65813.98182000064,96086.75098374017,74156.85329833282,88366.33409365868,73561.33640901532,108625.44664074382,94175.92904856589,63889.112948822294,90707.66257118824,82443.73368539613,91645.8146075225,78825.70603325238,89713.09513475272,99467.0164141664,84525.89524562351,77067.1396698042,89949.59341000102,71217.7367019683,94700.07601200769,80982.04128430565,76529.74021310186,85419.60876407055,100451.63101665083,102500.01425679911,103963.40759148475,88076.15818160784,100384.79023123736,106762.67097467763,95312.29330915933,83734.59271472244,67662.76998580166,85659.49647070092,84045.31099622333,65923.72616036252,93867.99758702819,78572.35495194033,84881.99475901706,80214.46513779856,78980.50088386521,77482.97615557475,78540.76556957007],\"xaxis\":\"x\",\"yaxis\":\"y\",\"type\":\"histogram\"}],                        {\"template\":{\"data\":{\"bar\":[{\"error_x\":{\"color\":\"#2a3f5f\"},\"error_y\":{\"color\":\"#2a3f5f\"},\"marker\":{\"line\":{\"color\":\"#E5ECF6\",\"width\":0.5},\"pattern\":{\"fillmode\":\"overlay\",\"size\":10,\"solidity\":0.2}},\"type\":\"bar\"}],\"barpolar\":[{\"marker\":{\"line\":{\"color\":\"#E5ECF6\",\"width\":0.5},\"pattern\":{\"fillmode\":\"overlay\",\"size\":10,\"solidity\":0.2}},\"type\":\"barpolar\"}],\"carpet\":[{\"aaxis\":{\"endlinecolor\":\"#2a3f5f\",\"gridcolor\":\"white\",\"linecolor\":\"white\",\"minorgridcolor\":\"white\",\"startlinecolor\":\"#2a3f5f\"},\"baxis\":{\"endlinecolor\":\"#2a3f5f\",\"gridcolor\":\"white\",\"linecolor\":\"white\",\"minorgridcolor\":\"white\",\"startlinecolor\":\"#2a3f5f\"},\"type\":\"carpet\"}],\"choropleth\":[{\"colorbar\":{\"outlinewidth\":0,\"ticks\":\"\"},\"type\":\"choropleth\"}],\"contour\":[{\"colorbar\":{\"outlinewidth\":0,\"ticks\":\"\"},\"colorscale\":[[0.0,\"#0d0887\"],[0.1111111111111111,\"#46039f\"],[0.2222222222222222,\"#7201a8\"],[0.3333333333333333,\"#9c179e\"],[0.4444444444444444,\"#bd3786\"],[0.5555555555555556,\"#d8576b\"],[0.6666666666666666,\"#ed7953\"],[0.7777777777777778,\"#fb9f3a\"],[0.8888888888888888,\"#fdca26\"],[1.0,\"#f0f921\"]],\"type\":\"contour\"}],\"contourcarpet\":[{\"colorbar\":{\"outlinewidth\":0,\"ticks\":\"\"},\"type\":\"contourcarpet\"}],\"heatmap\":[{\"colorbar\":{\"outlinewidth\":0,\"ticks\":\"\"},\"colorscale\":[[0.0,\"#0d0887\"],[0.1111111111111111,\"#46039f\"],[0.2222222222222222,\"#7201a8\"],[0.3333333333333333,\"#9c179e\"],[0.4444444444444444,\"#bd3786\"],[0.5555555555555556,\"#d8576b\"],[0.6666666666666666,\"#ed7953\"],[0.7777777777777778,\"#fb9f3a\"],[0.8888888888888888,\"#fdca26\"],[1.0,\"#f0f921\"]],\"type\":\"heatmap\"}],\"heatmapgl\":[{\"colorbar\":{\"outlinewidth\":0,\"ticks\":\"\"},\"colorscale\":[[0.0,\"#0d0887\"],[0.1111111111111111,\"#46039f\"],[0.2222222222222222,\"#7201a8\"],[0.3333333333333333,\"#9c179e\"],[0.4444444444444444,\"#bd3786\"],[0.5555555555555556,\"#d8576b\"],[0.6666666666666666,\"#ed7953\"],[0.7777777777777778,\"#fb9f3a\"],[0.8888888888888888,\"#fdca26\"],[1.0,\"#f0f921\"]],\"type\":\"heatmapgl\"}],\"histogram\":[{\"marker\":{\"pattern\":{\"fillmode\":\"overlay\",\"size\":10,\"solidity\":0.2}},\"type\":\"histogram\"}],\"histogram2d\":[{\"colorbar\":{\"outlinewidth\":0,\"ticks\":\"\"},\"colorscale\":[[0.0,\"#0d0887\"],[0.1111111111111111,\"#46039f\"],[0.2222222222222222,\"#7201a8\"],[0.3333333333333333,\"#9c179e\"],[0.4444444444444444,\"#bd3786\"],[0.5555555555555556,\"#d8576b\"],[0.6666666666666666,\"#ed7953\"],[0.7777777777777778,\"#fb9f3a\"],[0.8888888888888888,\"#fdca26\"],[1.0,\"#f0f921\"]],\"type\":\"histogram2d\"}],\"histogram2dcontour\":[{\"colorbar\":{\"outlinewidth\":0,\"ticks\":\"\"},\"colorscale\":[[0.0,\"#0d0887\"],[0.1111111111111111,\"#46039f\"],[0.2222222222222222,\"#7201a8\"],[0.3333333333333333,\"#9c179e\"],[0.4444444444444444,\"#bd3786\"],[0.5555555555555556,\"#d8576b\"],[0.6666666666666666,\"#ed7953\"],[0.7777777777777778,\"#fb9f3a\"],[0.8888888888888888,\"#fdca26\"],[1.0,\"#f0f921\"]],\"type\":\"histogram2dcontour\"}],\"mesh3d\":[{\"colorbar\":{\"outlinewidth\":0,\"ticks\":\"\"},\"type\":\"mesh3d\"}],\"parcoords\":[{\"line\":{\"colorbar\":{\"outlinewidth\":0,\"ticks\":\"\"}},\"type\":\"parcoords\"}],\"pie\":[{\"automargin\":true,\"type\":\"pie\"}],\"scatter\":[{\"marker\":{\"colorbar\":{\"outlinewidth\":0,\"ticks\":\"\"}},\"type\":\"scatter\"}],\"scatter3d\":[{\"line\":{\"colorbar\":{\"outlinewidth\":0,\"ticks\":\"\"}},\"marker\":{\"colorbar\":{\"outlinewidth\":0,\"ticks\":\"\"}},\"type\":\"scatter3d\"}],\"scattercarpet\":[{\"marker\":{\"colorbar\":{\"outlinewidth\":0,\"ticks\":\"\"}},\"type\":\"scattercarpet\"}],\"scattergeo\":[{\"marker\":{\"colorbar\":{\"outlinewidth\":0,\"ticks\":\"\"}},\"type\":\"scattergeo\"}],\"scattergl\":[{\"marker\":{\"colorbar\":{\"outlinewidth\":0,\"ticks\":\"\"}},\"type\":\"scattergl\"}],\"scattermapbox\":[{\"marker\":{\"colorbar\":{\"outlinewidth\":0,\"ticks\":\"\"}},\"type\":\"scattermapbox\"}],\"scatterpolar\":[{\"marker\":{\"colorbar\":{\"outlinewidth\":0,\"ticks\":\"\"}},\"type\":\"scatterpolar\"}],\"scatterpolargl\":[{\"marker\":{\"colorbar\":{\"outlinewidth\":0,\"ticks\":\"\"}},\"type\":\"scatterpolargl\"}],\"scatterternary\":[{\"marker\":{\"colorbar\":{\"outlinewidth\":0,\"ticks\":\"\"}},\"type\":\"scatterternary\"}],\"surface\":[{\"colorbar\":{\"outlinewidth\":0,\"ticks\":\"\"},\"colorscale\":[[0.0,\"#0d0887\"],[0.1111111111111111,\"#46039f\"],[0.2222222222222222,\"#7201a8\"],[0.3333333333333333,\"#9c179e\"],[0.4444444444444444,\"#bd3786\"],[0.5555555555555556,\"#d8576b\"],[0.6666666666666666,\"#ed7953\"],[0.7777777777777778,\"#fb9f3a\"],[0.8888888888888888,\"#fdca26\"],[1.0,\"#f0f921\"]],\"type\":\"surface\"}],\"table\":[{\"cells\":{\"fill\":{\"color\":\"#EBF0F8\"},\"line\":{\"color\":\"white\"}},\"header\":{\"fill\":{\"color\":\"#C8D4E3\"},\"line\":{\"color\":\"white\"}},\"type\":\"table\"}]},\"layout\":{\"annotationdefaults\":{\"arrowcolor\":\"#2a3f5f\",\"arrowhead\":0,\"arrowwidth\":1},\"autotypenumbers\":\"strict\",\"coloraxis\":{\"colorbar\":{\"outlinewidth\":0,\"ticks\":\"\"}},\"colorscale\":{\"diverging\":[[0,\"#8e0152\"],[0.1,\"#c51b7d\"],[0.2,\"#de77ae\"],[0.3,\"#f1b6da\"],[0.4,\"#fde0ef\"],[0.5,\"#f7f7f7\"],[0.6,\"#e6f5d0\"],[0.7,\"#b8e186\"],[0.8,\"#7fbc41\"],[0.9,\"#4d9221\"],[1,\"#276419\"]],\"sequential\":[[0.0,\"#0d0887\"],[0.1111111111111111,\"#46039f\"],[0.2222222222222222,\"#7201a8\"],[0.3333333333333333,\"#9c179e\"],[0.4444444444444444,\"#bd3786\"],[0.5555555555555556,\"#d8576b\"],[0.6666666666666666,\"#ed7953\"],[0.7777777777777778,\"#fb9f3a\"],[0.8888888888888888,\"#fdca26\"],[1.0,\"#f0f921\"]],\"sequentialminus\":[[0.0,\"#0d0887\"],[0.1111111111111111,\"#46039f\"],[0.2222222222222222,\"#7201a8\"],[0.3333333333333333,\"#9c179e\"],[0.4444444444444444,\"#bd3786\"],[0.5555555555555556,\"#d8576b\"],[0.6666666666666666,\"#ed7953\"],[0.7777777777777778,\"#fb9f3a\"],[0.8888888888888888,\"#fdca26\"],[1.0,\"#f0f921\"]]},\"colorway\":[\"#636efa\",\"#EF553B\",\"#00cc96\",\"#ab63fa\",\"#FFA15A\",\"#19d3f3\",\"#FF6692\",\"#B6E880\",\"#FF97FF\",\"#FECB52\"],\"font\":{\"color\":\"#2a3f5f\"},\"geo\":{\"bgcolor\":\"white\",\"lakecolor\":\"white\",\"landcolor\":\"#E5ECF6\",\"showlakes\":true,\"showland\":true,\"subunitcolor\":\"white\"},\"hoverlabel\":{\"align\":\"left\"},\"hovermode\":\"closest\",\"mapbox\":{\"style\":\"light\"},\"paper_bgcolor\":\"white\",\"plot_bgcolor\":\"#E5ECF6\",\"polar\":{\"angularaxis\":{\"gridcolor\":\"white\",\"linecolor\":\"white\",\"ticks\":\"\"},\"bgcolor\":\"#E5ECF6\",\"radialaxis\":{\"gridcolor\":\"white\",\"linecolor\":\"white\",\"ticks\":\"\"}},\"scene\":{\"xaxis\":{\"backgroundcolor\":\"#E5ECF6\",\"gridcolor\":\"white\",\"gridwidth\":2,\"linecolor\":\"white\",\"showbackground\":true,\"ticks\":\"\",\"zerolinecolor\":\"white\"},\"yaxis\":{\"backgroundcolor\":\"#E5ECF6\",\"gridcolor\":\"white\",\"gridwidth\":2,\"linecolor\":\"white\",\"showbackground\":true,\"ticks\":\"\",\"zerolinecolor\":\"white\"},\"zaxis\":{\"backgroundcolor\":\"#E5ECF6\",\"gridcolor\":\"white\",\"gridwidth\":2,\"linecolor\":\"white\",\"showbackground\":true,\"ticks\":\"\",\"zerolinecolor\":\"white\"}},\"shapedefaults\":{\"line\":{\"color\":\"#2a3f5f\"}},\"ternary\":{\"aaxis\":{\"gridcolor\":\"white\",\"linecolor\":\"white\",\"ticks\":\"\"},\"baxis\":{\"gridcolor\":\"white\",\"linecolor\":\"white\",\"ticks\":\"\"},\"bgcolor\":\"#E5ECF6\",\"caxis\":{\"gridcolor\":\"white\",\"linecolor\":\"white\",\"ticks\":\"\"}},\"title\":{\"x\":0.05},\"xaxis\":{\"automargin\":true,\"gridcolor\":\"white\",\"linecolor\":\"white\",\"ticks\":\"\",\"title\":{\"standoff\":15},\"zerolinecolor\":\"white\",\"zerolinewidth\":2},\"yaxis\":{\"automargin\":true,\"gridcolor\":\"white\",\"linecolor\":\"white\",\"ticks\":\"\",\"title\":{\"standoff\":15},\"zerolinecolor\":\"white\",\"zerolinewidth\":2}}},\"xaxis\":{\"anchor\":\"y\",\"domain\":[0.0,1.0],\"title\":{\"text\":\"x\"}},\"yaxis\":{\"anchor\":\"x\",\"domain\":[0.0,1.0],\"title\":{\"text\":\"count\"}},\"legend\":{\"tracegroupgap\":0},\"margin\":{\"t\":60},\"barmode\":\"relative\"},                        {\"responsive\": true}                    ).then(function(){\n",
       "                            \n",
       "var gd = document.getElementById('5fe8420a-1bc5-4737-b74f-b98eb66b3a29');\n",
       "var x = new MutationObserver(function (mutations, observer) {{\n",
       "        var display = window.getComputedStyle(gd).display;\n",
       "        if (!display || display === 'none') {{\n",
       "            console.log([gd, 'removed!']);\n",
       "            Plotly.purge(gd);\n",
       "            observer.disconnect();\n",
       "        }}\n",
       "}});\n",
       "\n",
       "// Listen for the removal of the full notebook cells\n",
       "var notebookContainer = gd.closest('#notebook-container');\n",
       "if (notebookContainer) {{\n",
       "    x.observe(notebookContainer, {childList: true});\n",
       "}}\n",
       "\n",
       "// Listen for the clearing of the current output cell\n",
       "var outputEl = gd.closest('.output');\n",
       "if (outputEl) {{\n",
       "    x.observe(outputEl, {childList: true});\n",
       "}}\n",
       "\n",
       "                        })                };                });            </script>        </div>"
      ]
     },
     "metadata": {},
     "output_type": "display_data"
    }
   ],
   "source": [
    "import plotly.express as px\n",
    "df = px.data.tips()\n",
    "fig = px.histogram(df, x=sample_median)\n",
    "fig.show()"
   ]
  },
  {
   "cell_type": "code",
   "execution_count": 16,
   "id": "96d6962f",
   "metadata": {},
   "outputs": [
    {
     "data": {
      "text/plain": [
       "0      76600.191964\n",
       "1      79095.753792\n",
       "2      84235.622474\n",
       "3      85392.396176\n",
       "4      83182.330872\n",
       "           ...     \n",
       "195    92068.093896\n",
       "196    87490.101286\n",
       "197    93761.155521\n",
       "198    87128.485212\n",
       "199    90550.748467\n",
       "Length: 200, dtype: float64"
      ]
     },
     "execution_count": 16,
     "metadata": {},
     "output_type": "execute_result"
    }
   ],
   "source": [
    "sample_median =[]\n",
    "sample =[]\n",
    "for i in range(200):\n",
    "    sample = normal(loc=17486, scale=7459, size=10)\n",
    "    sample = np.append(sample, [normal(loc=32481, scale=18207, size=115)])\n",
    "    sample = np.append(sample, [normal(loc=347044, scale=37225, size=175)])\n",
    "    sample = np.append(sample, [normal(loc=56863, scale=65919, size=123)])\n",
    "    sample = np.append(sample, [normal(loc=59544, scale=103232, size=68)])\n",
    "    sample = np.append(sample, [normal(loc=76572, scale=137916, size=8)])\n",
    "    sample_median = np.append(sample_median, np.median(sample))\n",
    "    sample =[]\n",
    "\n",
    "#np.median(sample_mean)\n",
    "\n",
    "sample_median = pd.Series(sample_median)              # Convert sample_means to a series\n",
    "\n",
    "sample_median"
   ]
  },
  {
   "cell_type": "code",
   "execution_count": 17,
   "id": "41178601",
   "metadata": {},
   "outputs": [
    {
     "data": {
      "application/vnd.plotly.v1+json": {
       "config": {
        "plotlyServerURL": "https://plot.ly"
       },
       "data": [
        {
         "alignmentgroup": "True",
         "bingroup": "x",
         "hovertemplate": "x=%{x}<br>count=%{y}<extra></extra>",
         "legendgroup": "",
         "marker": {
          "color": "#636efa",
          "pattern": {
           "shape": ""
          }
         },
         "name": "",
         "offsetgroup": "",
         "orientation": "v",
         "showlegend": false,
         "type": "histogram",
         "x": [
          76600.19196398012,
          79095.75379189182,
          84235.6224741609,
          85392.39617552346,
          83182.33087243061,
          77409.87505994056,
          82552.32047504293,
          76473.84941769815,
          75790.12499610591,
          102936.37547376973,
          74509.47436054744,
          81020.32785697618,
          80796.0981315155,
          80856.6034432456,
          80990.55053029841,
          82362.40993709507,
          79235.05377007683,
          78161.36331559977,
          78732.7074541694,
          91100.67357576433,
          93765.57860907841,
          75950.52734865356,
          77036.89116721135,
          95330.38767712694,
          84203.97802446777,
          85371.85888006278,
          86087.10907127467,
          85466.36401586726,
          75479.69942299015,
          80575.28946235433,
          92564.79481225097,
          84453.94286289539,
          76809.66328068491,
          81039.27075880626,
          71255.63088725519,
          81340.65053935489,
          86997.59319964444,
          81232.4171382151,
          68747.0330287072,
          83084.67640193662,
          97272.60512124977,
          85724.84066099692,
          95321.80870605033,
          94096.08804280864,
          81619.20078791946,
          74622.04056001437,
          73670.08721403012,
          65564.3024323952,
          73278.9326227492,
          79934.92156664666,
          79337.35100898828,
          91987.14625918088,
          81839.70446407964,
          75972.3475323473,
          89619.09499901424,
          79462.78900396568,
          86422.49076291615,
          83178.61609449741,
          83627.36133194629,
          79886.94646754568,
          86665.25130537956,
          83083.70938616933,
          77854.90540151666,
          78504.68808373096,
          80586.09198051633,
          75922.96740993019,
          81063.47072027838,
          83065.82305859686,
          76828.85836252799,
          84102.44021369416,
          81384.6992370437,
          77088.96704564431,
          87569.79464921773,
          89396.40632866064,
          90207.21635061444,
          98198.59066265765,
          81119.48552407871,
          86653.51117350922,
          85296.52619517183,
          83148.30842907792,
          82227.71200159083,
          88681.67313276231,
          86246.5001064623,
          88384.37715161478,
          81432.48528721549,
          83609.1853854696,
          80923.85246004497,
          89078.18610509989,
          80453.00733537802,
          92868.57485278527,
          82838.68014035907,
          81860.45762008312,
          79752.05848399055,
          77806.35007626527,
          74932.30992595409,
          77675.30746410204,
          83724.75688160807,
          78498.28976895446,
          90290.088517859,
          85510.83952046788,
          75376.05292515336,
          86662.15055495837,
          85562.00352512015,
          85156.02535821246,
          87423.89260027069,
          89537.6788093939,
          91863.8446052674,
          82873.45962444396,
          88043.7537799487,
          80540.36937510123,
          77436.71118207579,
          88385.97573751461,
          83385.63570892079,
          90917.0243649733,
          78594.17729784986,
          80645.42878105468,
          75901.64636145416,
          89943.83577539111,
          82617.7256507964,
          86843.04089636047,
          76124.20444128118,
          73774.23953458878,
          84625.00348834647,
          79725.8194665578,
          85287.84554772786,
          88312.48288220013,
          87775.56932789135,
          86826.62133096186,
          94095.74540387126,
          72116.4670445223,
          75593.53668020738,
          85964.08935397088,
          75755.81136276704,
          78831.9972621805,
          81063.0499535844,
          79755.22122867989,
          79701.46600510938,
          84989.11319155668,
          76620.00804024895,
          85228.32091737742,
          88481.86297479649,
          74600.69403440494,
          83068.42267014919,
          91726.99012099564,
          92286.52840024536,
          81241.92668307129,
          76797.40941635804,
          79729.73152574453,
          76772.68152363828,
          69862.15004037062,
          83656.75482464893,
          77030.75045715239,
          88230.79628406402,
          82283.03505500355,
          89281.31087786204,
          94530.90813655601,
          85578.93850607882,
          91068.58404220121,
          80987.0163355527,
          83045.67352383607,
          78502.29278499579,
          99775.28156552569,
          81534.01893507552,
          77873.08190374657,
          83011.40030493506,
          77794.58786521724,
          77972.44225858367,
          80692.50451240544,
          81657.8633283865,
          82293.66982361912,
          88244.18754678543,
          86010.46106554923,
          86837.67527361595,
          91575.97599791951,
          85634.50075161218,
          90875.34730108468,
          81125.78968075971,
          81834.41520953261,
          91510.41367906629,
          83138.51034088404,
          82267.5434927035,
          84041.83754383338,
          95906.1564624094,
          81630.76496038432,
          79402.61613013667,
          80360.53284395575,
          81007.00219390701,
          83930.54279458884,
          83146.90577082065,
          75763.33058797696,
          75856.30637267754,
          81515.00109176227,
          73434.24457379509,
          81716.02242808825,
          82726.50529992179,
          92068.09389590457,
          87490.1012857189,
          93761.1555213008,
          87128.48521165774,
          90550.74846653154
         ],
         "xaxis": "x",
         "yaxis": "y"
        }
       ],
       "layout": {
        "barmode": "relative",
        "legend": {
         "tracegroupgap": 0
        },
        "margin": {
         "t": 60
        },
        "template": {
         "data": {
          "bar": [
           {
            "error_x": {
             "color": "#2a3f5f"
            },
            "error_y": {
             "color": "#2a3f5f"
            },
            "marker": {
             "line": {
              "color": "#E5ECF6",
              "width": 0.5
             },
             "pattern": {
              "fillmode": "overlay",
              "size": 10,
              "solidity": 0.2
             }
            },
            "type": "bar"
           }
          ],
          "barpolar": [
           {
            "marker": {
             "line": {
              "color": "#E5ECF6",
              "width": 0.5
             },
             "pattern": {
              "fillmode": "overlay",
              "size": 10,
              "solidity": 0.2
             }
            },
            "type": "barpolar"
           }
          ],
          "carpet": [
           {
            "aaxis": {
             "endlinecolor": "#2a3f5f",
             "gridcolor": "white",
             "linecolor": "white",
             "minorgridcolor": "white",
             "startlinecolor": "#2a3f5f"
            },
            "baxis": {
             "endlinecolor": "#2a3f5f",
             "gridcolor": "white",
             "linecolor": "white",
             "minorgridcolor": "white",
             "startlinecolor": "#2a3f5f"
            },
            "type": "carpet"
           }
          ],
          "choropleth": [
           {
            "colorbar": {
             "outlinewidth": 0,
             "ticks": ""
            },
            "type": "choropleth"
           }
          ],
          "contour": [
           {
            "colorbar": {
             "outlinewidth": 0,
             "ticks": ""
            },
            "colorscale": [
             [
              0,
              "#0d0887"
             ],
             [
              0.1111111111111111,
              "#46039f"
             ],
             [
              0.2222222222222222,
              "#7201a8"
             ],
             [
              0.3333333333333333,
              "#9c179e"
             ],
             [
              0.4444444444444444,
              "#bd3786"
             ],
             [
              0.5555555555555556,
              "#d8576b"
             ],
             [
              0.6666666666666666,
              "#ed7953"
             ],
             [
              0.7777777777777778,
              "#fb9f3a"
             ],
             [
              0.8888888888888888,
              "#fdca26"
             ],
             [
              1,
              "#f0f921"
             ]
            ],
            "type": "contour"
           }
          ],
          "contourcarpet": [
           {
            "colorbar": {
             "outlinewidth": 0,
             "ticks": ""
            },
            "type": "contourcarpet"
           }
          ],
          "heatmap": [
           {
            "colorbar": {
             "outlinewidth": 0,
             "ticks": ""
            },
            "colorscale": [
             [
              0,
              "#0d0887"
             ],
             [
              0.1111111111111111,
              "#46039f"
             ],
             [
              0.2222222222222222,
              "#7201a8"
             ],
             [
              0.3333333333333333,
              "#9c179e"
             ],
             [
              0.4444444444444444,
              "#bd3786"
             ],
             [
              0.5555555555555556,
              "#d8576b"
             ],
             [
              0.6666666666666666,
              "#ed7953"
             ],
             [
              0.7777777777777778,
              "#fb9f3a"
             ],
             [
              0.8888888888888888,
              "#fdca26"
             ],
             [
              1,
              "#f0f921"
             ]
            ],
            "type": "heatmap"
           }
          ],
          "heatmapgl": [
           {
            "colorbar": {
             "outlinewidth": 0,
             "ticks": ""
            },
            "colorscale": [
             [
              0,
              "#0d0887"
             ],
             [
              0.1111111111111111,
              "#46039f"
             ],
             [
              0.2222222222222222,
              "#7201a8"
             ],
             [
              0.3333333333333333,
              "#9c179e"
             ],
             [
              0.4444444444444444,
              "#bd3786"
             ],
             [
              0.5555555555555556,
              "#d8576b"
             ],
             [
              0.6666666666666666,
              "#ed7953"
             ],
             [
              0.7777777777777778,
              "#fb9f3a"
             ],
             [
              0.8888888888888888,
              "#fdca26"
             ],
             [
              1,
              "#f0f921"
             ]
            ],
            "type": "heatmapgl"
           }
          ],
          "histogram": [
           {
            "marker": {
             "pattern": {
              "fillmode": "overlay",
              "size": 10,
              "solidity": 0.2
             }
            },
            "type": "histogram"
           }
          ],
          "histogram2d": [
           {
            "colorbar": {
             "outlinewidth": 0,
             "ticks": ""
            },
            "colorscale": [
             [
              0,
              "#0d0887"
             ],
             [
              0.1111111111111111,
              "#46039f"
             ],
             [
              0.2222222222222222,
              "#7201a8"
             ],
             [
              0.3333333333333333,
              "#9c179e"
             ],
             [
              0.4444444444444444,
              "#bd3786"
             ],
             [
              0.5555555555555556,
              "#d8576b"
             ],
             [
              0.6666666666666666,
              "#ed7953"
             ],
             [
              0.7777777777777778,
              "#fb9f3a"
             ],
             [
              0.8888888888888888,
              "#fdca26"
             ],
             [
              1,
              "#f0f921"
             ]
            ],
            "type": "histogram2d"
           }
          ],
          "histogram2dcontour": [
           {
            "colorbar": {
             "outlinewidth": 0,
             "ticks": ""
            },
            "colorscale": [
             [
              0,
              "#0d0887"
             ],
             [
              0.1111111111111111,
              "#46039f"
             ],
             [
              0.2222222222222222,
              "#7201a8"
             ],
             [
              0.3333333333333333,
              "#9c179e"
             ],
             [
              0.4444444444444444,
              "#bd3786"
             ],
             [
              0.5555555555555556,
              "#d8576b"
             ],
             [
              0.6666666666666666,
              "#ed7953"
             ],
             [
              0.7777777777777778,
              "#fb9f3a"
             ],
             [
              0.8888888888888888,
              "#fdca26"
             ],
             [
              1,
              "#f0f921"
             ]
            ],
            "type": "histogram2dcontour"
           }
          ],
          "mesh3d": [
           {
            "colorbar": {
             "outlinewidth": 0,
             "ticks": ""
            },
            "type": "mesh3d"
           }
          ],
          "parcoords": [
           {
            "line": {
             "colorbar": {
              "outlinewidth": 0,
              "ticks": ""
             }
            },
            "type": "parcoords"
           }
          ],
          "pie": [
           {
            "automargin": true,
            "type": "pie"
           }
          ],
          "scatter": [
           {
            "marker": {
             "colorbar": {
              "outlinewidth": 0,
              "ticks": ""
             }
            },
            "type": "scatter"
           }
          ],
          "scatter3d": [
           {
            "line": {
             "colorbar": {
              "outlinewidth": 0,
              "ticks": ""
             }
            },
            "marker": {
             "colorbar": {
              "outlinewidth": 0,
              "ticks": ""
             }
            },
            "type": "scatter3d"
           }
          ],
          "scattercarpet": [
           {
            "marker": {
             "colorbar": {
              "outlinewidth": 0,
              "ticks": ""
             }
            },
            "type": "scattercarpet"
           }
          ],
          "scattergeo": [
           {
            "marker": {
             "colorbar": {
              "outlinewidth": 0,
              "ticks": ""
             }
            },
            "type": "scattergeo"
           }
          ],
          "scattergl": [
           {
            "marker": {
             "colorbar": {
              "outlinewidth": 0,
              "ticks": ""
             }
            },
            "type": "scattergl"
           }
          ],
          "scattermapbox": [
           {
            "marker": {
             "colorbar": {
              "outlinewidth": 0,
              "ticks": ""
             }
            },
            "type": "scattermapbox"
           }
          ],
          "scatterpolar": [
           {
            "marker": {
             "colorbar": {
              "outlinewidth": 0,
              "ticks": ""
             }
            },
            "type": "scatterpolar"
           }
          ],
          "scatterpolargl": [
           {
            "marker": {
             "colorbar": {
              "outlinewidth": 0,
              "ticks": ""
             }
            },
            "type": "scatterpolargl"
           }
          ],
          "scatterternary": [
           {
            "marker": {
             "colorbar": {
              "outlinewidth": 0,
              "ticks": ""
             }
            },
            "type": "scatterternary"
           }
          ],
          "surface": [
           {
            "colorbar": {
             "outlinewidth": 0,
             "ticks": ""
            },
            "colorscale": [
             [
              0,
              "#0d0887"
             ],
             [
              0.1111111111111111,
              "#46039f"
             ],
             [
              0.2222222222222222,
              "#7201a8"
             ],
             [
              0.3333333333333333,
              "#9c179e"
             ],
             [
              0.4444444444444444,
              "#bd3786"
             ],
             [
              0.5555555555555556,
              "#d8576b"
             ],
             [
              0.6666666666666666,
              "#ed7953"
             ],
             [
              0.7777777777777778,
              "#fb9f3a"
             ],
             [
              0.8888888888888888,
              "#fdca26"
             ],
             [
              1,
              "#f0f921"
             ]
            ],
            "type": "surface"
           }
          ],
          "table": [
           {
            "cells": {
             "fill": {
              "color": "#EBF0F8"
             },
             "line": {
              "color": "white"
             }
            },
            "header": {
             "fill": {
              "color": "#C8D4E3"
             },
             "line": {
              "color": "white"
             }
            },
            "type": "table"
           }
          ]
         },
         "layout": {
          "annotationdefaults": {
           "arrowcolor": "#2a3f5f",
           "arrowhead": 0,
           "arrowwidth": 1
          },
          "autotypenumbers": "strict",
          "coloraxis": {
           "colorbar": {
            "outlinewidth": 0,
            "ticks": ""
           }
          },
          "colorscale": {
           "diverging": [
            [
             0,
             "#8e0152"
            ],
            [
             0.1,
             "#c51b7d"
            ],
            [
             0.2,
             "#de77ae"
            ],
            [
             0.3,
             "#f1b6da"
            ],
            [
             0.4,
             "#fde0ef"
            ],
            [
             0.5,
             "#f7f7f7"
            ],
            [
             0.6,
             "#e6f5d0"
            ],
            [
             0.7,
             "#b8e186"
            ],
            [
             0.8,
             "#7fbc41"
            ],
            [
             0.9,
             "#4d9221"
            ],
            [
             1,
             "#276419"
            ]
           ],
           "sequential": [
            [
             0,
             "#0d0887"
            ],
            [
             0.1111111111111111,
             "#46039f"
            ],
            [
             0.2222222222222222,
             "#7201a8"
            ],
            [
             0.3333333333333333,
             "#9c179e"
            ],
            [
             0.4444444444444444,
             "#bd3786"
            ],
            [
             0.5555555555555556,
             "#d8576b"
            ],
            [
             0.6666666666666666,
             "#ed7953"
            ],
            [
             0.7777777777777778,
             "#fb9f3a"
            ],
            [
             0.8888888888888888,
             "#fdca26"
            ],
            [
             1,
             "#f0f921"
            ]
           ],
           "sequentialminus": [
            [
             0,
             "#0d0887"
            ],
            [
             0.1111111111111111,
             "#46039f"
            ],
            [
             0.2222222222222222,
             "#7201a8"
            ],
            [
             0.3333333333333333,
             "#9c179e"
            ],
            [
             0.4444444444444444,
             "#bd3786"
            ],
            [
             0.5555555555555556,
             "#d8576b"
            ],
            [
             0.6666666666666666,
             "#ed7953"
            ],
            [
             0.7777777777777778,
             "#fb9f3a"
            ],
            [
             0.8888888888888888,
             "#fdca26"
            ],
            [
             1,
             "#f0f921"
            ]
           ]
          },
          "colorway": [
           "#636efa",
           "#EF553B",
           "#00cc96",
           "#ab63fa",
           "#FFA15A",
           "#19d3f3",
           "#FF6692",
           "#B6E880",
           "#FF97FF",
           "#FECB52"
          ],
          "font": {
           "color": "#2a3f5f"
          },
          "geo": {
           "bgcolor": "white",
           "lakecolor": "white",
           "landcolor": "#E5ECF6",
           "showlakes": true,
           "showland": true,
           "subunitcolor": "white"
          },
          "hoverlabel": {
           "align": "left"
          },
          "hovermode": "closest",
          "mapbox": {
           "style": "light"
          },
          "paper_bgcolor": "white",
          "plot_bgcolor": "#E5ECF6",
          "polar": {
           "angularaxis": {
            "gridcolor": "white",
            "linecolor": "white",
            "ticks": ""
           },
           "bgcolor": "#E5ECF6",
           "radialaxis": {
            "gridcolor": "white",
            "linecolor": "white",
            "ticks": ""
           }
          },
          "scene": {
           "xaxis": {
            "backgroundcolor": "#E5ECF6",
            "gridcolor": "white",
            "gridwidth": 2,
            "linecolor": "white",
            "showbackground": true,
            "ticks": "",
            "zerolinecolor": "white"
           },
           "yaxis": {
            "backgroundcolor": "#E5ECF6",
            "gridcolor": "white",
            "gridwidth": 2,
            "linecolor": "white",
            "showbackground": true,
            "ticks": "",
            "zerolinecolor": "white"
           },
           "zaxis": {
            "backgroundcolor": "#E5ECF6",
            "gridcolor": "white",
            "gridwidth": 2,
            "linecolor": "white",
            "showbackground": true,
            "ticks": "",
            "zerolinecolor": "white"
           }
          },
          "shapedefaults": {
           "line": {
            "color": "#2a3f5f"
           }
          },
          "ternary": {
           "aaxis": {
            "gridcolor": "white",
            "linecolor": "white",
            "ticks": ""
           },
           "baxis": {
            "gridcolor": "white",
            "linecolor": "white",
            "ticks": ""
           },
           "bgcolor": "#E5ECF6",
           "caxis": {
            "gridcolor": "white",
            "linecolor": "white",
            "ticks": ""
           }
          },
          "title": {
           "x": 0.05
          },
          "xaxis": {
           "automargin": true,
           "gridcolor": "white",
           "linecolor": "white",
           "ticks": "",
           "title": {
            "standoff": 15
           },
           "zerolinecolor": "white",
           "zerolinewidth": 2
          },
          "yaxis": {
           "automargin": true,
           "gridcolor": "white",
           "linecolor": "white",
           "ticks": "",
           "title": {
            "standoff": 15
           },
           "zerolinecolor": "white",
           "zerolinewidth": 2
          }
         }
        },
        "xaxis": {
         "anchor": "y",
         "domain": [
          0,
          1
         ],
         "title": {
          "text": "x"
         }
        },
        "yaxis": {
         "anchor": "x",
         "domain": [
          0,
          1
         ],
         "title": {
          "text": "count"
         }
        }
       }
      },
      "text/html": [
       "<div>                            <div id=\"fbdd3e45-7bad-46c8-8acd-802754811ef9\" class=\"plotly-graph-div\" style=\"height:525px; width:100%;\"></div>            <script type=\"text/javascript\">                require([\"plotly\"], function(Plotly) {                    window.PLOTLYENV=window.PLOTLYENV || {};                                    if (document.getElementById(\"fbdd3e45-7bad-46c8-8acd-802754811ef9\")) {                    Plotly.newPlot(                        \"fbdd3e45-7bad-46c8-8acd-802754811ef9\",                        [{\"alignmentgroup\":\"True\",\"bingroup\":\"x\",\"hovertemplate\":\"x=%{x}<br>count=%{y}<extra></extra>\",\"legendgroup\":\"\",\"marker\":{\"color\":\"#636efa\",\"pattern\":{\"shape\":\"\"}},\"name\":\"\",\"offsetgroup\":\"\",\"orientation\":\"v\",\"showlegend\":false,\"x\":[76600.19196398012,79095.75379189182,84235.6224741609,85392.39617552346,83182.33087243061,77409.87505994056,82552.32047504293,76473.84941769815,75790.12499610591,102936.37547376973,74509.47436054744,81020.32785697618,80796.0981315155,80856.6034432456,80990.55053029841,82362.40993709507,79235.05377007683,78161.36331559977,78732.7074541694,91100.67357576433,93765.57860907841,75950.52734865356,77036.89116721135,95330.38767712694,84203.97802446777,85371.85888006278,86087.10907127467,85466.36401586726,75479.69942299015,80575.28946235433,92564.79481225097,84453.94286289539,76809.66328068491,81039.27075880626,71255.63088725519,81340.65053935489,86997.59319964444,81232.4171382151,68747.0330287072,83084.67640193662,97272.60512124977,85724.84066099692,95321.80870605033,94096.08804280864,81619.20078791946,74622.04056001437,73670.08721403012,65564.3024323952,73278.9326227492,79934.92156664666,79337.35100898828,91987.14625918088,81839.70446407964,75972.3475323473,89619.09499901424,79462.78900396568,86422.49076291615,83178.61609449741,83627.36133194629,79886.94646754568,86665.25130537956,83083.70938616933,77854.90540151666,78504.68808373096,80586.09198051633,75922.96740993019,81063.47072027838,83065.82305859686,76828.85836252799,84102.44021369416,81384.6992370437,77088.96704564431,87569.79464921773,89396.40632866064,90207.21635061444,98198.59066265765,81119.48552407871,86653.51117350922,85296.52619517183,83148.30842907792,82227.71200159083,88681.67313276231,86246.5001064623,88384.37715161478,81432.48528721549,83609.1853854696,80923.85246004497,89078.18610509989,80453.00733537802,92868.57485278527,82838.68014035907,81860.45762008312,79752.05848399055,77806.35007626527,74932.30992595409,77675.30746410204,83724.75688160807,78498.28976895446,90290.088517859,85510.83952046788,75376.05292515336,86662.15055495837,85562.00352512015,85156.02535821246,87423.89260027069,89537.6788093939,91863.8446052674,82873.45962444396,88043.7537799487,80540.36937510123,77436.71118207579,88385.97573751461,83385.63570892079,90917.0243649733,78594.17729784986,80645.42878105468,75901.64636145416,89943.83577539111,82617.7256507964,86843.04089636047,76124.20444128118,73774.23953458878,84625.00348834647,79725.8194665578,85287.84554772786,88312.48288220013,87775.56932789135,86826.62133096186,94095.74540387126,72116.4670445223,75593.53668020738,85964.08935397088,75755.81136276704,78831.9972621805,81063.0499535844,79755.22122867989,79701.46600510938,84989.11319155668,76620.00804024895,85228.32091737742,88481.86297479649,74600.69403440494,83068.42267014919,91726.99012099564,92286.52840024536,81241.92668307129,76797.40941635804,79729.73152574453,76772.68152363828,69862.15004037062,83656.75482464893,77030.75045715239,88230.79628406402,82283.03505500355,89281.31087786204,94530.90813655601,85578.93850607882,91068.58404220121,80987.0163355527,83045.67352383607,78502.29278499579,99775.28156552569,81534.01893507552,77873.08190374657,83011.40030493506,77794.58786521724,77972.44225858367,80692.50451240544,81657.8633283865,82293.66982361912,88244.18754678543,86010.46106554923,86837.67527361595,91575.97599791951,85634.50075161218,90875.34730108468,81125.78968075971,81834.41520953261,91510.41367906629,83138.51034088404,82267.5434927035,84041.83754383338,95906.1564624094,81630.76496038432,79402.61613013667,80360.53284395575,81007.00219390701,83930.54279458884,83146.90577082065,75763.33058797696,75856.30637267754,81515.00109176227,73434.24457379509,81716.02242808825,82726.50529992179,92068.09389590457,87490.1012857189,93761.1555213008,87128.48521165774,90550.74846653154],\"xaxis\":\"x\",\"yaxis\":\"y\",\"type\":\"histogram\"}],                        {\"template\":{\"data\":{\"bar\":[{\"error_x\":{\"color\":\"#2a3f5f\"},\"error_y\":{\"color\":\"#2a3f5f\"},\"marker\":{\"line\":{\"color\":\"#E5ECF6\",\"width\":0.5},\"pattern\":{\"fillmode\":\"overlay\",\"size\":10,\"solidity\":0.2}},\"type\":\"bar\"}],\"barpolar\":[{\"marker\":{\"line\":{\"color\":\"#E5ECF6\",\"width\":0.5},\"pattern\":{\"fillmode\":\"overlay\",\"size\":10,\"solidity\":0.2}},\"type\":\"barpolar\"}],\"carpet\":[{\"aaxis\":{\"endlinecolor\":\"#2a3f5f\",\"gridcolor\":\"white\",\"linecolor\":\"white\",\"minorgridcolor\":\"white\",\"startlinecolor\":\"#2a3f5f\"},\"baxis\":{\"endlinecolor\":\"#2a3f5f\",\"gridcolor\":\"white\",\"linecolor\":\"white\",\"minorgridcolor\":\"white\",\"startlinecolor\":\"#2a3f5f\"},\"type\":\"carpet\"}],\"choropleth\":[{\"colorbar\":{\"outlinewidth\":0,\"ticks\":\"\"},\"type\":\"choropleth\"}],\"contour\":[{\"colorbar\":{\"outlinewidth\":0,\"ticks\":\"\"},\"colorscale\":[[0.0,\"#0d0887\"],[0.1111111111111111,\"#46039f\"],[0.2222222222222222,\"#7201a8\"],[0.3333333333333333,\"#9c179e\"],[0.4444444444444444,\"#bd3786\"],[0.5555555555555556,\"#d8576b\"],[0.6666666666666666,\"#ed7953\"],[0.7777777777777778,\"#fb9f3a\"],[0.8888888888888888,\"#fdca26\"],[1.0,\"#f0f921\"]],\"type\":\"contour\"}],\"contourcarpet\":[{\"colorbar\":{\"outlinewidth\":0,\"ticks\":\"\"},\"type\":\"contourcarpet\"}],\"heatmap\":[{\"colorbar\":{\"outlinewidth\":0,\"ticks\":\"\"},\"colorscale\":[[0.0,\"#0d0887\"],[0.1111111111111111,\"#46039f\"],[0.2222222222222222,\"#7201a8\"],[0.3333333333333333,\"#9c179e\"],[0.4444444444444444,\"#bd3786\"],[0.5555555555555556,\"#d8576b\"],[0.6666666666666666,\"#ed7953\"],[0.7777777777777778,\"#fb9f3a\"],[0.8888888888888888,\"#fdca26\"],[1.0,\"#f0f921\"]],\"type\":\"heatmap\"}],\"heatmapgl\":[{\"colorbar\":{\"outlinewidth\":0,\"ticks\":\"\"},\"colorscale\":[[0.0,\"#0d0887\"],[0.1111111111111111,\"#46039f\"],[0.2222222222222222,\"#7201a8\"],[0.3333333333333333,\"#9c179e\"],[0.4444444444444444,\"#bd3786\"],[0.5555555555555556,\"#d8576b\"],[0.6666666666666666,\"#ed7953\"],[0.7777777777777778,\"#fb9f3a\"],[0.8888888888888888,\"#fdca26\"],[1.0,\"#f0f921\"]],\"type\":\"heatmapgl\"}],\"histogram\":[{\"marker\":{\"pattern\":{\"fillmode\":\"overlay\",\"size\":10,\"solidity\":0.2}},\"type\":\"histogram\"}],\"histogram2d\":[{\"colorbar\":{\"outlinewidth\":0,\"ticks\":\"\"},\"colorscale\":[[0.0,\"#0d0887\"],[0.1111111111111111,\"#46039f\"],[0.2222222222222222,\"#7201a8\"],[0.3333333333333333,\"#9c179e\"],[0.4444444444444444,\"#bd3786\"],[0.5555555555555556,\"#d8576b\"],[0.6666666666666666,\"#ed7953\"],[0.7777777777777778,\"#fb9f3a\"],[0.8888888888888888,\"#fdca26\"],[1.0,\"#f0f921\"]],\"type\":\"histogram2d\"}],\"histogram2dcontour\":[{\"colorbar\":{\"outlinewidth\":0,\"ticks\":\"\"},\"colorscale\":[[0.0,\"#0d0887\"],[0.1111111111111111,\"#46039f\"],[0.2222222222222222,\"#7201a8\"],[0.3333333333333333,\"#9c179e\"],[0.4444444444444444,\"#bd3786\"],[0.5555555555555556,\"#d8576b\"],[0.6666666666666666,\"#ed7953\"],[0.7777777777777778,\"#fb9f3a\"],[0.8888888888888888,\"#fdca26\"],[1.0,\"#f0f921\"]],\"type\":\"histogram2dcontour\"}],\"mesh3d\":[{\"colorbar\":{\"outlinewidth\":0,\"ticks\":\"\"},\"type\":\"mesh3d\"}],\"parcoords\":[{\"line\":{\"colorbar\":{\"outlinewidth\":0,\"ticks\":\"\"}},\"type\":\"parcoords\"}],\"pie\":[{\"automargin\":true,\"type\":\"pie\"}],\"scatter\":[{\"marker\":{\"colorbar\":{\"outlinewidth\":0,\"ticks\":\"\"}},\"type\":\"scatter\"}],\"scatter3d\":[{\"line\":{\"colorbar\":{\"outlinewidth\":0,\"ticks\":\"\"}},\"marker\":{\"colorbar\":{\"outlinewidth\":0,\"ticks\":\"\"}},\"type\":\"scatter3d\"}],\"scattercarpet\":[{\"marker\":{\"colorbar\":{\"outlinewidth\":0,\"ticks\":\"\"}},\"type\":\"scattercarpet\"}],\"scattergeo\":[{\"marker\":{\"colorbar\":{\"outlinewidth\":0,\"ticks\":\"\"}},\"type\":\"scattergeo\"}],\"scattergl\":[{\"marker\":{\"colorbar\":{\"outlinewidth\":0,\"ticks\":\"\"}},\"type\":\"scattergl\"}],\"scattermapbox\":[{\"marker\":{\"colorbar\":{\"outlinewidth\":0,\"ticks\":\"\"}},\"type\":\"scattermapbox\"}],\"scatterpolar\":[{\"marker\":{\"colorbar\":{\"outlinewidth\":0,\"ticks\":\"\"}},\"type\":\"scatterpolar\"}],\"scatterpolargl\":[{\"marker\":{\"colorbar\":{\"outlinewidth\":0,\"ticks\":\"\"}},\"type\":\"scatterpolargl\"}],\"scatterternary\":[{\"marker\":{\"colorbar\":{\"outlinewidth\":0,\"ticks\":\"\"}},\"type\":\"scatterternary\"}],\"surface\":[{\"colorbar\":{\"outlinewidth\":0,\"ticks\":\"\"},\"colorscale\":[[0.0,\"#0d0887\"],[0.1111111111111111,\"#46039f\"],[0.2222222222222222,\"#7201a8\"],[0.3333333333333333,\"#9c179e\"],[0.4444444444444444,\"#bd3786\"],[0.5555555555555556,\"#d8576b\"],[0.6666666666666666,\"#ed7953\"],[0.7777777777777778,\"#fb9f3a\"],[0.8888888888888888,\"#fdca26\"],[1.0,\"#f0f921\"]],\"type\":\"surface\"}],\"table\":[{\"cells\":{\"fill\":{\"color\":\"#EBF0F8\"},\"line\":{\"color\":\"white\"}},\"header\":{\"fill\":{\"color\":\"#C8D4E3\"},\"line\":{\"color\":\"white\"}},\"type\":\"table\"}]},\"layout\":{\"annotationdefaults\":{\"arrowcolor\":\"#2a3f5f\",\"arrowhead\":0,\"arrowwidth\":1},\"autotypenumbers\":\"strict\",\"coloraxis\":{\"colorbar\":{\"outlinewidth\":0,\"ticks\":\"\"}},\"colorscale\":{\"diverging\":[[0,\"#8e0152\"],[0.1,\"#c51b7d\"],[0.2,\"#de77ae\"],[0.3,\"#f1b6da\"],[0.4,\"#fde0ef\"],[0.5,\"#f7f7f7\"],[0.6,\"#e6f5d0\"],[0.7,\"#b8e186\"],[0.8,\"#7fbc41\"],[0.9,\"#4d9221\"],[1,\"#276419\"]],\"sequential\":[[0.0,\"#0d0887\"],[0.1111111111111111,\"#46039f\"],[0.2222222222222222,\"#7201a8\"],[0.3333333333333333,\"#9c179e\"],[0.4444444444444444,\"#bd3786\"],[0.5555555555555556,\"#d8576b\"],[0.6666666666666666,\"#ed7953\"],[0.7777777777777778,\"#fb9f3a\"],[0.8888888888888888,\"#fdca26\"],[1.0,\"#f0f921\"]],\"sequentialminus\":[[0.0,\"#0d0887\"],[0.1111111111111111,\"#46039f\"],[0.2222222222222222,\"#7201a8\"],[0.3333333333333333,\"#9c179e\"],[0.4444444444444444,\"#bd3786\"],[0.5555555555555556,\"#d8576b\"],[0.6666666666666666,\"#ed7953\"],[0.7777777777777778,\"#fb9f3a\"],[0.8888888888888888,\"#fdca26\"],[1.0,\"#f0f921\"]]},\"colorway\":[\"#636efa\",\"#EF553B\",\"#00cc96\",\"#ab63fa\",\"#FFA15A\",\"#19d3f3\",\"#FF6692\",\"#B6E880\",\"#FF97FF\",\"#FECB52\"],\"font\":{\"color\":\"#2a3f5f\"},\"geo\":{\"bgcolor\":\"white\",\"lakecolor\":\"white\",\"landcolor\":\"#E5ECF6\",\"showlakes\":true,\"showland\":true,\"subunitcolor\":\"white\"},\"hoverlabel\":{\"align\":\"left\"},\"hovermode\":\"closest\",\"mapbox\":{\"style\":\"light\"},\"paper_bgcolor\":\"white\",\"plot_bgcolor\":\"#E5ECF6\",\"polar\":{\"angularaxis\":{\"gridcolor\":\"white\",\"linecolor\":\"white\",\"ticks\":\"\"},\"bgcolor\":\"#E5ECF6\",\"radialaxis\":{\"gridcolor\":\"white\",\"linecolor\":\"white\",\"ticks\":\"\"}},\"scene\":{\"xaxis\":{\"backgroundcolor\":\"#E5ECF6\",\"gridcolor\":\"white\",\"gridwidth\":2,\"linecolor\":\"white\",\"showbackground\":true,\"ticks\":\"\",\"zerolinecolor\":\"white\"},\"yaxis\":{\"backgroundcolor\":\"#E5ECF6\",\"gridcolor\":\"white\",\"gridwidth\":2,\"linecolor\":\"white\",\"showbackground\":true,\"ticks\":\"\",\"zerolinecolor\":\"white\"},\"zaxis\":{\"backgroundcolor\":\"#E5ECF6\",\"gridcolor\":\"white\",\"gridwidth\":2,\"linecolor\":\"white\",\"showbackground\":true,\"ticks\":\"\",\"zerolinecolor\":\"white\"}},\"shapedefaults\":{\"line\":{\"color\":\"#2a3f5f\"}},\"ternary\":{\"aaxis\":{\"gridcolor\":\"white\",\"linecolor\":\"white\",\"ticks\":\"\"},\"baxis\":{\"gridcolor\":\"white\",\"linecolor\":\"white\",\"ticks\":\"\"},\"bgcolor\":\"#E5ECF6\",\"caxis\":{\"gridcolor\":\"white\",\"linecolor\":\"white\",\"ticks\":\"\"}},\"title\":{\"x\":0.05},\"xaxis\":{\"automargin\":true,\"gridcolor\":\"white\",\"linecolor\":\"white\",\"ticks\":\"\",\"title\":{\"standoff\":15},\"zerolinecolor\":\"white\",\"zerolinewidth\":2},\"yaxis\":{\"automargin\":true,\"gridcolor\":\"white\",\"linecolor\":\"white\",\"ticks\":\"\",\"title\":{\"standoff\":15},\"zerolinecolor\":\"white\",\"zerolinewidth\":2}}},\"xaxis\":{\"anchor\":\"y\",\"domain\":[0.0,1.0],\"title\":{\"text\":\"x\"}},\"yaxis\":{\"anchor\":\"x\",\"domain\":[0.0,1.0],\"title\":{\"text\":\"count\"}},\"legend\":{\"tracegroupgap\":0},\"margin\":{\"t\":60},\"barmode\":\"relative\"},                        {\"responsive\": true}                    ).then(function(){\n",
       "                            \n",
       "var gd = document.getElementById('fbdd3e45-7bad-46c8-8acd-802754811ef9');\n",
       "var x = new MutationObserver(function (mutations, observer) {{\n",
       "        var display = window.getComputedStyle(gd).display;\n",
       "        if (!display || display === 'none') {{\n",
       "            console.log([gd, 'removed!']);\n",
       "            Plotly.purge(gd);\n",
       "            observer.disconnect();\n",
       "        }}\n",
       "}});\n",
       "\n",
       "// Listen for the removal of the full notebook cells\n",
       "var notebookContainer = gd.closest('#notebook-container');\n",
       "if (notebookContainer) {{\n",
       "    x.observe(notebookContainer, {childList: true});\n",
       "}}\n",
       "\n",
       "// Listen for the clearing of the current output cell\n",
       "var outputEl = gd.closest('.output');\n",
       "if (outputEl) {{\n",
       "    x.observe(outputEl, {childList: true});\n",
       "}}\n",
       "\n",
       "                        })                };                });            </script>        </div>"
      ]
     },
     "metadata": {},
     "output_type": "display_data"
    }
   ],
   "source": [
    "import plotly.express as px\n",
    "df = px.data.tips()\n",
    "fig = px.histogram(df, x=sample_median)\n",
    "fig.show()"
   ]
  },
  {
   "cell_type": "code",
   "execution_count": 18,
   "id": "9adbf8d1",
   "metadata": {},
   "outputs": [
    {
     "data": {
      "text/plain": [
       "200"
      ]
     },
     "execution_count": 18,
     "metadata": {},
     "output_type": "execute_result"
    }
   ],
   "source": [
    "sample_median =[]\n",
    "sample =[]\n",
    "for i in range(200):\n",
    "    sample = normal(loc=17486, scale=7459, size=10)\n",
    "    sample = np.append(sample, [normal(loc=32481, scale=18207, size=115)])\n",
    "    sample = np.append(sample, [normal(loc=347044, scale=37225, size=175)])\n",
    "    sample = np.append(sample, [normal(loc=56863, scale=65919, size=123)])\n",
    "    sample = np.append(sample, [normal(loc=59544, scale=103232, size=68)])\n",
    "    sample = np.append(sample, [normal(loc=76572, scale=137916, size=8)])\n",
    "    sample = np.append(sample, [normal(loc=114779, scale=360839, size=2)])\n",
    "    sample_median = np.append(sample_median, np.median(sample))\n",
    "    sample =[]\n",
    "\n",
    "#np.median(sample_mean)\n",
    "\n",
    "#sample_mean = pd.Series(sample_mean)              # Convert sample_means to a series\n",
    "\n",
    "sample_median.size "
   ]
  },
  {
   "cell_type": "code",
   "execution_count": 19,
   "id": "cdea4ed7",
   "metadata": {},
   "outputs": [
    {
     "data": {
      "application/vnd.plotly.v1+json": {
       "config": {
        "plotlyServerURL": "https://plot.ly"
       },
       "data": [
        {
         "alignmentgroup": "True",
         "bingroup": "x",
         "hovertemplate": "x=%{x}<br>count=%{y}<extra></extra>",
         "legendgroup": "",
         "marker": {
          "color": "#636efa",
          "pattern": {
           "shape": ""
          }
         },
         "name": "",
         "offsetgroup": "",
         "orientation": "v",
         "showlegend": false,
         "type": "histogram",
         "x": [
          100337.0067206506,
          100175.51264969894,
          87637.5253876707,
          91176.32699745084,
          84721.74104627641,
          93631.16452819719,
          72057.0979788276,
          87696.17745431696,
          85904.90694005453,
          90762.89782882633,
          91142.72991072896,
          95333.46907149687,
          81735.79280254283,
          76030.24390483894,
          83447.17316634677,
          80914.8651757521,
          86080.25983809447,
          82968.05606935479,
          88376.2300164012,
          90475.13411457221,
          83452.45989554234,
          86987.18376815713,
          87194.0228995081,
          81831.45006023298,
          72360.05672132284,
          77188.64511642618,
          85261.93271418518,
          72715.95404855924,
          88084.57404381652,
          85915.51129698716,
          79295.57828005512,
          87123.83275292041,
          67834.34635423947,
          86825.02112733397,
          90271.9960198761,
          92204.32082116771,
          93756.11473558303,
          79171.84243735057,
          77424.20532318379,
          86511.13649379092,
          72805.77719178474,
          81717.97665662243,
          69798.07170286302,
          77271.30448308436,
          98629.74400675681,
          89734.6262718877,
          81324.66536896308,
          75665.39018228973,
          93096.31069553776,
          86320.26989175154,
          96300.18830625748,
          84180.37066471427,
          89044.92653271228,
          92579.25286425342,
          80819.40283651886,
          76654.92891530477,
          84858.40850603639,
          78888.61478643975,
          93750.0699263142,
          75608.59234543468,
          93632.55343099014,
          75232.52785875673,
          86624.02668841732,
          94853.37345309305,
          88613.39550279852,
          80224.35386486474,
          80206.23951655783,
          68973.30524086462,
          88003.63809510104,
          78737.78864603773,
          83696.85426224781,
          85814.22865561098,
          69286.81252098506,
          74950.72237303492,
          87921.8086696586,
          88059.87237981724,
          81244.58903336816,
          73033.45152392854,
          81031.45399253225,
          77299.2610760946,
          71302.82014645831,
          92946.94086786459,
          83979.93671068005,
          85035.4703957953,
          85976.03844734048,
          87113.32679426779,
          82283.20781842663,
          89542.56374247055,
          76350.94945658415,
          73465.4115796488,
          99789.30091061676,
          83555.59830164941,
          83846.82983506132,
          76671.44260358458,
          88070.75758564378,
          84587.9454457426,
          74684.92311039867,
          82917.47989755531,
          79272.83096144756,
          89224.28400450571,
          74881.17276851836,
          77006.28355680469,
          87620.98291054253,
          85532.53891564728,
          75375.81106500694,
          88507.06238890707,
          86047.50104469208,
          88779.58094678601,
          75549.60920841269,
          78807.30588093873,
          80578.96796520027,
          72651.77662080759,
          80863.17874877875,
          88680.71748310557,
          100474.82538305139,
          75339.32061592725,
          86144.76299145883,
          82650.58443848834,
          88074.33278944553,
          77380.91666244424,
          86014.55858680049,
          80885.09444179611,
          77225.22087067924,
          80799.30123958694,
          70066.44912149469,
          86338.75972608544,
          80792.23197608869,
          86425.1303819183,
          71806.95279611374,
          103348.74373364577,
          91176.31456607248,
          85847.98771695278,
          86835.73871758954,
          81099.8754682031,
          81961.7607806855,
          83758.83028180999,
          77233.63257411704,
          78797.32275682365,
          77591.17673382405,
          82198.23462394423,
          84218.58023753169,
          80713.59976086373,
          86630.54698386323,
          78567.10357482934,
          81112.97543235081,
          78839.47430431418,
          80469.30994849314,
          81659.06641128084,
          79705.56893039178,
          83688.08336273985,
          79527.19381264674,
          77260.91393761762,
          84744.98726077244,
          82910.87876830158,
          75284.87278617446,
          77806.53842161357,
          87015.6188098568,
          90193.74327140971,
          94625.26755568013,
          80442.88489895793,
          84318.1899110756,
          84104.06246590888,
          76585.03013787087,
          75698.33433875741,
          75599.79459026115,
          85797.17576110523,
          85040.02890931776,
          90789.61109168691,
          81852.62982548708,
          84340.05571040932,
          68676.93308036287,
          82007.33877384855,
          97200.68421426427,
          88184.30959587215,
          72412.52859661721,
          88517.22308050389,
          86001.23780482353,
          76663.37101865791,
          83127.43963284582,
          84704.15859991973,
          82447.74819416722,
          78368.71029962075,
          87215.20456113323,
          87141.53210498128,
          89075.95118541023,
          91004.11824681239,
          95077.74896083545,
          83846.98760500859,
          79676.92079048773,
          79927.33265894256,
          81363.95024651557,
          86727.09787446572,
          88903.92246860595,
          80192.28297952938,
          84417.92613227105,
          78646.08670101914,
          80497.44743076373,
          83361.60394921209,
          86044.68084845864,
          87629.56987189638
         ],
         "xaxis": "x",
         "yaxis": "y"
        }
       ],
       "layout": {
        "barmode": "relative",
        "legend": {
         "tracegroupgap": 0
        },
        "margin": {
         "t": 60
        },
        "template": {
         "data": {
          "bar": [
           {
            "error_x": {
             "color": "#2a3f5f"
            },
            "error_y": {
             "color": "#2a3f5f"
            },
            "marker": {
             "line": {
              "color": "#E5ECF6",
              "width": 0.5
             },
             "pattern": {
              "fillmode": "overlay",
              "size": 10,
              "solidity": 0.2
             }
            },
            "type": "bar"
           }
          ],
          "barpolar": [
           {
            "marker": {
             "line": {
              "color": "#E5ECF6",
              "width": 0.5
             },
             "pattern": {
              "fillmode": "overlay",
              "size": 10,
              "solidity": 0.2
             }
            },
            "type": "barpolar"
           }
          ],
          "carpet": [
           {
            "aaxis": {
             "endlinecolor": "#2a3f5f",
             "gridcolor": "white",
             "linecolor": "white",
             "minorgridcolor": "white",
             "startlinecolor": "#2a3f5f"
            },
            "baxis": {
             "endlinecolor": "#2a3f5f",
             "gridcolor": "white",
             "linecolor": "white",
             "minorgridcolor": "white",
             "startlinecolor": "#2a3f5f"
            },
            "type": "carpet"
           }
          ],
          "choropleth": [
           {
            "colorbar": {
             "outlinewidth": 0,
             "ticks": ""
            },
            "type": "choropleth"
           }
          ],
          "contour": [
           {
            "colorbar": {
             "outlinewidth": 0,
             "ticks": ""
            },
            "colorscale": [
             [
              0,
              "#0d0887"
             ],
             [
              0.1111111111111111,
              "#46039f"
             ],
             [
              0.2222222222222222,
              "#7201a8"
             ],
             [
              0.3333333333333333,
              "#9c179e"
             ],
             [
              0.4444444444444444,
              "#bd3786"
             ],
             [
              0.5555555555555556,
              "#d8576b"
             ],
             [
              0.6666666666666666,
              "#ed7953"
             ],
             [
              0.7777777777777778,
              "#fb9f3a"
             ],
             [
              0.8888888888888888,
              "#fdca26"
             ],
             [
              1,
              "#f0f921"
             ]
            ],
            "type": "contour"
           }
          ],
          "contourcarpet": [
           {
            "colorbar": {
             "outlinewidth": 0,
             "ticks": ""
            },
            "type": "contourcarpet"
           }
          ],
          "heatmap": [
           {
            "colorbar": {
             "outlinewidth": 0,
             "ticks": ""
            },
            "colorscale": [
             [
              0,
              "#0d0887"
             ],
             [
              0.1111111111111111,
              "#46039f"
             ],
             [
              0.2222222222222222,
              "#7201a8"
             ],
             [
              0.3333333333333333,
              "#9c179e"
             ],
             [
              0.4444444444444444,
              "#bd3786"
             ],
             [
              0.5555555555555556,
              "#d8576b"
             ],
             [
              0.6666666666666666,
              "#ed7953"
             ],
             [
              0.7777777777777778,
              "#fb9f3a"
             ],
             [
              0.8888888888888888,
              "#fdca26"
             ],
             [
              1,
              "#f0f921"
             ]
            ],
            "type": "heatmap"
           }
          ],
          "heatmapgl": [
           {
            "colorbar": {
             "outlinewidth": 0,
             "ticks": ""
            },
            "colorscale": [
             [
              0,
              "#0d0887"
             ],
             [
              0.1111111111111111,
              "#46039f"
             ],
             [
              0.2222222222222222,
              "#7201a8"
             ],
             [
              0.3333333333333333,
              "#9c179e"
             ],
             [
              0.4444444444444444,
              "#bd3786"
             ],
             [
              0.5555555555555556,
              "#d8576b"
             ],
             [
              0.6666666666666666,
              "#ed7953"
             ],
             [
              0.7777777777777778,
              "#fb9f3a"
             ],
             [
              0.8888888888888888,
              "#fdca26"
             ],
             [
              1,
              "#f0f921"
             ]
            ],
            "type": "heatmapgl"
           }
          ],
          "histogram": [
           {
            "marker": {
             "pattern": {
              "fillmode": "overlay",
              "size": 10,
              "solidity": 0.2
             }
            },
            "type": "histogram"
           }
          ],
          "histogram2d": [
           {
            "colorbar": {
             "outlinewidth": 0,
             "ticks": ""
            },
            "colorscale": [
             [
              0,
              "#0d0887"
             ],
             [
              0.1111111111111111,
              "#46039f"
             ],
             [
              0.2222222222222222,
              "#7201a8"
             ],
             [
              0.3333333333333333,
              "#9c179e"
             ],
             [
              0.4444444444444444,
              "#bd3786"
             ],
             [
              0.5555555555555556,
              "#d8576b"
             ],
             [
              0.6666666666666666,
              "#ed7953"
             ],
             [
              0.7777777777777778,
              "#fb9f3a"
             ],
             [
              0.8888888888888888,
              "#fdca26"
             ],
             [
              1,
              "#f0f921"
             ]
            ],
            "type": "histogram2d"
           }
          ],
          "histogram2dcontour": [
           {
            "colorbar": {
             "outlinewidth": 0,
             "ticks": ""
            },
            "colorscale": [
             [
              0,
              "#0d0887"
             ],
             [
              0.1111111111111111,
              "#46039f"
             ],
             [
              0.2222222222222222,
              "#7201a8"
             ],
             [
              0.3333333333333333,
              "#9c179e"
             ],
             [
              0.4444444444444444,
              "#bd3786"
             ],
             [
              0.5555555555555556,
              "#d8576b"
             ],
             [
              0.6666666666666666,
              "#ed7953"
             ],
             [
              0.7777777777777778,
              "#fb9f3a"
             ],
             [
              0.8888888888888888,
              "#fdca26"
             ],
             [
              1,
              "#f0f921"
             ]
            ],
            "type": "histogram2dcontour"
           }
          ],
          "mesh3d": [
           {
            "colorbar": {
             "outlinewidth": 0,
             "ticks": ""
            },
            "type": "mesh3d"
           }
          ],
          "parcoords": [
           {
            "line": {
             "colorbar": {
              "outlinewidth": 0,
              "ticks": ""
             }
            },
            "type": "parcoords"
           }
          ],
          "pie": [
           {
            "automargin": true,
            "type": "pie"
           }
          ],
          "scatter": [
           {
            "marker": {
             "colorbar": {
              "outlinewidth": 0,
              "ticks": ""
             }
            },
            "type": "scatter"
           }
          ],
          "scatter3d": [
           {
            "line": {
             "colorbar": {
              "outlinewidth": 0,
              "ticks": ""
             }
            },
            "marker": {
             "colorbar": {
              "outlinewidth": 0,
              "ticks": ""
             }
            },
            "type": "scatter3d"
           }
          ],
          "scattercarpet": [
           {
            "marker": {
             "colorbar": {
              "outlinewidth": 0,
              "ticks": ""
             }
            },
            "type": "scattercarpet"
           }
          ],
          "scattergeo": [
           {
            "marker": {
             "colorbar": {
              "outlinewidth": 0,
              "ticks": ""
             }
            },
            "type": "scattergeo"
           }
          ],
          "scattergl": [
           {
            "marker": {
             "colorbar": {
              "outlinewidth": 0,
              "ticks": ""
             }
            },
            "type": "scattergl"
           }
          ],
          "scattermapbox": [
           {
            "marker": {
             "colorbar": {
              "outlinewidth": 0,
              "ticks": ""
             }
            },
            "type": "scattermapbox"
           }
          ],
          "scatterpolar": [
           {
            "marker": {
             "colorbar": {
              "outlinewidth": 0,
              "ticks": ""
             }
            },
            "type": "scatterpolar"
           }
          ],
          "scatterpolargl": [
           {
            "marker": {
             "colorbar": {
              "outlinewidth": 0,
              "ticks": ""
             }
            },
            "type": "scatterpolargl"
           }
          ],
          "scatterternary": [
           {
            "marker": {
             "colorbar": {
              "outlinewidth": 0,
              "ticks": ""
             }
            },
            "type": "scatterternary"
           }
          ],
          "surface": [
           {
            "colorbar": {
             "outlinewidth": 0,
             "ticks": ""
            },
            "colorscale": [
             [
              0,
              "#0d0887"
             ],
             [
              0.1111111111111111,
              "#46039f"
             ],
             [
              0.2222222222222222,
              "#7201a8"
             ],
             [
              0.3333333333333333,
              "#9c179e"
             ],
             [
              0.4444444444444444,
              "#bd3786"
             ],
             [
              0.5555555555555556,
              "#d8576b"
             ],
             [
              0.6666666666666666,
              "#ed7953"
             ],
             [
              0.7777777777777778,
              "#fb9f3a"
             ],
             [
              0.8888888888888888,
              "#fdca26"
             ],
             [
              1,
              "#f0f921"
             ]
            ],
            "type": "surface"
           }
          ],
          "table": [
           {
            "cells": {
             "fill": {
              "color": "#EBF0F8"
             },
             "line": {
              "color": "white"
             }
            },
            "header": {
             "fill": {
              "color": "#C8D4E3"
             },
             "line": {
              "color": "white"
             }
            },
            "type": "table"
           }
          ]
         },
         "layout": {
          "annotationdefaults": {
           "arrowcolor": "#2a3f5f",
           "arrowhead": 0,
           "arrowwidth": 1
          },
          "autotypenumbers": "strict",
          "coloraxis": {
           "colorbar": {
            "outlinewidth": 0,
            "ticks": ""
           }
          },
          "colorscale": {
           "diverging": [
            [
             0,
             "#8e0152"
            ],
            [
             0.1,
             "#c51b7d"
            ],
            [
             0.2,
             "#de77ae"
            ],
            [
             0.3,
             "#f1b6da"
            ],
            [
             0.4,
             "#fde0ef"
            ],
            [
             0.5,
             "#f7f7f7"
            ],
            [
             0.6,
             "#e6f5d0"
            ],
            [
             0.7,
             "#b8e186"
            ],
            [
             0.8,
             "#7fbc41"
            ],
            [
             0.9,
             "#4d9221"
            ],
            [
             1,
             "#276419"
            ]
           ],
           "sequential": [
            [
             0,
             "#0d0887"
            ],
            [
             0.1111111111111111,
             "#46039f"
            ],
            [
             0.2222222222222222,
             "#7201a8"
            ],
            [
             0.3333333333333333,
             "#9c179e"
            ],
            [
             0.4444444444444444,
             "#bd3786"
            ],
            [
             0.5555555555555556,
             "#d8576b"
            ],
            [
             0.6666666666666666,
             "#ed7953"
            ],
            [
             0.7777777777777778,
             "#fb9f3a"
            ],
            [
             0.8888888888888888,
             "#fdca26"
            ],
            [
             1,
             "#f0f921"
            ]
           ],
           "sequentialminus": [
            [
             0,
             "#0d0887"
            ],
            [
             0.1111111111111111,
             "#46039f"
            ],
            [
             0.2222222222222222,
             "#7201a8"
            ],
            [
             0.3333333333333333,
             "#9c179e"
            ],
            [
             0.4444444444444444,
             "#bd3786"
            ],
            [
             0.5555555555555556,
             "#d8576b"
            ],
            [
             0.6666666666666666,
             "#ed7953"
            ],
            [
             0.7777777777777778,
             "#fb9f3a"
            ],
            [
             0.8888888888888888,
             "#fdca26"
            ],
            [
             1,
             "#f0f921"
            ]
           ]
          },
          "colorway": [
           "#636efa",
           "#EF553B",
           "#00cc96",
           "#ab63fa",
           "#FFA15A",
           "#19d3f3",
           "#FF6692",
           "#B6E880",
           "#FF97FF",
           "#FECB52"
          ],
          "font": {
           "color": "#2a3f5f"
          },
          "geo": {
           "bgcolor": "white",
           "lakecolor": "white",
           "landcolor": "#E5ECF6",
           "showlakes": true,
           "showland": true,
           "subunitcolor": "white"
          },
          "hoverlabel": {
           "align": "left"
          },
          "hovermode": "closest",
          "mapbox": {
           "style": "light"
          },
          "paper_bgcolor": "white",
          "plot_bgcolor": "#E5ECF6",
          "polar": {
           "angularaxis": {
            "gridcolor": "white",
            "linecolor": "white",
            "ticks": ""
           },
           "bgcolor": "#E5ECF6",
           "radialaxis": {
            "gridcolor": "white",
            "linecolor": "white",
            "ticks": ""
           }
          },
          "scene": {
           "xaxis": {
            "backgroundcolor": "#E5ECF6",
            "gridcolor": "white",
            "gridwidth": 2,
            "linecolor": "white",
            "showbackground": true,
            "ticks": "",
            "zerolinecolor": "white"
           },
           "yaxis": {
            "backgroundcolor": "#E5ECF6",
            "gridcolor": "white",
            "gridwidth": 2,
            "linecolor": "white",
            "showbackground": true,
            "ticks": "",
            "zerolinecolor": "white"
           },
           "zaxis": {
            "backgroundcolor": "#E5ECF6",
            "gridcolor": "white",
            "gridwidth": 2,
            "linecolor": "white",
            "showbackground": true,
            "ticks": "",
            "zerolinecolor": "white"
           }
          },
          "shapedefaults": {
           "line": {
            "color": "#2a3f5f"
           }
          },
          "ternary": {
           "aaxis": {
            "gridcolor": "white",
            "linecolor": "white",
            "ticks": ""
           },
           "baxis": {
            "gridcolor": "white",
            "linecolor": "white",
            "ticks": ""
           },
           "bgcolor": "#E5ECF6",
           "caxis": {
            "gridcolor": "white",
            "linecolor": "white",
            "ticks": ""
           }
          },
          "title": {
           "x": 0.05
          },
          "xaxis": {
           "automargin": true,
           "gridcolor": "white",
           "linecolor": "white",
           "ticks": "",
           "title": {
            "standoff": 15
           },
           "zerolinecolor": "white",
           "zerolinewidth": 2
          },
          "yaxis": {
           "automargin": true,
           "gridcolor": "white",
           "linecolor": "white",
           "ticks": "",
           "title": {
            "standoff": 15
           },
           "zerolinecolor": "white",
           "zerolinewidth": 2
          }
         }
        },
        "xaxis": {
         "anchor": "y",
         "domain": [
          0,
          1
         ],
         "title": {
          "text": "x"
         }
        },
        "yaxis": {
         "anchor": "x",
         "domain": [
          0,
          1
         ],
         "title": {
          "text": "count"
         }
        }
       }
      },
      "text/html": [
       "<div>                            <div id=\"d8051676-b7b4-408e-a24a-baeaedd9657c\" class=\"plotly-graph-div\" style=\"height:525px; width:100%;\"></div>            <script type=\"text/javascript\">                require([\"plotly\"], function(Plotly) {                    window.PLOTLYENV=window.PLOTLYENV || {};                                    if (document.getElementById(\"d8051676-b7b4-408e-a24a-baeaedd9657c\")) {                    Plotly.newPlot(                        \"d8051676-b7b4-408e-a24a-baeaedd9657c\",                        [{\"alignmentgroup\":\"True\",\"bingroup\":\"x\",\"hovertemplate\":\"x=%{x}<br>count=%{y}<extra></extra>\",\"legendgroup\":\"\",\"marker\":{\"color\":\"#636efa\",\"pattern\":{\"shape\":\"\"}},\"name\":\"\",\"offsetgroup\":\"\",\"orientation\":\"v\",\"showlegend\":false,\"x\":[100337.0067206506,100175.51264969894,87637.5253876707,91176.32699745084,84721.74104627641,93631.16452819719,72057.0979788276,87696.17745431696,85904.90694005453,90762.89782882633,91142.72991072896,95333.46907149687,81735.79280254283,76030.24390483894,83447.17316634677,80914.8651757521,86080.25983809447,82968.05606935479,88376.2300164012,90475.13411457221,83452.45989554234,86987.18376815713,87194.0228995081,81831.45006023298,72360.05672132284,77188.64511642618,85261.93271418518,72715.95404855924,88084.57404381652,85915.51129698716,79295.57828005512,87123.83275292041,67834.34635423947,86825.02112733397,90271.9960198761,92204.32082116771,93756.11473558303,79171.84243735057,77424.20532318379,86511.13649379092,72805.77719178474,81717.97665662243,69798.07170286302,77271.30448308436,98629.74400675681,89734.6262718877,81324.66536896308,75665.39018228973,93096.31069553776,86320.26989175154,96300.18830625748,84180.37066471427,89044.92653271228,92579.25286425342,80819.40283651886,76654.92891530477,84858.40850603639,78888.61478643975,93750.0699263142,75608.59234543468,93632.55343099014,75232.52785875673,86624.02668841732,94853.37345309305,88613.39550279852,80224.35386486474,80206.23951655783,68973.30524086462,88003.63809510104,78737.78864603773,83696.85426224781,85814.22865561098,69286.81252098506,74950.72237303492,87921.8086696586,88059.87237981724,81244.58903336816,73033.45152392854,81031.45399253225,77299.2610760946,71302.82014645831,92946.94086786459,83979.93671068005,85035.4703957953,85976.03844734048,87113.32679426779,82283.20781842663,89542.56374247055,76350.94945658415,73465.4115796488,99789.30091061676,83555.59830164941,83846.82983506132,76671.44260358458,88070.75758564378,84587.9454457426,74684.92311039867,82917.47989755531,79272.83096144756,89224.28400450571,74881.17276851836,77006.28355680469,87620.98291054253,85532.53891564728,75375.81106500694,88507.06238890707,86047.50104469208,88779.58094678601,75549.60920841269,78807.30588093873,80578.96796520027,72651.77662080759,80863.17874877875,88680.71748310557,100474.82538305139,75339.32061592725,86144.76299145883,82650.58443848834,88074.33278944553,77380.91666244424,86014.55858680049,80885.09444179611,77225.22087067924,80799.30123958694,70066.44912149469,86338.75972608544,80792.23197608869,86425.1303819183,71806.95279611374,103348.74373364577,91176.31456607248,85847.98771695278,86835.73871758954,81099.8754682031,81961.7607806855,83758.83028180999,77233.63257411704,78797.32275682365,77591.17673382405,82198.23462394423,84218.58023753169,80713.59976086373,86630.54698386323,78567.10357482934,81112.97543235081,78839.47430431418,80469.30994849314,81659.06641128084,79705.56893039178,83688.08336273985,79527.19381264674,77260.91393761762,84744.98726077244,82910.87876830158,75284.87278617446,77806.53842161357,87015.6188098568,90193.74327140971,94625.26755568013,80442.88489895793,84318.1899110756,84104.06246590888,76585.03013787087,75698.33433875741,75599.79459026115,85797.17576110523,85040.02890931776,90789.61109168691,81852.62982548708,84340.05571040932,68676.93308036287,82007.33877384855,97200.68421426427,88184.30959587215,72412.52859661721,88517.22308050389,86001.23780482353,76663.37101865791,83127.43963284582,84704.15859991973,82447.74819416722,78368.71029962075,87215.20456113323,87141.53210498128,89075.95118541023,91004.11824681239,95077.74896083545,83846.98760500859,79676.92079048773,79927.33265894256,81363.95024651557,86727.09787446572,88903.92246860595,80192.28297952938,84417.92613227105,78646.08670101914,80497.44743076373,83361.60394921209,86044.68084845864,87629.56987189638],\"xaxis\":\"x\",\"yaxis\":\"y\",\"type\":\"histogram\"}],                        {\"template\":{\"data\":{\"bar\":[{\"error_x\":{\"color\":\"#2a3f5f\"},\"error_y\":{\"color\":\"#2a3f5f\"},\"marker\":{\"line\":{\"color\":\"#E5ECF6\",\"width\":0.5},\"pattern\":{\"fillmode\":\"overlay\",\"size\":10,\"solidity\":0.2}},\"type\":\"bar\"}],\"barpolar\":[{\"marker\":{\"line\":{\"color\":\"#E5ECF6\",\"width\":0.5},\"pattern\":{\"fillmode\":\"overlay\",\"size\":10,\"solidity\":0.2}},\"type\":\"barpolar\"}],\"carpet\":[{\"aaxis\":{\"endlinecolor\":\"#2a3f5f\",\"gridcolor\":\"white\",\"linecolor\":\"white\",\"minorgridcolor\":\"white\",\"startlinecolor\":\"#2a3f5f\"},\"baxis\":{\"endlinecolor\":\"#2a3f5f\",\"gridcolor\":\"white\",\"linecolor\":\"white\",\"minorgridcolor\":\"white\",\"startlinecolor\":\"#2a3f5f\"},\"type\":\"carpet\"}],\"choropleth\":[{\"colorbar\":{\"outlinewidth\":0,\"ticks\":\"\"},\"type\":\"choropleth\"}],\"contour\":[{\"colorbar\":{\"outlinewidth\":0,\"ticks\":\"\"},\"colorscale\":[[0.0,\"#0d0887\"],[0.1111111111111111,\"#46039f\"],[0.2222222222222222,\"#7201a8\"],[0.3333333333333333,\"#9c179e\"],[0.4444444444444444,\"#bd3786\"],[0.5555555555555556,\"#d8576b\"],[0.6666666666666666,\"#ed7953\"],[0.7777777777777778,\"#fb9f3a\"],[0.8888888888888888,\"#fdca26\"],[1.0,\"#f0f921\"]],\"type\":\"contour\"}],\"contourcarpet\":[{\"colorbar\":{\"outlinewidth\":0,\"ticks\":\"\"},\"type\":\"contourcarpet\"}],\"heatmap\":[{\"colorbar\":{\"outlinewidth\":0,\"ticks\":\"\"},\"colorscale\":[[0.0,\"#0d0887\"],[0.1111111111111111,\"#46039f\"],[0.2222222222222222,\"#7201a8\"],[0.3333333333333333,\"#9c179e\"],[0.4444444444444444,\"#bd3786\"],[0.5555555555555556,\"#d8576b\"],[0.6666666666666666,\"#ed7953\"],[0.7777777777777778,\"#fb9f3a\"],[0.8888888888888888,\"#fdca26\"],[1.0,\"#f0f921\"]],\"type\":\"heatmap\"}],\"heatmapgl\":[{\"colorbar\":{\"outlinewidth\":0,\"ticks\":\"\"},\"colorscale\":[[0.0,\"#0d0887\"],[0.1111111111111111,\"#46039f\"],[0.2222222222222222,\"#7201a8\"],[0.3333333333333333,\"#9c179e\"],[0.4444444444444444,\"#bd3786\"],[0.5555555555555556,\"#d8576b\"],[0.6666666666666666,\"#ed7953\"],[0.7777777777777778,\"#fb9f3a\"],[0.8888888888888888,\"#fdca26\"],[1.0,\"#f0f921\"]],\"type\":\"heatmapgl\"}],\"histogram\":[{\"marker\":{\"pattern\":{\"fillmode\":\"overlay\",\"size\":10,\"solidity\":0.2}},\"type\":\"histogram\"}],\"histogram2d\":[{\"colorbar\":{\"outlinewidth\":0,\"ticks\":\"\"},\"colorscale\":[[0.0,\"#0d0887\"],[0.1111111111111111,\"#46039f\"],[0.2222222222222222,\"#7201a8\"],[0.3333333333333333,\"#9c179e\"],[0.4444444444444444,\"#bd3786\"],[0.5555555555555556,\"#d8576b\"],[0.6666666666666666,\"#ed7953\"],[0.7777777777777778,\"#fb9f3a\"],[0.8888888888888888,\"#fdca26\"],[1.0,\"#f0f921\"]],\"type\":\"histogram2d\"}],\"histogram2dcontour\":[{\"colorbar\":{\"outlinewidth\":0,\"ticks\":\"\"},\"colorscale\":[[0.0,\"#0d0887\"],[0.1111111111111111,\"#46039f\"],[0.2222222222222222,\"#7201a8\"],[0.3333333333333333,\"#9c179e\"],[0.4444444444444444,\"#bd3786\"],[0.5555555555555556,\"#d8576b\"],[0.6666666666666666,\"#ed7953\"],[0.7777777777777778,\"#fb9f3a\"],[0.8888888888888888,\"#fdca26\"],[1.0,\"#f0f921\"]],\"type\":\"histogram2dcontour\"}],\"mesh3d\":[{\"colorbar\":{\"outlinewidth\":0,\"ticks\":\"\"},\"type\":\"mesh3d\"}],\"parcoords\":[{\"line\":{\"colorbar\":{\"outlinewidth\":0,\"ticks\":\"\"}},\"type\":\"parcoords\"}],\"pie\":[{\"automargin\":true,\"type\":\"pie\"}],\"scatter\":[{\"marker\":{\"colorbar\":{\"outlinewidth\":0,\"ticks\":\"\"}},\"type\":\"scatter\"}],\"scatter3d\":[{\"line\":{\"colorbar\":{\"outlinewidth\":0,\"ticks\":\"\"}},\"marker\":{\"colorbar\":{\"outlinewidth\":0,\"ticks\":\"\"}},\"type\":\"scatter3d\"}],\"scattercarpet\":[{\"marker\":{\"colorbar\":{\"outlinewidth\":0,\"ticks\":\"\"}},\"type\":\"scattercarpet\"}],\"scattergeo\":[{\"marker\":{\"colorbar\":{\"outlinewidth\":0,\"ticks\":\"\"}},\"type\":\"scattergeo\"}],\"scattergl\":[{\"marker\":{\"colorbar\":{\"outlinewidth\":0,\"ticks\":\"\"}},\"type\":\"scattergl\"}],\"scattermapbox\":[{\"marker\":{\"colorbar\":{\"outlinewidth\":0,\"ticks\":\"\"}},\"type\":\"scattermapbox\"}],\"scatterpolar\":[{\"marker\":{\"colorbar\":{\"outlinewidth\":0,\"ticks\":\"\"}},\"type\":\"scatterpolar\"}],\"scatterpolargl\":[{\"marker\":{\"colorbar\":{\"outlinewidth\":0,\"ticks\":\"\"}},\"type\":\"scatterpolargl\"}],\"scatterternary\":[{\"marker\":{\"colorbar\":{\"outlinewidth\":0,\"ticks\":\"\"}},\"type\":\"scatterternary\"}],\"surface\":[{\"colorbar\":{\"outlinewidth\":0,\"ticks\":\"\"},\"colorscale\":[[0.0,\"#0d0887\"],[0.1111111111111111,\"#46039f\"],[0.2222222222222222,\"#7201a8\"],[0.3333333333333333,\"#9c179e\"],[0.4444444444444444,\"#bd3786\"],[0.5555555555555556,\"#d8576b\"],[0.6666666666666666,\"#ed7953\"],[0.7777777777777778,\"#fb9f3a\"],[0.8888888888888888,\"#fdca26\"],[1.0,\"#f0f921\"]],\"type\":\"surface\"}],\"table\":[{\"cells\":{\"fill\":{\"color\":\"#EBF0F8\"},\"line\":{\"color\":\"white\"}},\"header\":{\"fill\":{\"color\":\"#C8D4E3\"},\"line\":{\"color\":\"white\"}},\"type\":\"table\"}]},\"layout\":{\"annotationdefaults\":{\"arrowcolor\":\"#2a3f5f\",\"arrowhead\":0,\"arrowwidth\":1},\"autotypenumbers\":\"strict\",\"coloraxis\":{\"colorbar\":{\"outlinewidth\":0,\"ticks\":\"\"}},\"colorscale\":{\"diverging\":[[0,\"#8e0152\"],[0.1,\"#c51b7d\"],[0.2,\"#de77ae\"],[0.3,\"#f1b6da\"],[0.4,\"#fde0ef\"],[0.5,\"#f7f7f7\"],[0.6,\"#e6f5d0\"],[0.7,\"#b8e186\"],[0.8,\"#7fbc41\"],[0.9,\"#4d9221\"],[1,\"#276419\"]],\"sequential\":[[0.0,\"#0d0887\"],[0.1111111111111111,\"#46039f\"],[0.2222222222222222,\"#7201a8\"],[0.3333333333333333,\"#9c179e\"],[0.4444444444444444,\"#bd3786\"],[0.5555555555555556,\"#d8576b\"],[0.6666666666666666,\"#ed7953\"],[0.7777777777777778,\"#fb9f3a\"],[0.8888888888888888,\"#fdca26\"],[1.0,\"#f0f921\"]],\"sequentialminus\":[[0.0,\"#0d0887\"],[0.1111111111111111,\"#46039f\"],[0.2222222222222222,\"#7201a8\"],[0.3333333333333333,\"#9c179e\"],[0.4444444444444444,\"#bd3786\"],[0.5555555555555556,\"#d8576b\"],[0.6666666666666666,\"#ed7953\"],[0.7777777777777778,\"#fb9f3a\"],[0.8888888888888888,\"#fdca26\"],[1.0,\"#f0f921\"]]},\"colorway\":[\"#636efa\",\"#EF553B\",\"#00cc96\",\"#ab63fa\",\"#FFA15A\",\"#19d3f3\",\"#FF6692\",\"#B6E880\",\"#FF97FF\",\"#FECB52\"],\"font\":{\"color\":\"#2a3f5f\"},\"geo\":{\"bgcolor\":\"white\",\"lakecolor\":\"white\",\"landcolor\":\"#E5ECF6\",\"showlakes\":true,\"showland\":true,\"subunitcolor\":\"white\"},\"hoverlabel\":{\"align\":\"left\"},\"hovermode\":\"closest\",\"mapbox\":{\"style\":\"light\"},\"paper_bgcolor\":\"white\",\"plot_bgcolor\":\"#E5ECF6\",\"polar\":{\"angularaxis\":{\"gridcolor\":\"white\",\"linecolor\":\"white\",\"ticks\":\"\"},\"bgcolor\":\"#E5ECF6\",\"radialaxis\":{\"gridcolor\":\"white\",\"linecolor\":\"white\",\"ticks\":\"\"}},\"scene\":{\"xaxis\":{\"backgroundcolor\":\"#E5ECF6\",\"gridcolor\":\"white\",\"gridwidth\":2,\"linecolor\":\"white\",\"showbackground\":true,\"ticks\":\"\",\"zerolinecolor\":\"white\"},\"yaxis\":{\"backgroundcolor\":\"#E5ECF6\",\"gridcolor\":\"white\",\"gridwidth\":2,\"linecolor\":\"white\",\"showbackground\":true,\"ticks\":\"\",\"zerolinecolor\":\"white\"},\"zaxis\":{\"backgroundcolor\":\"#E5ECF6\",\"gridcolor\":\"white\",\"gridwidth\":2,\"linecolor\":\"white\",\"showbackground\":true,\"ticks\":\"\",\"zerolinecolor\":\"white\"}},\"shapedefaults\":{\"line\":{\"color\":\"#2a3f5f\"}},\"ternary\":{\"aaxis\":{\"gridcolor\":\"white\",\"linecolor\":\"white\",\"ticks\":\"\"},\"baxis\":{\"gridcolor\":\"white\",\"linecolor\":\"white\",\"ticks\":\"\"},\"bgcolor\":\"#E5ECF6\",\"caxis\":{\"gridcolor\":\"white\",\"linecolor\":\"white\",\"ticks\":\"\"}},\"title\":{\"x\":0.05},\"xaxis\":{\"automargin\":true,\"gridcolor\":\"white\",\"linecolor\":\"white\",\"ticks\":\"\",\"title\":{\"standoff\":15},\"zerolinecolor\":\"white\",\"zerolinewidth\":2},\"yaxis\":{\"automargin\":true,\"gridcolor\":\"white\",\"linecolor\":\"white\",\"ticks\":\"\",\"title\":{\"standoff\":15},\"zerolinecolor\":\"white\",\"zerolinewidth\":2}}},\"xaxis\":{\"anchor\":\"y\",\"domain\":[0.0,1.0],\"title\":{\"text\":\"x\"}},\"yaxis\":{\"anchor\":\"x\",\"domain\":[0.0,1.0],\"title\":{\"text\":\"count\"}},\"legend\":{\"tracegroupgap\":0},\"margin\":{\"t\":60},\"barmode\":\"relative\"},                        {\"responsive\": true}                    ).then(function(){\n",
       "                            \n",
       "var gd = document.getElementById('d8051676-b7b4-408e-a24a-baeaedd9657c');\n",
       "var x = new MutationObserver(function (mutations, observer) {{\n",
       "        var display = window.getComputedStyle(gd).display;\n",
       "        if (!display || display === 'none') {{\n",
       "            console.log([gd, 'removed!']);\n",
       "            Plotly.purge(gd);\n",
       "            observer.disconnect();\n",
       "        }}\n",
       "}});\n",
       "\n",
       "// Listen for the removal of the full notebook cells\n",
       "var notebookContainer = gd.closest('#notebook-container');\n",
       "if (notebookContainer) {{\n",
       "    x.observe(notebookContainer, {childList: true});\n",
       "}}\n",
       "\n",
       "// Listen for the clearing of the current output cell\n",
       "var outputEl = gd.closest('.output');\n",
       "if (outputEl) {{\n",
       "    x.observe(outputEl, {childList: true});\n",
       "}}\n",
       "\n",
       "                        })                };                });            </script>        </div>"
      ]
     },
     "metadata": {},
     "output_type": "display_data"
    }
   ],
   "source": [
    "import plotly.express as px\n",
    "df = px.data.tips()\n",
    "fig = px.histogram(df, x=sample_median)\n",
    "fig.show()"
   ]
  },
  {
   "cell_type": "code",
   "execution_count": 20,
   "id": "58893264",
   "metadata": {},
   "outputs": [
    {
     "data": {
      "text/plain": [
       "0      83622.869527\n",
       "1      84202.458448\n",
       "2      80898.482852\n",
       "3      77774.578309\n",
       "4      86944.479250\n",
       "           ...     \n",
       "195    85289.024625\n",
       "196    81187.009663\n",
       "197    88028.584542\n",
       "198    82485.170296\n",
       "199    90725.034059\n",
       "Length: 200, dtype: float64"
      ]
     },
     "execution_count": 20,
     "metadata": {},
     "output_type": "execute_result"
    }
   ],
   "source": [
    "sample_median =[]\n",
    "sample =[]\n",
    "for i in range(200):\n",
    "    sample = normal(loc=17486, scale=7459, size=20)\n",
    "    sample = np.append(sample, [normal(loc=32481, scale=18207, size=230)])\n",
    "    sample = np.append(sample, [normal(loc=347044, scale=37225, size=350)])\n",
    "    sample = np.append(sample, [normal(loc=56863, scale=65919, size=245)])\n",
    "    sample = np.append(sample, [normal(loc=59544, scale=103232, size=135)])\n",
    "    sample = np.append(sample, [normal(loc=76572, scale=137916, size=15)])\n",
    "    sample_median = np.append(sample_median, np.median(sample))\n",
    "    sample =[]\n",
    "\n",
    "#np.median(sample_mean)\n",
    "\n",
    "sample_median = pd.Series(sample_median)              # Convert sample_medians to a series\n",
    "\n",
    "sample_median "
   ]
  },
  {
   "cell_type": "code",
   "execution_count": 32,
   "id": "84d3eed2",
   "metadata": {},
   "outputs": [
    {
     "data": {
      "application/vnd.plotly.v1+json": {
       "config": {
        "plotlyServerURL": "https://plot.ly"
       },
       "data": [
        {
         "alignmentgroup": "True",
         "bingroup": "x",
         "hovertemplate": "x=%{x}<br>count=%{y}<extra></extra>",
         "legendgroup": "",
         "marker": {
          "color": "#636efa",
          "pattern": {
           "shape": ""
          }
         },
         "name": "",
         "offsetgroup": "",
         "orientation": "v",
         "showlegend": false,
         "type": "histogram",
         "x": [
          61704.440985334615,
          94683.21733890708,
          75667.8958441554,
          95180.68805704385,
          71562.5609265054,
          92566.99391933311,
          73453.9800381925,
          84113.71275930831,
          78081.1432339789,
          95290.86812928508,
          103546.23510118152,
          77187.06735039323,
          91074.74846317971,
          77095.77799206703,
          88321.97989203988,
          79020.15461820633,
          72100.9448722827,
          84484.1331323621,
          82843.92883491682,
          96624.9174952044,
          86271.767318512,
          81510.99029492143,
          97548.09736336806,
          69725.52061911645,
          61201.97997743931,
          85510.51168368339,
          92031.68763150895,
          87729.44000527528,
          81989.91240750432,
          70315.64024611976,
          69993.33620981697,
          88016.07207933537,
          85793.62201046877,
          69385.72846777258,
          78883.61300025013,
          90159.21692246437,
          77495.12677045181,
          65669.61969632191,
          103887.19462972198,
          108938.08687976332,
          75392.30281229856,
          78883.74578245952,
          77667.96817457216,
          90499.04679553822,
          88295.15031616171,
          78100.90751334086,
          81808.2515851642,
          83324.22762036958,
          89889.7563953594,
          82866.62690275835,
          86415.54083330449,
          78141.8811390018,
          92069.002410344,
          78881.93515917336,
          86554.08689556507,
          87945.65399820314,
          90336.06725110568,
          82424.80273586133,
          90143.68299052789,
          91787.53679272223,
          92599.28677943413,
          105441.15018776481,
          84292.14635617378,
          84586.93073879811,
          70539.08286725265,
          99931.47191449208,
          81135.09158954018,
          75992.69681510537,
          77799.05300378942,
          80856.29813728415,
          82337.57960971829,
          67172.98604107082,
          81656.03318941161,
          73202.53049244177,
          78682.17499980396,
          92170.41517556467,
          75764.925988055,
          88785.792804981,
          76659.85163132886,
          87183.41949198852,
          74332.10859914296,
          89353.60139164205,
          86513.41727153504,
          75629.1284380198,
          96281.5735118902,
          77905.6245956078,
          100383.01921817215,
          101507.07193230116,
          83157.50965565271,
          69867.3008791905,
          88396.17830234833,
          64655.03108582036,
          80132.40378317877,
          92977.18878376756,
          91049.30249366393,
          70737.6234095412,
          86388.49026385578,
          78709.68709454912,
          90797.49526267778,
          91507.03186302487,
          100014.9795781376,
          76419.7947073934,
          84921.70725657463,
          107982.84705257812,
          82555.57146704875,
          76908.41588189345,
          66085.50256686372,
          116026.94055226678,
          72962.0780680667,
          91085.68446070544,
          79629.86245850753,
          86587.30164387231,
          79351.66197458468,
          93718.80838216025,
          94510.95823307153,
          97743.40653542166,
          74266.83503826913,
          67936.54274953184,
          77651.11946856843,
          91715.33110001279,
          93546.11801047114,
          91806.57093483818,
          87562.75322796316,
          78949.55403812583,
          100250.96525766588,
          88820.71275770158,
          85303.87882840981,
          64209.0767349268,
          78521.97221593714,
          60338.01185905465,
          68986.12402789894,
          104013.39153462657,
          96790.7676798597,
          90943.29135802551,
          77462.80102625213,
          74821.75782740997,
          113444.95081706591,
          87043.55131744336,
          90418.50353219727,
          86330.94636082127,
          92598.62730938088,
          71245.6770365354,
          91273.9613834736,
          87777.37003219618,
          80635.23006248579,
          75199.02098286893,
          72663.96208597209,
          76330.60643386998,
          80605.97393199816,
          100157.1095128901,
          90342.70274757821,
          71906.4273297007,
          74177.53665511776,
          91712.33302757214,
          80030.24396190848,
          68701.52326076338,
          95533.92963597033,
          80854.71935414617,
          95704.9662848041,
          91532.35683318469,
          74090.67176282706,
          82166.43420631663,
          88459.0084147581,
          97363.83226871873,
          74565.05241887644,
          77579.8569887928,
          75646.17811263638,
          75789.85481338672,
          82826.23779711293,
          71786.43973531439,
          72538.0078496435,
          87833.82255062727,
          67581.85903929408,
          95033.68308226677,
          76868.81198774958,
          72997.79736195071,
          77653.43273811601,
          83752.62486845492,
          94002.78410054382,
          76505.55020300519,
          98134.25179056684,
          80431.50902591387,
          67362.64917018946,
          67568.39998374118,
          86638.91459480427,
          80048.29670394513,
          82810.9633965612,
          81021.09373607395,
          68923.714066972,
          77700.96525348586,
          89278.9499161346,
          83667.7879028219,
          99534.06281090708,
          92445.92541224373,
          74085.53220710407,
          63489.27651666406,
          79558.17308024586,
          71863.09296552019,
          71315.26073482116,
          85771.57694727785
         ],
         "xaxis": "x",
         "yaxis": "y"
        }
       ],
       "layout": {
        "barmode": "relative",
        "legend": {
         "tracegroupgap": 0
        },
        "margin": {
         "t": 60
        },
        "template": {
         "data": {
          "bar": [
           {
            "error_x": {
             "color": "#2a3f5f"
            },
            "error_y": {
             "color": "#2a3f5f"
            },
            "marker": {
             "line": {
              "color": "#E5ECF6",
              "width": 0.5
             },
             "pattern": {
              "fillmode": "overlay",
              "size": 10,
              "solidity": 0.2
             }
            },
            "type": "bar"
           }
          ],
          "barpolar": [
           {
            "marker": {
             "line": {
              "color": "#E5ECF6",
              "width": 0.5
             },
             "pattern": {
              "fillmode": "overlay",
              "size": 10,
              "solidity": 0.2
             }
            },
            "type": "barpolar"
           }
          ],
          "carpet": [
           {
            "aaxis": {
             "endlinecolor": "#2a3f5f",
             "gridcolor": "white",
             "linecolor": "white",
             "minorgridcolor": "white",
             "startlinecolor": "#2a3f5f"
            },
            "baxis": {
             "endlinecolor": "#2a3f5f",
             "gridcolor": "white",
             "linecolor": "white",
             "minorgridcolor": "white",
             "startlinecolor": "#2a3f5f"
            },
            "type": "carpet"
           }
          ],
          "choropleth": [
           {
            "colorbar": {
             "outlinewidth": 0,
             "ticks": ""
            },
            "type": "choropleth"
           }
          ],
          "contour": [
           {
            "colorbar": {
             "outlinewidth": 0,
             "ticks": ""
            },
            "colorscale": [
             [
              0,
              "#0d0887"
             ],
             [
              0.1111111111111111,
              "#46039f"
             ],
             [
              0.2222222222222222,
              "#7201a8"
             ],
             [
              0.3333333333333333,
              "#9c179e"
             ],
             [
              0.4444444444444444,
              "#bd3786"
             ],
             [
              0.5555555555555556,
              "#d8576b"
             ],
             [
              0.6666666666666666,
              "#ed7953"
             ],
             [
              0.7777777777777778,
              "#fb9f3a"
             ],
             [
              0.8888888888888888,
              "#fdca26"
             ],
             [
              1,
              "#f0f921"
             ]
            ],
            "type": "contour"
           }
          ],
          "contourcarpet": [
           {
            "colorbar": {
             "outlinewidth": 0,
             "ticks": ""
            },
            "type": "contourcarpet"
           }
          ],
          "heatmap": [
           {
            "colorbar": {
             "outlinewidth": 0,
             "ticks": ""
            },
            "colorscale": [
             [
              0,
              "#0d0887"
             ],
             [
              0.1111111111111111,
              "#46039f"
             ],
             [
              0.2222222222222222,
              "#7201a8"
             ],
             [
              0.3333333333333333,
              "#9c179e"
             ],
             [
              0.4444444444444444,
              "#bd3786"
             ],
             [
              0.5555555555555556,
              "#d8576b"
             ],
             [
              0.6666666666666666,
              "#ed7953"
             ],
             [
              0.7777777777777778,
              "#fb9f3a"
             ],
             [
              0.8888888888888888,
              "#fdca26"
             ],
             [
              1,
              "#f0f921"
             ]
            ],
            "type": "heatmap"
           }
          ],
          "heatmapgl": [
           {
            "colorbar": {
             "outlinewidth": 0,
             "ticks": ""
            },
            "colorscale": [
             [
              0,
              "#0d0887"
             ],
             [
              0.1111111111111111,
              "#46039f"
             ],
             [
              0.2222222222222222,
              "#7201a8"
             ],
             [
              0.3333333333333333,
              "#9c179e"
             ],
             [
              0.4444444444444444,
              "#bd3786"
             ],
             [
              0.5555555555555556,
              "#d8576b"
             ],
             [
              0.6666666666666666,
              "#ed7953"
             ],
             [
              0.7777777777777778,
              "#fb9f3a"
             ],
             [
              0.8888888888888888,
              "#fdca26"
             ],
             [
              1,
              "#f0f921"
             ]
            ],
            "type": "heatmapgl"
           }
          ],
          "histogram": [
           {
            "marker": {
             "pattern": {
              "fillmode": "overlay",
              "size": 10,
              "solidity": 0.2
             }
            },
            "type": "histogram"
           }
          ],
          "histogram2d": [
           {
            "colorbar": {
             "outlinewidth": 0,
             "ticks": ""
            },
            "colorscale": [
             [
              0,
              "#0d0887"
             ],
             [
              0.1111111111111111,
              "#46039f"
             ],
             [
              0.2222222222222222,
              "#7201a8"
             ],
             [
              0.3333333333333333,
              "#9c179e"
             ],
             [
              0.4444444444444444,
              "#bd3786"
             ],
             [
              0.5555555555555556,
              "#d8576b"
             ],
             [
              0.6666666666666666,
              "#ed7953"
             ],
             [
              0.7777777777777778,
              "#fb9f3a"
             ],
             [
              0.8888888888888888,
              "#fdca26"
             ],
             [
              1,
              "#f0f921"
             ]
            ],
            "type": "histogram2d"
           }
          ],
          "histogram2dcontour": [
           {
            "colorbar": {
             "outlinewidth": 0,
             "ticks": ""
            },
            "colorscale": [
             [
              0,
              "#0d0887"
             ],
             [
              0.1111111111111111,
              "#46039f"
             ],
             [
              0.2222222222222222,
              "#7201a8"
             ],
             [
              0.3333333333333333,
              "#9c179e"
             ],
             [
              0.4444444444444444,
              "#bd3786"
             ],
             [
              0.5555555555555556,
              "#d8576b"
             ],
             [
              0.6666666666666666,
              "#ed7953"
             ],
             [
              0.7777777777777778,
              "#fb9f3a"
             ],
             [
              0.8888888888888888,
              "#fdca26"
             ],
             [
              1,
              "#f0f921"
             ]
            ],
            "type": "histogram2dcontour"
           }
          ],
          "mesh3d": [
           {
            "colorbar": {
             "outlinewidth": 0,
             "ticks": ""
            },
            "type": "mesh3d"
           }
          ],
          "parcoords": [
           {
            "line": {
             "colorbar": {
              "outlinewidth": 0,
              "ticks": ""
             }
            },
            "type": "parcoords"
           }
          ],
          "pie": [
           {
            "automargin": true,
            "type": "pie"
           }
          ],
          "scatter": [
           {
            "marker": {
             "colorbar": {
              "outlinewidth": 0,
              "ticks": ""
             }
            },
            "type": "scatter"
           }
          ],
          "scatter3d": [
           {
            "line": {
             "colorbar": {
              "outlinewidth": 0,
              "ticks": ""
             }
            },
            "marker": {
             "colorbar": {
              "outlinewidth": 0,
              "ticks": ""
             }
            },
            "type": "scatter3d"
           }
          ],
          "scattercarpet": [
           {
            "marker": {
             "colorbar": {
              "outlinewidth": 0,
              "ticks": ""
             }
            },
            "type": "scattercarpet"
           }
          ],
          "scattergeo": [
           {
            "marker": {
             "colorbar": {
              "outlinewidth": 0,
              "ticks": ""
             }
            },
            "type": "scattergeo"
           }
          ],
          "scattergl": [
           {
            "marker": {
             "colorbar": {
              "outlinewidth": 0,
              "ticks": ""
             }
            },
            "type": "scattergl"
           }
          ],
          "scattermapbox": [
           {
            "marker": {
             "colorbar": {
              "outlinewidth": 0,
              "ticks": ""
             }
            },
            "type": "scattermapbox"
           }
          ],
          "scatterpolar": [
           {
            "marker": {
             "colorbar": {
              "outlinewidth": 0,
              "ticks": ""
             }
            },
            "type": "scatterpolar"
           }
          ],
          "scatterpolargl": [
           {
            "marker": {
             "colorbar": {
              "outlinewidth": 0,
              "ticks": ""
             }
            },
            "type": "scatterpolargl"
           }
          ],
          "scatterternary": [
           {
            "marker": {
             "colorbar": {
              "outlinewidth": 0,
              "ticks": ""
             }
            },
            "type": "scatterternary"
           }
          ],
          "surface": [
           {
            "colorbar": {
             "outlinewidth": 0,
             "ticks": ""
            },
            "colorscale": [
             [
              0,
              "#0d0887"
             ],
             [
              0.1111111111111111,
              "#46039f"
             ],
             [
              0.2222222222222222,
              "#7201a8"
             ],
             [
              0.3333333333333333,
              "#9c179e"
             ],
             [
              0.4444444444444444,
              "#bd3786"
             ],
             [
              0.5555555555555556,
              "#d8576b"
             ],
             [
              0.6666666666666666,
              "#ed7953"
             ],
             [
              0.7777777777777778,
              "#fb9f3a"
             ],
             [
              0.8888888888888888,
              "#fdca26"
             ],
             [
              1,
              "#f0f921"
             ]
            ],
            "type": "surface"
           }
          ],
          "table": [
           {
            "cells": {
             "fill": {
              "color": "#EBF0F8"
             },
             "line": {
              "color": "white"
             }
            },
            "header": {
             "fill": {
              "color": "#C8D4E3"
             },
             "line": {
              "color": "white"
             }
            },
            "type": "table"
           }
          ]
         },
         "layout": {
          "annotationdefaults": {
           "arrowcolor": "#2a3f5f",
           "arrowhead": 0,
           "arrowwidth": 1
          },
          "autotypenumbers": "strict",
          "coloraxis": {
           "colorbar": {
            "outlinewidth": 0,
            "ticks": ""
           }
          },
          "colorscale": {
           "diverging": [
            [
             0,
             "#8e0152"
            ],
            [
             0.1,
             "#c51b7d"
            ],
            [
             0.2,
             "#de77ae"
            ],
            [
             0.3,
             "#f1b6da"
            ],
            [
             0.4,
             "#fde0ef"
            ],
            [
             0.5,
             "#f7f7f7"
            ],
            [
             0.6,
             "#e6f5d0"
            ],
            [
             0.7,
             "#b8e186"
            ],
            [
             0.8,
             "#7fbc41"
            ],
            [
             0.9,
             "#4d9221"
            ],
            [
             1,
             "#276419"
            ]
           ],
           "sequential": [
            [
             0,
             "#0d0887"
            ],
            [
             0.1111111111111111,
             "#46039f"
            ],
            [
             0.2222222222222222,
             "#7201a8"
            ],
            [
             0.3333333333333333,
             "#9c179e"
            ],
            [
             0.4444444444444444,
             "#bd3786"
            ],
            [
             0.5555555555555556,
             "#d8576b"
            ],
            [
             0.6666666666666666,
             "#ed7953"
            ],
            [
             0.7777777777777778,
             "#fb9f3a"
            ],
            [
             0.8888888888888888,
             "#fdca26"
            ],
            [
             1,
             "#f0f921"
            ]
           ],
           "sequentialminus": [
            [
             0,
             "#0d0887"
            ],
            [
             0.1111111111111111,
             "#46039f"
            ],
            [
             0.2222222222222222,
             "#7201a8"
            ],
            [
             0.3333333333333333,
             "#9c179e"
            ],
            [
             0.4444444444444444,
             "#bd3786"
            ],
            [
             0.5555555555555556,
             "#d8576b"
            ],
            [
             0.6666666666666666,
             "#ed7953"
            ],
            [
             0.7777777777777778,
             "#fb9f3a"
            ],
            [
             0.8888888888888888,
             "#fdca26"
            ],
            [
             1,
             "#f0f921"
            ]
           ]
          },
          "colorway": [
           "#636efa",
           "#EF553B",
           "#00cc96",
           "#ab63fa",
           "#FFA15A",
           "#19d3f3",
           "#FF6692",
           "#B6E880",
           "#FF97FF",
           "#FECB52"
          ],
          "font": {
           "color": "#2a3f5f"
          },
          "geo": {
           "bgcolor": "white",
           "lakecolor": "white",
           "landcolor": "#E5ECF6",
           "showlakes": true,
           "showland": true,
           "subunitcolor": "white"
          },
          "hoverlabel": {
           "align": "left"
          },
          "hovermode": "closest",
          "mapbox": {
           "style": "light"
          },
          "paper_bgcolor": "white",
          "plot_bgcolor": "#E5ECF6",
          "polar": {
           "angularaxis": {
            "gridcolor": "white",
            "linecolor": "white",
            "ticks": ""
           },
           "bgcolor": "#E5ECF6",
           "radialaxis": {
            "gridcolor": "white",
            "linecolor": "white",
            "ticks": ""
           }
          },
          "scene": {
           "xaxis": {
            "backgroundcolor": "#E5ECF6",
            "gridcolor": "white",
            "gridwidth": 2,
            "linecolor": "white",
            "showbackground": true,
            "ticks": "",
            "zerolinecolor": "white"
           },
           "yaxis": {
            "backgroundcolor": "#E5ECF6",
            "gridcolor": "white",
            "gridwidth": 2,
            "linecolor": "white",
            "showbackground": true,
            "ticks": "",
            "zerolinecolor": "white"
           },
           "zaxis": {
            "backgroundcolor": "#E5ECF6",
            "gridcolor": "white",
            "gridwidth": 2,
            "linecolor": "white",
            "showbackground": true,
            "ticks": "",
            "zerolinecolor": "white"
           }
          },
          "shapedefaults": {
           "line": {
            "color": "#2a3f5f"
           }
          },
          "ternary": {
           "aaxis": {
            "gridcolor": "white",
            "linecolor": "white",
            "ticks": ""
           },
           "baxis": {
            "gridcolor": "white",
            "linecolor": "white",
            "ticks": ""
           },
           "bgcolor": "#E5ECF6",
           "caxis": {
            "gridcolor": "white",
            "linecolor": "white",
            "ticks": ""
           }
          },
          "title": {
           "x": 0.05
          },
          "xaxis": {
           "automargin": true,
           "gridcolor": "white",
           "linecolor": "white",
           "ticks": "",
           "title": {
            "standoff": 15
           },
           "zerolinecolor": "white",
           "zerolinewidth": 2
          },
          "yaxis": {
           "automargin": true,
           "gridcolor": "white",
           "linecolor": "white",
           "ticks": "",
           "title": {
            "standoff": 15
           },
           "zerolinecolor": "white",
           "zerolinewidth": 2
          }
         }
        },
        "xaxis": {
         "anchor": "y",
         "domain": [
          0,
          1
         ],
         "title": {
          "text": "x"
         }
        },
        "yaxis": {
         "anchor": "x",
         "domain": [
          0,
          1
         ],
         "title": {
          "text": "count"
         }
        }
       }
      },
      "text/html": [
       "<div>                            <div id=\"a4445e16-8bfb-444d-9669-3f16ff36576a\" class=\"plotly-graph-div\" style=\"height:525px; width:100%;\"></div>            <script type=\"text/javascript\">                require([\"plotly\"], function(Plotly) {                    window.PLOTLYENV=window.PLOTLYENV || {};                                    if (document.getElementById(\"a4445e16-8bfb-444d-9669-3f16ff36576a\")) {                    Plotly.newPlot(                        \"a4445e16-8bfb-444d-9669-3f16ff36576a\",                        [{\"alignmentgroup\":\"True\",\"bingroup\":\"x\",\"hovertemplate\":\"x=%{x}<br>count=%{y}<extra></extra>\",\"legendgroup\":\"\",\"marker\":{\"color\":\"#636efa\",\"pattern\":{\"shape\":\"\"}},\"name\":\"\",\"offsetgroup\":\"\",\"orientation\":\"v\",\"showlegend\":false,\"x\":[61704.440985334615,94683.21733890708,75667.8958441554,95180.68805704385,71562.5609265054,92566.99391933311,73453.9800381925,84113.71275930831,78081.1432339789,95290.86812928508,103546.23510118152,77187.06735039323,91074.74846317971,77095.77799206703,88321.97989203988,79020.15461820633,72100.9448722827,84484.1331323621,82843.92883491682,96624.9174952044,86271.767318512,81510.99029492143,97548.09736336806,69725.52061911645,61201.97997743931,85510.51168368339,92031.68763150895,87729.44000527528,81989.91240750432,70315.64024611976,69993.33620981697,88016.07207933537,85793.62201046877,69385.72846777258,78883.61300025013,90159.21692246437,77495.12677045181,65669.61969632191,103887.19462972198,108938.08687976332,75392.30281229856,78883.74578245952,77667.96817457216,90499.04679553822,88295.15031616171,78100.90751334086,81808.2515851642,83324.22762036958,89889.7563953594,82866.62690275835,86415.54083330449,78141.8811390018,92069.002410344,78881.93515917336,86554.08689556507,87945.65399820314,90336.06725110568,82424.80273586133,90143.68299052789,91787.53679272223,92599.28677943413,105441.15018776481,84292.14635617378,84586.93073879811,70539.08286725265,99931.47191449208,81135.09158954018,75992.69681510537,77799.05300378942,80856.29813728415,82337.57960971829,67172.98604107082,81656.03318941161,73202.53049244177,78682.17499980396,92170.41517556467,75764.925988055,88785.792804981,76659.85163132886,87183.41949198852,74332.10859914296,89353.60139164205,86513.41727153504,75629.1284380198,96281.5735118902,77905.6245956078,100383.01921817215,101507.07193230116,83157.50965565271,69867.3008791905,88396.17830234833,64655.03108582036,80132.40378317877,92977.18878376756,91049.30249366393,70737.6234095412,86388.49026385578,78709.68709454912,90797.49526267778,91507.03186302487,100014.9795781376,76419.7947073934,84921.70725657463,107982.84705257812,82555.57146704875,76908.41588189345,66085.50256686372,116026.94055226678,72962.0780680667,91085.68446070544,79629.86245850753,86587.30164387231,79351.66197458468,93718.80838216025,94510.95823307153,97743.40653542166,74266.83503826913,67936.54274953184,77651.11946856843,91715.33110001279,93546.11801047114,91806.57093483818,87562.75322796316,78949.55403812583,100250.96525766588,88820.71275770158,85303.87882840981,64209.0767349268,78521.97221593714,60338.01185905465,68986.12402789894,104013.39153462657,96790.7676798597,90943.29135802551,77462.80102625213,74821.75782740997,113444.95081706591,87043.55131744336,90418.50353219727,86330.94636082127,92598.62730938088,71245.6770365354,91273.9613834736,87777.37003219618,80635.23006248579,75199.02098286893,72663.96208597209,76330.60643386998,80605.97393199816,100157.1095128901,90342.70274757821,71906.4273297007,74177.53665511776,91712.33302757214,80030.24396190848,68701.52326076338,95533.92963597033,80854.71935414617,95704.9662848041,91532.35683318469,74090.67176282706,82166.43420631663,88459.0084147581,97363.83226871873,74565.05241887644,77579.8569887928,75646.17811263638,75789.85481338672,82826.23779711293,71786.43973531439,72538.0078496435,87833.82255062727,67581.85903929408,95033.68308226677,76868.81198774958,72997.79736195071,77653.43273811601,83752.62486845492,94002.78410054382,76505.55020300519,98134.25179056684,80431.50902591387,67362.64917018946,67568.39998374118,86638.91459480427,80048.29670394513,82810.9633965612,81021.09373607395,68923.714066972,77700.96525348586,89278.9499161346,83667.7879028219,99534.06281090708,92445.92541224373,74085.53220710407,63489.27651666406,79558.17308024586,71863.09296552019,71315.26073482116,85771.57694727785],\"xaxis\":\"x\",\"yaxis\":\"y\",\"type\":\"histogram\"}],                        {\"template\":{\"data\":{\"bar\":[{\"error_x\":{\"color\":\"#2a3f5f\"},\"error_y\":{\"color\":\"#2a3f5f\"},\"marker\":{\"line\":{\"color\":\"#E5ECF6\",\"width\":0.5},\"pattern\":{\"fillmode\":\"overlay\",\"size\":10,\"solidity\":0.2}},\"type\":\"bar\"}],\"barpolar\":[{\"marker\":{\"line\":{\"color\":\"#E5ECF6\",\"width\":0.5},\"pattern\":{\"fillmode\":\"overlay\",\"size\":10,\"solidity\":0.2}},\"type\":\"barpolar\"}],\"carpet\":[{\"aaxis\":{\"endlinecolor\":\"#2a3f5f\",\"gridcolor\":\"white\",\"linecolor\":\"white\",\"minorgridcolor\":\"white\",\"startlinecolor\":\"#2a3f5f\"},\"baxis\":{\"endlinecolor\":\"#2a3f5f\",\"gridcolor\":\"white\",\"linecolor\":\"white\",\"minorgridcolor\":\"white\",\"startlinecolor\":\"#2a3f5f\"},\"type\":\"carpet\"}],\"choropleth\":[{\"colorbar\":{\"outlinewidth\":0,\"ticks\":\"\"},\"type\":\"choropleth\"}],\"contour\":[{\"colorbar\":{\"outlinewidth\":0,\"ticks\":\"\"},\"colorscale\":[[0.0,\"#0d0887\"],[0.1111111111111111,\"#46039f\"],[0.2222222222222222,\"#7201a8\"],[0.3333333333333333,\"#9c179e\"],[0.4444444444444444,\"#bd3786\"],[0.5555555555555556,\"#d8576b\"],[0.6666666666666666,\"#ed7953\"],[0.7777777777777778,\"#fb9f3a\"],[0.8888888888888888,\"#fdca26\"],[1.0,\"#f0f921\"]],\"type\":\"contour\"}],\"contourcarpet\":[{\"colorbar\":{\"outlinewidth\":0,\"ticks\":\"\"},\"type\":\"contourcarpet\"}],\"heatmap\":[{\"colorbar\":{\"outlinewidth\":0,\"ticks\":\"\"},\"colorscale\":[[0.0,\"#0d0887\"],[0.1111111111111111,\"#46039f\"],[0.2222222222222222,\"#7201a8\"],[0.3333333333333333,\"#9c179e\"],[0.4444444444444444,\"#bd3786\"],[0.5555555555555556,\"#d8576b\"],[0.6666666666666666,\"#ed7953\"],[0.7777777777777778,\"#fb9f3a\"],[0.8888888888888888,\"#fdca26\"],[1.0,\"#f0f921\"]],\"type\":\"heatmap\"}],\"heatmapgl\":[{\"colorbar\":{\"outlinewidth\":0,\"ticks\":\"\"},\"colorscale\":[[0.0,\"#0d0887\"],[0.1111111111111111,\"#46039f\"],[0.2222222222222222,\"#7201a8\"],[0.3333333333333333,\"#9c179e\"],[0.4444444444444444,\"#bd3786\"],[0.5555555555555556,\"#d8576b\"],[0.6666666666666666,\"#ed7953\"],[0.7777777777777778,\"#fb9f3a\"],[0.8888888888888888,\"#fdca26\"],[1.0,\"#f0f921\"]],\"type\":\"heatmapgl\"}],\"histogram\":[{\"marker\":{\"pattern\":{\"fillmode\":\"overlay\",\"size\":10,\"solidity\":0.2}},\"type\":\"histogram\"}],\"histogram2d\":[{\"colorbar\":{\"outlinewidth\":0,\"ticks\":\"\"},\"colorscale\":[[0.0,\"#0d0887\"],[0.1111111111111111,\"#46039f\"],[0.2222222222222222,\"#7201a8\"],[0.3333333333333333,\"#9c179e\"],[0.4444444444444444,\"#bd3786\"],[0.5555555555555556,\"#d8576b\"],[0.6666666666666666,\"#ed7953\"],[0.7777777777777778,\"#fb9f3a\"],[0.8888888888888888,\"#fdca26\"],[1.0,\"#f0f921\"]],\"type\":\"histogram2d\"}],\"histogram2dcontour\":[{\"colorbar\":{\"outlinewidth\":0,\"ticks\":\"\"},\"colorscale\":[[0.0,\"#0d0887\"],[0.1111111111111111,\"#46039f\"],[0.2222222222222222,\"#7201a8\"],[0.3333333333333333,\"#9c179e\"],[0.4444444444444444,\"#bd3786\"],[0.5555555555555556,\"#d8576b\"],[0.6666666666666666,\"#ed7953\"],[0.7777777777777778,\"#fb9f3a\"],[0.8888888888888888,\"#fdca26\"],[1.0,\"#f0f921\"]],\"type\":\"histogram2dcontour\"}],\"mesh3d\":[{\"colorbar\":{\"outlinewidth\":0,\"ticks\":\"\"},\"type\":\"mesh3d\"}],\"parcoords\":[{\"line\":{\"colorbar\":{\"outlinewidth\":0,\"ticks\":\"\"}},\"type\":\"parcoords\"}],\"pie\":[{\"automargin\":true,\"type\":\"pie\"}],\"scatter\":[{\"marker\":{\"colorbar\":{\"outlinewidth\":0,\"ticks\":\"\"}},\"type\":\"scatter\"}],\"scatter3d\":[{\"line\":{\"colorbar\":{\"outlinewidth\":0,\"ticks\":\"\"}},\"marker\":{\"colorbar\":{\"outlinewidth\":0,\"ticks\":\"\"}},\"type\":\"scatter3d\"}],\"scattercarpet\":[{\"marker\":{\"colorbar\":{\"outlinewidth\":0,\"ticks\":\"\"}},\"type\":\"scattercarpet\"}],\"scattergeo\":[{\"marker\":{\"colorbar\":{\"outlinewidth\":0,\"ticks\":\"\"}},\"type\":\"scattergeo\"}],\"scattergl\":[{\"marker\":{\"colorbar\":{\"outlinewidth\":0,\"ticks\":\"\"}},\"type\":\"scattergl\"}],\"scattermapbox\":[{\"marker\":{\"colorbar\":{\"outlinewidth\":0,\"ticks\":\"\"}},\"type\":\"scattermapbox\"}],\"scatterpolar\":[{\"marker\":{\"colorbar\":{\"outlinewidth\":0,\"ticks\":\"\"}},\"type\":\"scatterpolar\"}],\"scatterpolargl\":[{\"marker\":{\"colorbar\":{\"outlinewidth\":0,\"ticks\":\"\"}},\"type\":\"scatterpolargl\"}],\"scatterternary\":[{\"marker\":{\"colorbar\":{\"outlinewidth\":0,\"ticks\":\"\"}},\"type\":\"scatterternary\"}],\"surface\":[{\"colorbar\":{\"outlinewidth\":0,\"ticks\":\"\"},\"colorscale\":[[0.0,\"#0d0887\"],[0.1111111111111111,\"#46039f\"],[0.2222222222222222,\"#7201a8\"],[0.3333333333333333,\"#9c179e\"],[0.4444444444444444,\"#bd3786\"],[0.5555555555555556,\"#d8576b\"],[0.6666666666666666,\"#ed7953\"],[0.7777777777777778,\"#fb9f3a\"],[0.8888888888888888,\"#fdca26\"],[1.0,\"#f0f921\"]],\"type\":\"surface\"}],\"table\":[{\"cells\":{\"fill\":{\"color\":\"#EBF0F8\"},\"line\":{\"color\":\"white\"}},\"header\":{\"fill\":{\"color\":\"#C8D4E3\"},\"line\":{\"color\":\"white\"}},\"type\":\"table\"}]},\"layout\":{\"annotationdefaults\":{\"arrowcolor\":\"#2a3f5f\",\"arrowhead\":0,\"arrowwidth\":1},\"autotypenumbers\":\"strict\",\"coloraxis\":{\"colorbar\":{\"outlinewidth\":0,\"ticks\":\"\"}},\"colorscale\":{\"diverging\":[[0,\"#8e0152\"],[0.1,\"#c51b7d\"],[0.2,\"#de77ae\"],[0.3,\"#f1b6da\"],[0.4,\"#fde0ef\"],[0.5,\"#f7f7f7\"],[0.6,\"#e6f5d0\"],[0.7,\"#b8e186\"],[0.8,\"#7fbc41\"],[0.9,\"#4d9221\"],[1,\"#276419\"]],\"sequential\":[[0.0,\"#0d0887\"],[0.1111111111111111,\"#46039f\"],[0.2222222222222222,\"#7201a8\"],[0.3333333333333333,\"#9c179e\"],[0.4444444444444444,\"#bd3786\"],[0.5555555555555556,\"#d8576b\"],[0.6666666666666666,\"#ed7953\"],[0.7777777777777778,\"#fb9f3a\"],[0.8888888888888888,\"#fdca26\"],[1.0,\"#f0f921\"]],\"sequentialminus\":[[0.0,\"#0d0887\"],[0.1111111111111111,\"#46039f\"],[0.2222222222222222,\"#7201a8\"],[0.3333333333333333,\"#9c179e\"],[0.4444444444444444,\"#bd3786\"],[0.5555555555555556,\"#d8576b\"],[0.6666666666666666,\"#ed7953\"],[0.7777777777777778,\"#fb9f3a\"],[0.8888888888888888,\"#fdca26\"],[1.0,\"#f0f921\"]]},\"colorway\":[\"#636efa\",\"#EF553B\",\"#00cc96\",\"#ab63fa\",\"#FFA15A\",\"#19d3f3\",\"#FF6692\",\"#B6E880\",\"#FF97FF\",\"#FECB52\"],\"font\":{\"color\":\"#2a3f5f\"},\"geo\":{\"bgcolor\":\"white\",\"lakecolor\":\"white\",\"landcolor\":\"#E5ECF6\",\"showlakes\":true,\"showland\":true,\"subunitcolor\":\"white\"},\"hoverlabel\":{\"align\":\"left\"},\"hovermode\":\"closest\",\"mapbox\":{\"style\":\"light\"},\"paper_bgcolor\":\"white\",\"plot_bgcolor\":\"#E5ECF6\",\"polar\":{\"angularaxis\":{\"gridcolor\":\"white\",\"linecolor\":\"white\",\"ticks\":\"\"},\"bgcolor\":\"#E5ECF6\",\"radialaxis\":{\"gridcolor\":\"white\",\"linecolor\":\"white\",\"ticks\":\"\"}},\"scene\":{\"xaxis\":{\"backgroundcolor\":\"#E5ECF6\",\"gridcolor\":\"white\",\"gridwidth\":2,\"linecolor\":\"white\",\"showbackground\":true,\"ticks\":\"\",\"zerolinecolor\":\"white\"},\"yaxis\":{\"backgroundcolor\":\"#E5ECF6\",\"gridcolor\":\"white\",\"gridwidth\":2,\"linecolor\":\"white\",\"showbackground\":true,\"ticks\":\"\",\"zerolinecolor\":\"white\"},\"zaxis\":{\"backgroundcolor\":\"#E5ECF6\",\"gridcolor\":\"white\",\"gridwidth\":2,\"linecolor\":\"white\",\"showbackground\":true,\"ticks\":\"\",\"zerolinecolor\":\"white\"}},\"shapedefaults\":{\"line\":{\"color\":\"#2a3f5f\"}},\"ternary\":{\"aaxis\":{\"gridcolor\":\"white\",\"linecolor\":\"white\",\"ticks\":\"\"},\"baxis\":{\"gridcolor\":\"white\",\"linecolor\":\"white\",\"ticks\":\"\"},\"bgcolor\":\"#E5ECF6\",\"caxis\":{\"gridcolor\":\"white\",\"linecolor\":\"white\",\"ticks\":\"\"}},\"title\":{\"x\":0.05},\"xaxis\":{\"automargin\":true,\"gridcolor\":\"white\",\"linecolor\":\"white\",\"ticks\":\"\",\"title\":{\"standoff\":15},\"zerolinecolor\":\"white\",\"zerolinewidth\":2},\"yaxis\":{\"automargin\":true,\"gridcolor\":\"white\",\"linecolor\":\"white\",\"ticks\":\"\",\"title\":{\"standoff\":15},\"zerolinecolor\":\"white\",\"zerolinewidth\":2}}},\"xaxis\":{\"anchor\":\"y\",\"domain\":[0.0,1.0],\"title\":{\"text\":\"x\"}},\"yaxis\":{\"anchor\":\"x\",\"domain\":[0.0,1.0],\"title\":{\"text\":\"count\"}},\"legend\":{\"tracegroupgap\":0},\"margin\":{\"t\":60},\"barmode\":\"relative\"},                        {\"responsive\": true}                    ).then(function(){\n",
       "                            \n",
       "var gd = document.getElementById('a4445e16-8bfb-444d-9669-3f16ff36576a');\n",
       "var x = new MutationObserver(function (mutations, observer) {{\n",
       "        var display = window.getComputedStyle(gd).display;\n",
       "        if (!display || display === 'none') {{\n",
       "            console.log([gd, 'removed!']);\n",
       "            Plotly.purge(gd);\n",
       "            observer.disconnect();\n",
       "        }}\n",
       "}});\n",
       "\n",
       "// Listen for the removal of the full notebook cells\n",
       "var notebookContainer = gd.closest('#notebook-container');\n",
       "if (notebookContainer) {{\n",
       "    x.observe(notebookContainer, {childList: true});\n",
       "}}\n",
       "\n",
       "// Listen for the clearing of the current output cell\n",
       "var outputEl = gd.closest('.output');\n",
       "if (outputEl) {{\n",
       "    x.observe(outputEl, {childList: true});\n",
       "}}\n",
       "\n",
       "                        })                };                });            </script>        </div>"
      ]
     },
     "metadata": {},
     "output_type": "display_data"
    }
   ],
   "source": [
    "import plotly.express as px\n",
    "df = px.data.tips()\n",
    "fig = px.histogram(df, x=sample_median)\n",
    "fig.show()"
   ]
  },
  {
   "cell_type": "code",
   "execution_count": 33,
   "id": "30e3bc3d",
   "metadata": {},
   "outputs": [
    {
     "ename": "NameError",
     "evalue": "name 'sample_mean' is not defined",
     "output_type": "error",
     "traceback": [
      "\u001b[1;31m---------------------------------------------------------------------------\u001b[0m",
      "\u001b[1;31mNameError\u001b[0m                                 Traceback (most recent call last)",
      "Input \u001b[1;32mIn [33]\u001b[0m, in \u001b[0;36m<cell line: 3>\u001b[1;34m()\u001b[0m\n\u001b[0;32m      8\u001b[0m     sample \u001b[38;5;241m=\u001b[39m np\u001b[38;5;241m.\u001b[39mappend(sample, [normal(loc\u001b[38;5;241m=\u001b[39m\u001b[38;5;241m59544\u001b[39m, scale\u001b[38;5;241m=\u001b[39m\u001b[38;5;241m103232\u001b[39m, size\u001b[38;5;241m=\u001b[39m\u001b[38;5;241m135\u001b[39m)])\n\u001b[0;32m      9\u001b[0m     sample \u001b[38;5;241m=\u001b[39m np\u001b[38;5;241m.\u001b[39mappend(sample, [normal(loc\u001b[38;5;241m=\u001b[39m\u001b[38;5;241m76572\u001b[39m, scale\u001b[38;5;241m=\u001b[39m\u001b[38;5;241m137916\u001b[39m, size\u001b[38;5;241m=\u001b[39m\u001b[38;5;241m15\u001b[39m)])\n\u001b[1;32m---> 10\u001b[0m     sample_median1 \u001b[38;5;241m=\u001b[39m np\u001b[38;5;241m.\u001b[39mappend(\u001b[43msample_mean\u001b[49m, np\u001b[38;5;241m.\u001b[39mmedian(sample))\n\u001b[0;32m     11\u001b[0m     sample \u001b[38;5;241m=\u001b[39m[]\n\u001b[0;32m     13\u001b[0m \u001b[38;5;66;03m#np.median(sample_mean)\u001b[39;00m\n",
      "\u001b[1;31mNameError\u001b[0m: name 'sample_mean' is not defined"
     ]
    }
   ],
   "source": [
    "\n",
    "\n",
    "\n",
    "\n",
    "\n",
    "\n",
    "sample_median1 =[]\n",
    "sample =[]\n",
    "for i in range(200):\n",
    "    sample = normal(loc=17486, scale=7459, size=20)\n",
    "    sample = np.append(sample, [normal(loc=32481, scale=18207, size=230)])\n",
    "    sample = np.append(sample, [normal(loc=347044, scale=37225, size=350)])\n",
    "    sample = np.append(sample, [normal(loc=56863, scale=65919, size=245)])\n",
    "    sample = np.append(sample, [normal(loc=59544, scale=103232, size=135)])\n",
    "    sample = np.append(sample, [normal(loc=76572, scale=137916, size=15)])\n",
    "    sample_median1 = np.append(sample_mean, np.median(sample))\n",
    "    sample =[]\n",
    "\n",
    "#np.median(sample_mean)\n",
    "\n",
    "sample_median1 = pd.Series(sample_median1)              # Convert sample_means to a series\n",
    "\n",
    "sample_median2 =[]\n",
    "sample =[]\n",
    "for i in range(200):\n",
    "    sample = normal(loc=17486, scale=7459, size=20)\n",
    "    sample = np.append(sample, [normal(loc=32481, scale=18207, size=230)])\n",
    "    sample = np.append(sample, [normal(loc=347044, scale=37225, size=350)])\n",
    "    sample = np.append(sample, [normal(loc=56863, scale=65919, size=245)])\n",
    "    sample = np.append(sample, [normal(loc=59544, scale=103232, size=135)])\n",
    "    sample = np.append(sample, [normal(loc=76572, scale=137916, size=15)])\n",
    "    sample_median2 = np.append(sample_median2, np.median(sample))\n",
    "    sample =[]\n",
    "\n",
    "#np.median(sample_mean)\n",
    "\n",
    "sample_median2 = pd.Series(sample_median2)              # Convert sample_means to a series\n",
    "\n"
   ]
  },
  {
   "cell_type": "code",
   "execution_count": 26,
   "id": "6d7e28bc",
   "metadata": {
    "scrolled": false
   },
   "outputs": [
    {
     "data": {
      "application/vnd.plotly.v1+json": {
       "config": {
        "plotlyServerURL": "https://plot.ly"
       },
       "data": [
        {
         "alignmentgroup": "True",
         "bingroup": "x",
         "hovertemplate": "x=%{x}<br>count=%{y}<extra></extra>",
         "legendgroup": "",
         "marker": {
          "color": "#636efa",
          "pattern": {
           "shape": ""
          }
         },
         "name": "",
         "offsetgroup": "",
         "orientation": "v",
         "showlegend": false,
         "type": "histogram",
         "x": [
          83530.69268245809,
          91013.25625876806,
          79685.20556004577,
          92151.8508435809,
          83771.4092909182,
          88190.54568201868,
          77900.76750775072,
          85835.38244693006,
          85232.10694297623,
          76763.44391150372,
          87456.366939848,
          79114.93812791574,
          87203.60573793127,
          84349.20070546583,
          88197.20204540754,
          87633.44700277712,
          88929.18430225912,
          83614.78676548228,
          83081.02419165493,
          77703.55334367524,
          81184.47462622257,
          75039.74212250707,
          81503.15481113095,
          80126.0629235477,
          90272.95580195148,
          83800.37304025043,
          78391.7178130015,
          83467.36636774192,
          84494.90504425249,
          87519.99865484433,
          80084.68319644319,
          78989.47466948244,
          87019.77819328773,
          87694.32458707684,
          82518.93778364643,
          83452.40393351375,
          83772.22954997169,
          83189.15507784818,
          88009.76346742861,
          82339.34242937234,
          85039.67257143544,
          87809.43567630858,
          73775.32259173812,
          82436.96863756087,
          83439.65132902042,
          84529.91271497737,
          93006.68147260713,
          75843.96095116108,
          84156.8641364908,
          88528.97682197268,
          85602.33345076005,
          77105.1941183847,
          85145.03155008376,
          82412.13433257093,
          81633.53710688732,
          89094.55023304479,
          90488.37666215742,
          82100.74392913998,
          79769.5198797769,
          82702.80201577269,
          76423.98609132551,
          83270.99531714797,
          89115.67816787022,
          85672.18181283679,
          98134.3807778061,
          90600.29164533735,
          84977.41709471348,
          86392.42390171821,
          88646.63222880248,
          85291.08840075368,
          75698.86872395278,
          87532.93271292199,
          83550.11668957688,
          85131.69338162399,
          78223.84851270619,
          78106.85330225181,
          87051.10035911977,
          83218.04359351739,
          79822.97064996051,
          82036.97548070499,
          76781.87934312603,
          74962.19120038161,
          80960.96054209214,
          90777.71878838792,
          75515.35918425285,
          83624.53926009881,
          76523.92818276661,
          87425.1469955843,
          78839.96239352312,
          85022.90411179341,
          82057.82765273533,
          78208.73892877472,
          89079.63263979448,
          85868.46855619553,
          90250.18607975787,
          75496.15647715946,
          79243.21143447516,
          87934.58554405456,
          81707.97149642181,
          83018.38391057802,
          78019.48088411015,
          81744.24836726654,
          89235.88321952685,
          85882.38208418932,
          91833.17190288234,
          84566.70703957125,
          83750.89417448368,
          83785.23527804113,
          81044.79445780531,
          86594.5832393402,
          81026.18808427855,
          81892.26425320629,
          86226.25374957485,
          80592.8917426016,
          84845.54477045535,
          79279.12712998266,
          90479.26824808432,
          88255.314930338,
          78170.97646497894,
          84729.08699583221,
          83730.58826900646,
          73089.56678859214,
          86689.12381222373,
          77919.45997740055,
          80548.55476751407,
          85205.72478039937,
          83013.18078736016,
          89744.12681911986,
          80451.60443122272,
          83639.6298152503,
          85840.74260193728,
          82800.99583611923,
          84365.61488025947,
          86711.69132397468,
          85223.79559632641,
          82732.48765259347,
          90878.90610513155,
          79552.86651102299,
          83126.04265815736,
          77383.99540389642,
          81032.1388744391,
          87751.27625681659,
          81889.64152914681,
          86820.89945028679,
          81437.68655291098,
          85092.78904299141,
          87819.15700582284,
          86251.25646359663,
          77531.17826215229,
          84848.41974769719,
          85290.557292827,
          82082.66984642735,
          87896.99760824702,
          84146.35418183584,
          84069.53927019468,
          87912.90377391283,
          82654.01666821085,
          86592.19329567248,
          84919.73657884178,
          76619.77549084737,
          88851.11992841488,
          91986.81578797853,
          81857.03764290332,
          91469.09512260451,
          78633.66579280255,
          76404.9316833163,
          86450.09589967292,
          86429.81077952805,
          82988.88166548361,
          79913.18030728435,
          85656.40422177657,
          84496.30633407654,
          80997.12710829623,
          80589.94066585488,
          84990.83895969113,
          84042.30381685428,
          86182.72176388545,
          90633.16688274287,
          77758.88672738636,
          91724.63687149435,
          86441.2776710799,
          83690.05992788693,
          85970.90423985024,
          84303.18326801868,
          86295.61411453476,
          87069.80976386805,
          83966.2138864887,
          75088.00439177109,
          84369.04094246616,
          81306.53385631643,
          96463.47147991507,
          80802.1969031471,
          81342.83241443799,
          79061.51672669486,
          78765.54691252837,
          84686.35153663771,
          80804.52212643184,
          78503.71746927525,
          79670.93022820691,
          83903.00781186736
         ],
         "xaxis": "x",
         "yaxis": "y"
        }
       ],
       "layout": {
        "barmode": "relative",
        "legend": {
         "tracegroupgap": 0
        },
        "margin": {
         "t": 60
        },
        "template": {
         "data": {
          "bar": [
           {
            "error_x": {
             "color": "#2a3f5f"
            },
            "error_y": {
             "color": "#2a3f5f"
            },
            "marker": {
             "line": {
              "color": "#E5ECF6",
              "width": 0.5
             },
             "pattern": {
              "fillmode": "overlay",
              "size": 10,
              "solidity": 0.2
             }
            },
            "type": "bar"
           }
          ],
          "barpolar": [
           {
            "marker": {
             "line": {
              "color": "#E5ECF6",
              "width": 0.5
             },
             "pattern": {
              "fillmode": "overlay",
              "size": 10,
              "solidity": 0.2
             }
            },
            "type": "barpolar"
           }
          ],
          "carpet": [
           {
            "aaxis": {
             "endlinecolor": "#2a3f5f",
             "gridcolor": "white",
             "linecolor": "white",
             "minorgridcolor": "white",
             "startlinecolor": "#2a3f5f"
            },
            "baxis": {
             "endlinecolor": "#2a3f5f",
             "gridcolor": "white",
             "linecolor": "white",
             "minorgridcolor": "white",
             "startlinecolor": "#2a3f5f"
            },
            "type": "carpet"
           }
          ],
          "choropleth": [
           {
            "colorbar": {
             "outlinewidth": 0,
             "ticks": ""
            },
            "type": "choropleth"
           }
          ],
          "contour": [
           {
            "colorbar": {
             "outlinewidth": 0,
             "ticks": ""
            },
            "colorscale": [
             [
              0,
              "#0d0887"
             ],
             [
              0.1111111111111111,
              "#46039f"
             ],
             [
              0.2222222222222222,
              "#7201a8"
             ],
             [
              0.3333333333333333,
              "#9c179e"
             ],
             [
              0.4444444444444444,
              "#bd3786"
             ],
             [
              0.5555555555555556,
              "#d8576b"
             ],
             [
              0.6666666666666666,
              "#ed7953"
             ],
             [
              0.7777777777777778,
              "#fb9f3a"
             ],
             [
              0.8888888888888888,
              "#fdca26"
             ],
             [
              1,
              "#f0f921"
             ]
            ],
            "type": "contour"
           }
          ],
          "contourcarpet": [
           {
            "colorbar": {
             "outlinewidth": 0,
             "ticks": ""
            },
            "type": "contourcarpet"
           }
          ],
          "heatmap": [
           {
            "colorbar": {
             "outlinewidth": 0,
             "ticks": ""
            },
            "colorscale": [
             [
              0,
              "#0d0887"
             ],
             [
              0.1111111111111111,
              "#46039f"
             ],
             [
              0.2222222222222222,
              "#7201a8"
             ],
             [
              0.3333333333333333,
              "#9c179e"
             ],
             [
              0.4444444444444444,
              "#bd3786"
             ],
             [
              0.5555555555555556,
              "#d8576b"
             ],
             [
              0.6666666666666666,
              "#ed7953"
             ],
             [
              0.7777777777777778,
              "#fb9f3a"
             ],
             [
              0.8888888888888888,
              "#fdca26"
             ],
             [
              1,
              "#f0f921"
             ]
            ],
            "type": "heatmap"
           }
          ],
          "heatmapgl": [
           {
            "colorbar": {
             "outlinewidth": 0,
             "ticks": ""
            },
            "colorscale": [
             [
              0,
              "#0d0887"
             ],
             [
              0.1111111111111111,
              "#46039f"
             ],
             [
              0.2222222222222222,
              "#7201a8"
             ],
             [
              0.3333333333333333,
              "#9c179e"
             ],
             [
              0.4444444444444444,
              "#bd3786"
             ],
             [
              0.5555555555555556,
              "#d8576b"
             ],
             [
              0.6666666666666666,
              "#ed7953"
             ],
             [
              0.7777777777777778,
              "#fb9f3a"
             ],
             [
              0.8888888888888888,
              "#fdca26"
             ],
             [
              1,
              "#f0f921"
             ]
            ],
            "type": "heatmapgl"
           }
          ],
          "histogram": [
           {
            "marker": {
             "pattern": {
              "fillmode": "overlay",
              "size": 10,
              "solidity": 0.2
             }
            },
            "type": "histogram"
           }
          ],
          "histogram2d": [
           {
            "colorbar": {
             "outlinewidth": 0,
             "ticks": ""
            },
            "colorscale": [
             [
              0,
              "#0d0887"
             ],
             [
              0.1111111111111111,
              "#46039f"
             ],
             [
              0.2222222222222222,
              "#7201a8"
             ],
             [
              0.3333333333333333,
              "#9c179e"
             ],
             [
              0.4444444444444444,
              "#bd3786"
             ],
             [
              0.5555555555555556,
              "#d8576b"
             ],
             [
              0.6666666666666666,
              "#ed7953"
             ],
             [
              0.7777777777777778,
              "#fb9f3a"
             ],
             [
              0.8888888888888888,
              "#fdca26"
             ],
             [
              1,
              "#f0f921"
             ]
            ],
            "type": "histogram2d"
           }
          ],
          "histogram2dcontour": [
           {
            "colorbar": {
             "outlinewidth": 0,
             "ticks": ""
            },
            "colorscale": [
             [
              0,
              "#0d0887"
             ],
             [
              0.1111111111111111,
              "#46039f"
             ],
             [
              0.2222222222222222,
              "#7201a8"
             ],
             [
              0.3333333333333333,
              "#9c179e"
             ],
             [
              0.4444444444444444,
              "#bd3786"
             ],
             [
              0.5555555555555556,
              "#d8576b"
             ],
             [
              0.6666666666666666,
              "#ed7953"
             ],
             [
              0.7777777777777778,
              "#fb9f3a"
             ],
             [
              0.8888888888888888,
              "#fdca26"
             ],
             [
              1,
              "#f0f921"
             ]
            ],
            "type": "histogram2dcontour"
           }
          ],
          "mesh3d": [
           {
            "colorbar": {
             "outlinewidth": 0,
             "ticks": ""
            },
            "type": "mesh3d"
           }
          ],
          "parcoords": [
           {
            "line": {
             "colorbar": {
              "outlinewidth": 0,
              "ticks": ""
             }
            },
            "type": "parcoords"
           }
          ],
          "pie": [
           {
            "automargin": true,
            "type": "pie"
           }
          ],
          "scatter": [
           {
            "marker": {
             "colorbar": {
              "outlinewidth": 0,
              "ticks": ""
             }
            },
            "type": "scatter"
           }
          ],
          "scatter3d": [
           {
            "line": {
             "colorbar": {
              "outlinewidth": 0,
              "ticks": ""
             }
            },
            "marker": {
             "colorbar": {
              "outlinewidth": 0,
              "ticks": ""
             }
            },
            "type": "scatter3d"
           }
          ],
          "scattercarpet": [
           {
            "marker": {
             "colorbar": {
              "outlinewidth": 0,
              "ticks": ""
             }
            },
            "type": "scattercarpet"
           }
          ],
          "scattergeo": [
           {
            "marker": {
             "colorbar": {
              "outlinewidth": 0,
              "ticks": ""
             }
            },
            "type": "scattergeo"
           }
          ],
          "scattergl": [
           {
            "marker": {
             "colorbar": {
              "outlinewidth": 0,
              "ticks": ""
             }
            },
            "type": "scattergl"
           }
          ],
          "scattermapbox": [
           {
            "marker": {
             "colorbar": {
              "outlinewidth": 0,
              "ticks": ""
             }
            },
            "type": "scattermapbox"
           }
          ],
          "scatterpolar": [
           {
            "marker": {
             "colorbar": {
              "outlinewidth": 0,
              "ticks": ""
             }
            },
            "type": "scatterpolar"
           }
          ],
          "scatterpolargl": [
           {
            "marker": {
             "colorbar": {
              "outlinewidth": 0,
              "ticks": ""
             }
            },
            "type": "scatterpolargl"
           }
          ],
          "scatterternary": [
           {
            "marker": {
             "colorbar": {
              "outlinewidth": 0,
              "ticks": ""
             }
            },
            "type": "scatterternary"
           }
          ],
          "surface": [
           {
            "colorbar": {
             "outlinewidth": 0,
             "ticks": ""
            },
            "colorscale": [
             [
              0,
              "#0d0887"
             ],
             [
              0.1111111111111111,
              "#46039f"
             ],
             [
              0.2222222222222222,
              "#7201a8"
             ],
             [
              0.3333333333333333,
              "#9c179e"
             ],
             [
              0.4444444444444444,
              "#bd3786"
             ],
             [
              0.5555555555555556,
              "#d8576b"
             ],
             [
              0.6666666666666666,
              "#ed7953"
             ],
             [
              0.7777777777777778,
              "#fb9f3a"
             ],
             [
              0.8888888888888888,
              "#fdca26"
             ],
             [
              1,
              "#f0f921"
             ]
            ],
            "type": "surface"
           }
          ],
          "table": [
           {
            "cells": {
             "fill": {
              "color": "#EBF0F8"
             },
             "line": {
              "color": "white"
             }
            },
            "header": {
             "fill": {
              "color": "#C8D4E3"
             },
             "line": {
              "color": "white"
             }
            },
            "type": "table"
           }
          ]
         },
         "layout": {
          "annotationdefaults": {
           "arrowcolor": "#2a3f5f",
           "arrowhead": 0,
           "arrowwidth": 1
          },
          "autotypenumbers": "strict",
          "coloraxis": {
           "colorbar": {
            "outlinewidth": 0,
            "ticks": ""
           }
          },
          "colorscale": {
           "diverging": [
            [
             0,
             "#8e0152"
            ],
            [
             0.1,
             "#c51b7d"
            ],
            [
             0.2,
             "#de77ae"
            ],
            [
             0.3,
             "#f1b6da"
            ],
            [
             0.4,
             "#fde0ef"
            ],
            [
             0.5,
             "#f7f7f7"
            ],
            [
             0.6,
             "#e6f5d0"
            ],
            [
             0.7,
             "#b8e186"
            ],
            [
             0.8,
             "#7fbc41"
            ],
            [
             0.9,
             "#4d9221"
            ],
            [
             1,
             "#276419"
            ]
           ],
           "sequential": [
            [
             0,
             "#0d0887"
            ],
            [
             0.1111111111111111,
             "#46039f"
            ],
            [
             0.2222222222222222,
             "#7201a8"
            ],
            [
             0.3333333333333333,
             "#9c179e"
            ],
            [
             0.4444444444444444,
             "#bd3786"
            ],
            [
             0.5555555555555556,
             "#d8576b"
            ],
            [
             0.6666666666666666,
             "#ed7953"
            ],
            [
             0.7777777777777778,
             "#fb9f3a"
            ],
            [
             0.8888888888888888,
             "#fdca26"
            ],
            [
             1,
             "#f0f921"
            ]
           ],
           "sequentialminus": [
            [
             0,
             "#0d0887"
            ],
            [
             0.1111111111111111,
             "#46039f"
            ],
            [
             0.2222222222222222,
             "#7201a8"
            ],
            [
             0.3333333333333333,
             "#9c179e"
            ],
            [
             0.4444444444444444,
             "#bd3786"
            ],
            [
             0.5555555555555556,
             "#d8576b"
            ],
            [
             0.6666666666666666,
             "#ed7953"
            ],
            [
             0.7777777777777778,
             "#fb9f3a"
            ],
            [
             0.8888888888888888,
             "#fdca26"
            ],
            [
             1,
             "#f0f921"
            ]
           ]
          },
          "colorway": [
           "#636efa",
           "#EF553B",
           "#00cc96",
           "#ab63fa",
           "#FFA15A",
           "#19d3f3",
           "#FF6692",
           "#B6E880",
           "#FF97FF",
           "#FECB52"
          ],
          "font": {
           "color": "#2a3f5f"
          },
          "geo": {
           "bgcolor": "white",
           "lakecolor": "white",
           "landcolor": "#E5ECF6",
           "showlakes": true,
           "showland": true,
           "subunitcolor": "white"
          },
          "hoverlabel": {
           "align": "left"
          },
          "hovermode": "closest",
          "mapbox": {
           "style": "light"
          },
          "paper_bgcolor": "white",
          "plot_bgcolor": "#E5ECF6",
          "polar": {
           "angularaxis": {
            "gridcolor": "white",
            "linecolor": "white",
            "ticks": ""
           },
           "bgcolor": "#E5ECF6",
           "radialaxis": {
            "gridcolor": "white",
            "linecolor": "white",
            "ticks": ""
           }
          },
          "scene": {
           "xaxis": {
            "backgroundcolor": "#E5ECF6",
            "gridcolor": "white",
            "gridwidth": 2,
            "linecolor": "white",
            "showbackground": true,
            "ticks": "",
            "zerolinecolor": "white"
           },
           "yaxis": {
            "backgroundcolor": "#E5ECF6",
            "gridcolor": "white",
            "gridwidth": 2,
            "linecolor": "white",
            "showbackground": true,
            "ticks": "",
            "zerolinecolor": "white"
           },
           "zaxis": {
            "backgroundcolor": "#E5ECF6",
            "gridcolor": "white",
            "gridwidth": 2,
            "linecolor": "white",
            "showbackground": true,
            "ticks": "",
            "zerolinecolor": "white"
           }
          },
          "shapedefaults": {
           "line": {
            "color": "#2a3f5f"
           }
          },
          "ternary": {
           "aaxis": {
            "gridcolor": "white",
            "linecolor": "white",
            "ticks": ""
           },
           "baxis": {
            "gridcolor": "white",
            "linecolor": "white",
            "ticks": ""
           },
           "bgcolor": "#E5ECF6",
           "caxis": {
            "gridcolor": "white",
            "linecolor": "white",
            "ticks": ""
           }
          },
          "title": {
           "x": 0.05
          },
          "xaxis": {
           "automargin": true,
           "gridcolor": "white",
           "linecolor": "white",
           "ticks": "",
           "title": {
            "standoff": 15
           },
           "zerolinecolor": "white",
           "zerolinewidth": 2
          },
          "yaxis": {
           "automargin": true,
           "gridcolor": "white",
           "linecolor": "white",
           "ticks": "",
           "title": {
            "standoff": 15
           },
           "zerolinecolor": "white",
           "zerolinewidth": 2
          }
         }
        },
        "xaxis": {
         "anchor": "y",
         "domain": [
          0,
          1
         ],
         "title": {
          "text": "x"
         }
        },
        "yaxis": {
         "anchor": "x",
         "domain": [
          0,
          1
         ],
         "title": {
          "text": "count"
         }
        }
       }
      },
      "text/html": [
       "<div>                            <div id=\"6970dd40-5423-4f7a-aae7-c78d5690e72e\" class=\"plotly-graph-div\" style=\"height:525px; width:100%;\"></div>            <script type=\"text/javascript\">                require([\"plotly\"], function(Plotly) {                    window.PLOTLYENV=window.PLOTLYENV || {};                                    if (document.getElementById(\"6970dd40-5423-4f7a-aae7-c78d5690e72e\")) {                    Plotly.newPlot(                        \"6970dd40-5423-4f7a-aae7-c78d5690e72e\",                        [{\"alignmentgroup\":\"True\",\"bingroup\":\"x\",\"hovertemplate\":\"x=%{x}<br>count=%{y}<extra></extra>\",\"legendgroup\":\"\",\"marker\":{\"color\":\"#636efa\",\"pattern\":{\"shape\":\"\"}},\"name\":\"\",\"offsetgroup\":\"\",\"orientation\":\"v\",\"showlegend\":false,\"x\":[83530.69268245809,91013.25625876806,79685.20556004577,92151.8508435809,83771.4092909182,88190.54568201868,77900.76750775072,85835.38244693006,85232.10694297623,76763.44391150372,87456.366939848,79114.93812791574,87203.60573793127,84349.20070546583,88197.20204540754,87633.44700277712,88929.18430225912,83614.78676548228,83081.02419165493,77703.55334367524,81184.47462622257,75039.74212250707,81503.15481113095,80126.0629235477,90272.95580195148,83800.37304025043,78391.7178130015,83467.36636774192,84494.90504425249,87519.99865484433,80084.68319644319,78989.47466948244,87019.77819328773,87694.32458707684,82518.93778364643,83452.40393351375,83772.22954997169,83189.15507784818,88009.76346742861,82339.34242937234,85039.67257143544,87809.43567630858,73775.32259173812,82436.96863756087,83439.65132902042,84529.91271497737,93006.68147260713,75843.96095116108,84156.8641364908,88528.97682197268,85602.33345076005,77105.1941183847,85145.03155008376,82412.13433257093,81633.53710688732,89094.55023304479,90488.37666215742,82100.74392913998,79769.5198797769,82702.80201577269,76423.98609132551,83270.99531714797,89115.67816787022,85672.18181283679,98134.3807778061,90600.29164533735,84977.41709471348,86392.42390171821,88646.63222880248,85291.08840075368,75698.86872395278,87532.93271292199,83550.11668957688,85131.69338162399,78223.84851270619,78106.85330225181,87051.10035911977,83218.04359351739,79822.97064996051,82036.97548070499,76781.87934312603,74962.19120038161,80960.96054209214,90777.71878838792,75515.35918425285,83624.53926009881,76523.92818276661,87425.1469955843,78839.96239352312,85022.90411179341,82057.82765273533,78208.73892877472,89079.63263979448,85868.46855619553,90250.18607975787,75496.15647715946,79243.21143447516,87934.58554405456,81707.97149642181,83018.38391057802,78019.48088411015,81744.24836726654,89235.88321952685,85882.38208418932,91833.17190288234,84566.70703957125,83750.89417448368,83785.23527804113,81044.79445780531,86594.5832393402,81026.18808427855,81892.26425320629,86226.25374957485,80592.8917426016,84845.54477045535,79279.12712998266,90479.26824808432,88255.314930338,78170.97646497894,84729.08699583221,83730.58826900646,73089.56678859214,86689.12381222373,77919.45997740055,80548.55476751407,85205.72478039937,83013.18078736016,89744.12681911986,80451.60443122272,83639.6298152503,85840.74260193728,82800.99583611923,84365.61488025947,86711.69132397468,85223.79559632641,82732.48765259347,90878.90610513155,79552.86651102299,83126.04265815736,77383.99540389642,81032.1388744391,87751.27625681659,81889.64152914681,86820.89945028679,81437.68655291098,85092.78904299141,87819.15700582284,86251.25646359663,77531.17826215229,84848.41974769719,85290.557292827,82082.66984642735,87896.99760824702,84146.35418183584,84069.53927019468,87912.90377391283,82654.01666821085,86592.19329567248,84919.73657884178,76619.77549084737,88851.11992841488,91986.81578797853,81857.03764290332,91469.09512260451,78633.66579280255,76404.9316833163,86450.09589967292,86429.81077952805,82988.88166548361,79913.18030728435,85656.40422177657,84496.30633407654,80997.12710829623,80589.94066585488,84990.83895969113,84042.30381685428,86182.72176388545,90633.16688274287,77758.88672738636,91724.63687149435,86441.2776710799,83690.05992788693,85970.90423985024,84303.18326801868,86295.61411453476,87069.80976386805,83966.2138864887,75088.00439177109,84369.04094246616,81306.53385631643,96463.47147991507,80802.1969031471,81342.83241443799,79061.51672669486,78765.54691252837,84686.35153663771,80804.52212643184,78503.71746927525,79670.93022820691,83903.00781186736],\"xaxis\":\"x\",\"yaxis\":\"y\",\"type\":\"histogram\"}],                        {\"template\":{\"data\":{\"bar\":[{\"error_x\":{\"color\":\"#2a3f5f\"},\"error_y\":{\"color\":\"#2a3f5f\"},\"marker\":{\"line\":{\"color\":\"#E5ECF6\",\"width\":0.5},\"pattern\":{\"fillmode\":\"overlay\",\"size\":10,\"solidity\":0.2}},\"type\":\"bar\"}],\"barpolar\":[{\"marker\":{\"line\":{\"color\":\"#E5ECF6\",\"width\":0.5},\"pattern\":{\"fillmode\":\"overlay\",\"size\":10,\"solidity\":0.2}},\"type\":\"barpolar\"}],\"carpet\":[{\"aaxis\":{\"endlinecolor\":\"#2a3f5f\",\"gridcolor\":\"white\",\"linecolor\":\"white\",\"minorgridcolor\":\"white\",\"startlinecolor\":\"#2a3f5f\"},\"baxis\":{\"endlinecolor\":\"#2a3f5f\",\"gridcolor\":\"white\",\"linecolor\":\"white\",\"minorgridcolor\":\"white\",\"startlinecolor\":\"#2a3f5f\"},\"type\":\"carpet\"}],\"choropleth\":[{\"colorbar\":{\"outlinewidth\":0,\"ticks\":\"\"},\"type\":\"choropleth\"}],\"contour\":[{\"colorbar\":{\"outlinewidth\":0,\"ticks\":\"\"},\"colorscale\":[[0.0,\"#0d0887\"],[0.1111111111111111,\"#46039f\"],[0.2222222222222222,\"#7201a8\"],[0.3333333333333333,\"#9c179e\"],[0.4444444444444444,\"#bd3786\"],[0.5555555555555556,\"#d8576b\"],[0.6666666666666666,\"#ed7953\"],[0.7777777777777778,\"#fb9f3a\"],[0.8888888888888888,\"#fdca26\"],[1.0,\"#f0f921\"]],\"type\":\"contour\"}],\"contourcarpet\":[{\"colorbar\":{\"outlinewidth\":0,\"ticks\":\"\"},\"type\":\"contourcarpet\"}],\"heatmap\":[{\"colorbar\":{\"outlinewidth\":0,\"ticks\":\"\"},\"colorscale\":[[0.0,\"#0d0887\"],[0.1111111111111111,\"#46039f\"],[0.2222222222222222,\"#7201a8\"],[0.3333333333333333,\"#9c179e\"],[0.4444444444444444,\"#bd3786\"],[0.5555555555555556,\"#d8576b\"],[0.6666666666666666,\"#ed7953\"],[0.7777777777777778,\"#fb9f3a\"],[0.8888888888888888,\"#fdca26\"],[1.0,\"#f0f921\"]],\"type\":\"heatmap\"}],\"heatmapgl\":[{\"colorbar\":{\"outlinewidth\":0,\"ticks\":\"\"},\"colorscale\":[[0.0,\"#0d0887\"],[0.1111111111111111,\"#46039f\"],[0.2222222222222222,\"#7201a8\"],[0.3333333333333333,\"#9c179e\"],[0.4444444444444444,\"#bd3786\"],[0.5555555555555556,\"#d8576b\"],[0.6666666666666666,\"#ed7953\"],[0.7777777777777778,\"#fb9f3a\"],[0.8888888888888888,\"#fdca26\"],[1.0,\"#f0f921\"]],\"type\":\"heatmapgl\"}],\"histogram\":[{\"marker\":{\"pattern\":{\"fillmode\":\"overlay\",\"size\":10,\"solidity\":0.2}},\"type\":\"histogram\"}],\"histogram2d\":[{\"colorbar\":{\"outlinewidth\":0,\"ticks\":\"\"},\"colorscale\":[[0.0,\"#0d0887\"],[0.1111111111111111,\"#46039f\"],[0.2222222222222222,\"#7201a8\"],[0.3333333333333333,\"#9c179e\"],[0.4444444444444444,\"#bd3786\"],[0.5555555555555556,\"#d8576b\"],[0.6666666666666666,\"#ed7953\"],[0.7777777777777778,\"#fb9f3a\"],[0.8888888888888888,\"#fdca26\"],[1.0,\"#f0f921\"]],\"type\":\"histogram2d\"}],\"histogram2dcontour\":[{\"colorbar\":{\"outlinewidth\":0,\"ticks\":\"\"},\"colorscale\":[[0.0,\"#0d0887\"],[0.1111111111111111,\"#46039f\"],[0.2222222222222222,\"#7201a8\"],[0.3333333333333333,\"#9c179e\"],[0.4444444444444444,\"#bd3786\"],[0.5555555555555556,\"#d8576b\"],[0.6666666666666666,\"#ed7953\"],[0.7777777777777778,\"#fb9f3a\"],[0.8888888888888888,\"#fdca26\"],[1.0,\"#f0f921\"]],\"type\":\"histogram2dcontour\"}],\"mesh3d\":[{\"colorbar\":{\"outlinewidth\":0,\"ticks\":\"\"},\"type\":\"mesh3d\"}],\"parcoords\":[{\"line\":{\"colorbar\":{\"outlinewidth\":0,\"ticks\":\"\"}},\"type\":\"parcoords\"}],\"pie\":[{\"automargin\":true,\"type\":\"pie\"}],\"scatter\":[{\"marker\":{\"colorbar\":{\"outlinewidth\":0,\"ticks\":\"\"}},\"type\":\"scatter\"}],\"scatter3d\":[{\"line\":{\"colorbar\":{\"outlinewidth\":0,\"ticks\":\"\"}},\"marker\":{\"colorbar\":{\"outlinewidth\":0,\"ticks\":\"\"}},\"type\":\"scatter3d\"}],\"scattercarpet\":[{\"marker\":{\"colorbar\":{\"outlinewidth\":0,\"ticks\":\"\"}},\"type\":\"scattercarpet\"}],\"scattergeo\":[{\"marker\":{\"colorbar\":{\"outlinewidth\":0,\"ticks\":\"\"}},\"type\":\"scattergeo\"}],\"scattergl\":[{\"marker\":{\"colorbar\":{\"outlinewidth\":0,\"ticks\":\"\"}},\"type\":\"scattergl\"}],\"scattermapbox\":[{\"marker\":{\"colorbar\":{\"outlinewidth\":0,\"ticks\":\"\"}},\"type\":\"scattermapbox\"}],\"scatterpolar\":[{\"marker\":{\"colorbar\":{\"outlinewidth\":0,\"ticks\":\"\"}},\"type\":\"scatterpolar\"}],\"scatterpolargl\":[{\"marker\":{\"colorbar\":{\"outlinewidth\":0,\"ticks\":\"\"}},\"type\":\"scatterpolargl\"}],\"scatterternary\":[{\"marker\":{\"colorbar\":{\"outlinewidth\":0,\"ticks\":\"\"}},\"type\":\"scatterternary\"}],\"surface\":[{\"colorbar\":{\"outlinewidth\":0,\"ticks\":\"\"},\"colorscale\":[[0.0,\"#0d0887\"],[0.1111111111111111,\"#46039f\"],[0.2222222222222222,\"#7201a8\"],[0.3333333333333333,\"#9c179e\"],[0.4444444444444444,\"#bd3786\"],[0.5555555555555556,\"#d8576b\"],[0.6666666666666666,\"#ed7953\"],[0.7777777777777778,\"#fb9f3a\"],[0.8888888888888888,\"#fdca26\"],[1.0,\"#f0f921\"]],\"type\":\"surface\"}],\"table\":[{\"cells\":{\"fill\":{\"color\":\"#EBF0F8\"},\"line\":{\"color\":\"white\"}},\"header\":{\"fill\":{\"color\":\"#C8D4E3\"},\"line\":{\"color\":\"white\"}},\"type\":\"table\"}]},\"layout\":{\"annotationdefaults\":{\"arrowcolor\":\"#2a3f5f\",\"arrowhead\":0,\"arrowwidth\":1},\"autotypenumbers\":\"strict\",\"coloraxis\":{\"colorbar\":{\"outlinewidth\":0,\"ticks\":\"\"}},\"colorscale\":{\"diverging\":[[0,\"#8e0152\"],[0.1,\"#c51b7d\"],[0.2,\"#de77ae\"],[0.3,\"#f1b6da\"],[0.4,\"#fde0ef\"],[0.5,\"#f7f7f7\"],[0.6,\"#e6f5d0\"],[0.7,\"#b8e186\"],[0.8,\"#7fbc41\"],[0.9,\"#4d9221\"],[1,\"#276419\"]],\"sequential\":[[0.0,\"#0d0887\"],[0.1111111111111111,\"#46039f\"],[0.2222222222222222,\"#7201a8\"],[0.3333333333333333,\"#9c179e\"],[0.4444444444444444,\"#bd3786\"],[0.5555555555555556,\"#d8576b\"],[0.6666666666666666,\"#ed7953\"],[0.7777777777777778,\"#fb9f3a\"],[0.8888888888888888,\"#fdca26\"],[1.0,\"#f0f921\"]],\"sequentialminus\":[[0.0,\"#0d0887\"],[0.1111111111111111,\"#46039f\"],[0.2222222222222222,\"#7201a8\"],[0.3333333333333333,\"#9c179e\"],[0.4444444444444444,\"#bd3786\"],[0.5555555555555556,\"#d8576b\"],[0.6666666666666666,\"#ed7953\"],[0.7777777777777778,\"#fb9f3a\"],[0.8888888888888888,\"#fdca26\"],[1.0,\"#f0f921\"]]},\"colorway\":[\"#636efa\",\"#EF553B\",\"#00cc96\",\"#ab63fa\",\"#FFA15A\",\"#19d3f3\",\"#FF6692\",\"#B6E880\",\"#FF97FF\",\"#FECB52\"],\"font\":{\"color\":\"#2a3f5f\"},\"geo\":{\"bgcolor\":\"white\",\"lakecolor\":\"white\",\"landcolor\":\"#E5ECF6\",\"showlakes\":true,\"showland\":true,\"subunitcolor\":\"white\"},\"hoverlabel\":{\"align\":\"left\"},\"hovermode\":\"closest\",\"mapbox\":{\"style\":\"light\"},\"paper_bgcolor\":\"white\",\"plot_bgcolor\":\"#E5ECF6\",\"polar\":{\"angularaxis\":{\"gridcolor\":\"white\",\"linecolor\":\"white\",\"ticks\":\"\"},\"bgcolor\":\"#E5ECF6\",\"radialaxis\":{\"gridcolor\":\"white\",\"linecolor\":\"white\",\"ticks\":\"\"}},\"scene\":{\"xaxis\":{\"backgroundcolor\":\"#E5ECF6\",\"gridcolor\":\"white\",\"gridwidth\":2,\"linecolor\":\"white\",\"showbackground\":true,\"ticks\":\"\",\"zerolinecolor\":\"white\"},\"yaxis\":{\"backgroundcolor\":\"#E5ECF6\",\"gridcolor\":\"white\",\"gridwidth\":2,\"linecolor\":\"white\",\"showbackground\":true,\"ticks\":\"\",\"zerolinecolor\":\"white\"},\"zaxis\":{\"backgroundcolor\":\"#E5ECF6\",\"gridcolor\":\"white\",\"gridwidth\":2,\"linecolor\":\"white\",\"showbackground\":true,\"ticks\":\"\",\"zerolinecolor\":\"white\"}},\"shapedefaults\":{\"line\":{\"color\":\"#2a3f5f\"}},\"ternary\":{\"aaxis\":{\"gridcolor\":\"white\",\"linecolor\":\"white\",\"ticks\":\"\"},\"baxis\":{\"gridcolor\":\"white\",\"linecolor\":\"white\",\"ticks\":\"\"},\"bgcolor\":\"#E5ECF6\",\"caxis\":{\"gridcolor\":\"white\",\"linecolor\":\"white\",\"ticks\":\"\"}},\"title\":{\"x\":0.05},\"xaxis\":{\"automargin\":true,\"gridcolor\":\"white\",\"linecolor\":\"white\",\"ticks\":\"\",\"title\":{\"standoff\":15},\"zerolinecolor\":\"white\",\"zerolinewidth\":2},\"yaxis\":{\"automargin\":true,\"gridcolor\":\"white\",\"linecolor\":\"white\",\"ticks\":\"\",\"title\":{\"standoff\":15},\"zerolinecolor\":\"white\",\"zerolinewidth\":2}}},\"xaxis\":{\"anchor\":\"y\",\"domain\":[0.0,1.0],\"title\":{\"text\":\"x\"}},\"yaxis\":{\"anchor\":\"x\",\"domain\":[0.0,1.0],\"title\":{\"text\":\"count\"}},\"legend\":{\"tracegroupgap\":0},\"margin\":{\"t\":60},\"barmode\":\"relative\"},                        {\"responsive\": true}                    ).then(function(){\n",
       "                            \n",
       "var gd = document.getElementById('6970dd40-5423-4f7a-aae7-c78d5690e72e');\n",
       "var x = new MutationObserver(function (mutations, observer) {{\n",
       "        var display = window.getComputedStyle(gd).display;\n",
       "        if (!display || display === 'none') {{\n",
       "            console.log([gd, 'removed!']);\n",
       "            Plotly.purge(gd);\n",
       "            observer.disconnect();\n",
       "        }}\n",
       "}});\n",
       "\n",
       "// Listen for the removal of the full notebook cells\n",
       "var notebookContainer = gd.closest('#notebook-container');\n",
       "if (notebookContainer) {{\n",
       "    x.observe(notebookContainer, {childList: true});\n",
       "}}\n",
       "\n",
       "// Listen for the clearing of the current output cell\n",
       "var outputEl = gd.closest('.output');\n",
       "if (outputEl) {{\n",
       "    x.observe(outputEl, {childList: true});\n",
       "}}\n",
       "\n",
       "                        })                };                });            </script>        </div>"
      ]
     },
     "metadata": {},
     "output_type": "display_data"
    }
   ],
   "source": [
    "import plotly.express as px\n",
    "df = px.data.tips()\n",
    "fig = px.histogram(df, x=sample_median2)\n",
    "fig.show()"
   ]
  },
  {
   "cell_type": "code",
   "execution_count": 29,
   "id": "f5a1084e",
   "metadata": {},
   "outputs": [
    {
     "data": {
      "application/vnd.plotly.v1+json": {
       "config": {
        "plotlyServerURL": "https://plot.ly"
       },
       "data": [
        {
         "opacity": 0.65,
         "type": "histogram",
         "x": [
          61704.440985334615,
          94683.21733890708,
          75667.8958441554,
          95180.68805704385,
          71562.5609265054,
          92566.99391933311,
          73453.9800381925,
          84113.71275930831,
          78081.1432339789,
          95290.86812928508,
          103546.23510118152,
          77187.06735039323,
          91074.74846317971,
          77095.77799206703,
          88321.97989203988,
          79020.15461820633,
          72100.9448722827,
          84484.1331323621,
          82843.92883491682,
          96624.9174952044,
          86271.767318512,
          81510.99029492143,
          97548.09736336806,
          69725.52061911645,
          61201.97997743931,
          85510.51168368339,
          92031.68763150895,
          87729.44000527528,
          81989.91240750432,
          70315.64024611976,
          69993.33620981697,
          88016.07207933537,
          85793.62201046877,
          69385.72846777258,
          78883.61300025013,
          90159.21692246437,
          77495.12677045181,
          65669.61969632191,
          103887.19462972198,
          108938.08687976332,
          75392.30281229856,
          78883.74578245952,
          77667.96817457216,
          90499.04679553822,
          88295.15031616171,
          78100.90751334086,
          81808.2515851642,
          83324.22762036958,
          89889.7563953594,
          82866.62690275835,
          86415.54083330449,
          78141.8811390018,
          92069.002410344,
          78881.93515917336,
          86554.08689556507,
          87945.65399820314,
          90336.06725110568,
          82424.80273586133,
          90143.68299052789,
          91787.53679272223,
          92599.28677943413,
          105441.15018776481,
          84292.14635617378,
          84586.93073879811,
          70539.08286725265,
          99931.47191449208,
          81135.09158954018,
          75992.69681510537,
          77799.05300378942,
          80856.29813728415,
          82337.57960971829,
          67172.98604107082,
          81656.03318941161,
          73202.53049244177,
          78682.17499980396,
          92170.41517556467,
          75764.925988055,
          88785.792804981,
          76659.85163132886,
          87183.41949198852,
          74332.10859914296,
          89353.60139164205,
          86513.41727153504,
          75629.1284380198,
          96281.5735118902,
          77905.6245956078,
          100383.01921817215,
          101507.07193230116,
          83157.50965565271,
          69867.3008791905,
          88396.17830234833,
          64655.03108582036,
          80132.40378317877,
          92977.18878376756,
          91049.30249366393,
          70737.6234095412,
          86388.49026385578,
          78709.68709454912,
          90797.49526267778,
          91507.03186302487,
          100014.9795781376,
          76419.7947073934,
          84921.70725657463,
          107982.84705257812,
          82555.57146704875,
          76908.41588189345,
          66085.50256686372,
          116026.94055226678,
          72962.0780680667,
          91085.68446070544,
          79629.86245850753,
          86587.30164387231,
          79351.66197458468,
          93718.80838216025,
          94510.95823307153,
          97743.40653542166,
          74266.83503826913,
          67936.54274953184,
          77651.11946856843,
          91715.33110001279,
          93546.11801047114,
          91806.57093483818,
          87562.75322796316,
          78949.55403812583,
          100250.96525766588,
          88820.71275770158,
          85303.87882840981,
          64209.0767349268,
          78521.97221593714,
          60338.01185905465,
          68986.12402789894,
          104013.39153462657,
          96790.7676798597,
          90943.29135802551,
          77462.80102625213,
          74821.75782740997,
          113444.95081706591,
          87043.55131744336,
          90418.50353219727,
          86330.94636082127,
          92598.62730938088,
          71245.6770365354,
          91273.9613834736,
          87777.37003219618,
          80635.23006248579,
          75199.02098286893,
          72663.96208597209,
          76330.60643386998,
          80605.97393199816,
          100157.1095128901,
          90342.70274757821,
          71906.4273297007,
          74177.53665511776,
          91712.33302757214,
          80030.24396190848,
          68701.52326076338,
          95533.92963597033,
          80854.71935414617,
          95704.9662848041,
          91532.35683318469,
          74090.67176282706,
          82166.43420631663,
          88459.0084147581,
          97363.83226871873,
          74565.05241887644,
          77579.8569887928,
          75646.17811263638,
          75789.85481338672,
          82826.23779711293,
          71786.43973531439,
          72538.0078496435,
          87833.82255062727,
          67581.85903929408,
          95033.68308226677,
          76868.81198774958,
          72997.79736195071,
          77653.43273811601,
          83752.62486845492,
          94002.78410054382,
          76505.55020300519,
          98134.25179056684,
          80431.50902591387,
          67362.64917018946,
          67568.39998374118,
          86638.91459480427,
          80048.29670394513,
          82810.9633965612,
          81021.09373607395,
          68923.714066972,
          77700.96525348586,
          89278.9499161346,
          83667.7879028219,
          99534.06281090708,
          92445.92541224373,
          74085.53220710407,
          63489.27651666406,
          79558.17308024586,
          71863.09296552019,
          71315.26073482116,
          85771.57694727785
         ]
        },
        {
         "opacity": 0.65,
         "type": "histogram",
         "x": [
          69961.50209755907,
          91864.95519940087,
          88962.22549057748,
          81099.57063070328,
          87008.9116325533,
          81650.63839602047,
          71854.39166968451,
          71992.08890475745,
          79095.53194563277,
          79083.37862587436,
          84142.34653211401,
          73249.7280242223,
          78258.80024859097,
          81424.96330281778,
          82325.15271652218,
          80921.91715967136,
          78448.91981536549,
          88213.21879089857,
          83298.15936805424,
          81907.12118764548,
          94565.42747303686,
          84979.11331645578,
          67937.69159979129,
          85329.85904281736,
          89024.60317955702,
          85874.33775003543,
          81123.14998883288,
          81063.20020079777,
          86105.95467385718,
          79952.03223446837,
          88141.61382956801,
          76006.9106054838,
          76930.48031144001,
          85892.33931893259,
          88767.88452231316,
          90681.94918421393,
          75393.59715249778,
          81222.35477765453,
          92024.84784656035,
          86269.13017900514,
          72305.1800063213,
          91478.78455451361,
          86060.29559491068,
          76702.65092343243,
          70359.52843896992,
          71815.96957613729,
          82152.1910070474,
          84999.61405972239,
          83519.85627573697,
          81618.13132257063,
          79598.75513778997,
          77791.7246186578,
          78579.46504987047,
          73191.97362223724,
          82951.3005513341,
          89133.30572917839,
          74806.5210277551,
          87922.18911459835,
          83078.9795506885,
          86585.15795153772,
          93358.29872286608,
          76348.43098740904,
          85536.72244764096,
          82148.68930479392,
          72501.00202604516,
          73171.94847349629,
          87084.45853492952,
          85100.83660078079,
          85016.39726636346,
          78145.94083765279,
          74756.17660573091,
          80115.32420827678,
          90091.00749159291,
          80893.91037165694,
          80145.55235845399,
          78503.33687657137,
          78422.68562096225,
          83986.60057777766,
          83447.07528807038,
          78436.14390988817,
          73799.486764977,
          89911.68711759658,
          75928.89816011675,
          85710.15355377414,
          86735.3442333456,
          85092.50496990567,
          75868.05896660435,
          94194.13113523963,
          73947.91816123198,
          78008.20837966572,
          87983.70858252786,
          82455.7153625008,
          89333.60104774882,
          80433.30945924841,
          87412.58933449106,
          90337.90256002775,
          93448.61609977309,
          80111.94457835887,
          80642.0199968316,
          79266.66058691817,
          82215.98525379568,
          87521.0312126749,
          78208.92852775873,
          84252.7646297949,
          71523.21410589389,
          81411.41192096187,
          83870.41528733016,
          75749.73537035003,
          87895.05354984572,
          72106.16579238127,
          86935.88388447143,
          84743.4532129741,
          74903.62637615499,
          91023.35121067674,
          95562.61553232413,
          85036.18354945563,
          81350.68788359729,
          88615.79776350314,
          88403.94007960998,
          90522.36443053829,
          86831.3024434627,
          79265.25255727232,
          79492.45959865901,
          86968.00470746432,
          77670.11279927613,
          95040.14793736258,
          93571.2824353475,
          88528.55514757232,
          85051.81748264557,
          83972.51350825818,
          88112.17156136056,
          88610.68047608437,
          87513.90532263316,
          104065.5178697281,
          93157.9493413433,
          85442.93467868996,
          88819.24156980324,
          79088.3799186087,
          90894.19517331413,
          77623.7760162261,
          86183.32523300708,
          85498.68093065551,
          81908.57288422695,
          91320.80380388304,
          86409.72151579638,
          87807.06678412002,
          89506.39019633722,
          85246.51188294264,
          93161.90836755754,
          80110.20799592478,
          78709.31369065224,
          85829.8166007087,
          82923.66288873882,
          75718.11614438842,
          79363.19951936757,
          76859.42465558687,
          83517.81655047194,
          85252.45385873386,
          88249.45109029592,
          83662.88254422235,
          80028.83492759979,
          68149.03952446212,
          84327.12483791458,
          88179.38800980613,
          81673.35941965139,
          74199.28028984263,
          81965.99888934384,
          73202.60002776294,
          74013.58720925834,
          75303.2641613684,
          85899.61394358652,
          91503.70764358908,
          86477.07174847487,
          81770.61282357774,
          84969.57351870157,
          71025.43942423695,
          77260.49830858198,
          72921.94897930074,
          78175.85661493435,
          92361.5744591701,
          89222.8780782242,
          84783.5991475326,
          102972.28816015463,
          91446.5934020491,
          79615.7038622245,
          84269.94502355356,
          88545.65033254866,
          86802.82679519482,
          88566.81137826215,
          68958.92869494842,
          76471.63208237031,
          94034.13735199635,
          80786.16215963569,
          93581.27071771046,
          89281.75160217151,
          86026.37576614397,
          80354.57237620032,
          69297.05899169703,
          83669.04933857787,
          77432.62855327144
         ]
        },
        {
         "opacity": 0.65,
         "type": "histogram",
         "x": [
          77531.61841722831,
          85952.94853970125,
          87260.9181176871,
          84387.23038973643,
          80289.32164092002,
          85928.54512675296,
          83095.67160316682,
          85274.11388125566,
          81719.96245213783,
          82344.40597660473,
          81030.6343639341,
          79082.94302401115,
          76611.52013813917,
          80775.65830504346,
          84288.1912941407,
          84990.84582758513,
          88142.48852729463,
          82270.63138905827,
          77839.84053236202,
          81273.79018995291,
          84034.57087557773,
          88182.90196197788,
          80658.16990098862,
          82911.68832997643,
          76330.58661295167,
          79363.78159845692,
          84589.59654754741,
          85115.99644165773,
          78648.71129304309,
          91003.4306775344,
          90470.90517366203,
          85424.33743548229,
          79436.42631709095,
          85170.26652740681,
          81379.13531211403,
          75951.38142002704,
          83118.43079642073,
          80473.55752029884,
          79196.36560801766,
          94013.25503703716,
          75691.7871788915,
          87624.58172889268,
          95668.34395763351,
          75302.85314278632,
          83988.52826493874,
          76101.22136927505,
          79591.95204745489,
          87615.02425644141,
          88106.00235857742,
          80504.49680249137,
          90565.31270925331,
          89049.76148492895,
          80222.99619904062,
          91760.11194491874,
          85019.96187325084,
          80862.63359808209,
          83893.2277462666,
          89159.14751396827,
          78172.7535064114,
          86876.09348268152,
          86278.59807434998,
          84760.06526701467,
          78523.41297023612,
          81661.64277951108,
          79315.16285211178,
          84649.07182081706,
          86436.92436803278,
          81569.44784776584,
          95785.60926829118,
          88710.76194814529,
          88493.18031073743,
          83523.66818805598,
          88827.15120484185,
          75763.00943680062,
          76377.00744657758,
          85210.43564498336,
          90322.25205438261,
          82334.32431722013,
          96098.96147890693,
          83678.40320184758,
          87870.80661402343,
          75147.94049695777,
          80220.31694280659,
          81987.68467766777,
          96510.02037621541,
          82642.62049541912,
          88573.72828733931,
          86165.68398631431,
          83113.76701519183,
          79642.52663675506,
          79515.89320142417,
          82244.33553164716,
          82026.70811881204,
          76329.28225400714,
          89801.91875791494,
          81671.56247173005,
          91069.06558459054,
          80794.48357229415,
          78892.41055119416,
          81824.08882827547,
          82481.03498061415,
          79066.31156403864,
          81396.30774309645,
          88786.61663729278,
          82006.93124434359,
          80740.92575755622,
          92069.72108494467,
          93395.06030986737,
          79170.2385433857,
          77658.44885720451,
          90972.3588463379,
          81651.15967572371,
          74882.16548392845,
          88402.88127244153,
          85601.08538233186,
          81960.3417655717,
          83729.60041212804,
          92731.4241884425,
          90521.35385836737,
          86324.30963682954,
          75618.35475268585,
          80736.09337480075,
          82462.89437101415,
          72948.64662641886,
          83783.97891390734,
          89744.72495605482,
          75675.31876207492,
          80716.7137247339,
          78903.92259801707,
          84589.23431779526,
          76213.2385831415,
          81821.06035198098,
          89510.88754729046,
          74647.05826226277,
          78464.96234011828,
          75831.61833430393,
          75618.27824241755,
          81021.40571136583,
          82452.4697127582,
          82654.6328294329,
          86889.6796194166,
          87131.52271162027,
          81274.56282669902,
          88193.07056766364,
          76014.16465423442,
          81393.32808579056,
          82763.81205064655,
          77308.65145171703,
          82228.39889769559,
          84820.15892393267,
          79702.98031056854,
          82729.0598693886,
          80763.11123296307,
          79647.10007780348,
          73305.5645834527,
          82304.1402500889,
          82259.05257377353,
          84359.50711771112,
          92567.35729678988,
          78411.74071830304,
          93223.24837411604,
          79086.41529792598,
          79539.05381398555,
          87573.5137902259,
          83133.53694880047,
          81748.77126865454,
          83817.43464235336,
          79332.9395758142,
          87292.09463741271,
          82841.11043670404,
          89242.74168320939,
          89581.63764850596,
          76110.4544266311,
          78947.75095894202,
          83851.82824733062,
          80963.92932736524,
          84686.79295130703,
          79107.02824209433,
          83584.49548414194,
          75692.63281332684,
          88250.39300408341,
          88792.40776537446,
          84787.87929612413,
          87748.47232826873,
          72257.3755984745,
          82281.91576118275,
          68782.83933102337,
          77522.27060269829,
          82763.78689027863,
          97440.7797509894,
          83807.16712788219,
          78793.78066363085,
          79791.27965621755,
          85964.89431382387,
          87895.81806538242,
          84521.43926367491,
          76291.29638313822,
          87382.53936632165,
          87507.57791041661,
          89476.20827255638
         ]
        }
       ],
       "layout": {
        "barmode": "overlay",
        "template": {
         "data": {
          "bar": [
           {
            "error_x": {
             "color": "#2a3f5f"
            },
            "error_y": {
             "color": "#2a3f5f"
            },
            "marker": {
             "line": {
              "color": "#E5ECF6",
              "width": 0.5
             },
             "pattern": {
              "fillmode": "overlay",
              "size": 10,
              "solidity": 0.2
             }
            },
            "type": "bar"
           }
          ],
          "barpolar": [
           {
            "marker": {
             "line": {
              "color": "#E5ECF6",
              "width": 0.5
             },
             "pattern": {
              "fillmode": "overlay",
              "size": 10,
              "solidity": 0.2
             }
            },
            "type": "barpolar"
           }
          ],
          "carpet": [
           {
            "aaxis": {
             "endlinecolor": "#2a3f5f",
             "gridcolor": "white",
             "linecolor": "white",
             "minorgridcolor": "white",
             "startlinecolor": "#2a3f5f"
            },
            "baxis": {
             "endlinecolor": "#2a3f5f",
             "gridcolor": "white",
             "linecolor": "white",
             "minorgridcolor": "white",
             "startlinecolor": "#2a3f5f"
            },
            "type": "carpet"
           }
          ],
          "choropleth": [
           {
            "colorbar": {
             "outlinewidth": 0,
             "ticks": ""
            },
            "type": "choropleth"
           }
          ],
          "contour": [
           {
            "colorbar": {
             "outlinewidth": 0,
             "ticks": ""
            },
            "colorscale": [
             [
              0,
              "#0d0887"
             ],
             [
              0.1111111111111111,
              "#46039f"
             ],
             [
              0.2222222222222222,
              "#7201a8"
             ],
             [
              0.3333333333333333,
              "#9c179e"
             ],
             [
              0.4444444444444444,
              "#bd3786"
             ],
             [
              0.5555555555555556,
              "#d8576b"
             ],
             [
              0.6666666666666666,
              "#ed7953"
             ],
             [
              0.7777777777777778,
              "#fb9f3a"
             ],
             [
              0.8888888888888888,
              "#fdca26"
             ],
             [
              1,
              "#f0f921"
             ]
            ],
            "type": "contour"
           }
          ],
          "contourcarpet": [
           {
            "colorbar": {
             "outlinewidth": 0,
             "ticks": ""
            },
            "type": "contourcarpet"
           }
          ],
          "heatmap": [
           {
            "colorbar": {
             "outlinewidth": 0,
             "ticks": ""
            },
            "colorscale": [
             [
              0,
              "#0d0887"
             ],
             [
              0.1111111111111111,
              "#46039f"
             ],
             [
              0.2222222222222222,
              "#7201a8"
             ],
             [
              0.3333333333333333,
              "#9c179e"
             ],
             [
              0.4444444444444444,
              "#bd3786"
             ],
             [
              0.5555555555555556,
              "#d8576b"
             ],
             [
              0.6666666666666666,
              "#ed7953"
             ],
             [
              0.7777777777777778,
              "#fb9f3a"
             ],
             [
              0.8888888888888888,
              "#fdca26"
             ],
             [
              1,
              "#f0f921"
             ]
            ],
            "type": "heatmap"
           }
          ],
          "heatmapgl": [
           {
            "colorbar": {
             "outlinewidth": 0,
             "ticks": ""
            },
            "colorscale": [
             [
              0,
              "#0d0887"
             ],
             [
              0.1111111111111111,
              "#46039f"
             ],
             [
              0.2222222222222222,
              "#7201a8"
             ],
             [
              0.3333333333333333,
              "#9c179e"
             ],
             [
              0.4444444444444444,
              "#bd3786"
             ],
             [
              0.5555555555555556,
              "#d8576b"
             ],
             [
              0.6666666666666666,
              "#ed7953"
             ],
             [
              0.7777777777777778,
              "#fb9f3a"
             ],
             [
              0.8888888888888888,
              "#fdca26"
             ],
             [
              1,
              "#f0f921"
             ]
            ],
            "type": "heatmapgl"
           }
          ],
          "histogram": [
           {
            "marker": {
             "pattern": {
              "fillmode": "overlay",
              "size": 10,
              "solidity": 0.2
             }
            },
            "type": "histogram"
           }
          ],
          "histogram2d": [
           {
            "colorbar": {
             "outlinewidth": 0,
             "ticks": ""
            },
            "colorscale": [
             [
              0,
              "#0d0887"
             ],
             [
              0.1111111111111111,
              "#46039f"
             ],
             [
              0.2222222222222222,
              "#7201a8"
             ],
             [
              0.3333333333333333,
              "#9c179e"
             ],
             [
              0.4444444444444444,
              "#bd3786"
             ],
             [
              0.5555555555555556,
              "#d8576b"
             ],
             [
              0.6666666666666666,
              "#ed7953"
             ],
             [
              0.7777777777777778,
              "#fb9f3a"
             ],
             [
              0.8888888888888888,
              "#fdca26"
             ],
             [
              1,
              "#f0f921"
             ]
            ],
            "type": "histogram2d"
           }
          ],
          "histogram2dcontour": [
           {
            "colorbar": {
             "outlinewidth": 0,
             "ticks": ""
            },
            "colorscale": [
             [
              0,
              "#0d0887"
             ],
             [
              0.1111111111111111,
              "#46039f"
             ],
             [
              0.2222222222222222,
              "#7201a8"
             ],
             [
              0.3333333333333333,
              "#9c179e"
             ],
             [
              0.4444444444444444,
              "#bd3786"
             ],
             [
              0.5555555555555556,
              "#d8576b"
             ],
             [
              0.6666666666666666,
              "#ed7953"
             ],
             [
              0.7777777777777778,
              "#fb9f3a"
             ],
             [
              0.8888888888888888,
              "#fdca26"
             ],
             [
              1,
              "#f0f921"
             ]
            ],
            "type": "histogram2dcontour"
           }
          ],
          "mesh3d": [
           {
            "colorbar": {
             "outlinewidth": 0,
             "ticks": ""
            },
            "type": "mesh3d"
           }
          ],
          "parcoords": [
           {
            "line": {
             "colorbar": {
              "outlinewidth": 0,
              "ticks": ""
             }
            },
            "type": "parcoords"
           }
          ],
          "pie": [
           {
            "automargin": true,
            "type": "pie"
           }
          ],
          "scatter": [
           {
            "marker": {
             "colorbar": {
              "outlinewidth": 0,
              "ticks": ""
             }
            },
            "type": "scatter"
           }
          ],
          "scatter3d": [
           {
            "line": {
             "colorbar": {
              "outlinewidth": 0,
              "ticks": ""
             }
            },
            "marker": {
             "colorbar": {
              "outlinewidth": 0,
              "ticks": ""
             }
            },
            "type": "scatter3d"
           }
          ],
          "scattercarpet": [
           {
            "marker": {
             "colorbar": {
              "outlinewidth": 0,
              "ticks": ""
             }
            },
            "type": "scattercarpet"
           }
          ],
          "scattergeo": [
           {
            "marker": {
             "colorbar": {
              "outlinewidth": 0,
              "ticks": ""
             }
            },
            "type": "scattergeo"
           }
          ],
          "scattergl": [
           {
            "marker": {
             "colorbar": {
              "outlinewidth": 0,
              "ticks": ""
             }
            },
            "type": "scattergl"
           }
          ],
          "scattermapbox": [
           {
            "marker": {
             "colorbar": {
              "outlinewidth": 0,
              "ticks": ""
             }
            },
            "type": "scattermapbox"
           }
          ],
          "scatterpolar": [
           {
            "marker": {
             "colorbar": {
              "outlinewidth": 0,
              "ticks": ""
             }
            },
            "type": "scatterpolar"
           }
          ],
          "scatterpolargl": [
           {
            "marker": {
             "colorbar": {
              "outlinewidth": 0,
              "ticks": ""
             }
            },
            "type": "scatterpolargl"
           }
          ],
          "scatterternary": [
           {
            "marker": {
             "colorbar": {
              "outlinewidth": 0,
              "ticks": ""
             }
            },
            "type": "scatterternary"
           }
          ],
          "surface": [
           {
            "colorbar": {
             "outlinewidth": 0,
             "ticks": ""
            },
            "colorscale": [
             [
              0,
              "#0d0887"
             ],
             [
              0.1111111111111111,
              "#46039f"
             ],
             [
              0.2222222222222222,
              "#7201a8"
             ],
             [
              0.3333333333333333,
              "#9c179e"
             ],
             [
              0.4444444444444444,
              "#bd3786"
             ],
             [
              0.5555555555555556,
              "#d8576b"
             ],
             [
              0.6666666666666666,
              "#ed7953"
             ],
             [
              0.7777777777777778,
              "#fb9f3a"
             ],
             [
              0.8888888888888888,
              "#fdca26"
             ],
             [
              1,
              "#f0f921"
             ]
            ],
            "type": "surface"
           }
          ],
          "table": [
           {
            "cells": {
             "fill": {
              "color": "#EBF0F8"
             },
             "line": {
              "color": "white"
             }
            },
            "header": {
             "fill": {
              "color": "#C8D4E3"
             },
             "line": {
              "color": "white"
             }
            },
            "type": "table"
           }
          ]
         },
         "layout": {
          "annotationdefaults": {
           "arrowcolor": "#2a3f5f",
           "arrowhead": 0,
           "arrowwidth": 1
          },
          "autotypenumbers": "strict",
          "coloraxis": {
           "colorbar": {
            "outlinewidth": 0,
            "ticks": ""
           }
          },
          "colorscale": {
           "diverging": [
            [
             0,
             "#8e0152"
            ],
            [
             0.1,
             "#c51b7d"
            ],
            [
             0.2,
             "#de77ae"
            ],
            [
             0.3,
             "#f1b6da"
            ],
            [
             0.4,
             "#fde0ef"
            ],
            [
             0.5,
             "#f7f7f7"
            ],
            [
             0.6,
             "#e6f5d0"
            ],
            [
             0.7,
             "#b8e186"
            ],
            [
             0.8,
             "#7fbc41"
            ],
            [
             0.9,
             "#4d9221"
            ],
            [
             1,
             "#276419"
            ]
           ],
           "sequential": [
            [
             0,
             "#0d0887"
            ],
            [
             0.1111111111111111,
             "#46039f"
            ],
            [
             0.2222222222222222,
             "#7201a8"
            ],
            [
             0.3333333333333333,
             "#9c179e"
            ],
            [
             0.4444444444444444,
             "#bd3786"
            ],
            [
             0.5555555555555556,
             "#d8576b"
            ],
            [
             0.6666666666666666,
             "#ed7953"
            ],
            [
             0.7777777777777778,
             "#fb9f3a"
            ],
            [
             0.8888888888888888,
             "#fdca26"
            ],
            [
             1,
             "#f0f921"
            ]
           ],
           "sequentialminus": [
            [
             0,
             "#0d0887"
            ],
            [
             0.1111111111111111,
             "#46039f"
            ],
            [
             0.2222222222222222,
             "#7201a8"
            ],
            [
             0.3333333333333333,
             "#9c179e"
            ],
            [
             0.4444444444444444,
             "#bd3786"
            ],
            [
             0.5555555555555556,
             "#d8576b"
            ],
            [
             0.6666666666666666,
             "#ed7953"
            ],
            [
             0.7777777777777778,
             "#fb9f3a"
            ],
            [
             0.8888888888888888,
             "#fdca26"
            ],
            [
             1,
             "#f0f921"
            ]
           ]
          },
          "colorway": [
           "#636efa",
           "#EF553B",
           "#00cc96",
           "#ab63fa",
           "#FFA15A",
           "#19d3f3",
           "#FF6692",
           "#B6E880",
           "#FF97FF",
           "#FECB52"
          ],
          "font": {
           "color": "#2a3f5f"
          },
          "geo": {
           "bgcolor": "white",
           "lakecolor": "white",
           "landcolor": "#E5ECF6",
           "showlakes": true,
           "showland": true,
           "subunitcolor": "white"
          },
          "hoverlabel": {
           "align": "left"
          },
          "hovermode": "closest",
          "mapbox": {
           "style": "light"
          },
          "paper_bgcolor": "white",
          "plot_bgcolor": "#E5ECF6",
          "polar": {
           "angularaxis": {
            "gridcolor": "white",
            "linecolor": "white",
            "ticks": ""
           },
           "bgcolor": "#E5ECF6",
           "radialaxis": {
            "gridcolor": "white",
            "linecolor": "white",
            "ticks": ""
           }
          },
          "scene": {
           "xaxis": {
            "backgroundcolor": "#E5ECF6",
            "gridcolor": "white",
            "gridwidth": 2,
            "linecolor": "white",
            "showbackground": true,
            "ticks": "",
            "zerolinecolor": "white"
           },
           "yaxis": {
            "backgroundcolor": "#E5ECF6",
            "gridcolor": "white",
            "gridwidth": 2,
            "linecolor": "white",
            "showbackground": true,
            "ticks": "",
            "zerolinecolor": "white"
           },
           "zaxis": {
            "backgroundcolor": "#E5ECF6",
            "gridcolor": "white",
            "gridwidth": 2,
            "linecolor": "white",
            "showbackground": true,
            "ticks": "",
            "zerolinecolor": "white"
           }
          },
          "shapedefaults": {
           "line": {
            "color": "#2a3f5f"
           }
          },
          "ternary": {
           "aaxis": {
            "gridcolor": "white",
            "linecolor": "white",
            "ticks": ""
           },
           "baxis": {
            "gridcolor": "white",
            "linecolor": "white",
            "ticks": ""
           },
           "bgcolor": "#E5ECF6",
           "caxis": {
            "gridcolor": "white",
            "linecolor": "white",
            "ticks": ""
           }
          },
          "title": {
           "x": 0.05
          },
          "xaxis": {
           "automargin": true,
           "gridcolor": "white",
           "linecolor": "white",
           "ticks": "",
           "title": {
            "standoff": 15
           },
           "zerolinecolor": "white",
           "zerolinewidth": 2
          },
          "yaxis": {
           "automargin": true,
           "gridcolor": "white",
           "linecolor": "white",
           "ticks": "",
           "title": {
            "standoff": 15
           },
           "zerolinecolor": "white",
           "zerolinewidth": 2
          }
         }
        }
       }
      },
      "text/html": [
       "<div>                            <div id=\"9176cc49-9157-4632-ac12-ce08d190989a\" class=\"plotly-graph-div\" style=\"height:525px; width:100%;\"></div>            <script type=\"text/javascript\">                require([\"plotly\"], function(Plotly) {                    window.PLOTLYENV=window.PLOTLYENV || {};                                    if (document.getElementById(\"9176cc49-9157-4632-ac12-ce08d190989a\")) {                    Plotly.newPlot(                        \"9176cc49-9157-4632-ac12-ce08d190989a\",                        [{\"x\":[61704.440985334615,94683.21733890708,75667.8958441554,95180.68805704385,71562.5609265054,92566.99391933311,73453.9800381925,84113.71275930831,78081.1432339789,95290.86812928508,103546.23510118152,77187.06735039323,91074.74846317971,77095.77799206703,88321.97989203988,79020.15461820633,72100.9448722827,84484.1331323621,82843.92883491682,96624.9174952044,86271.767318512,81510.99029492143,97548.09736336806,69725.52061911645,61201.97997743931,85510.51168368339,92031.68763150895,87729.44000527528,81989.91240750432,70315.64024611976,69993.33620981697,88016.07207933537,85793.62201046877,69385.72846777258,78883.61300025013,90159.21692246437,77495.12677045181,65669.61969632191,103887.19462972198,108938.08687976332,75392.30281229856,78883.74578245952,77667.96817457216,90499.04679553822,88295.15031616171,78100.90751334086,81808.2515851642,83324.22762036958,89889.7563953594,82866.62690275835,86415.54083330449,78141.8811390018,92069.002410344,78881.93515917336,86554.08689556507,87945.65399820314,90336.06725110568,82424.80273586133,90143.68299052789,91787.53679272223,92599.28677943413,105441.15018776481,84292.14635617378,84586.93073879811,70539.08286725265,99931.47191449208,81135.09158954018,75992.69681510537,77799.05300378942,80856.29813728415,82337.57960971829,67172.98604107082,81656.03318941161,73202.53049244177,78682.17499980396,92170.41517556467,75764.925988055,88785.792804981,76659.85163132886,87183.41949198852,74332.10859914296,89353.60139164205,86513.41727153504,75629.1284380198,96281.5735118902,77905.6245956078,100383.01921817215,101507.07193230116,83157.50965565271,69867.3008791905,88396.17830234833,64655.03108582036,80132.40378317877,92977.18878376756,91049.30249366393,70737.6234095412,86388.49026385578,78709.68709454912,90797.49526267778,91507.03186302487,100014.9795781376,76419.7947073934,84921.70725657463,107982.84705257812,82555.57146704875,76908.41588189345,66085.50256686372,116026.94055226678,72962.0780680667,91085.68446070544,79629.86245850753,86587.30164387231,79351.66197458468,93718.80838216025,94510.95823307153,97743.40653542166,74266.83503826913,67936.54274953184,77651.11946856843,91715.33110001279,93546.11801047114,91806.57093483818,87562.75322796316,78949.55403812583,100250.96525766588,88820.71275770158,85303.87882840981,64209.0767349268,78521.97221593714,60338.01185905465,68986.12402789894,104013.39153462657,96790.7676798597,90943.29135802551,77462.80102625213,74821.75782740997,113444.95081706591,87043.55131744336,90418.50353219727,86330.94636082127,92598.62730938088,71245.6770365354,91273.9613834736,87777.37003219618,80635.23006248579,75199.02098286893,72663.96208597209,76330.60643386998,80605.97393199816,100157.1095128901,90342.70274757821,71906.4273297007,74177.53665511776,91712.33302757214,80030.24396190848,68701.52326076338,95533.92963597033,80854.71935414617,95704.9662848041,91532.35683318469,74090.67176282706,82166.43420631663,88459.0084147581,97363.83226871873,74565.05241887644,77579.8569887928,75646.17811263638,75789.85481338672,82826.23779711293,71786.43973531439,72538.0078496435,87833.82255062727,67581.85903929408,95033.68308226677,76868.81198774958,72997.79736195071,77653.43273811601,83752.62486845492,94002.78410054382,76505.55020300519,98134.25179056684,80431.50902591387,67362.64917018946,67568.39998374118,86638.91459480427,80048.29670394513,82810.9633965612,81021.09373607395,68923.714066972,77700.96525348586,89278.9499161346,83667.7879028219,99534.06281090708,92445.92541224373,74085.53220710407,63489.27651666406,79558.17308024586,71863.09296552019,71315.26073482116,85771.57694727785],\"type\":\"histogram\",\"opacity\":0.65},{\"x\":[69961.50209755907,91864.95519940087,88962.22549057748,81099.57063070328,87008.9116325533,81650.63839602047,71854.39166968451,71992.08890475745,79095.53194563277,79083.37862587436,84142.34653211401,73249.7280242223,78258.80024859097,81424.96330281778,82325.15271652218,80921.91715967136,78448.91981536549,88213.21879089857,83298.15936805424,81907.12118764548,94565.42747303686,84979.11331645578,67937.69159979129,85329.85904281736,89024.60317955702,85874.33775003543,81123.14998883288,81063.20020079777,86105.95467385718,79952.03223446837,88141.61382956801,76006.9106054838,76930.48031144001,85892.33931893259,88767.88452231316,90681.94918421393,75393.59715249778,81222.35477765453,92024.84784656035,86269.13017900514,72305.1800063213,91478.78455451361,86060.29559491068,76702.65092343243,70359.52843896992,71815.96957613729,82152.1910070474,84999.61405972239,83519.85627573697,81618.13132257063,79598.75513778997,77791.7246186578,78579.46504987047,73191.97362223724,82951.3005513341,89133.30572917839,74806.5210277551,87922.18911459835,83078.9795506885,86585.15795153772,93358.29872286608,76348.43098740904,85536.72244764096,82148.68930479392,72501.00202604516,73171.94847349629,87084.45853492952,85100.83660078079,85016.39726636346,78145.94083765279,74756.17660573091,80115.32420827678,90091.00749159291,80893.91037165694,80145.55235845399,78503.33687657137,78422.68562096225,83986.60057777766,83447.07528807038,78436.14390988817,73799.486764977,89911.68711759658,75928.89816011675,85710.15355377414,86735.3442333456,85092.50496990567,75868.05896660435,94194.13113523963,73947.91816123198,78008.20837966572,87983.70858252786,82455.7153625008,89333.60104774882,80433.30945924841,87412.58933449106,90337.90256002775,93448.61609977309,80111.94457835887,80642.0199968316,79266.66058691817,82215.98525379568,87521.0312126749,78208.92852775873,84252.7646297949,71523.21410589389,81411.41192096187,83870.41528733016,75749.73537035003,87895.05354984572,72106.16579238127,86935.88388447143,84743.4532129741,74903.62637615499,91023.35121067674,95562.61553232413,85036.18354945563,81350.68788359729,88615.79776350314,88403.94007960998,90522.36443053829,86831.3024434627,79265.25255727232,79492.45959865901,86968.00470746432,77670.11279927613,95040.14793736258,93571.2824353475,88528.55514757232,85051.81748264557,83972.51350825818,88112.17156136056,88610.68047608437,87513.90532263316,104065.5178697281,93157.9493413433,85442.93467868996,88819.24156980324,79088.3799186087,90894.19517331413,77623.7760162261,86183.32523300708,85498.68093065551,81908.57288422695,91320.80380388304,86409.72151579638,87807.06678412002,89506.39019633722,85246.51188294264,93161.90836755754,80110.20799592478,78709.31369065224,85829.8166007087,82923.66288873882,75718.11614438842,79363.19951936757,76859.42465558687,83517.81655047194,85252.45385873386,88249.45109029592,83662.88254422235,80028.83492759979,68149.03952446212,84327.12483791458,88179.38800980613,81673.35941965139,74199.28028984263,81965.99888934384,73202.60002776294,74013.58720925834,75303.2641613684,85899.61394358652,91503.70764358908,86477.07174847487,81770.61282357774,84969.57351870157,71025.43942423695,77260.49830858198,72921.94897930074,78175.85661493435,92361.5744591701,89222.8780782242,84783.5991475326,102972.28816015463,91446.5934020491,79615.7038622245,84269.94502355356,88545.65033254866,86802.82679519482,88566.81137826215,68958.92869494842,76471.63208237031,94034.13735199635,80786.16215963569,93581.27071771046,89281.75160217151,86026.37576614397,80354.57237620032,69297.05899169703,83669.04933857787,77432.62855327144],\"type\":\"histogram\",\"opacity\":0.65},{\"x\":[77531.61841722831,85952.94853970125,87260.9181176871,84387.23038973643,80289.32164092002,85928.54512675296,83095.67160316682,85274.11388125566,81719.96245213783,82344.40597660473,81030.6343639341,79082.94302401115,76611.52013813917,80775.65830504346,84288.1912941407,84990.84582758513,88142.48852729463,82270.63138905827,77839.84053236202,81273.79018995291,84034.57087557773,88182.90196197788,80658.16990098862,82911.68832997643,76330.58661295167,79363.78159845692,84589.59654754741,85115.99644165773,78648.71129304309,91003.4306775344,90470.90517366203,85424.33743548229,79436.42631709095,85170.26652740681,81379.13531211403,75951.38142002704,83118.43079642073,80473.55752029884,79196.36560801766,94013.25503703716,75691.7871788915,87624.58172889268,95668.34395763351,75302.85314278632,83988.52826493874,76101.22136927505,79591.95204745489,87615.02425644141,88106.00235857742,80504.49680249137,90565.31270925331,89049.76148492895,80222.99619904062,91760.11194491874,85019.96187325084,80862.63359808209,83893.2277462666,89159.14751396827,78172.7535064114,86876.09348268152,86278.59807434998,84760.06526701467,78523.41297023612,81661.64277951108,79315.16285211178,84649.07182081706,86436.92436803278,81569.44784776584,95785.60926829118,88710.76194814529,88493.18031073743,83523.66818805598,88827.15120484185,75763.00943680062,76377.00744657758,85210.43564498336,90322.25205438261,82334.32431722013,96098.96147890693,83678.40320184758,87870.80661402343,75147.94049695777,80220.31694280659,81987.68467766777,96510.02037621541,82642.62049541912,88573.72828733931,86165.68398631431,83113.76701519183,79642.52663675506,79515.89320142417,82244.33553164716,82026.70811881204,76329.28225400714,89801.91875791494,81671.56247173005,91069.06558459054,80794.48357229415,78892.41055119416,81824.08882827547,82481.03498061415,79066.31156403864,81396.30774309645,88786.61663729278,82006.93124434359,80740.92575755622,92069.72108494467,93395.06030986737,79170.2385433857,77658.44885720451,90972.3588463379,81651.15967572371,74882.16548392845,88402.88127244153,85601.08538233186,81960.3417655717,83729.60041212804,92731.4241884425,90521.35385836737,86324.30963682954,75618.35475268585,80736.09337480075,82462.89437101415,72948.64662641886,83783.97891390734,89744.72495605482,75675.31876207492,80716.7137247339,78903.92259801707,84589.23431779526,76213.2385831415,81821.06035198098,89510.88754729046,74647.05826226277,78464.96234011828,75831.61833430393,75618.27824241755,81021.40571136583,82452.4697127582,82654.6328294329,86889.6796194166,87131.52271162027,81274.56282669902,88193.07056766364,76014.16465423442,81393.32808579056,82763.81205064655,77308.65145171703,82228.39889769559,84820.15892393267,79702.98031056854,82729.0598693886,80763.11123296307,79647.10007780348,73305.5645834527,82304.1402500889,82259.05257377353,84359.50711771112,92567.35729678988,78411.74071830304,93223.24837411604,79086.41529792598,79539.05381398555,87573.5137902259,83133.53694880047,81748.77126865454,83817.43464235336,79332.9395758142,87292.09463741271,82841.11043670404,89242.74168320939,89581.63764850596,76110.4544266311,78947.75095894202,83851.82824733062,80963.92932736524,84686.79295130703,79107.02824209433,83584.49548414194,75692.63281332684,88250.39300408341,88792.40776537446,84787.87929612413,87748.47232826873,72257.3755984745,82281.91576118275,68782.83933102337,77522.27060269829,82763.78689027863,97440.7797509894,83807.16712788219,78793.78066363085,79791.27965621755,85964.89431382387,87895.81806538242,84521.43926367491,76291.29638313822,87382.53936632165,87507.57791041661,89476.20827255638],\"type\":\"histogram\",\"opacity\":0.65}],                        {\"template\":{\"data\":{\"bar\":[{\"error_x\":{\"color\":\"#2a3f5f\"},\"error_y\":{\"color\":\"#2a3f5f\"},\"marker\":{\"line\":{\"color\":\"#E5ECF6\",\"width\":0.5},\"pattern\":{\"fillmode\":\"overlay\",\"size\":10,\"solidity\":0.2}},\"type\":\"bar\"}],\"barpolar\":[{\"marker\":{\"line\":{\"color\":\"#E5ECF6\",\"width\":0.5},\"pattern\":{\"fillmode\":\"overlay\",\"size\":10,\"solidity\":0.2}},\"type\":\"barpolar\"}],\"carpet\":[{\"aaxis\":{\"endlinecolor\":\"#2a3f5f\",\"gridcolor\":\"white\",\"linecolor\":\"white\",\"minorgridcolor\":\"white\",\"startlinecolor\":\"#2a3f5f\"},\"baxis\":{\"endlinecolor\":\"#2a3f5f\",\"gridcolor\":\"white\",\"linecolor\":\"white\",\"minorgridcolor\":\"white\",\"startlinecolor\":\"#2a3f5f\"},\"type\":\"carpet\"}],\"choropleth\":[{\"colorbar\":{\"outlinewidth\":0,\"ticks\":\"\"},\"type\":\"choropleth\"}],\"contour\":[{\"colorbar\":{\"outlinewidth\":0,\"ticks\":\"\"},\"colorscale\":[[0.0,\"#0d0887\"],[0.1111111111111111,\"#46039f\"],[0.2222222222222222,\"#7201a8\"],[0.3333333333333333,\"#9c179e\"],[0.4444444444444444,\"#bd3786\"],[0.5555555555555556,\"#d8576b\"],[0.6666666666666666,\"#ed7953\"],[0.7777777777777778,\"#fb9f3a\"],[0.8888888888888888,\"#fdca26\"],[1.0,\"#f0f921\"]],\"type\":\"contour\"}],\"contourcarpet\":[{\"colorbar\":{\"outlinewidth\":0,\"ticks\":\"\"},\"type\":\"contourcarpet\"}],\"heatmap\":[{\"colorbar\":{\"outlinewidth\":0,\"ticks\":\"\"},\"colorscale\":[[0.0,\"#0d0887\"],[0.1111111111111111,\"#46039f\"],[0.2222222222222222,\"#7201a8\"],[0.3333333333333333,\"#9c179e\"],[0.4444444444444444,\"#bd3786\"],[0.5555555555555556,\"#d8576b\"],[0.6666666666666666,\"#ed7953\"],[0.7777777777777778,\"#fb9f3a\"],[0.8888888888888888,\"#fdca26\"],[1.0,\"#f0f921\"]],\"type\":\"heatmap\"}],\"heatmapgl\":[{\"colorbar\":{\"outlinewidth\":0,\"ticks\":\"\"},\"colorscale\":[[0.0,\"#0d0887\"],[0.1111111111111111,\"#46039f\"],[0.2222222222222222,\"#7201a8\"],[0.3333333333333333,\"#9c179e\"],[0.4444444444444444,\"#bd3786\"],[0.5555555555555556,\"#d8576b\"],[0.6666666666666666,\"#ed7953\"],[0.7777777777777778,\"#fb9f3a\"],[0.8888888888888888,\"#fdca26\"],[1.0,\"#f0f921\"]],\"type\":\"heatmapgl\"}],\"histogram\":[{\"marker\":{\"pattern\":{\"fillmode\":\"overlay\",\"size\":10,\"solidity\":0.2}},\"type\":\"histogram\"}],\"histogram2d\":[{\"colorbar\":{\"outlinewidth\":0,\"ticks\":\"\"},\"colorscale\":[[0.0,\"#0d0887\"],[0.1111111111111111,\"#46039f\"],[0.2222222222222222,\"#7201a8\"],[0.3333333333333333,\"#9c179e\"],[0.4444444444444444,\"#bd3786\"],[0.5555555555555556,\"#d8576b\"],[0.6666666666666666,\"#ed7953\"],[0.7777777777777778,\"#fb9f3a\"],[0.8888888888888888,\"#fdca26\"],[1.0,\"#f0f921\"]],\"type\":\"histogram2d\"}],\"histogram2dcontour\":[{\"colorbar\":{\"outlinewidth\":0,\"ticks\":\"\"},\"colorscale\":[[0.0,\"#0d0887\"],[0.1111111111111111,\"#46039f\"],[0.2222222222222222,\"#7201a8\"],[0.3333333333333333,\"#9c179e\"],[0.4444444444444444,\"#bd3786\"],[0.5555555555555556,\"#d8576b\"],[0.6666666666666666,\"#ed7953\"],[0.7777777777777778,\"#fb9f3a\"],[0.8888888888888888,\"#fdca26\"],[1.0,\"#f0f921\"]],\"type\":\"histogram2dcontour\"}],\"mesh3d\":[{\"colorbar\":{\"outlinewidth\":0,\"ticks\":\"\"},\"type\":\"mesh3d\"}],\"parcoords\":[{\"line\":{\"colorbar\":{\"outlinewidth\":0,\"ticks\":\"\"}},\"type\":\"parcoords\"}],\"pie\":[{\"automargin\":true,\"type\":\"pie\"}],\"scatter\":[{\"marker\":{\"colorbar\":{\"outlinewidth\":0,\"ticks\":\"\"}},\"type\":\"scatter\"}],\"scatter3d\":[{\"line\":{\"colorbar\":{\"outlinewidth\":0,\"ticks\":\"\"}},\"marker\":{\"colorbar\":{\"outlinewidth\":0,\"ticks\":\"\"}},\"type\":\"scatter3d\"}],\"scattercarpet\":[{\"marker\":{\"colorbar\":{\"outlinewidth\":0,\"ticks\":\"\"}},\"type\":\"scattercarpet\"}],\"scattergeo\":[{\"marker\":{\"colorbar\":{\"outlinewidth\":0,\"ticks\":\"\"}},\"type\":\"scattergeo\"}],\"scattergl\":[{\"marker\":{\"colorbar\":{\"outlinewidth\":0,\"ticks\":\"\"}},\"type\":\"scattergl\"}],\"scattermapbox\":[{\"marker\":{\"colorbar\":{\"outlinewidth\":0,\"ticks\":\"\"}},\"type\":\"scattermapbox\"}],\"scatterpolar\":[{\"marker\":{\"colorbar\":{\"outlinewidth\":0,\"ticks\":\"\"}},\"type\":\"scatterpolar\"}],\"scatterpolargl\":[{\"marker\":{\"colorbar\":{\"outlinewidth\":0,\"ticks\":\"\"}},\"type\":\"scatterpolargl\"}],\"scatterternary\":[{\"marker\":{\"colorbar\":{\"outlinewidth\":0,\"ticks\":\"\"}},\"type\":\"scatterternary\"}],\"surface\":[{\"colorbar\":{\"outlinewidth\":0,\"ticks\":\"\"},\"colorscale\":[[0.0,\"#0d0887\"],[0.1111111111111111,\"#46039f\"],[0.2222222222222222,\"#7201a8\"],[0.3333333333333333,\"#9c179e\"],[0.4444444444444444,\"#bd3786\"],[0.5555555555555556,\"#d8576b\"],[0.6666666666666666,\"#ed7953\"],[0.7777777777777778,\"#fb9f3a\"],[0.8888888888888888,\"#fdca26\"],[1.0,\"#f0f921\"]],\"type\":\"surface\"}],\"table\":[{\"cells\":{\"fill\":{\"color\":\"#EBF0F8\"},\"line\":{\"color\":\"white\"}},\"header\":{\"fill\":{\"color\":\"#C8D4E3\"},\"line\":{\"color\":\"white\"}},\"type\":\"table\"}]},\"layout\":{\"annotationdefaults\":{\"arrowcolor\":\"#2a3f5f\",\"arrowhead\":0,\"arrowwidth\":1},\"autotypenumbers\":\"strict\",\"coloraxis\":{\"colorbar\":{\"outlinewidth\":0,\"ticks\":\"\"}},\"colorscale\":{\"diverging\":[[0,\"#8e0152\"],[0.1,\"#c51b7d\"],[0.2,\"#de77ae\"],[0.3,\"#f1b6da\"],[0.4,\"#fde0ef\"],[0.5,\"#f7f7f7\"],[0.6,\"#e6f5d0\"],[0.7,\"#b8e186\"],[0.8,\"#7fbc41\"],[0.9,\"#4d9221\"],[1,\"#276419\"]],\"sequential\":[[0.0,\"#0d0887\"],[0.1111111111111111,\"#46039f\"],[0.2222222222222222,\"#7201a8\"],[0.3333333333333333,\"#9c179e\"],[0.4444444444444444,\"#bd3786\"],[0.5555555555555556,\"#d8576b\"],[0.6666666666666666,\"#ed7953\"],[0.7777777777777778,\"#fb9f3a\"],[0.8888888888888888,\"#fdca26\"],[1.0,\"#f0f921\"]],\"sequentialminus\":[[0.0,\"#0d0887\"],[0.1111111111111111,\"#46039f\"],[0.2222222222222222,\"#7201a8\"],[0.3333333333333333,\"#9c179e\"],[0.4444444444444444,\"#bd3786\"],[0.5555555555555556,\"#d8576b\"],[0.6666666666666666,\"#ed7953\"],[0.7777777777777778,\"#fb9f3a\"],[0.8888888888888888,\"#fdca26\"],[1.0,\"#f0f921\"]]},\"colorway\":[\"#636efa\",\"#EF553B\",\"#00cc96\",\"#ab63fa\",\"#FFA15A\",\"#19d3f3\",\"#FF6692\",\"#B6E880\",\"#FF97FF\",\"#FECB52\"],\"font\":{\"color\":\"#2a3f5f\"},\"geo\":{\"bgcolor\":\"white\",\"lakecolor\":\"white\",\"landcolor\":\"#E5ECF6\",\"showlakes\":true,\"showland\":true,\"subunitcolor\":\"white\"},\"hoverlabel\":{\"align\":\"left\"},\"hovermode\":\"closest\",\"mapbox\":{\"style\":\"light\"},\"paper_bgcolor\":\"white\",\"plot_bgcolor\":\"#E5ECF6\",\"polar\":{\"angularaxis\":{\"gridcolor\":\"white\",\"linecolor\":\"white\",\"ticks\":\"\"},\"bgcolor\":\"#E5ECF6\",\"radialaxis\":{\"gridcolor\":\"white\",\"linecolor\":\"white\",\"ticks\":\"\"}},\"scene\":{\"xaxis\":{\"backgroundcolor\":\"#E5ECF6\",\"gridcolor\":\"white\",\"gridwidth\":2,\"linecolor\":\"white\",\"showbackground\":true,\"ticks\":\"\",\"zerolinecolor\":\"white\"},\"yaxis\":{\"backgroundcolor\":\"#E5ECF6\",\"gridcolor\":\"white\",\"gridwidth\":2,\"linecolor\":\"white\",\"showbackground\":true,\"ticks\":\"\",\"zerolinecolor\":\"white\"},\"zaxis\":{\"backgroundcolor\":\"#E5ECF6\",\"gridcolor\":\"white\",\"gridwidth\":2,\"linecolor\":\"white\",\"showbackground\":true,\"ticks\":\"\",\"zerolinecolor\":\"white\"}},\"shapedefaults\":{\"line\":{\"color\":\"#2a3f5f\"}},\"ternary\":{\"aaxis\":{\"gridcolor\":\"white\",\"linecolor\":\"white\",\"ticks\":\"\"},\"baxis\":{\"gridcolor\":\"white\",\"linecolor\":\"white\",\"ticks\":\"\"},\"bgcolor\":\"#E5ECF6\",\"caxis\":{\"gridcolor\":\"white\",\"linecolor\":\"white\",\"ticks\":\"\"}},\"title\":{\"x\":0.05},\"xaxis\":{\"automargin\":true,\"gridcolor\":\"white\",\"linecolor\":\"white\",\"ticks\":\"\",\"title\":{\"standoff\":15},\"zerolinecolor\":\"white\",\"zerolinewidth\":2},\"yaxis\":{\"automargin\":true,\"gridcolor\":\"white\",\"linecolor\":\"white\",\"ticks\":\"\",\"title\":{\"standoff\":15},\"zerolinecolor\":\"white\",\"zerolinewidth\":2}}},\"barmode\":\"overlay\"},                        {\"responsive\": true}                    ).then(function(){\n",
       "                            \n",
       "var gd = document.getElementById('9176cc49-9157-4632-ac12-ce08d190989a');\n",
       "var x = new MutationObserver(function (mutations, observer) {{\n",
       "        var display = window.getComputedStyle(gd).display;\n",
       "        if (!display || display === 'none') {{\n",
       "            console.log([gd, 'removed!']);\n",
       "            Plotly.purge(gd);\n",
       "            observer.disconnect();\n",
       "        }}\n",
       "}});\n",
       "\n",
       "// Listen for the removal of the full notebook cells\n",
       "var notebookContainer = gd.closest('#notebook-container');\n",
       "if (notebookContainer) {{\n",
       "    x.observe(notebookContainer, {childList: true});\n",
       "}}\n",
       "\n",
       "// Listen for the clearing of the current output cell\n",
       "var outputEl = gd.closest('.output');\n",
       "if (outputEl) {{\n",
       "    x.observe(outputEl, {childList: true});\n",
       "}}\n",
       "\n",
       "                        })                };                });            </script>        </div>"
      ]
     },
     "metadata": {},
     "output_type": "display_data"
    }
   ],
   "source": [
    "import plotly.graph_objects as go\n",
    "\n",
    "import numpy as np\n",
    "\n",
    "sample_median =[]\n",
    "sample =[]\n",
    "for i in range(200):\n",
    "    sample = normal(loc=17486, scale=7459, size=4)\n",
    "    sample = np.append(sample, [normal(loc=32481, scale=18207, size=46)])\n",
    "    sample = np.append(sample, [normal(loc=347044, scale=37225, size=70)])\n",
    "    sample = np.append(sample, [normal(loc=56863, scale=65919, size=49)])\n",
    "    sample = np.append(sample, [normal(loc=59544, scale=103232, size=27)])\n",
    "    sample = np.append(sample, [normal(loc=76572, scale=137916, size=3)])\n",
    "    sample_median = np.append(sample_median, np.median(sample))\n",
    "    sample =[]\n",
    "\n",
    "#np.median(sample_mean)\n",
    "\n",
    "sample_median = pd.Series(sample_median)              # Convert sample_means to a series\n",
    "\n",
    "\n",
    "sample_median1 =[]\n",
    "sample =[]\n",
    "for i in range(200):\n",
    "    sample = normal(loc=17486, scale=7459, size=10)\n",
    "    sample = np.append(sample, [normal(loc=32481, scale=18207, size=115)])\n",
    "    sample = np.append(sample, [normal(loc=347044, scale=37225, size=175)])\n",
    "    sample = np.append(sample, [normal(loc=56863, scale=65919, size=123)])\n",
    "    sample = np.append(sample, [normal(loc=59544, scale=103232, size=68)])\n",
    "    sample = np.append(sample, [normal(loc=76572, scale=137916, size=8)])\n",
    "    sample = np.append(sample, [normal(loc=114779, scale=360839, size=2)])\n",
    "    sample_median1 = np.append(sample_median1, np.median(sample))\n",
    "    sample =[]\n",
    "\n",
    "#np.median(sample_mean)\n",
    "\n",
    "sample_median1 = pd.Series(sample_median1)              # Convert sample_means to a series\n",
    "\n",
    "sample_median2 =[]\n",
    "sample =[]\n",
    "for i in range(200):\n",
    "    sample = normal(loc=17486, scale=7459, size=20)\n",
    "    sample = np.append(sample, [normal(loc=32481, scale=18207, size=230)])\n",
    "    sample = np.append(sample, [normal(loc=347044, scale=37225, size=350)])\n",
    "    sample = np.append(sample, [normal(loc=56863, scale=65919, size=245)])\n",
    "    sample = np.append(sample, [normal(loc=59544, scale=103232, size=135)])\n",
    "    sample = np.append(sample, [normal(loc=76572, scale=137916, size=15)])\n",
    "    sample_median2 = np.append(sample_median2, np.median(sample))\n",
    "    sample =[]\n",
    "\n",
    "#np.median(sample_mean)\n",
    "\n",
    "sample_median2 = pd.Series(sample_median2)              # Convert sample_means to a series\n",
    "\n",
    "\n",
    "fig = go.Figure()\n",
    "fig.add_trace(go.Histogram(x=sample_median))\n",
    "fig.add_trace(go.Histogram(x=sample_median1))\n",
    "fig.add_trace(go.Histogram(x=sample_median2))\n",
    "\n",
    "# Overlay both histograms\n",
    "fig.update_layout(barmode = \"overlay\")\n",
    "# Reduce opacity to see both histograms\n",
    "fig.update_traces(opacity=0.65)\n",
    "fig.show()"
   ]
  },
  {
   "cell_type": "code",
   "execution_count": null,
   "id": "5c56fcb4",
   "metadata": {},
   "outputs": [],
   "source": []
  }
 ],
 "metadata": {
  "kernelspec": {
   "display_name": "Python 3 (ipykernel)",
   "language": "python",
   "name": "python3"
  },
  "language_info": {
   "codemirror_mode": {
    "name": "ipython",
    "version": 3
   },
   "file_extension": ".py",
   "mimetype": "text/x-python",
   "name": "python",
   "nbconvert_exporter": "python",
   "pygments_lexer": "ipython3",
   "version": "3.9.12"
  }
 },
 "nbformat": 4,
 "nbformat_minor": 5
}
