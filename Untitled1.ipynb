{
 "cells": [
  {
   "cell_type": "markdown",
   "id": "6336b941",
   "metadata": {},
   "source": [
    " x = 50\n",
    " print (x)"
   ]
  },
  {
   "cell_type": "code",
   "execution_count": null,
   "id": "bad5442e",
   "metadata": {},
   "outputs": [],
   "source": [
    "x = 50\n"
   ]
  },
  {
   "cell_type": "code",
   "execution_count": null,
   "id": "a0c5c9ec",
   "metadata": {},
   "outputs": [],
   "source": [
    "import pandas as pd\n",
    "df= pd.read-csv(ChallemgeSales_Wk5_ex_data.csv, sep*)"
   ]
  }
 ],
 "metadata": {
  "kernelspec": {
   "display_name": "Python 3 (ipykernel)",
   "language": "python",
   "name": "python3"
  },
  "language_info": {
   "codemirror_mode": {
    "name": "ipython",
    "version": 3
   },
   "file_extension": ".py",
   "mimetype": "text/x-python",
   "name": "python",
   "nbconvert_exporter": "python",
   "pygments_lexer": "ipython3",
   "version": "3.9.12"
  }
 },
 "nbformat": 4,
 "nbformat_minor": 5
}
