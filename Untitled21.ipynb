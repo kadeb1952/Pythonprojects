{
 "cells": [
  {
   "cell_type": "code",
   "execution_count": 4,
   "id": "0ff5d880",
   "metadata": {},
   "outputs": [
    {
     "name": "stdout",
     "output_type": "stream",
     "text": [
      "Type your bithdate as dd/mm/yyyy: 03/06/1952\n",
      "Your year of birth is: 1952\n"
     ]
    }
   ],
   "source": [
    "birthday = input('Type your bithdate as dd/mm/yyyy: ')\n",
    "print('Your year of birth is: ' + birthday[-4:])"
   ]
  },
  {
   "cell_type": "code",
   "execution_count": null,
   "id": "37faecb9",
   "metadata": {},
   "outputs": [],
   "source": []
  }
 ],
 "metadata": {
  "kernelspec": {
   "display_name": "Python 3 (ipykernel)",
   "language": "python",
   "name": "python3"
  },
  "language_info": {
   "codemirror_mode": {
    "name": "ipython",
    "version": 3
   },
   "file_extension": ".py",
   "mimetype": "text/x-python",
   "name": "python",
   "nbconvert_exporter": "python",
   "pygments_lexer": "ipython3",
   "version": "3.9.12"
  }
 },
 "nbformat": 4,
 "nbformat_minor": 5
}
