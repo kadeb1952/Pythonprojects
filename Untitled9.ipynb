{
 "cells": [
  {
   "cell_type": "code",
   "execution_count": 5,
   "id": "be0ceb2b",
   "metadata": {},
   "outputs": [
    {
     "name": "stdout",
     "output_type": "stream",
     "text": [
      "Kennedy\n"
     ]
    }
   ],
   "source": [
    "name = 'John Fitzgerald Kennedy'\n",
    "\n",
    "while True:\n",
    "\n",
    "    index = name.find(' ')                 \n",
    "\n",
    "    if index == -1:                  \n",
    "\n",
    "        break                                   \n",
    "\n",
    "    name = name[index+1:]                     \n",
    "\n",
    "print(name)"
   ]
  },
  {
   "cell_type": "code",
   "execution_count": 1,
   "id": "827632be",
   "metadata": {},
   "outputs": [
    {
     "name": "stdout",
     "output_type": "stream",
     "text": [
      "AEIMQUY\n"
     ]
    }
   ],
   "source": [
    "from string import ascii_uppercase\n",
    "subset = \"\"\n",
    "for idx, letter in enumerate(ascii_uppercase):\n",
    "    if idx %4 == 0:\n",
    "        subset = subset + letter\n",
    "print(subset)"
   ]
  },
  {
   "cell_type": "code",
   "execution_count": 5,
   "id": "50df62b6",
   "metadata": {},
   "outputs": [
    {
     "name": "stdout",
     "output_type": "stream",
     "text": [
      "[1, 2, 3, 4, 5, 6, 7, 8, 9, 10]\n",
      "10\n",
      "[9, 6, 7, 8, 9, 10]\n",
      "[9, 6, 3]\n"
     ]
    }
   ],
   "source": [
    "count_to_ten = [num for num in range(1,11)]\n",
    "print(count_to_ten)\n",
    "print(len(count_to_ten))\n",
    "count_to_ten[:5:] = [9]\n",
    "print(count_to_ten)\n",
    "count_to_ten[2:6:1] = [3]\n",
    "print(count_to_ten)"
   ]
  },
  {
   "cell_type": "code",
   "execution_count": 3,
   "id": "5ec75cc2",
   "metadata": {},
   "outputs": [
    {
     "name": "stdout",
     "output_type": "stream",
     "text": [
      "42\n",
      "!\n",
      "The funniest stooge was Curly.\n"
     ]
    }
   ],
   "source": [
    "# Simple positive indexing, zero based\n",
    "\n",
    "numbers = [42, 1941, 1066, 1969]\n",
    "indexes = \"Super simple!\"\n",
    "stooges = (\"Moe\", \"Larry\", \"Curly\")\n",
    "\n",
    "print(numbers[0])\n",
    "\n",
    "last_index = len(indexes) - 1\n",
    "print(indexes[last_index])\n",
    "print(f\"The funniest stooge was {stooges[2]}.\")"
   ]
  },
  {
   "cell_type": "code",
   "execution_count": 1,
   "id": "370b6795",
   "metadata": {},
   "outputs": [
    {
     "name": "stdout",
     "output_type": "stream",
     "text": [
      "Indexes zero to two\n",
      "[1, 2, 3]\n",
      "[1, 2, 3]\n",
      "\n",
      "Indexes 3 to end of the list\n",
      "[4, 5]\n",
      "[4, 5]\n",
      "\n",
      "List copy\n",
      "[1, 2, 3, 4, 5]\n",
      "\n",
      "Step by two:\n",
      "[1, 3, 5]\n"
     ]
    }
   ],
   "source": [
    "numbers = [1,2,3,4,5]\n",
    "\n",
    "# Indexes zero to two, with zero explicit or not\n",
    "print(\"Indexes zero to two\")\n",
    "print(numbers[0:3]) \n",
    "print(numbers[:3]) # Indexes zero to two, same as above\n",
    "\n",
    "# Indexes 3 to end of the list, explicit or not\n",
    "print(\"\\nIndexes 3 to end of the list\")\n",
    "print(numbers[3:len(numbers)]) \n",
    "print(numbers[3:]) \n",
    "\n",
    "# Make a shallow copy of the list\n",
    "print(\"\\nList copy\")\n",
    "print(numbers[:])\n",
    "\n",
    "# Step by 2, i.e., get every other number\n",
    "print(\"\\nStep by two:\")\n",
    "print(numbers[::2])"
   ]
  },
  {
   "cell_type": "code",
   "execution_count": 4,
   "id": "655ba407",
   "metadata": {},
   "outputs": [
    {
     "name": "stdout",
     "output_type": "stream",
     "text": [
      " ABCDEFGHIJKLMNOPQRSTUVWXYZ\n",
      "ZYXWVUTSRQPONMLKJIHGFEDCBA \n"
     ]
    }
   ],
   "source": [
    "from string import ascii_uppercase\n",
    "list = \" \"\n",
    "#subset = \"\"\n",
    "for idx, letter in enumerate(ascii_uppercase):\n",
    "    list = list + letter\n",
    "    #if idx %4 == 0:\n",
    "     #  subset = subset + letter\n",
    "print(list)\n",
    "print(list[::-1])\n",
    "#Given the ascii_upercase we imported above, print the alphabet backward using a slice expression.\n",
    "#There’s a needle in the haystack below Extract it from the string In addition to a slice expression, you’ll need the index method on the str class and the len function:\n",
    "\n",
    "\n"
   ]
  },
  {
   "cell_type": "code",
   "execution_count": 8,
   "id": "9d68272b",
   "metadata": {},
   "outputs": [
    {
     "name": "stdout",
     "output_type": "stream",
     "text": [
      "['Hay', 'hay', 'hay', 'hey', 'hey', 'needle', 'nah', 'nah', 'nah', 'nah,', 'hey', 'hey,', 'goodbye.']\n",
      "needle\n"
     ]
    }
   ],
   "source": [
    "example = \"Hay hay hay hey hey needle nah nah nah nah, hey hey, goodbye.\"\n",
    "example = example.split()\n",
    "print(example)\n",
    "print(example[5])"
   ]
  },
  {
   "cell_type": "code",
   "execution_count": null,
   "id": "bf834a26",
   "metadata": {},
   "outputs": [],
   "source": []
  }
 ],
 "metadata": {
  "kernelspec": {
   "display_name": "Python 3 (ipykernel)",
   "language": "python",
   "name": "python3"
  },
  "language_info": {
   "codemirror_mode": {
    "name": "ipython",
    "version": 3
   },
   "file_extension": ".py",
   "mimetype": "text/x-python",
   "name": "python",
   "nbconvert_exporter": "python",
   "pygments_lexer": "ipython3",
   "version": "3.9.12"
  }
 },
 "nbformat": 4,
 "nbformat_minor": 5
}
